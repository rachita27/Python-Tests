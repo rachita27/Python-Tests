{
 "cells": [
  {
   "cell_type": "markdown",
   "id": "77aa063e",
   "metadata": {},
   "source": [
    "# Module: SQLite3 Assignments\n",
    "## Lesson: SQLite3\n",
    "### Assignment 1: Creating and Connecting to a Database\n",
    "\n",
    "1. Create a new SQLite3 database named `test.db`."
   ]
  },
  {
   "cell_type": "code",
   "execution_count": 1,
   "id": "8a33aaa3",
   "metadata": {},
   "outputs": [],
   "source": [
    "import sqlite3"
   ]
  },
  {
   "cell_type": "code",
   "execution_count": 23,
   "id": "2ae32707",
   "metadata": {},
   "outputs": [],
   "source": [
    "connection = sqlite3.connect('test.db')"
   ]
  },
  {
   "cell_type": "markdown",
   "id": "423fbf5e",
   "metadata": {},
   "source": [
    "2. Create a table named `employees` with columns `id` (integer), `name` (text), `age` (integer), and `department` (text) in the `test.db` database."
   ]
  },
  {
   "cell_type": "code",
   "execution_count": 24,
   "id": "fccc9c3c",
   "metadata": {},
   "outputs": [],
   "source": [
    "cursor = connection.cursor()"
   ]
  },
  {
   "cell_type": "code",
   "execution_count": 14,
   "id": "0b2751e1",
   "metadata": {},
   "outputs": [],
   "source": [
    "cursor.execute(''' DROP TABLE IF EXISTS Employees ''')\n",
    "connection.commit()"
   ]
  },
  {
   "cell_type": "code",
   "execution_count": 15,
   "id": "076eda34",
   "metadata": {},
   "outputs": [],
   "source": [
    "cursor.execute('''\n",
    "CREATE TABLE IF NOT EXISTS Employees \n",
    "               (\n",
    "               id Integer PRIMARY KEY,\n",
    "               name VARCHAR,\n",
    "               age Integer, \n",
    "               department VARCHAR\n",
    "               )\n",
    "''')\n",
    "\n",
    "connection.commit()"
   ]
  },
  {
   "cell_type": "markdown",
   "id": "838823fa",
   "metadata": {},
   "source": [
    "### Assignment 2: Inserting Data\n",
    "\n",
    "1. Insert a new employee into the `employees` table."
   ]
  },
  {
   "cell_type": "code",
   "execution_count": 16,
   "id": "3cccac0e",
   "metadata": {},
   "outputs": [],
   "source": [
    "cursor.executemany('''\n",
    "INSERT INTO Employees (name, age, department) \n",
    "                   values(?,?,?)\n",
    "               ''', \n",
    "               [\n",
    "                   ('Kr',60,'Sales' ),\n",
    "                   ('Mr',50,'HR')\n",
    "                   ]\n",
    "                   )\n",
    "\n",
    "connection.commit()"
   ]
  },
  {
   "cell_type": "code",
   "execution_count": 17,
   "id": "f0f6eef4",
   "metadata": {},
   "outputs": [
    {
     "data": {
      "text/plain": [
       "[(1, 'Kr', 60, 'Sales'), (2, 'Mr', 50, 'HR')]"
      ]
     },
     "execution_count": 17,
     "metadata": {},
     "output_type": "execute_result"
    }
   ],
   "source": [
    "cursor.execute(\"Select * from Employees\")\n",
    "cursor.fetchall()"
   ]
  },
  {
   "cell_type": "code",
   "execution_count": 21,
   "id": "914f7112",
   "metadata": {},
   "outputs": [],
   "source": [
    "def funct_insert(name, age, dept):\n",
    "    # connection.\n",
    "    cursor.executemany('''\n",
    "                       INSERT INTO Employees (name, age, department) \n",
    "                   values(?,?,?)\n",
    "               ''', \n",
    "               [(name, age,dept)]\n",
    "                   )\n",
    "    connection.commit()\n",
    "    # connection.close()\n"
   ]
  },
  {
   "cell_type": "markdown",
   "id": "bd54a979",
   "metadata": {},
   "source": [
    "2. Insert at least 5 different employees into the `employees` table."
   ]
  },
  {
   "cell_type": "code",
   "execution_count": 25,
   "id": "a8eeb5c5",
   "metadata": {},
   "outputs": [],
   "source": [
    "funct_insert('Bob', 25, 'Engineering')\n",
    "funct_insert('Charlie', 28, 'Sales')\n",
    "funct_insert('David', 35, 'Marketing')\n",
    "funct_insert('Eve', 22, 'HR') "
   ]
  },
  {
   "cell_type": "code",
   "execution_count": 26,
   "id": "793bf8fa",
   "metadata": {},
   "outputs": [
    {
     "data": {
      "text/plain": [
       "[(1, 'Kr', 60, 'Sales'),\n",
       " (2, 'Mr', 50, 'HR'),\n",
       " (3, 'Bob', 25, 'Engineering'),\n",
       " (4, 'Bob', 25, 'Engineering'),\n",
       " (5, 'Charlie', 28, 'Sales'),\n",
       " (6, 'David', 35, 'Marketing'),\n",
       " (7, 'Eve', 22, 'HR')]"
      ]
     },
     "execution_count": 26,
     "metadata": {},
     "output_type": "execute_result"
    }
   ],
   "source": [
    "cursor.execute(\"Select * from Employees\")\n",
    "cursor.fetchall()"
   ]
  },
  {
   "cell_type": "markdown",
   "id": "7dbaaf83",
   "metadata": {},
   "source": [
    "### Assignment 3: Querying Data\n",
    "\n",
    "1. Write a Python function to fetch and display all records from the `employees` table."
   ]
  },
  {
   "cell_type": "code",
   "execution_count": 31,
   "id": "67aa5e56",
   "metadata": {},
   "outputs": [],
   "source": [
    "def func_tbl(nm):\n",
    "    cursor.execute(f'''\n",
    "    Select * from {nm}\n",
    "    ''')\n",
    "    return cursor.fetchall()"
   ]
  },
  {
   "cell_type": "code",
   "execution_count": 32,
   "id": "55c7f320",
   "metadata": {},
   "outputs": [
    {
     "data": {
      "text/plain": [
       "[(1, 'Kr', 60, 'Sales'),\n",
       " (2, 'Mr', 50, 'HR'),\n",
       " (3, 'Bob', 25, 'Engineering'),\n",
       " (4, 'Bob', 25, 'Engineering'),\n",
       " (5, 'Charlie', 28, 'Sales'),\n",
       " (6, 'David', 35, 'Marketing'),\n",
       " (7, 'Eve', 22, 'HR')]"
      ]
     },
     "execution_count": 32,
     "metadata": {},
     "output_type": "execute_result"
    }
   ],
   "source": [
    "func_tbl('Employees')"
   ]
  },
  {
   "cell_type": "markdown",
   "id": "36dcf518",
   "metadata": {},
   "source": [
    "2. Write a Python function to fetch and display all employees from a specific department."
   ]
  },
  {
   "cell_type": "code",
   "execution_count": 33,
   "id": "bf17e265",
   "metadata": {},
   "outputs": [],
   "source": [
    "def func_tbl_dept(nm, dept):\n",
    "    cursor.execute(f'''\n",
    "    Select * from {nm} where department = '{dept}';\n",
    "    ''')\n",
    "    return cursor.fetchall()"
   ]
  },
  {
   "cell_type": "code",
   "execution_count": 34,
   "id": "0f0f9ba7",
   "metadata": {},
   "outputs": [
    {
     "data": {
      "text/plain": [
       "[(3, 'Bob', 25, 'Engineering'), (4, 'Bob', 25, 'Engineering')]"
      ]
     },
     "execution_count": 34,
     "metadata": {},
     "output_type": "execute_result"
    }
   ],
   "source": [
    "func_tbl_dept('Employees','Engineering')"
   ]
  },
  {
   "cell_type": "code",
   "execution_count": 35,
   "id": "0c2a2b14",
   "metadata": {},
   "outputs": [
    {
     "data": {
      "text/plain": [
       "[(2, 'Mr', 50, 'HR'), (7, 'Eve', 22, 'HR')]"
      ]
     },
     "execution_count": 35,
     "metadata": {},
     "output_type": "execute_result"
    }
   ],
   "source": [
    "func_tbl_dept('Employees','HR')"
   ]
  },
  {
   "cell_type": "markdown",
   "id": "090472c8",
   "metadata": {},
   "source": [
    "### Assignment 4: Updating Data\n",
    "\n",
    "1. Write a Python function to update the department of an employee based on their `id`."
   ]
  },
  {
   "cell_type": "code",
   "execution_count": 37,
   "id": "53e23c93",
   "metadata": {},
   "outputs": [],
   "source": [
    "def upt_tbl(tbl, dept, id):\n",
    "    cursor.execute(f'''\n",
    "     UPDATE {tbl}\n",
    "     SET department = '{dept}'\n",
    "     WHERE id = {id}\n",
    "\n",
    "''')\n",
    "    connection.commit()\n",
    "    "
   ]
  },
  {
   "cell_type": "code",
   "execution_count": 38,
   "id": "5888005a",
   "metadata": {},
   "outputs": [
    {
     "data": {
      "text/plain": [
       "[(1, 'Kr', 60, 'Sales'),\n",
       " (2, 'Mr', 50, 'HR'),\n",
       " (3, 'Bob', 25, 'Engineering'),\n",
       " (4, 'Bob', 25, 'Engineering'),\n",
       " (5, 'Charlie', 28, 'Sales'),\n",
       " (6, 'David', 35, 'Marketing'),\n",
       " (7, 'Eve', 22, 'HR')]"
      ]
     },
     "execution_count": 38,
     "metadata": {},
     "output_type": "execute_result"
    }
   ],
   "source": [
    "func_tbl('Employees')"
   ]
  },
  {
   "cell_type": "code",
   "execution_count": 39,
   "id": "6e962450",
   "metadata": {},
   "outputs": [],
   "source": [
    "upt_tbl('Employees','Engineering',6)"
   ]
  },
  {
   "cell_type": "code",
   "execution_count": 40,
   "id": "3d1b8fd8",
   "metadata": {},
   "outputs": [
    {
     "data": {
      "text/plain": [
       "[(1, 'Kr', 60, 'Sales'),\n",
       " (2, 'Mr', 50, 'HR'),\n",
       " (3, 'Bob', 25, 'Engineering'),\n",
       " (4, 'Bob', 25, 'Engineering'),\n",
       " (5, 'Charlie', 28, 'Sales'),\n",
       " (6, 'David', 35, 'Engineering'),\n",
       " (7, 'Eve', 22, 'HR')]"
      ]
     },
     "execution_count": 40,
     "metadata": {},
     "output_type": "execute_result"
    }
   ],
   "source": [
    "func_tbl('Employees')"
   ]
  },
  {
   "cell_type": "markdown",
   "id": "f5afbdc4",
   "metadata": {},
   "source": [
    "2. Update the department of at least 2 employees and display the updated records."
   ]
  },
  {
   "cell_type": "code",
   "execution_count": 41,
   "id": "71d7bcac",
   "metadata": {},
   "outputs": [
    {
     "data": {
      "text/plain": [
       "[(1, 'Kr', 60, 'Sales'),\n",
       " (2, 'Mr', 50, 'HR'),\n",
       " (3, 'Bob', 25, 'Engineering'),\n",
       " (4, 'Bob', 25, 'Engineering'),\n",
       " (5, 'Charlie', 28, 'Sales'),\n",
       " (6, 'David', 35, 'Engineering'),\n",
       " (7, 'Eve', 22, 'HR')]"
      ]
     },
     "execution_count": 41,
     "metadata": {},
     "output_type": "execute_result"
    }
   ],
   "source": [
    "func_tbl('Employees')"
   ]
  },
  {
   "cell_type": "code",
   "execution_count": 42,
   "id": "58e3ca2d",
   "metadata": {},
   "outputs": [],
   "source": [
    "upt_tbl('Employees','Sales',7)\n",
    "upt_tbl('Employees','HR',1)"
   ]
  },
  {
   "cell_type": "code",
   "execution_count": 43,
   "id": "0a63377b",
   "metadata": {},
   "outputs": [
    {
     "data": {
      "text/plain": [
       "[(1, 'Kr', 60, 'HR'),\n",
       " (2, 'Mr', 50, 'HR'),\n",
       " (3, 'Bob', 25, 'Engineering'),\n",
       " (4, 'Bob', 25, 'Engineering'),\n",
       " (5, 'Charlie', 28, 'Sales'),\n",
       " (6, 'David', 35, 'Engineering'),\n",
       " (7, 'Eve', 22, 'Sales')]"
      ]
     },
     "execution_count": 43,
     "metadata": {},
     "output_type": "execute_result"
    }
   ],
   "source": [
    "func_tbl('Employees')"
   ]
  },
  {
   "cell_type": "markdown",
   "id": "51fae50e",
   "metadata": {},
   "source": [
    "### Assignment 5: Deleting Data\n",
    "\n",
    "1. Write a Python function to delete an employee from the `employees` table based on their `id`.\n",
    "2. Delete at least 1 employee and display the remaining records."
   ]
  },
  {
   "cell_type": "code",
   "execution_count": 56,
   "id": "127c5d10",
   "metadata": {},
   "outputs": [],
   "source": [
    "def del_record(tbl, id):\n",
    "    cursor.execute(f'''\n",
    "      DELETE FROM {tbl}\n",
    "      WHERE id = {id}\n",
    "\n",
    "        ''')\n",
    "    connection.commit()\n",
    "    return cursor.execute(f\"select * from {tbl}\").fetchall()"
   ]
  },
  {
   "cell_type": "code",
   "execution_count": 57,
   "id": "5f09e074",
   "metadata": {},
   "outputs": [
    {
     "data": {
      "text/plain": [
       "[(1, 'Kr', 60, 'HR'),\n",
       " (2, 'Mr', 50, 'HR'),\n",
       " (3, 'Bob', 25, 'Engineering'),\n",
       " (4, 'Bob', 25, 'Engineering'),\n",
       " (5, 'Charlie', 28, 'Sales'),\n",
       " (6, 'David', 35, 'Engineering')]"
      ]
     },
     "execution_count": 57,
     "metadata": {},
     "output_type": "execute_result"
    }
   ],
   "source": [
    "func_tbl('Employees')"
   ]
  },
  {
   "cell_type": "code",
   "execution_count": 58,
   "id": "8680006f",
   "metadata": {},
   "outputs": [
    {
     "data": {
      "text/plain": [
       "[(1, 'Kr', 60, 'HR'),\n",
       " (2, 'Mr', 50, 'HR'),\n",
       " (3, 'Bob', 25, 'Engineering'),\n",
       " (4, 'Bob', 25, 'Engineering'),\n",
       " (5, 'Charlie', 28, 'Sales')]"
      ]
     },
     "execution_count": 58,
     "metadata": {},
     "output_type": "execute_result"
    }
   ],
   "source": [
    "del_record('Employees',6)"
   ]
  },
  {
   "cell_type": "markdown",
   "id": "c4402467",
   "metadata": {},
   "source": [
    "### Assignment 6: Advanced Queries\n",
    "\n",
    "1. Write a Python function to fetch and display employees older than a certain age."
   ]
  },
  {
   "cell_type": "code",
   "execution_count": 59,
   "id": "26c5e9b8",
   "metadata": {},
   "outputs": [],
   "source": [
    "def func_filter(tbl,age):\n",
    "    cursor.execute(f'''\n",
    "        Select * from {tbl}\n",
    "          where age > {age}\n",
    "''')\n",
    "    return cursor.fetchall()"
   ]
  },
  {
   "cell_type": "code",
   "execution_count": 62,
   "id": "189142d6",
   "metadata": {},
   "outputs": [
    {
     "data": {
      "text/plain": [
       "[(1, 'Kr', 60, 'HR'),\n",
       " (2, 'Mr', 50, 'HR'),\n",
       " (3, 'Bob', 25, 'Engineering'),\n",
       " (4, 'Bob', 25, 'Engineering'),\n",
       " (5, 'Charlie', 28, 'Sales')]"
      ]
     },
     "execution_count": 62,
     "metadata": {},
     "output_type": "execute_result"
    }
   ],
   "source": [
    "func_tbl('Employees')"
   ]
  },
  {
   "cell_type": "code",
   "execution_count": 63,
   "id": "73fcbdc1",
   "metadata": {},
   "outputs": [
    {
     "data": {
      "text/plain": [
       "[(1, 'Kr', 60, 'HR'), (2, 'Mr', 50, 'HR'), (5, 'Charlie', 28, 'Sales')]"
      ]
     },
     "execution_count": 63,
     "metadata": {},
     "output_type": "execute_result"
    }
   ],
   "source": [
    "func_filter('Employees',27)"
   ]
  },
  {
   "cell_type": "markdown",
   "id": "7482f9a5",
   "metadata": {},
   "source": [
    "2. Write a Python function to fetch and display employees whose names start with a specific letter."
   ]
  },
  {
   "cell_type": "code",
   "execution_count": 64,
   "id": "f09e1aec",
   "metadata": {},
   "outputs": [],
   "source": [
    "def tbl_filt_nm(tbl,letter):\n",
    "    cursor.execute(f'''\n",
    "        select * from {tbl}\n",
    "                WHERE NAME LIKE '{letter}%'\n",
    "        ''')\n",
    "    return cursor.fetchall()"
   ]
  },
  {
   "cell_type": "code",
   "execution_count": 65,
   "id": "e06f6f62",
   "metadata": {},
   "outputs": [
    {
     "data": {
      "text/plain": [
       "[(1, 'Kr', 60, 'HR'),\n",
       " (2, 'Mr', 50, 'HR'),\n",
       " (3, 'Bob', 25, 'Engineering'),\n",
       " (4, 'Bob', 25, 'Engineering'),\n",
       " (5, 'Charlie', 28, 'Sales')]"
      ]
     },
     "execution_count": 65,
     "metadata": {},
     "output_type": "execute_result"
    }
   ],
   "source": [
    "func_tbl('Employees')"
   ]
  },
  {
   "cell_type": "code",
   "execution_count": 66,
   "id": "b68a6a44",
   "metadata": {},
   "outputs": [
    {
     "data": {
      "text/plain": [
       "[(3, 'Bob', 25, 'Engineering'), (4, 'Bob', 25, 'Engineering')]"
      ]
     },
     "execution_count": 66,
     "metadata": {},
     "output_type": "execute_result"
    }
   ],
   "source": [
    "tbl_filt_nm('Employees','b')"
   ]
  },
  {
   "cell_type": "markdown",
   "id": "7ceb696b",
   "metadata": {},
   "source": [
    "### Assignment 7: Handling Transactions\n",
    "\n",
    "1. Write a Python function to insert multiple employees into the `employees` table in a single transaction. Ensure that if any insertion fails, none of the insertions are committed."
   ]
  },
  {
   "cell_type": "code",
   "execution_count": 77,
   "id": "e791ba4e",
   "metadata": {},
   "outputs": [],
   "source": [
    "def multip_hand(data):\n",
    "    try:\n",
    "        cursor.executemany('INSERT INTO Employees VALUES (?,?,?,?)',data)\n",
    "        connection.commit()\n",
    "    except:\n",
    "        connection.rollback()\n",
    "        print(\"Can't Commit the changes as there are duplicates\")\n",
    "    \n",
    "    return cursor.execute('Select * from Employees').fetchall()"
   ]
  },
  {
   "cell_type": "code",
   "execution_count": 78,
   "id": "c637faa4",
   "metadata": {},
   "outputs": [
    {
     "data": {
      "text/plain": [
       "[(1, 'Kr', 60, 'HR'),\n",
       " (2, 'Mr', 50, 'HR'),\n",
       " (3, 'Bob', 25, 'Engineering'),\n",
       " (4, 'Bob', 25, 'Engineering'),\n",
       " (5, 'Charlie', 28, 'Sales')]"
      ]
     },
     "execution_count": 78,
     "metadata": {},
     "output_type": "execute_result"
    }
   ],
   "source": [
    "func_tbl('Employees')"
   ]
  },
  {
   "cell_type": "code",
   "execution_count": 79,
   "id": "788dea6f",
   "metadata": {},
   "outputs": [],
   "source": [
    "employees = [\n",
    "    (6, 'Frank', 40, 'Finance'),\n",
    "    (7, 'Grace', 29, 'Engineering'),\n",
    "    (8, 'Hannah', 35, 'Marketing'),\n",
    "    (9, 'Ivan', 38, 'Sales'),\n",
    "    (6, 'Jack', 45, 'HR')  # Duplicate ID to cause an error\n",
    "]"
   ]
  },
  {
   "cell_type": "code",
   "execution_count": 80,
   "id": "8e9f8a95",
   "metadata": {},
   "outputs": [
    {
     "name": "stdout",
     "output_type": "stream",
     "text": [
      "Can't Commit the changes as there are duplicates\n"
     ]
    },
    {
     "data": {
      "text/plain": [
       "[(1, 'Kr', 60, 'HR'),\n",
       " (2, 'Mr', 50, 'HR'),\n",
       " (3, 'Bob', 25, 'Engineering'),\n",
       " (4, 'Bob', 25, 'Engineering'),\n",
       " (5, 'Charlie', 28, 'Sales')]"
      ]
     },
     "execution_count": 80,
     "metadata": {},
     "output_type": "execute_result"
    }
   ],
   "source": [
    "multip_hand(employees)"
   ]
  },
  {
   "cell_type": "code",
   "execution_count": 81,
   "id": "fe178769",
   "metadata": {},
   "outputs": [],
   "source": [
    "employees1 = [\n",
    "    (6, 'Frank', 40, 'Finance'),\n",
    "    (7, 'Grace', 29, 'Engineering'),\n",
    "    (8, 'Hannah', 35, 'Marketing'),\n",
    "    (9, 'Ivan', 38, 'Sales')\n",
    "]"
   ]
  },
  {
   "cell_type": "code",
   "execution_count": 82,
   "id": "b83051d2",
   "metadata": {},
   "outputs": [
    {
     "data": {
      "text/plain": [
       "[(1, 'Kr', 60, 'HR'),\n",
       " (2, 'Mr', 50, 'HR'),\n",
       " (3, 'Bob', 25, 'Engineering'),\n",
       " (4, 'Bob', 25, 'Engineering'),\n",
       " (5, 'Charlie', 28, 'Sales'),\n",
       " (6, 'Frank', 40, 'Finance'),\n",
       " (7, 'Grace', 29, 'Engineering'),\n",
       " (8, 'Hannah', 35, 'Marketing'),\n",
       " (9, 'Ivan', 38, 'Sales')]"
      ]
     },
     "execution_count": 82,
     "metadata": {},
     "output_type": "execute_result"
    }
   ],
   "source": [
    "multip_hand(employees1)"
   ]
  },
  {
   "cell_type": "markdown",
   "id": "bd537b66",
   "metadata": {},
   "source": [
    "2. Write a Python function to update the age of multiple employees in a single transaction. Ensure that if any update fails, none of the updates are committed."
   ]
  },
  {
   "cell_type": "code",
   "execution_count": 97,
   "id": "dd3173cc",
   "metadata": {},
   "outputs": [],
   "source": [
    "def updt_multiple(data):\n",
    "    try:\n",
    "        cursor.executemany(\"\"\"\n",
    "        update Employees\n",
    "                   set age = ? \n",
    "                   where id = ?\n",
    "                       \"\"\", data)\n",
    "        connection.commit()\n",
    "    except Exception as e:\n",
    "        connection.rollback()\n",
    "        print(\"There is issue at updating, the id doesn't Exists\")\n",
    "        print(e)\n",
    "        \n",
    "    finally:\n",
    "        return cursor.execute(\"Select * from Employees\").fetchall()"
   ]
  },
  {
   "cell_type": "code",
   "execution_count": 99,
   "id": "53ba4080",
   "metadata": {},
   "outputs": [],
   "source": [
    "def updt_multiple(data):\n",
    "    try:\n",
    "        cursor.executemany('''\n",
    "            UPDATE employees\n",
    "            SET age = ?\n",
    "            WHERE id = ?\n",
    "        ''', data)\n",
    "        connection.commit()\n",
    "        print(\"All employee ages updated successfully.\")\n",
    "    except Exception as e:\n",
    "        connection.rollback()\n",
    "        print(\"Error occurred, transaction rolled back.\")\n",
    "        print(e)\n",
    "    finally:\n",
    "        return cursor.execute(\"Select * from Employees\").fetchall()"
   ]
  },
  {
   "cell_type": "code",
   "execution_count": 94,
   "id": "85860c19",
   "metadata": {},
   "outputs": [],
   "source": [
    "updates = [\n",
    "    (32, 1),\n",
    "    (26, 2),\n",
    "    (33, 3),\n",
    "    (41, 4),  # Non-existing ID to cause an error\n",
    "    (23, 5)\n",
    "]"
   ]
  },
  {
   "cell_type": "code",
   "execution_count": 95,
   "id": "28ce3214",
   "metadata": {},
   "outputs": [
    {
     "data": {
      "text/plain": [
       "[(1, 'Kr', 32, 'HR'),\n",
       " (2, 'Mr', 26, 'HR'),\n",
       " (3, 'Bob', 33, 'Engineering'),\n",
       " (4, 'Bob', 41, 'Engineering'),\n",
       " (5, 'Charlie', 23, 'Sales'),\n",
       " (6, 'Frank', 40, 'Finance'),\n",
       " (7, 'Grace', 29, 'Engineering'),\n",
       " (8, 'Hannah', 35, 'Marketing'),\n",
       " (9, 'Ivan', 38, 'Sales')]"
      ]
     },
     "execution_count": 95,
     "metadata": {},
     "output_type": "execute_result"
    }
   ],
   "source": [
    "updt_multiple(updates)"
   ]
  },
  {
   "cell_type": "code",
   "execution_count": 101,
   "id": "e214545c",
   "metadata": {},
   "outputs": [
    {
     "name": "stdout",
     "output_type": "stream",
     "text": [
      "All employee ages updated successfully.\n"
     ]
    },
    {
     "data": {
      "text/plain": [
       "[(1, 'Kr', 13, 'HR'),\n",
       " (2, 'Mr', 26, 'HR'),\n",
       " (3, 'Bob', 33, 'Engineering'),\n",
       " (4, 'Bob', 41, 'Engineering'),\n",
       " (5, 'Charlie', 23, 'Sales'),\n",
       " (6, 'Frank', 40, 'Finance'),\n",
       " (7, 'Grace', 29, 'Engineering'),\n",
       " (8, 'Hannah', 35, 'Marketing'),\n",
       " (9, 'Ivan', 38, 'Sales')]"
      ]
     },
     "execution_count": 101,
     "metadata": {},
     "output_type": "execute_result"
    }
   ],
   "source": [
    "updates1 = [\n",
    "    (13, 1),\n",
    "    (26, 22),\n",
    "    (33,56)\n",
    "]\n",
    "\n",
    "updt_multiple(updates1)"
   ]
  },
  {
   "cell_type": "code",
   "execution_count": 119,
   "id": "cf68708e",
   "metadata": {},
   "outputs": [],
   "source": [
    "def updt_multiple1(data):\n",
    "    \n",
    "    try:\n",
    "        cursor.execute(\"BEGIN\")\n",
    "        for age, emp_id in data:\n",
    "            # Check if employee exists\n",
    "            cursor.execute(\"SELECT 1 FROM employees WHERE id = ?\", (emp_id))\n",
    "\n",
    "            if cursor.fetchone()[0] is None: #cursor.fetchone() is None:\n",
    "                raise ValueError(f\"Employee ID {emp_id} does not exist\")\n",
    "\n",
    "            # Perform update\n",
    "            cursor.execute(\"UPDATE employees SET age = ? WHERE id = ?\", (age, emp_id))\n",
    "\n",
    "        connection.commit()\n",
    "        print(\"✅ All updates successful, transaction committed.\")\n",
    "\n",
    "    except Exception as e:\n",
    "        connection.rollback()\n",
    "        print(\"Error occurred, transaction rolled back.\")\n",
    "        print(e)\n",
    "    finally:\n",
    "        return cursor.execute(\"Select * from Employees\").fetchall()\n",
    "    "
   ]
  },
  {
   "cell_type": "code",
   "execution_count": 120,
   "id": "3d6a4ce9",
   "metadata": {},
   "outputs": [
    {
     "name": "stdout",
     "output_type": "stream",
     "text": [
      "All employee ages updated successfully.\n"
     ]
    },
    {
     "data": {
      "text/plain": [
       "[(1, 'Kr', 30, 'HR'),\n",
       " (2, 'Mr', 45, 'HR'),\n",
       " (3, 'Bob', 33, 'Engineering'),\n",
       " (4, 'Bob', 41, 'Engineering'),\n",
       " (5, 'Charlie', 23, 'Sales'),\n",
       " (6, 'Frank', 40, 'Finance'),\n",
       " (7, 'Grace', 29, 'Engineering'),\n",
       " (8, 'Hannah', 35, 'Marketing'),\n",
       " (9, 'Ivan', 38, 'Sales')]"
      ]
     },
     "execution_count": 120,
     "metadata": {},
     "output_type": "execute_result"
    }
   ],
   "source": [
    "updates1 = [(30, 1), (45, 2), (50, 999)] \n",
    "\n",
    "updt_multiple(updates1)"
   ]
  },
  {
   "cell_type": "code",
   "execution_count": null,
   "id": "48afb2fa",
   "metadata": {},
   "outputs": [],
   "source": []
  }
 ],
 "metadata": {
  "kernelspec": {
   "display_name": "Python 3",
   "language": "python",
   "name": "python3"
  },
  "language_info": {
   "codemirror_mode": {
    "name": "ipython",
    "version": 3
   },
   "file_extension": ".py",
   "mimetype": "text/x-python",
   "name": "python",
   "nbconvert_exporter": "python",
   "pygments_lexer": "ipython3",
   "version": "3.12.0"
  }
 },
 "nbformat": 4,
 "nbformat_minor": 5
}
