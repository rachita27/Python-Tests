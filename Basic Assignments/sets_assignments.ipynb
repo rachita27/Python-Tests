{
 "cells": [
  {
   "cell_type": "markdown",
   "id": "f27b9eb6",
   "metadata": {},
   "source": [
    "# Module 3: Data Structures Assignments\n",
    "## Lesson 3.3: Sets\n",
    "### Assignment 1: Creating and Accessing Sets\n",
    "\n",
    "Create a set with the first 10 positive integers. Print the set.\n"
   ]
  },
  {
   "cell_type": "code",
   "execution_count": 2,
   "id": "2267b6fa",
   "metadata": {},
   "outputs": [
    {
     "data": {
      "text/plain": [
       "{1, 2, 3, 4, 5, 6, 7, 8, 9, 10}"
      ]
     },
     "execution_count": 2,
     "metadata": {},
     "output_type": "execute_result"
    }
   ],
   "source": [
    "st1 = set(list(range(1,11)))\n",
    "st1"
   ]
  },
  {
   "cell_type": "markdown",
   "id": "a4fa8aad",
   "metadata": {},
   "source": [
    "### Assignment 2: Adding and Removing Elements\n",
    "\n",
    "Add the number 11 to the set created in Assignment 1. Then remove the number 1 from the set. Print the modified set."
   ]
  },
  {
   "cell_type": "code",
   "execution_count": 3,
   "id": "5afd6ed2",
   "metadata": {},
   "outputs": [
    {
     "data": {
      "text/plain": [
       "{1, 2, 3, 4, 5, 6, 7, 8, 9, 10, 11}"
      ]
     },
     "execution_count": 3,
     "metadata": {},
     "output_type": "execute_result"
    }
   ],
   "source": [
    "st1.add(11)\n",
    "st1"
   ]
  },
  {
   "cell_type": "code",
   "execution_count": 4,
   "id": "7002797a",
   "metadata": {},
   "outputs": [],
   "source": [
    "st1.remove(1)"
   ]
  },
  {
   "cell_type": "code",
   "execution_count": 5,
   "id": "9abb7817",
   "metadata": {},
   "outputs": [
    {
     "data": {
      "text/plain": [
       "{2, 3, 4, 5, 6, 7, 8, 9, 10, 11}"
      ]
     },
     "execution_count": 5,
     "metadata": {},
     "output_type": "execute_result"
    }
   ],
   "source": [
    "st1"
   ]
  },
  {
   "cell_type": "markdown",
   "id": "c96ffd05",
   "metadata": {},
   "source": [
    "### Assignment 3: Set Operations\n",
    "\n",
    "Create two sets: one with the first 5 positive integers and another with the first 5 even integers. Perform and print the results of union, intersection, difference, and symmetric difference operations on these sets."
   ]
  },
  {
   "cell_type": "code",
   "execution_count": 6,
   "id": "7b8e8ba9",
   "metadata": {},
   "outputs": [
    {
     "data": {
      "text/plain": [
       "{1, 2, 3, 4, 5, 6, 8, 10}"
      ]
     },
     "execution_count": 6,
     "metadata": {},
     "output_type": "execute_result"
    }
   ],
   "source": [
    "set1 = {1,2,3,4,5}\n",
    "set2 = {2,4,6,8,10}\n",
    "\n",
    "set1.union(set2)"
   ]
  },
  {
   "cell_type": "code",
   "execution_count": 7,
   "id": "a93d4f88",
   "metadata": {},
   "outputs": [
    {
     "data": {
      "text/plain": [
       "{2, 4}"
      ]
     },
     "execution_count": 7,
     "metadata": {},
     "output_type": "execute_result"
    }
   ],
   "source": [
    "set1.intersection(set2)"
   ]
  },
  {
   "cell_type": "code",
   "execution_count": 8,
   "id": "7b256458",
   "metadata": {},
   "outputs": [
    {
     "data": {
      "text/plain": [
       "{1, 3, 5}"
      ]
     },
     "execution_count": 8,
     "metadata": {},
     "output_type": "execute_result"
    }
   ],
   "source": [
    "set1.difference(set2)"
   ]
  },
  {
   "cell_type": "code",
   "execution_count": 9,
   "id": "11ab85ce",
   "metadata": {},
   "outputs": [
    {
     "data": {
      "text/plain": [
       "{1, 3, 5, 6, 8, 10}"
      ]
     },
     "execution_count": 9,
     "metadata": {},
     "output_type": "execute_result"
    }
   ],
   "source": [
    "set1.symmetric_difference(set2)"
   ]
  },
  {
   "cell_type": "markdown",
   "id": "fe9c0d08",
   "metadata": {},
   "source": [
    "\n",
    "### Assignment 4: Set Comprehensions\n",
    "\n",
    "Create a new set containing the squares of the first 10 positive integers using a set comprehension. Print the new set."
   ]
  },
  {
   "cell_type": "code",
   "execution_count": 10,
   "id": "c24345aa",
   "metadata": {},
   "outputs": [
    {
     "data": {
      "text/plain": [
       "{1, 4, 9, 16, 25, 36, 49, 64, 81, 100}"
      ]
     },
     "execution_count": 10,
     "metadata": {},
     "output_type": "execute_result"
    }
   ],
   "source": [
    "{i**2 for i in range(1,11)}"
   ]
  },
  {
   "cell_type": "markdown",
   "id": "2f03d19a",
   "metadata": {},
   "source": [
    "### Assignment 5: Filtering Sets\n",
    "\n",
    "Create a new set containing only the even numbers from the set created in Assignment 1 using a set comprehension. Print the new set."
   ]
  },
  {
   "cell_type": "code",
   "execution_count": 12,
   "id": "ca30113d",
   "metadata": {},
   "outputs": [
    {
     "data": {
      "text/plain": [
       "{2, 4, 6, 8, 10}"
      ]
     },
     "execution_count": 12,
     "metadata": {},
     "output_type": "execute_result"
    }
   ],
   "source": [
    "{i for i in st1 if i%2 == 0}"
   ]
  },
  {
   "cell_type": "code",
   "execution_count": 15,
   "id": "b8928201",
   "metadata": {},
   "outputs": [
    {
     "data": {
      "text/plain": [
       "True"
      ]
     },
     "execution_count": 15,
     "metadata": {},
     "output_type": "execute_result"
    }
   ],
   "source": [
    "st2 = {1,2,3,4,5}\n",
    "st3 = {1,2,3}\n",
    "st2.issuperset(st3)"
   ]
  },
  {
   "cell_type": "code",
   "execution_count": 16,
   "id": "b3822ec3",
   "metadata": {},
   "outputs": [
    {
     "data": {
      "text/plain": [
       "{'nm': 6, 'age': 6}"
      ]
     },
     "execution_count": 16,
     "metadata": {},
     "output_type": "execute_result"
    }
   ],
   "source": [
    "{'nm':'ram','age': 6, 'nm':6}"
   ]
  },
  {
   "cell_type": "code",
   "execution_count": 18,
   "id": "7e3ee32b",
   "metadata": {},
   "outputs": [
    {
     "name": "stdout",
     "output_type": "stream",
     "text": [
      "{2: 3, 3: 2, 4: 1, 6: 1, 7: 1, 8: 1, 9: 2, 10: 1}\n"
     ]
    }
   ],
   "source": [
    "lst = [2,7,8,2,3,3,4,6,10,9,2,9]\n",
    "\n",
    "print({i:lst.count(i) for i in set(lst)})"
   ]
  },
  {
   "cell_type": "code",
   "execution_count": 19,
   "id": "19a7d540",
   "metadata": {},
   "outputs": [
    {
     "data": {
      "text/plain": [
       "{'a': 1, 'b': 8, 'd': 2}"
      ]
     },
     "execution_count": 19,
     "metadata": {},
     "output_type": "execute_result"
    }
   ],
   "source": [
    "{**{'a':1,'b':2},**{'b':8,'d':2}}"
   ]
  },
  {
   "cell_type": "markdown",
   "id": "0c3b3de3",
   "metadata": {},
   "source": [
    "\n",
    "### Assignment 6: Set Methods\n",
    "\n",
    "Create a set with duplicate elements and remove the duplicates using set methods. Print the modified set.\n",
    "\n",
    "### Assignment 7: Subsets and Supersets\n",
    "\n",
    "Create two sets: one with the first 5 positive integers and another with the first 3 positive integers. Check if the second set is a subset of the first set and if the first set is a superset of the second set. Print the results.\n",
    "\n",
    "\n",
    "\n",
    "### Assignment 8: Frozenset\n",
    "\n",
    "Create a frozenset with the first 5 positive integers. Print the frozenset.\n",
    "\n",
    "### Assignment 9: Set and List Conversion\n",
    "\n",
    "Create a set with the first 5 positive integers. Convert it to a list, append the number 6, and convert it back to a set. Print the resulting set.\n",
    "\n",
    "### Assignment 10: Set and Dictionary\n",
    "\n",
    "Create a dictionary with set keys and integer values. Print the dictionary.\n",
    "\n",
    "### Assignment 11: Iterating Over Sets\n",
    "\n",
    "Create a set and iterate over the elements, printing each element.\n",
    "\n",
    "### Assignment 12: Removing Elements from Sets\n",
    "\n",
    "Create a set and remove elements from it until it is empty. Print the set after each removal.\n",
    "\n",
    "### Assignment 13: Set Symmetric Difference Update\n",
    "\n",
    "Create two sets and update the first set with the symmetric difference of the two sets. Print the modified first set.\n",
    "\n",
    "### Assignment 14: Set Membership Testing\n",
    "\n",
    "Create a set and test if certain elements are present in the set. Print the results.\n",
    "\n",
    "### Assignment 15: Set of Tuples\n",
    "\n",
    "Create a set containing tuples, where each tuple contains two elements. Print the set.\n"
   ]
  },
  {
   "cell_type": "code",
   "execution_count": null,
   "id": "49bafbf1",
   "metadata": {},
   "outputs": [],
   "source": []
  },
  {
   "cell_type": "markdown",
   "id": "7f19c2ac",
   "metadata": {},
   "source": []
  },
  {
   "cell_type": "markdown",
   "id": "400912d0",
   "metadata": {},
   "source": []
  },
  {
   "cell_type": "code",
   "execution_count": null,
   "id": "a8060255",
   "metadata": {},
   "outputs": [],
   "source": []
  },
  {
   "cell_type": "markdown",
   "id": "1e252d40",
   "metadata": {},
   "source": []
  }
 ],
 "metadata": {
  "kernelspec": {
   "display_name": "Python 3",
   "language": "python",
   "name": "python3"
  },
  "language_info": {
   "codemirror_mode": {
    "name": "ipython",
    "version": 3
   },
   "file_extension": ".py",
   "mimetype": "text/x-python",
   "name": "python",
   "nbconvert_exporter": "python",
   "pygments_lexer": "ipython3",
   "version": "3.12.0"
  }
 },
 "nbformat": 4,
 "nbformat_minor": 5
}
