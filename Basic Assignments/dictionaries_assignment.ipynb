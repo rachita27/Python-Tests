{
 "cells": [
  {
   "cell_type": "markdown",
   "metadata": {},
   "source": [
    "# Module 3: Data Structures Assignments\n",
    "## Lesson 3.4: Dictionaries\n",
    "### Assignment 1: Creating and Accessing Dictionaries\n",
    "\n",
    "Create a dictionary with the first 10 positive integers as keys and their squares as values. Print the dictionary.\n",
    "\n",
    "\n"
   ]
  },
  {
   "cell_type": "code",
   "execution_count": 2,
   "id": "06d1fe3d",
   "metadata": {},
   "outputs": [
    {
     "data": {
      "text/plain": [
       "{0: 0, 1: 1, 2: 4, 3: 9, 4: 16, 5: 25, 6: 36, 7: 49, 8: 64, 9: 81, 10: 100}"
      ]
     },
     "execution_count": 2,
     "metadata": {},
     "output_type": "execute_result"
    }
   ],
   "source": [
    "dct1 ={i: i**2 for i in range(11)}\n",
    "dct1"
   ]
  },
  {
   "cell_type": "markdown",
   "id": "a2cb42ad",
   "metadata": {},
   "source": [
    "### Assignment 2: Accessing Dictionary Elements\n",
    "\n",
    "Print the value of the key 5 and the keys of the dictionary created in Assignment 1."
   ]
  },
  {
   "cell_type": "code",
   "execution_count": 3,
   "id": "5b969c3f",
   "metadata": {},
   "outputs": [
    {
     "name": "stdout",
     "output_type": "stream",
     "text": [
      "25\n",
      "dict_keys([0, 1, 2, 3, 4, 5, 6, 7, 8, 9, 10])\n"
     ]
    }
   ],
   "source": [
    "print(dct1[5])\n",
    "print(dct1.keys())"
   ]
  },
  {
   "cell_type": "markdown",
   "id": "db3561a3",
   "metadata": {},
   "source": [
    "### Assignment 3: Dictionary Methods\n",
    "\n",
    "Add a new key-value pair (11, 121) to the dictionary created in Assignment 1 and then remove the key-value pair with key 1. Print the modified dictionary."
   ]
  },
  {
   "cell_type": "code",
   "execution_count": 4,
   "id": "dc263979",
   "metadata": {},
   "outputs": [
    {
     "name": "stdout",
     "output_type": "stream",
     "text": [
      "{0: 0, 1: 1, 2: 4, 3: 9, 4: 16, 5: 25, 6: 36, 7: 49, 8: 64, 9: 81, 10: 100, 11: 121}\n",
      "{0: 0, 2: 4, 3: 9, 4: 16, 5: 25, 6: 36, 7: 49, 8: 64, 9: 81, 10: 100, 11: 121}\n"
     ]
    }
   ],
   "source": [
    "dct1[11] = 121\n",
    "print(dct1)\n",
    "del dct1[1]\n",
    "print(dct1)"
   ]
  },
  {
   "cell_type": "markdown",
   "id": "b72b4f5b",
   "metadata": {},
   "source": [
    "### Assignment 4: Iterating Over Dictionaries\n",
    "\n",
    "Iterate over the dictionary created in Assignment 1 and print each key-value pair."
   ]
  },
  {
   "cell_type": "code",
   "execution_count": 5,
   "id": "ffd75848",
   "metadata": {},
   "outputs": [
    {
     "name": "stdout",
     "output_type": "stream",
     "text": [
      "key: 0 and value: 0\n",
      "key: 2 and value: 4\n",
      "key: 3 and value: 9\n",
      "key: 4 and value: 16\n",
      "key: 5 and value: 25\n",
      "key: 6 and value: 36\n",
      "key: 7 and value: 49\n",
      "key: 8 and value: 64\n",
      "key: 9 and value: 81\n",
      "key: 10 and value: 100\n",
      "key: 11 and value: 121\n"
     ]
    }
   ],
   "source": [
    "for i,j in dct1.items():\n",
    "    print(f\"key: {i} and value: {j}\")"
   ]
  },
  {
   "cell_type": "markdown",
   "id": "762bad62",
   "metadata": {},
   "source": [
    "### Assignment 5: Dictionary Comprehensions\n",
    "\n",
    "Create a new dictionary containing the cubes of the first 10 positive integers using a dictionary comprehension. Print the new dictionary."
   ]
  },
  {
   "cell_type": "code",
   "execution_count": 6,
   "id": "227a3a47",
   "metadata": {},
   "outputs": [
    {
     "data": {
      "text/plain": [
       "{0: 0,\n",
       " 1: 1,\n",
       " 2: 8,\n",
       " 3: 27,\n",
       " 4: 64,\n",
       " 5: 125,\n",
       " 6: 216,\n",
       " 7: 343,\n",
       " 8: 512,\n",
       " 9: 729,\n",
       " 10: 1000}"
      ]
     },
     "execution_count": 6,
     "metadata": {},
     "output_type": "execute_result"
    }
   ],
   "source": [
    "dct2 ={i: i**3 for i in range(11)}\n",
    "dct2"
   ]
  },
  {
   "cell_type": "markdown",
   "id": "ab8d2572",
   "metadata": {},
   "source": [
    "### Assignment 6: Merging Dictionaries\n",
    "\n",
    "Create two dictionaries: one with keys as the first 5 positive integers and values as their squares, and another with keys as the next 5 positive integers and values as their squares. Merge these dictionaries into a single dictionary and print it."
   ]
  },
  {
   "cell_type": "code",
   "execution_count": 9,
   "id": "e321771c",
   "metadata": {},
   "outputs": [
    {
     "data": {
      "text/plain": [
       "{1: 1, 2: 4, 3: 9, 4: 16, 5: 25, 6: 36, 7: 49, 8: 64, 9: 81, 10: 100}"
      ]
     },
     "execution_count": 9,
     "metadata": {},
     "output_type": "execute_result"
    }
   ],
   "source": [
    "{**{i: i**2 for i in range(1,6)}, **{i: i**2 for i in range(6,11)}}"
   ]
  },
  {
   "cell_type": "markdown",
   "id": "e1c918ff",
   "metadata": {},
   "source": [
    "\n",
    "### Assignment 7: Nested Dictionaries\n",
    "Create a nested dictionary representing a student with keys 'name', 'age', 'grades', where 'grades' is another dictionary with keys 'math', 'science', and 'english'. Print the nested dictionary."
   ]
  },
  {
   "cell_type": "code",
   "execution_count": 10,
   "id": "69870f2c",
   "metadata": {},
   "outputs": [
    {
     "name": "stdout",
     "output_type": "stream",
     "text": [
      "{'name': 'Ram', 'age': 12, 'grades': {'math': 30, 'science': 45, 'english': '89'}}\n"
     ]
    }
   ],
   "source": [
    "student = {'name':'Ram', \"age\": 12, 'grades': {'math':30, 'science':45, 'english': '89'}}\n",
    "print(student)"
   ]
  },
  {
   "cell_type": "markdown",
   "id": "6b562e1f",
   "metadata": {},
   "source": [
    "### Assignment 8: Dictionary of Lists\n",
    "\n",
    "Create a dictionary where the keys are the first 5 positive integers and the values are lists containing the first 5 multiples of the key. Print the dictionary."
   ]
  },
  {
   "cell_type": "code",
   "execution_count": 19,
   "id": "afb35463",
   "metadata": {},
   "outputs": [
    {
     "data": {
      "text/plain": [
       "{1: [1, 2, 3, 4, 5],\n",
       " 2: [2, 4, 6, 8, 10],\n",
       " 3: [3, 6, 9, 12, 15],\n",
       " 4: [4, 8, 12, 16, 20],\n",
       " 5: [5, 10, 15, 20, 25]}"
      ]
     },
     "execution_count": 19,
     "metadata": {},
     "output_type": "execute_result"
    }
   ],
   "source": [
    "{i:list(map(lambda x: x*i, list(range(1,6))))  for i in range(1,6)}"
   ]
  },
  {
   "cell_type": "markdown",
   "id": "915cb795",
   "metadata": {},
   "source": [
    "### Assignment 9: Dictionary of Tuples\n",
    "\n",
    "Create a dictionary where the keys are the first 5 positive integers and the values are tuples containing the key and its square. "
   ]
  },
  {
   "cell_type": "code",
   "execution_count": 20,
   "id": "dc2ffa23",
   "metadata": {},
   "outputs": [
    {
     "data": {
      "text/plain": [
       "{1: (1, 1), 2: (2, 4), 3: (3, 9), 4: (4, 16), 5: (5, 25)}"
      ]
     },
     "execution_count": 20,
     "metadata": {},
     "output_type": "execute_result"
    }
   ],
   "source": [
    "{i:(i,i**2) for i in range(1,6)}"
   ]
  },
  {
   "cell_type": "markdown",
   "id": "f65261c9",
   "metadata": {},
   "source": [
    "### Assignment 10: Dictionary and List Conversion\n",
    "\n",
    "Create a dictionary with the first 5 positive integers as keys and their squares as values. Convert the dictionary to a list of tuples and print it."
   ]
  },
  {
   "cell_type": "code",
   "execution_count": 23,
   "id": "920ffadb",
   "metadata": {},
   "outputs": [
    {
     "data": {
      "text/plain": [
       "[(1, 1), (2, 4), (3, 9), (4, 16), (5, 25)]"
      ]
     },
     "execution_count": 23,
     "metadata": {},
     "output_type": "execute_result"
    }
   ],
   "source": [
    "[(i,j) for i,j in {i: i**2 for i in range(1,6)}.items()]"
   ]
  },
  {
   "cell_type": "markdown",
   "id": "b3b4ad75",
   "metadata": {},
   "source": [
    "### Assignment 11: Dictionary Filtering\n",
    "\n",
    "Create a dictionary with the first 10 positive integers as keys and their squares as values. Create a new dictionary containing only the key-value pairs where the key is even. Print the new dictionary."
   ]
  },
  {
   "cell_type": "code",
   "execution_count": 25,
   "id": "bc407f3b",
   "metadata": {},
   "outputs": [
    {
     "data": {
      "text/plain": [
       "{2, 4, 6, 8, 10}"
      ]
     },
     "execution_count": 25,
     "metadata": {},
     "output_type": "execute_result"
    }
   ],
   "source": [
    "dct3 = {i: i**2 for i in range(1,11)}\n",
    "\n",
    "{i for i,j in dct3.items() if i%2 == 0}"
   ]
  },
  {
   "cell_type": "markdown",
   "id": "65ac84a0",
   "metadata": {},
   "source": [
    "### Assignment 12: Dictionary Key and Value Transformation\n",
    "\n",
    "Create a dictionary with the first 5 positive integers as keys and their squares as values. Create a new dictionary with keys and values swapped. Print the new dictionary."
   ]
  },
  {
   "cell_type": "code",
   "execution_count": 27,
   "id": "28dc3af9",
   "metadata": {},
   "outputs": [
    {
     "name": "stdout",
     "output_type": "stream",
     "text": [
      "{1: 1, 2: 4, 3: 9, 4: 16}\n"
     ]
    },
    {
     "data": {
      "text/plain": [
       "{1: 1, 4: 2, 9: 3, 16: 4}"
      ]
     },
     "execution_count": 27,
     "metadata": {},
     "output_type": "execute_result"
    }
   ],
   "source": [
    "dct4 = {i: i**2 for i in range(1,5)}\n",
    "print(dct4)\n",
    "{j:i for i,j in dct4.items() }"
   ]
  },
  {
   "cell_type": "markdown",
   "id": "3ad7a549",
   "metadata": {},
   "source": [
    "### Assignment 13: Default Dictionary\n",
    "\n",
    "Create a default dictionary where each key has a default value of an empty list. Add some elements to the lists and print the dictionary."
   ]
  },
  {
   "cell_type": "code",
   "execution_count": 40,
   "id": "dc1048e6",
   "metadata": {},
   "outputs": [
    {
     "name": "stdout",
     "output_type": "stream",
     "text": [
      "defaultdict(<function <lambda> at 0x000001ED27185F80>, {})\n"
     ]
    }
   ],
   "source": [
    "from collections import defaultdict\n",
    "\n",
    "d = defaultdict(lambda: [], {})\n",
    "print(d)"
   ]
  },
  {
   "cell_type": "code",
   "execution_count": 41,
   "id": "2a36cb7a",
   "metadata": {},
   "outputs": [
    {
     "name": "stdout",
     "output_type": "stream",
     "text": [
      "defaultdict(<function <lambda> at 0x000001ED27185F80>, {})\n",
      "defaultdict(<function <lambda> at 0x000001ED27185F80>, {'2': 4})\n"
     ]
    }
   ],
   "source": [
    "print(d)\n",
    "d['2'] = 4\n",
    "\n",
    "print(d)\n",
    "\n"
   ]
  },
  {
   "cell_type": "code",
   "execution_count": 42,
   "id": "f43408af",
   "metadata": {},
   "outputs": [
    {
     "data": {
      "text/plain": [
       "[]"
      ]
     },
     "execution_count": 42,
     "metadata": {},
     "output_type": "execute_result"
    }
   ],
   "source": [
    "d['7']"
   ]
  },
  {
   "cell_type": "code",
   "execution_count": 43,
   "id": "863546e4",
   "metadata": {},
   "outputs": [
    {
     "name": "stdout",
     "output_type": "stream",
     "text": [
      "defaultdict(<function <lambda> at 0x000001ED27185F80>, {'2': 4, '7': []})\n"
     ]
    }
   ],
   "source": [
    "print(d)"
   ]
  },
  {
   "cell_type": "markdown",
   "id": "7dfcdf60",
   "metadata": {},
   "source": [
    "### Assignment 14: Counting with Dictionaries\n",
    "\n",
    "Write a function that takes a string and returns a dictionary with the count of each character in the string. Print the dictionary."
   ]
  },
  {
   "cell_type": "code",
   "execution_count": 54,
   "id": "28435ccb",
   "metadata": {},
   "outputs": [
    {
     "data": {
      "text/plain": [
       "'hsbhskks'"
      ]
     },
     "execution_count": 54,
     "metadata": {},
     "output_type": "execute_result"
    }
   ],
   "source": [
    "'hhs '.lower()\n",
    "'hsbh skks'.replace(' ','')"
   ]
  },
  {
   "cell_type": "code",
   "execution_count": 56,
   "id": "5aeaf730",
   "metadata": {},
   "outputs": [
    {
     "data": {
      "text/plain": [
       "{'i': 2, 'a': 4, 'j': 1, 'r': 2, 't': 1, 'h': 2, 'c': 1}"
      ]
     },
     "execution_count": 56,
     "metadata": {},
     "output_type": "execute_result"
    }
   ],
   "source": [
    "def funct_str_cnt(string1):\n",
    "    return {i:list(string1.lower().replace(' ','')).count(i) for i in set(list(string1.lower().replace(' ','')))}\n",
    "\n",
    "\n",
    "funct_str_cnt('Rachita Harjai')"
   ]
  },
  {
   "cell_type": "markdown",
   "id": "a05acd94",
   "metadata": {},
   "source": [
    "\n",
    "\n",
    "\n",
    "\n",
    "\n",
    "\n",
    "\n",
    "\n",
    "\n",
    "### Assignment 15: Dictionary and JSON\n",
    "\n",
    "Create a dictionary representing a book with keys 'title', 'author', 'year', and 'genre'. Convert the dictionary to a JSON string and print it.\n"
   ]
  },
  {
   "cell_type": "code",
   "execution_count": 57,
   "id": "53898e1e",
   "metadata": {},
   "outputs": [
    {
     "name": "stdout",
     "output_type": "stream",
     "text": [
      "{\"title\": \"To Kill a Mockingbird\", \"author\": \"Harper Lee\", \"year\": 1960, \"genre\": \"Fiction\"}\n"
     ]
    }
   ],
   "source": [
    "import json\n",
    "\n",
    "book = {\n",
    "    'title': 'To Kill a Mockingbird',\n",
    "    'author': 'Harper Lee',\n",
    "    'year': 1960,\n",
    "    'genre': 'Fiction'\n",
    "}\n",
    "book_json = json.dumps(book)\n",
    "print(book_json)"
   ]
  },
  {
   "cell_type": "code",
   "execution_count": 58,
   "metadata": {},
   "outputs": [
    {
     "data": {
      "text/plain": [
       "3.3333333333333335"
      ]
     },
     "execution_count": 58,
     "metadata": {},
     "output_type": "execute_result"
    }
   ],
   "source": [
    "10/3"
   ]
  },
  {
   "cell_type": "code",
   "execution_count": 59,
   "id": "fbe62504",
   "metadata": {},
   "outputs": [
    {
     "data": {
      "text/plain": [
       "1.75"
      ]
     },
     "execution_count": 59,
     "metadata": {},
     "output_type": "execute_result"
    }
   ],
   "source": [
    "7/4"
   ]
  },
  {
   "cell_type": "code",
   "execution_count": null,
   "id": "46a89f13",
   "metadata": {},
   "outputs": [],
   "source": [
    "def is_subset(lst1, lst2):\n",
    "    return all([True if i in lst2 else False for i in lst1 ])"
   ]
  },
  {
   "cell_type": "code",
   "execution_count": 68,
   "id": "8e337dc0",
   "metadata": {},
   "outputs": [],
   "source": [
    "def is_subset(lst1, lst2):\n",
    "    return all([True if i in lst2 else False for i in lst1  ])"
   ]
  },
  {
   "cell_type": "code",
   "execution_count": 69,
   "id": "ac6dccc2",
   "metadata": {},
   "outputs": [
    {
     "data": {
      "text/plain": [
       "False"
      ]
     },
     "execution_count": 69,
     "metadata": {},
     "output_type": "execute_result"
    }
   ],
   "source": [
    "is_subset([2,3,4,9], [6,7,2,3,4])"
   ]
  },
  {
   "cell_type": "markdown",
   "id": "4ba257c9",
   "metadata": {},
   "source": [
    "if i in lst2"
   ]
  },
  {
   "cell_type": "code",
   "execution_count": 70,
   "id": "e5227b39",
   "metadata": {},
   "outputs": [
    {
     "data": {
      "text/plain": [
       "[2, 4, 5, 6]"
      ]
     },
     "execution_count": 70,
     "metadata": {},
     "output_type": "execute_result"
    }
   ],
   "source": [
    "lt = []\n",
    "lt.extend([2,4,5,6])\n",
    "lt"
   ]
  },
  {
   "cell_type": "code",
   "execution_count": 73,
   "id": "1ecef046",
   "metadata": {},
   "outputs": [],
   "source": [
    "lt = [2,6,7, 9,0]\n",
    "# lt.reverse()"
   ]
  },
  {
   "cell_type": "code",
   "execution_count": 75,
   "id": "5ac62a9b",
   "metadata": {},
   "outputs": [
    {
     "data": {
      "text/plain": [
       "[0, 9, 7]"
      ]
     },
     "execution_count": 75,
     "metadata": {},
     "output_type": "execute_result"
    }
   ],
   "source": [
    "lt[:-4:-1]"
   ]
  },
  {
   "cell_type": "code",
   "execution_count": 83,
   "id": "41bca5d6",
   "metadata": {},
   "outputs": [
    {
     "data": {
      "text/plain": [
       "[0, 7, 2]"
      ]
     },
     "execution_count": 83,
     "metadata": {},
     "output_type": "execute_result"
    }
   ],
   "source": [
    "lt[:-7:-2]"
   ]
  },
  {
   "cell_type": "code",
   "execution_count": 77,
   "id": "241642d1",
   "metadata": {},
   "outputs": [
    {
     "data": {
      "text/plain": [
       "[2, 6, 7, 9, 0]"
      ]
     },
     "execution_count": 77,
     "metadata": {},
     "output_type": "execute_result"
    }
   ],
   "source": [
    "lt[::]"
   ]
  },
  {
   "cell_type": "code",
   "execution_count": 79,
   "id": "b4899a04",
   "metadata": {},
   "outputs": [
    {
     "data": {
      "text/plain": [
       "5"
      ]
     },
     "execution_count": 79,
     "metadata": {},
     "output_type": "execute_result"
    }
   ],
   "source": [
    "len(lt)"
   ]
  },
  {
   "cell_type": "code",
   "execution_count": 92,
   "id": "b2d305f4",
   "metadata": {},
   "outputs": [],
   "source": [
    "def rotate_list(lst, k):\n",
    "    # Your code goes here\n",
    "    lst_hlf = []\n",
    "    lst_hlf = lst[:-k-1:-1]\n",
    "    lst_hlf.reverse()\n",
    "    \n",
    "    seco_hlf = lst[0:len(lst) -k]\n",
    "    # seco_hlf.reverse()\n",
    "    \n",
    "    lst_hlf.extend(seco_hlf)\n",
    "    return lst_hlf\n"
   ]
  },
  {
   "cell_type": "code",
   "execution_count": 93,
   "id": "18d051a9",
   "metadata": {},
   "outputs": [
    {
     "data": {
      "text/plain": [
       "[2, 3, 1, 2, 3, 4, 5, 1]"
      ]
     },
     "execution_count": 93,
     "metadata": {},
     "output_type": "execute_result"
    }
   ],
   "source": [
    "rotate_list([1, 2, 3, 4, 5, 1, 2, 3],2)"
   ]
  },
  {
   "cell_type": "code",
   "execution_count": 87,
   "id": "cc4e45e2",
   "metadata": {},
   "outputs": [
    {
     "data": {
      "text/plain": [
       "[2, 3]"
      ]
     },
     "execution_count": 87,
     "metadata": {},
     "output_type": "execute_result"
    }
   ],
   "source": [
    "[1,2,3,5,10][1:len([1,2,3,5,10]) -2]"
   ]
  },
  {
   "cell_type": "code",
   "execution_count": 95,
   "id": "6071811d",
   "metadata": {},
   "outputs": [
    {
     "data": {
      "text/plain": [
       "200000"
      ]
     },
     "execution_count": 95,
     "metadata": {},
     "output_type": "execute_result"
    }
   ],
   "source": [
    "20000*10"
   ]
  },
  {
   "cell_type": "code",
   "execution_count": 97,
   "id": "6edc82e7",
   "metadata": {},
   "outputs": [
    {
     "data": {
      "text/plain": [
       "['']"
      ]
     },
     "execution_count": 97,
     "metadata": {},
     "output_type": "execute_result"
    }
   ],
   "source": [
    "rotate_list([1, 2, 3, 4, 5, 1, 2, 3],2)\n",
    "rotate_list([4, 5, 1, 2, 3],3)\n",
    "\n",
    "''.split(' ')"
   ]
  },
  {
   "cell_type": "code",
   "execution_count": 98,
   "id": "48a40578",
   "metadata": {},
   "outputs": [
    {
     "data": {
      "text/plain": [
       "0"
      ]
     },
     "execution_count": 98,
     "metadata": {},
     "output_type": "execute_result"
    }
   ],
   "source": [
    "len('')"
   ]
  },
  {
   "cell_type": "code",
   "execution_count": 109,
   "id": "4a0cecf3",
   "metadata": {},
   "outputs": [],
   "source": [
    "def merge_dicts_with_overlapping_keys(dicts):\n",
    "    # Your code goes here\n",
    "    dct = dicts[0]\n",
    "    for i in dicts[1:]:\n",
    "        for j in i :\n",
    "            dct[j] = dct.get(j,0)+ i[j]\n",
    "\n",
    "    return dct"
   ]
  },
  {
   "cell_type": "code",
   "execution_count": 110,
   "id": "960bdeec",
   "metadata": {},
   "outputs": [
    {
     "data": {
      "text/plain": [
       "{'a': 1, 'b': 5, 'c': 9, 'd': 6}"
      ]
     },
     "execution_count": 110,
     "metadata": {},
     "output_type": "execute_result"
    }
   ],
   "source": [
    "merge_dicts_with_overlapping_keys([{'a': 1, 'b': 2}, {'b': 3, 'c': 4}, {'c': 5, 'd': 6}])"
   ]
  },
  {
   "cell_type": "code",
   "execution_count": 112,
   "id": "8e12eb82",
   "metadata": {},
   "outputs": [],
   "source": [
    "from package.math import addition"
   ]
  },
  {
   "cell_type": "code",
   "execution_count": 113,
   "id": "0085fbf4",
   "metadata": {},
   "outputs": [
    {
     "data": {
      "text/plain": [
       "1"
      ]
     },
     "execution_count": 113,
     "metadata": {},
     "output_type": "execute_result"
    }
   ],
   "source": [
    "addition()"
   ]
  },
  {
   "cell_type": "code",
   "execution_count": 114,
   "id": "466d8a86",
   "metadata": {},
   "outputs": [
    {
     "data": {
      "text/plain": [
       "17"
      ]
     },
     "execution_count": 114,
     "metadata": {},
     "output_type": "execute_result"
    }
   ],
   "source": [
    "addition(8,9)"
   ]
  },
  {
   "cell_type": "code",
   "execution_count": null,
   "id": "33992397",
   "metadata": {},
   "outputs": [],
   "source": []
  }
 ],
 "metadata": {
  "kernelspec": {
   "display_name": "Python 3",
   "language": "python",
   "name": "python3"
  },
  "language_info": {
   "codemirror_mode": {
    "name": "ipython",
    "version": 3
   },
   "file_extension": ".py",
   "mimetype": "text/x-python",
   "name": "python",
   "nbconvert_exporter": "python",
   "pygments_lexer": "ipython3",
   "version": "3.12.0"
  }
 },
 "nbformat": 4,
 "nbformat_minor": 5
}
