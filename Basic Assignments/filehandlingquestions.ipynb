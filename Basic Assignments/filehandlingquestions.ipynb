{
 "cells": [
  {
   "cell_type": "markdown",
   "id": "c3a699b0",
   "metadata": {},
   "source": [
    "# Module: File Handling Assignments\n",
    "## Lesson: File Handling and Operations\n",
    "### Assignment 1: Reading a File\n",
    "\n",
    "Write a function that reads the contents of a file named `sample.txt` and prints each line."
   ]
  },
  {
   "cell_type": "code",
   "execution_count": 1,
   "id": "fd1786c7",
   "metadata": {},
   "outputs": [],
   "source": [
    "import os"
   ]
  },
  {
   "cell_type": "code",
   "execution_count": 2,
   "id": "8fb4a99e",
   "metadata": {},
   "outputs": [
    {
     "data": {
      "text/plain": [
       "'c:\\\\Users\\\\rachi\\\\AppData\\\\Local\\\\Temp\\\\cf86f0e1-debd-424b-a6e2-9f9c6e8fdaba_filehandlingquestions.zip.aba'"
      ]
     },
     "execution_count": 2,
     "metadata": {},
     "output_type": "execute_result"
    }
   ],
   "source": [
    "os.getcwd()"
   ]
  },
  {
   "cell_type": "code",
   "execution_count": 9,
   "id": "7e52ee82",
   "metadata": {},
   "outputs": [],
   "source": [
    "os.chdir('C:\\\\Users\\\\rachi\\\\OneDrive\\\\Desktop\\\\PYTHON LEARNING\\\\1. Lists & Basics of Python')"
   ]
  },
  {
   "cell_type": "code",
   "execution_count": 10,
   "id": "4b682555",
   "metadata": {},
   "outputs": [
    {
     "data": {
      "text/plain": [
       "'C:\\\\Users\\\\rachi\\\\OneDrive\\\\Desktop\\\\PYTHON LEARNING\\\\1. Lists & Basics of Python'"
      ]
     },
     "execution_count": 10,
     "metadata": {},
     "output_type": "execute_result"
    }
   ],
   "source": [
    "os.getcwd()"
   ]
  },
  {
   "cell_type": "code",
   "execution_count": 12,
   "id": "a2712960",
   "metadata": {},
   "outputs": [
    {
     "data": {
      "text/plain": [
       "['assignment_solution.zip',\n",
       " 'assignment_solutions.zip',\n",
       " 'list_assignment_solution.zip',\n",
       " 'sample.txt']"
      ]
     },
     "execution_count": 12,
     "metadata": {},
     "output_type": "execute_result"
    }
   ],
   "source": [
    "os.listdir()"
   ]
  },
  {
   "cell_type": "code",
   "execution_count": 17,
   "id": "26bf8881",
   "metadata": {},
   "outputs": [
    {
     "name": "stdout",
     "output_type": "stream",
     "text": [
      "Heloo I'm Rachita\n",
      "How're you ?\n",
      "Hope you're doing great\n"
     ]
    }
   ],
   "source": [
    "with open('sample.txt', 'r') as file:\n",
    "    for i in file.readlines():\n",
    "        print(i.strip())\n",
    "    # print(file.readlines(),sep= \" \")"
   ]
  },
  {
   "cell_type": "markdown",
   "id": "c9e6c9b0",
   "metadata": {},
   "source": [
    "### Assignment 2: Writing to a File\n",
    "\n",
    "Write a function that writes a list of strings to a file named `output.txt`, with each string on a new line."
   ]
  },
  {
   "cell_type": "code",
   "execution_count": 20,
   "id": "214f6f0c",
   "metadata": {},
   "outputs": [],
   "source": [
    "def write_l(lst, name = 'default'):\n",
    "    with open(name+\".txt\", 'a+') as file:\n",
    "        for i in lst:\n",
    "            file.writelines(i+'\\n')\n"
   ]
  },
  {
   "cell_type": "code",
   "execution_count": 21,
   "id": "b079aee7",
   "metadata": {},
   "outputs": [],
   "source": [
    "write_l(['hello','Rs','how'],'second')"
   ]
  },
  {
   "cell_type": "markdown",
   "id": "bca82454",
   "metadata": {},
   "source": [
    "### Assignment 3: Copying a File\n",
    "\n",
    "Write a function that copies the contents of a file named `source.txt` to a new file named `destination.txt`.\n"
   ]
  },
  {
   "cell_type": "code",
   "execution_count": 22,
   "id": "449294a2",
   "metadata": {},
   "outputs": [
    {
     "data": {
      "text/plain": [
       "'destination.txt'"
      ]
     },
     "execution_count": 22,
     "metadata": {},
     "output_type": "execute_result"
    }
   ],
   "source": [
    "import shutil\n",
    "\n",
    "shutil.copyfile('second.txt','destination.txt')"
   ]
  },
  {
   "cell_type": "markdown",
   "id": "8bd10b43",
   "metadata": {},
   "source": [
    "### Assignment 4: Appending to a File\n",
    "\n",
    "Write a function that appends a given string to the end of a file named `log.txt`."
   ]
  },
  {
   "cell_type": "code",
   "execution_count": 23,
   "id": "17d9b3f0",
   "metadata": {},
   "outputs": [],
   "source": [
    "def file_a(string1 = \"no string, still function called\"):\n",
    "\n",
    "    with open('log.txt','a+') as file:\n",
    "        file.writelines(string1)\n",
    "        "
   ]
  },
  {
   "cell_type": "code",
   "execution_count": 24,
   "id": "4976e4da",
   "metadata": {},
   "outputs": [],
   "source": [
    "file_a()"
   ]
  },
  {
   "cell_type": "code",
   "execution_count": 25,
   "id": "e2376209",
   "metadata": {},
   "outputs": [],
   "source": [
    "file_a('\\n new line added')"
   ]
  },
  {
   "cell_type": "markdown",
   "id": "9116d353",
   "metadata": {},
   "source": [
    "### Assignment 5: Counting Words in a File\n",
    "\n",
    "Write a function that reads the contents of a file named `document.txt` and returns the number of words in the file."
   ]
  },
  {
   "cell_type": "code",
   "execution_count": 36,
   "id": "2c69ac3b",
   "metadata": {},
   "outputs": [],
   "source": [
    "from collections import Counter"
   ]
  },
  {
   "cell_type": "code",
   "execution_count": 46,
   "id": "0af7b5d0",
   "metadata": {},
   "outputs": [],
   "source": [
    "def func_word(file_p):\n",
    "    lst = []\n",
    "\n",
    "    with open(file_p,\"r\") as file:\n",
    "        \n",
    "        for i in file.readlines():\n",
    "            ln = i.lower().replace('\\n','').replace('/n','').replace(',','')\n",
    "            lst.extend(ln.split(' '))\n",
    "        \n",
    "    lst.sort()\n",
    "    return dict(Counter(lst))"
   ]
  },
  {
   "cell_type": "code",
   "execution_count": 47,
   "id": "628d0214",
   "metadata": {},
   "outputs": [
    {
     "data": {
      "text/plain": [
       "{'a': 5,\n",
       " 'added': 1,\n",
       " 'all': 1,\n",
       " 'and': 2,\n",
       " 'another': 1,\n",
       " 'called': 1,\n",
       " 'contents': 1,\n",
       " 'file': 3,\n",
       " 'finds': 1,\n",
       " 'function': 3,\n",
       " 'given': 1,\n",
       " 'in': 2,\n",
       " 'line': 1,\n",
       " 'named': 2,\n",
       " 'new': 1,\n",
       " 'no': 1,\n",
       " 'number': 1,\n",
       " 'occurrences': 1,\n",
       " 'of': 3,\n",
       " 'reads': 1,\n",
       " 'replaces': 1,\n",
       " 'returns': 1,\n",
       " 'still': 1,\n",
       " 'string': 1,\n",
       " 'that': 2,\n",
       " 'the': 3,\n",
       " 'with': 1,\n",
       " 'word': 2,\n",
       " 'words': 1,\n",
       " 'write': 2}"
      ]
     },
     "execution_count": 47,
     "metadata": {},
     "output_type": "execute_result"
    }
   ],
   "source": [
    "func_word('log.txt')"
   ]
  },
  {
   "cell_type": "markdown",
   "id": "a9e6471c",
   "metadata": {},
   "source": [
    "### Assignment 6: Finding and Replacing Text\n",
    "\n",
    "Write a function that finds and replaces all occurrences of a given word in a filenamed `data.txt` with another word."
   ]
  },
  {
   "cell_type": "code",
   "execution_count": null,
   "id": "6ace8557",
   "metadata": {},
   "outputs": [],
   "source": [
    "import re\n"
   ]
  },
  {
   "cell_type": "code",
   "execution_count": 62,
   "id": "3a368e68",
   "metadata": {},
   "outputs": [],
   "source": [
    "re.fullmatch('tell', 'The word line of word tell words')"
   ]
  },
  {
   "cell_type": "code",
   "execution_count": 68,
   "id": "2f294afc",
   "metadata": {},
   "outputs": [
    {
     "name": "stdout",
     "output_type": "stream",
     "text": [
      "<re.Match object; span=(4, 8), match='word'>\n",
      "(4, 8)\n",
      "4\n",
      "word\n",
      "<re.Match object; span=(17, 21), match='word'>\n",
      "(17, 21)\n",
      "17\n",
      "word\n",
      "<re.Match object; span=(27, 31), match='word'>\n",
      "(27, 31)\n",
      "27\n",
      "word\n"
     ]
    }
   ],
   "source": [
    "nm = re.finditer('word', 'The word line of word tell words')\n",
    "for m in nm:\n",
    "    print(m)          # <re.Match object; span=(6, 9), match='123'>\n",
    "    print(m.span())   # (6, 9)\n",
    "    print(m.span()[0]) \n",
    "    print(m.group()) \n"
   ]
  },
  {
   "cell_type": "code",
   "execution_count": 69,
   "id": "ef424c7f",
   "metadata": {},
   "outputs": [
    {
     "data": {
      "text/plain": [
       "'mango mango bannana manago mango'"
      ]
     },
     "execution_count": 69,
     "metadata": {},
     "output_type": "execute_result"
    }
   ],
   "source": [
    "'apple mango bannana manago apple'.replace(\"apple\", \"mango\")"
   ]
  },
  {
   "cell_type": "code",
   "execution_count": 106,
   "id": "bbf7ccd7",
   "metadata": {},
   "outputs": [],
   "source": [
    "def func_word(file_p, word_to_be_replaced, word_replaced_with):\n",
    "    \n",
    "    lst = []\n",
    "    with open(file_p,\"r\") as file:\n",
    "        \n",
    "        for i in file.readlines():\n",
    "            # print(i, sep= \"\")\n",
    "            ln = i.lower()\n",
    "            # print(ln.replace(word_to_be_replaced, word_replaced_with))\n",
    "            lst.append(ln.replace(word_to_be_replaced, word_replaced_with))\n",
    "\n",
    "    with open(file_p,\"w+\") as file:\n",
    "\n",
    "        for i in lst:\n",
    "            file.writelines(i)\n",
    "\n",
    "    with open(file_p,\"r\") as file:\n",
    "        file.seek(0)\n",
    "        print(\"Final Changes Please check\")\n",
    "\n",
    "        for i in file.readlines():\n",
    "            print(i.strip())\n"
   ]
  },
  {
   "cell_type": "code",
   "execution_count": 108,
   "id": "b2df2d42",
   "metadata": {},
   "outputs": [
    {
     "name": "stdout",
     "output_type": "stream",
     "text": [
      "Final Changes Please check\n",
      "### assignment 7: reading a file in reverse\n",
      "\n",
      "new_new_new_word a function that reads the contents of a file named `reverse.txt` and prints each line in reverse order.\n",
      "\n",
      "### assignment 8: counting lines, words, and characters\n",
      "\n",
      "new_new_new_word a function that reads the contents of a file named `stats.txt` and returns the number of lines, words, and characters in the file.\n",
      "\n",
      "### assignment 9: merging multiple files\n",
      "\n",
      "new_new_new_word a function that merges the contents of multiple files into a single file named `merged.txt`.\n"
     ]
    }
   ],
   "source": [
    "func_word('log.txt',  'new_word', 'new_new_new_word')"
   ]
  },
  {
   "cell_type": "markdown",
   "id": "041007f8",
   "metadata": {},
   "source": [
    "### Assignment 7: Reading a File in Reverse\n",
    "\n",
    "Write a function that reads the contents of a file named `reverse.txt` and prints each line in reverse order."
   ]
  },
  {
   "cell_type": "code",
   "execution_count": 116,
   "id": "99ca9376",
   "metadata": {},
   "outputs": [],
   "source": [
    "def read_reverse(file_name):\n",
    "    \n",
    "\n",
    "    with open(file_name, 'r') as file:\n",
    "\n",
    "        for i in file.readlines():\n",
    "            lst = []\n",
    "            \n",
    "            lst.extend(i.strip().split(' '))\n",
    "            # print(lst)\n",
    "            \n",
    "            lst = lst[::-1]\n",
    "\n",
    "            print(\" \".join(lst).strip())\n"
   ]
  },
  {
   "cell_type": "code",
   "execution_count": 117,
   "id": "4f11e804",
   "metadata": {},
   "outputs": [
    {
     "name": "stdout",
     "output_type": "stream",
     "text": [
      "reverse in file a reading 7: assignment ###\n",
      "\n",
      "order. reverse in line each prints and `reverse.txt` named file a of contents the reads that function a new_new_new_word\n",
      "\n",
      "characters and words, lines, counting 8: assignment ###\n",
      "\n",
      "file. the in characters and words, lines, of number the returns and `stats.txt` named file a of contents the reads that function a new_new_new_word\n",
      "\n",
      "files multiple merging 9: assignment ###\n",
      "\n",
      "`merged.txt`. named file single a into files multiple of contents the merges that function a new_new_new_word\n"
     ]
    }
   ],
   "source": [
    "read_reverse('log.txt')"
   ]
  },
  {
   "cell_type": "markdown",
   "id": "45df4d30",
   "metadata": {},
   "source": [
    "### Assignment 8: Counting Lines, Words, and Characters\n",
    "\n",
    "Write a function that reads the contents of a file named `stats.txt` and returns the number of lines, words, and characters in the file."
   ]
  },
  {
   "cell_type": "code",
   "execution_count": 175,
   "id": "038eed32",
   "metadata": {},
   "outputs": [],
   "source": [
    "def read_reverse(file_name):\n",
    "    lst = []\n",
    "    val_line = 0\n",
    "    val_line_without_space = 0\n",
    "    with open(file_name, \"r\") as file:\n",
    "\n",
    "        for i in file.readlines():\n",
    "            val_line += 1\n",
    "            # print(i.strip())\n",
    "            lst.append(i.strip())\n",
    "\n",
    "        \n",
    "    val_line_without_space = len(lst) - len([i for i in lst if i == ''])\n",
    "\n",
    "    lst1 = [i.replace(':.','').replace('.','') for i in lst if i != '' and '#' not in i ]\n",
    "    # print(lst)\n",
    "    # print([i for i in lst if i == ''])\n",
    "    # print(len([i for i in lst if i == '']))\n",
    "    lst2 = [j for i in lst1 for j in i]\n",
    "    lst4 = [i.split(' ') for i in lst1 ]\n",
    "    lst5 = [j for i in lst4 for j in i ]\n",
    "    # lst4 = [j for j in i for i in lst1 ]\n",
    "    lst3 = [i for i in lst1 ]\n",
    "    # print(lst4)\n",
    "    # print(lst5)\n",
    "    # print(lst3)\n",
    "    # print(lst2)\n",
    "    # print(lst1)\n",
    "    # print(val_line)\n",
    "    # print(val_line_without_space)\n",
    "    print(\"Total No. of Lines are: \", val_line)\n",
    "    print(\"Total No. of Lines without spaces are: \", val_line_without_space)\n",
    "    print(\"Total No. of Words are: \", len(lst5))\n",
    "    print(\"Total No. of Characters are: \", len(lst2))"
   ]
  },
  {
   "cell_type": "code",
   "execution_count": 176,
   "id": "eeddb718",
   "metadata": {},
   "outputs": [
    {
     "name": "stdout",
     "output_type": "stream",
     "text": [
      "Total No. of Lines are:  11\n",
      "Total No. of Lines without spaces are:  6\n",
      "Total No. of Words are:  59\n",
      "Total No. of Characters are:  370\n"
     ]
    }
   ],
   "source": [
    "read_reverse('log.txt')"
   ]
  },
  {
   "cell_type": "markdown",
   "id": "fe7150d8",
   "metadata": {},
   "source": [
    "### Assignment 9: Merging Multiple Files\n",
    "\n",
    "Write a function that merges the contents of multiple files into a single file named `merged.txt`."
   ]
  },
  {
   "cell_type": "code",
   "execution_count": 181,
   "id": "6e0ee6cd",
   "metadata": {},
   "outputs": [],
   "source": [
    "def merg_f(*args, new_file_name = 'Merged_file.txt'):\n",
    "    lst = []\n",
    "\n",
    "    for i in args:\n",
    "\n",
    "        with open(i, 'r') as file:\n",
    "\n",
    "            for j in file.readlines():\n",
    "                lst.append(j.strip())\n",
    "\n",
    "    \n",
    "    with open(new_file_name, 'w+') as file:\n",
    "        for i in lst:\n",
    "            file.write(i+'\\n')\n"
   ]
  },
  {
   "cell_type": "code",
   "execution_count": 182,
   "id": "d3a1b7fd",
   "metadata": {},
   "outputs": [],
   "source": [
    "merg_f('log.txt', 'sample.txt')"
   ]
  },
  {
   "cell_type": "markdown",
   "id": "bbe2308a",
   "metadata": {},
   "source": [
    "### Assignment 10: Splitting a Large File\n",
    "\n",
    "Write a function that splits a large file named `large.txt` into smaller files of 100 lines each."
   ]
  },
  {
   "cell_type": "code",
   "execution_count": 201,
   "id": "c33ec459",
   "metadata": {},
   "outputs": [
    {
     "data": {
      "text/plain": [
       "'C:\\\\Users\\\\rachi\\\\OneDrive\\\\Desktop\\\\PYTHON LEARNING\\\\1. Lists & Basics of Python'"
      ]
     },
     "execution_count": 201,
     "metadata": {},
     "output_type": "execute_result"
    }
   ],
   "source": [
    "os.getcwd()"
   ]
  },
  {
   "cell_type": "code",
   "execution_count": null,
   "id": "fc03396a",
   "metadata": {},
   "outputs": [
    {
     "data": {
      "text/plain": [
       "'C:\\\\Users\\\\rachi\\\\OneDrive\\\\Desktop\\\\PYTHON LEARNING\\\\1. Lists & Basics of Python'"
      ]
     },
     "execution_count": 205,
     "metadata": {},
     "output_type": "execute_result"
    }
   ],
   "source": [
    "# os.mkdir('Big File')\n",
    "os.\n",
    "\n",
    "os.getcwd()"
   ]
  },
  {
   "cell_type": "code",
   "execution_count": 311,
   "id": "7a00f110",
   "metadata": {},
   "outputs": [],
   "source": [
    " os.chdir('C:\\\\Users\\\\rachi\\\\OneDrive\\\\Desktop\\\\PYTHON LEARNING\\\\1. Lists & Basics of Python')"
   ]
  },
  {
   "cell_type": "code",
   "execution_count": 277,
   "id": "10a9627e",
   "metadata": {},
   "outputs": [
    {
     "data": {
      "text/plain": [
       "3"
      ]
     },
     "execution_count": 277,
     "metadata": {},
     "output_type": "execute_result"
    }
   ],
   "source": [
    "(310 // 100)\n",
    "(10 // 100)+1\n",
    "(90 // 100)+1\n",
    "(190 // 100)+1\n",
    "(200 // 100)+1\n",
    "(201 // 100)+1"
   ]
  },
  {
   "cell_type": "code",
   "execution_count": 300,
   "id": "547c449a",
   "metadata": {},
   "outputs": [
    {
     "data": {
      "text/plain": [
       "[1, 2, 3, 4, 5]"
      ]
     },
     "execution_count": 300,
     "metadata": {},
     "output_type": "execute_result"
    }
   ],
   "source": [
    "list(range(1,(553//100)+1))"
   ]
  },
  {
   "cell_type": "code",
   "execution_count": 301,
   "id": "486046bd",
   "metadata": {},
   "outputs": [],
   "source": [
    "def func_split(file_nm):\n",
    "\n",
    "    with open(file_nm, 'r') as file:\n",
    "        lst = list(file.readlines())\n",
    "        # print((file.readlines()))\n",
    "\n",
    "    print(lst)\n",
    "    print(len(lst))\n",
    "    print(len(lst)//100)\n",
    "\n",
    "    os.mkdir('Big_File_'+file_nm.replace('.txt',''))\n",
    "    dir_n = os.getcwd() + \"\\\\\"+ 'Big_File_'+file_nm.replace('.txt','')\n",
    "    os.chdir(dir_n)\n",
    "    \n",
    "    for j in range(len(lst)):\n",
    "\n",
    "        for i in range(1,(len(lst)//100)+2):\n",
    "            \n",
    "            with open('Big_File_'+str(i)+'.txt','a+') as file:\n",
    "                if ((j // 100)+1) == i:\n",
    "                    file.writelines(lst[j])\n",
    "                    file.close()\n",
    "                else:\n",
    "                    continue\n"
   ]
  },
  {
   "cell_type": "code",
   "execution_count": 303,
   "id": "b54b54b0",
   "metadata": {},
   "outputs": [
    {
     "name": "stdout",
     "output_type": "stream",
     "text": [
      "['Data science is an interdisciplinary academic field[1] that uses statistics, scientific computing, scientific methods, processing, scientific visualization, algorithms and systems to extract or extrapolate knowledge from potentially noisy, structured, or unstructured data.[2]\\n', '\\n', 'Data science also integrates domain knowledge from the underlying application domain (e.g., natural sciences, information technology, and medicine).[3] Data science is multifaceted and can be described as a science, a research paradigm, a research method, a discipline, a workflow, and a profession.[4]\\n', '\\n', 'Data science is \"a concept to unify statistics, data analysis, informatics, and their related methods\" to \"understand and analyze actual phenomena\" with data.[5] It uses techniques and theories drawn from many fields within the context of mathematics, statistics, computer science, information science, and domain knowledge.[6] However, data science is different from computer science and information science. Turing Award winner Jim Gray imagined data science as a \"fourth paradigm\" of science (empirical, theoretical, computational, and now data-driven) and asserted that \"everything about science is changing because of the impact of information technology\" and the data deluge.[7][8]\\n', '\\n', 'A data scientist is a professional who creates programming code and combines it with statistical knowledge to summarize data.[9]\\n', '\\n', 'Foundations\\n', 'Data science is an interdisciplinary field[10] focused on extracting knowledge from typically large data sets and applying the knowledge from that data to solve problems in other application domains. The field encompasses preparing data for analysis, formulating data science problems, analyzing data, and summarizing these findings. As such, it incorporates skills from computer science, mathematics, data visualization, graphic design, communication, and business.[11]\\n', '\\n', 'Vasant Dhar writes that statistics emphasizes quantitative data and description. In contrast, data science deals with quantitative and qualitative data (e.g., from images, text, sensors, transactions, customer information, etc.) and emphasizes prediction and action.[12] Andrew Gelman of Columbia University has described statistics as a non-essential part of data science.[13] Stanford professor David Donoho writes that data science is not distinguished from statistics by the size of datasets or use of computing and that many graduate programs misleadingly advertise their analytics and statistics training as the essence of a data-science program. He describes data science as an applied field growing out of traditional statistics.[14]\\n', '\\n', 'Etymology\\n', 'Early usage\\n', 'In 1962, John Tukey described a field he called \"data analysis\", which resembles modern data science.[14] In 1985, in a lecture given to the Chinese Academy of Sciences in Beijing, C. F. Jeff Wu used the term \"data science\" for the first time as an alternative name for statistics.[15] Later, attendees at a 1992 statistics symposium at the University of Montpellier  II acknowledged the emergence of a new discipline focused on data of various origins and forms, combining established concepts and principles of statistics and data analysis with computing.[16][17]\\n', '\\n', 'The term \"data science\" has been traced back to 1974, when Peter Naur proposed it as an alternative name to computer science.[6] In 1996, the International Federation of Classification Societies became the first conference to specifically feature data science as a topic.[6] However, the definition was still in flux. After the 1985 lecture at the Chinese Academy of Sciences in Beijing, in 1997 C. F. Jeff Wu again suggested that statistics should be renamed data science. He reasoned that a new name would help statistics shed inaccurate stereotypes, such as being synonymous with accounting or limited to describing data.[18] In 1998, Hayashi Chikio argued for data science as a new, interdisciplinary concept, with three aspects: data design, collection, and analysis.[17]\\n', '\\n', 'Modern usage\\n', 'In 2012, technologists Thomas H. Davenport and DJ Patil declared \"Data Scientist: The Sexiest Job of the 21st Century\",[19] a catchphrase that was picked up even by major-city newspapers like the New York Times[20] and the Boston Globe.[21] A decade later, they reaffirmed it, stating that \"the job is more in demand than ever with employers\".[22]\\n', '\\n', \"The modern conception of data science as an independent discipline is sometimes attributed to William S. Cleveland.[23] In 2014, the American Statistical Association's Section on Statistical Learning and Data Mining changed its name to the Section on Statistical Learning and Data Science, reflecting the ascendant popularity of data science.[24]\\n\", '\\n', 'The professional title of \"data scientist\" has been attributed to DJ Patil and Jeff Hammerbacher in 2008.[25] Though it was used by the National Science Board in their 2005 report \"Long-Lived Digital Data Collections: Enabling Research and Education in the 21st Century\", it referred broadly to any key role in managing a digital data collection.[26]\\n', '\\n', 'Data science and data analysis\\n', 'summary statistics and scatterplots showing the Datasaurus dozen data set\\n', 'Example of exploratory data analysis using the Datasaurus dozen data set\\n', 'In data science, data analysis is the process of inspecting, cleaning, transforming, and modelling data to discover useful information, draw conclusions, and support decision-making.[27] It includes exploratory data analysis (EDA), which uses graphics and descriptive statistics to explore patterns and generate hypotheses,[28] and confirmatory data analysis, which applies statistical inference to test hypotheses and quantify uncertainty.[29]\\n', '\\n', 'Typical activities comprise:\\n', '\\n', 'data collection and integration;\\n', 'data cleaning and preparation (handling missing values, outliers, encoding, normalisation);\\n', 'feature engineering and selection;\\n', 'visualisation and descriptive statistics;[28]\\n', 'fitting and evaluating statistical or machine-learning models;[29]\\n', 'communicating results and ensuring reproducibility (e.g., reports, notebooks, and dashboards).[30]\\n', 'Lifecycle frameworks such as CRISP-DM describe these steps from business understanding through deployment and monitoring.[31]\\n', '\\n', 'Data science involves working with larger datasets that often require advanced computational and statistical methods to analyze. Data scientists often work with unstructured data such as text or images and use machine learning algorithms to build predictive models. Data science often uses statistical analysis, data preprocessing, and supervised learning.[32][33]\\n', '\\n', 'Cloud computing for data science\\n', '\\n', 'A cloud-based architecture for enabling big data analytics. Data flows from various sources, such as personal computers, laptops, and smart phones, through cloud services for processing and analysis, finally leading to various big data applications.\\n', 'Cloud computing can offer access to large amounts of computational power and storage.[34] In big data, where volumes of information are continually generated and processed, these platforms can be used to handle complex and resource-intensive analytical tasks.[35]\\n', '\\n', 'Some distributed computing frameworks are designed to handle big data workloads. These frameworks can enable data scientists to process and analyze large datasets in parallel, which can reduce processing times.[36]\\n', '\\n', 'Ethical consideration in data science\\n', 'Data science involves collecting, processing, and analyzing data which often includes personal and sensitive information. Ethical concerns include potential privacy violations, bias perpetuation, and negative societal impacts.[37][38]\\n', '\\n', 'Machine learning models can amplify existing biases present in training data, leading to discriminatory or unfair outcomes.[39][40]\\n', 'Data science is an interdisciplinary academic field[1] that uses statistics, scientific computing, scientific methods, processing, scientific visualization, algorithms and systems to extract or extrapolate knowledge from potentially noisy, structured, or unstructured data.[2]\\n', '\\n', 'Data science also integrates domain knowledge from the underlying application domain (e.g., natural sciences, information technology, and medicine).[3] Data science is multifaceted and can be described as a science, a research paradigm, a research method, a discipline, a workflow, and a profession.[4]\\n', '\\n', 'Data science is \"a concept to unify statistics, data analysis, informatics, and their related methods\" to \"understand and analyze actual phenomena\" with data.[5] It uses techniques and theories drawn from many fields within the context of mathematics, statistics, computer science, information science, and domain knowledge.[6] However, data science is different from computer science and information science. Turing Award winner Jim Gray imagined data science as a \"fourth paradigm\" of science (empirical, theoretical, computational, and now data-driven) and asserted that \"everything about science is changing because of the impact of information technology\" and the data deluge.[7][8]\\n', '\\n', 'A data scientist is a professional who creates programming code and combines it with statistical knowledge to summarize data.[9]\\n', '\\n', 'Foundations\\n', 'Data science is an interdisciplinary field[10] focused on extracting knowledge from typically large data sets and applying the knowledge from that data to solve problems in other application domains. The field encompasses preparing data for analysis, formulating data science problems, analyzing data, and summarizing these findings. As such, it incorporates skills from computer science, mathematics, data visualization, graphic design, communication, and business.[11]\\n', '\\n', 'Vasant Dhar writes that statistics emphasizes quantitative data and description. In contrast, data science deals with quantitative and qualitative data (e.g., from images, text, sensors, transactions, customer information, etc.) and emphasizes prediction and action.[12] Andrew Gelman of Columbia University has described statistics as a non-essential part of data science.[13] Stanford professor David Donoho writes that data science is not distinguished from statistics by the size of datasets or use of computing and that many graduate programs misleadingly advertise their analytics and statistics training as the essence of a data-science program. He describes data science as an applied field growing out of traditional statistics.[14]\\n', '\\n', 'Etymology\\n', 'Early usage\\n', 'In 1962, John Tukey described a field he called \"data analysis\", which resembles modern data science.[14] In 1985, in a lecture given to the Chinese Academy of Sciences in Beijing, C. F. Jeff Wu used the term \"data science\" for the first time as an alternative name for statistics.[15] Later, attendees at a 1992 statistics symposium at the University of Montpellier  II acknowledged the emergence of a new discipline focused on data of various origins and forms, combining established concepts and principles of statistics and data analysis with computing.[16][17]\\n', '\\n', 'The term \"data science\" has been traced back to 1974, when Peter Naur proposed it as an alternative name to computer science.[6] In 1996, the International Federation of Classification Societies became the first conference to specifically feature data science as a topic.[6] However, the definition was still in flux. After the 1985 lecture at the Chinese Academy of Sciences in Beijing, in 1997 C. F. Jeff Wu again suggested that statistics should be renamed data science. He reasoned that a new name would help statistics shed inaccurate stereotypes, such as being synonymous with accounting or limited to describing data.[18] In 1998, Hayashi Chikio argued for data science as a new, interdisciplinary concept, with three aspects: data design, collection, and analysis.[17]\\n', '\\n', 'Modern usage\\n', 'In 2012, technologists Thomas H. Davenport and DJ Patil declared \"Data Scientist: The Sexiest Job of the 21st Century\",[19] a catchphrase that was picked up even by major-city newspapers like the New York Times[20] and the Boston Globe.[21] A decade later, they reaffirmed it, stating that \"the job is more in demand than ever with employers\".[22]\\n', '\\n', \"The modern conception of data science as an independent discipline is sometimes attributed to William S. Cleveland.[23] In 2014, the American Statistical Association's Section on Statistical Learning and Data Mining changed its name to the Section on Statistical Learning and Data Science, reflecting the ascendant popularity of data science.[24]\\n\", '\\n', 'The professional title of \"data scientist\" has been attributed to DJ Patil and Jeff Hammerbacher in 2008.[25] Though it was used by the National Science Board in their 2005 report \"Long-Lived Digital Data Collections: Enabling Research and Education in the 21st Century\", it referred broadly to any key role in managing a digital data collection.[26]\\n', '\\n', 'Data science and data analysis\\n', 'summary statistics and scatterplots showing the Datasaurus dozen data set\\n', 'Example of exploratory data analysis using the Datasaurus dozen data set\\n', 'In data science, data analysis is the process of inspecting, cleaning, transforming, and modelling data to discover useful information, draw conclusions, and support decision-making.[27] It includes exploratory data analysis (EDA), which uses graphics and descriptive statistics to explore patterns and generate hypotheses,[28] and confirmatory data analysis, which applies statistical inference to test hypotheses and quantify uncertainty.[29]\\n', '\\n', 'Typical activities comprise:\\n', '\\n', 'data collection and integration;\\n', 'data cleaning and preparation (handling missing values, outliers, encoding, normalisation);\\n', 'feature engineering and selection;\\n', 'visualisation and descriptive statistics;[28]\\n', 'fitting and evaluating statistical or machine-learning models;[29]\\n', 'communicating results and ensuring reproducibility (e.g., reports, notebooks, and dashboards).[30]\\n', 'Lifecycle frameworks such as CRISP-DM describe these steps from business understanding through deployment and monitoring.[31]\\n', '\\n', 'Data science involves working with larger datasets that often require advanced computational and statistical methods to analyze. Data scientists often work with unstructured data such as text or images and use machine learning algorithms to build predictive models. Data science often uses statistical analysis, data preprocessing, and supervised learning.[32][33]\\n', '\\n', 'Cloud computing for data science\\n', '\\n', 'A cloud-based architecture for enabling big data analytics. Data flows from various sources, such as personal computers, laptops, and smart phones, through cloud services for processing and analysis, finally leading to various big data applications.\\n', 'Cloud computing can offer access to large amounts of computational power and storage.[34] In big data, where volumes of information are continually generated and processed, these platforms can be used to handle complex and resource-intensive analytical tasks.[35]\\n', '\\n', 'Some distributed computing frameworks are designed to handle big data workloads. These frameworks can enable data scientists to process and analyze large datasets in parallel, which can reduce processing times.[36]\\n', '\\n', 'Ethical consideration in data science\\n', 'Data science involves collecting, processing, and analyzing data which often includes personal and sensitive information. Ethical concerns include potential privacy violations, bias perpetuation, and negative societal impacts.[37][38]\\n', '\\n', 'Machine learning models can amplify existing biases present in training data, leading to discriminatory or unfair outcomes.[39][40]\\n', '\\n', 'A computer is a machine that can be programmed to automatically carry out sequences of arithmetic or logical operations (computation). Modern digital electronic computers can perform generic sets of operations known as programs, which enable computers to perform a wide range of tasks. The term computer system may refer to a nominally complete computer that includes the hardware, operating system, software, and peripheral equipment needed and used for full operation; or to a group of computers that are linked and function together, such as a computer network or computer cluster.\\n', '\\n', 'A broad range of industrial and consumer products use computers as control systems, including simple special-purpose devices like microwave ovens and remote controls, and factory devices like industrial robots. Computers are at the core of general-purpose devices such as personal computers and mobile devices such as smartphones. Computers power the Internet, which links billions of computers and users.\\n', '\\n', \"Early computers were meant to be used only for calculations. Simple manual instruments like the abacus have aided people in doing calculations since ancient times. Early in the Industrial Revolution, some mechanical devices were built to automate long, tedious tasks, such as guiding patterns for looms. More sophisticated electrical machines did specialized analog calculations in the early 20th century. The first digital electronic calculating machines were developed during World War II, both electromechanical and using thermionic valves. The first semiconductor transistors in the late 1940s were followed by the silicon-based MOSFET (MOS transistor) and monolithic integrated circuit chip technologies in the late 1950s, leading to the microprocessor and the microcomputer revolution in the 1970s. The speed, power, and versatility of computers have been increasing dramatically ever since then, with transistor counts increasing at a rapid pace (Moore's law noted that counts doubled every two years), leading to the Digital Revolution during the late 20th and early 21st centuries.\\n\", '\\n', 'Conventionally, a modern computer consists of at least one processing element, typically a central processing unit (CPU) in the form of a microprocessor, together with some type of computer memory, typically semiconductor memory chips. The processing element carries out arithmetic and logical operations, and a sequencing and control unit can change the order of operations in response to stored information. Peripheral devices include input devices (keyboards, mice, joysticks, etc.), output devices (monitors, printers, etc.), and input/output devices that perform both functions (e.g. touchscreens). Peripheral devices allow information to be retrieved from an external source, and they enable the results of operations to be saved and retrieved.\\n', '\\n', 'Etymology\\n', 'A human computer.\\n', 'A human computer, with microscope and calculator, 1952\\n', 'It was not until the mid-20th century that the word acquired its modern definition; according to the Oxford English Dictionary, the first known use of the word computer was in a different sense, in a 1613 book called The Yong Mans Gleanings by the English writer Richard Brathwait: \"I haue [sic] read the truest computer of Times, and the best Arithmetician that euer [sic] breathed, and he reduceth thy dayes into a short number.\" This usage of the term referred to a human computer, a person who carried out calculations or computations. The word continued to have the same meaning until the middle of the 20th century. During the latter part of this period, women were often hired as computers because they could be paid less than their male counterparts.[1] By 1943, most human computers were women.[2]\\n', '\\n', 'The Online Etymology Dictionary gives the first attested use of computer in the 1640s, meaning \\'one who calculates\\'; this is an \"agent noun from compute (v.)\". The Online Etymology Dictionary states that the use of the term to mean \"\\'calculating machine\\' (of any type) is from 1897.\" The Online Etymology Dictionary indicates that the \"modern use\" of the term, to mean \\'programmable digital electronic computer\\' dates from \"1945 under this name; [in a] theoretical [sense] from 1937, as Turing machine\".[3] The name has remained, although modern computers are capable of many higher-level functions.\\n', '\\n', 'History\\n', 'Main articles: History of computing and History of computing hardware\\n', 'For a chronological guide, see Timeline of computing.\\n', 'Pre-20th century\\n', '\\n', 'The Ishango bone, a bone tool dating back to prehistoric Africa\\n', 'Devices have been used to aid computation for thousands of years, mostly using one-to-one correspondence with fingers. The earliest counting device was most likely a form of tally stick. Later record keeping aids throughout the Fertile Crescent included calculi (clay spheres, cones, etc.) which represented counts of items, likely livestock or grains, sealed in hollow unbaked clay containers.[a][4] The use of counting rods is one example.\\n', '\\n', '\\n', 'The Chinese suanpan (算盘). The number represented on this abacus is 6,302,715,408.\\n', 'The abacus was initially used for arithmetic tasks. The Roman abacus was developed from devices used in Babylonia as early as 2400 BCE. Since then, many other forms of reckoning boards or tables have been invented. In a medieval European counting house, a checkered cloth would be placed on a table, and markers moved around on it according to certain rules, as an aid to calculating sums of money.[5]\\n', '\\n', '\\n', 'The Antikythera mechanism, dating back to ancient Greece circa 200–80 BCE, is an early analog computing device.\\n', 'The Antikythera mechanism is believed to be the earliest known mechanical analog computer, according to Derek J. de Solla Price.[6] It was designed to calculate astronomical positions. It was discovered in 1901 in the Antikythera wreck off the Greek island of Antikythera, between Kythera and Crete, and has been dated to approximately c.\\u2009100 BCE. Devices of comparable complexity to the Antikythera mechanism would not reappear until the fourteenth century.[7]\\n', '\\n', 'Many mechanical aids to calculation and measurement were constructed for astronomical and navigation use. The planisphere was a star chart invented by Abū Rayhān al-Bīrūnī in the early 11th century.[8] The astrolabe was invented in the Hellenistic world in either the 1st or 2nd centuries BCE and is often attributed to Hipparchus. A combination of the planisphere and dioptra, the astrolabe was effectively an analog computer capable of working out several different kinds of problems in spherical astronomy. An astrolabe incorporating a mechanical calendar computer[9][10] and gear-wheels was invented by Abi Bakr of Isfahan, Persia in 1235.[11] Abū Rayhān al-Bīrūnī invented the first mechanical geared lunisolar calendar astrolabe,[12] an early fixed-wired knowledge processing machine[13] with a gear train and gear-wheels,[14] c.\\u20091000 AD.\\n', '\\n', 'The sector, a calculating instrument used for solving problems in proportion, trigonometry, multiplication and division, and for various functions, such as squares and cube roots, was developed in the late 16th century and found application in gunnery, surveying and navigation.\\n', '\\n', 'The planimeter was a manual instrument to calculate the area of a closed figure by tracing over it with a mechanical linkage.\\n', '\\n', '\\n', 'A slide rule\\n', 'The slide rule was invented around 1620–1630, by the English clergyman William Oughtred, shortly after the publication of the concept of the logarithm. It is a hand-operated analog computer for doing multiplication and division. As slide rule development progressed, added scales provided reciprocals, squares and square roots, cubes and cube roots, as well as transcendental functions such as logarithms and exponentials, circular and hyperbolic trigonometry and other functions. Slide rules with special scales are still used for quick performance of routine calculations, such as the E6B circular slide rule used for time and distance calculations on light aircraft.\\n', '\\n', 'In the 1770s, Pierre Jaquet-Droz, a Swiss watchmaker, built a mechanical doll (automaton) that could write holding a quill pen. By switching the number and order of its internal wheels different letters, and hence different messages, could be produced. In effect, it could be mechanically \"programmed\" to read instructions. Along with two other complex machines, the doll is at the Musée d\\'Art et d\\'Histoire of Neuchâtel, Switzerland, and still operates.[15]\\n', '\\n', 'In 1831–1835, mathematician and engineer Giovanni Plana devised a Perpetual Calendar machine, which through a system of pulleys and cylinders could predict the perpetual calendar for every year from 0 CE (that is, 1 BCE) to 4000 CE, keeping track of leap years and varying day length. The tide-predicting machine invented by the Scottish scientist Sir William Thomson in 1872 was of great utility to navigation in shallow waters. It used a system of pulleys and wires to automatically calculate predicted tide levels for a set period at a particular location.\\n', '\\n', 'The differential analyser, a mechanical analog computer designed to solve differential equations by integration, used wheel-and-disc mechanisms to perform the integration. In 1876, Sir William Thomson had already discussed the possible construction of such calculators, but he had been stymied by the limited output torque of the ball-and-disk integrators.[16] In a differential analyzer, the output of one integrator drove the input of the next integrator, or a graphing output. The torque amplifier was the advance that allowed these machines to work. Starting in the 1920s, Vannevar Bush and others developed mechanical differential analyzers.\\n', '\\n', 'In the 1890s, the Spanish engineer Leonardo Torres Quevedo began to develop a series of advanced analog machines that could solve real and complex roots of polynomials,[17][18][19][20] which were published in 1901 by the Paris Academy of Sciences.[21]\\n', '\\n', 'First computer\\n', '\\n', 'Charles Babbage\\n', '\\n', \"A diagram of a portion of Babbage's Difference engine\\n\", '\\n', 'The Difference Engine Number 2 at the Intellectual Ventures laboratory in Seattle\\n', 'Charles Babbage, an English mechanical engineer and polymath, originated the concept of a programmable computer. Considered the \"father of the computer\",[22] he conceptualized and invented the first mechanical computer in the early 19th century.\\n', '\\n', 'After working on his difference engine he announced his invention in 1822, in a paper to the Royal Astronomical Society, titled \"Note on the application of machinery to the computation of astronomical and mathematical tables\".[23] He also designed to aid in navigational calculations, in 1833 he realized that a much more general design, an analytical engine, was possible. The input of programs and data was to be provided to the machine via punched cards, a method being used at the time to direct mechanical looms such as the Jacquard loom. For output, the machine would have a printer, a curve plotter and a bell. The machine would also be able to punch numbers onto cards to be read in later. The engine would incorporate an arithmetic logic unit, control flow in the form of conditional branching and loops, and integrated memory, making it the first design for a general-purpose computer that could be described in modern terms as Turing-complete.[24][25]\\n', '\\n', \"The machine was about a century ahead of its time. All the parts for his machine had to be made by hand – this was a major problem for a device with thousands of parts. Eventually, the project was dissolved with the decision of the British Government to cease funding. Babbage's failure to complete the analytical engine can be chiefly attributed to political and financial difficulties as well as his desire to develop an increasingly sophisticated computer and to move ahead faster than anyone else could follow. Nevertheless, his son, Henry Babbage, completed a simplified version of the analytical engine's computing unit (the mill) in 1888. He gave a successful demonstration of its use in computing tables in 1906.\\n\", '\\n', 'Electromechanical calculating machine\\n', '\\n', 'Electro-mechanical calculator (1920) by Leonardo Torres Quevedo.\\n', \"In his work Essays on Automatics published in 1914, Leonardo Torres Quevedo wrote a brief history of Babbage's efforts at constructing a mechanical Difference Engine and Analytical Engine. The paper contains a design of a machine capable to calculate formulas like \\n\", 'a\\n', 'x\\n', '(\\n', 'y\\n', '−\\n', 'z\\n', ')\\n', '2\\n', '{\\\\displaystyle a^{x}(y-z)^{2}}, for a sequence of sets of values. The whole machine was to be controlled by a read-only program, which was complete with provisions for conditional branching. He also introduced the idea of floating-point arithmetic.[26][27][28] In 1920, to celebrate the 100th anniversary of the invention of the arithmometer, Torres presented in Paris the Electromechanical Arithmometer, which allowed a user to input arithmetic problems through a keyboard, and computed and printed the results,[29][30][31][32] demonstrating the feasibility of an electromechanical analytical engine.[33]\\n', '\\n', 'Analog computers\\n', 'Main article: Analog computer\\n', '\\n', \"Sir William Thomson's third tide-predicting machine design, 1879–81\\n\", 'During the first half of the 20th century, many scientific computing needs were met by increasingly sophisticated analog computers, which used a direct mechanical or electrical model of the problem as a basis for computation. However, these were not programmable and generally lacked the versatility and accuracy of modern digital computers.[34] The first modern analog computer was a tide-predicting machine, invented by Sir William Thomson (later to become Lord Kelvin) in 1872. The differential analyser, a mechanical analog computer designed to solve differential equations by integration using wheel-and-disc mechanisms, was conceptualized in 1876 by James Thomson, the elder brother of the more famous Sir William Thomson.[16]\\n', '\\n', 'The art of mechanical analog computing reached its zenith with the differential analyzer, completed in 1931 by Vannevar Bush at MIT.[35] By the 1950s, the success of digital electronic computers had spelled the end for most analog computing machines, but analog computers remained in use during the 1950s in some specialized applications such as education (slide rule) and aircraft (control systems).[citation needed]\\n', '\\n', 'Digital computers\\n', 'Electromechanical\\n', \"Claude Shannon's 1937 master's thesis laid the foundations of digital computing, with his insight of applying Boolean algebra to the analysis and synthesis of switching circuits being the basic concept which underlies all electronic digital computers.[36][37]\\n\", '\\n', 'By 1938, the United States Navy had developed the Torpedo Data Computer, an electromechanical analog computer for submarines that used trigonometry to solve the problem of firing a torpedo at a moving target. During World War II, similar devices were developed in other countries.[38]\\n', '\\n', '\\n', \"Replica of Konrad Zuse's Z3, the first fully automatic, digital (electromechanical) computer\\n\", 'Early digital computers were electromechanical; electric switches drove mechanical relays to perform the calculation. These devices had a low operating speed and were eventually superseded by much faster all-electric computers, originally using vacuum tubes. The Z2, created by German engineer Konrad Zuse in 1939 in Berlin, was one of the earliest examples of an electromechanical relay computer.[39]\\n', '\\n', '\\n', 'Konrad Zuse, inventor of the modern computer[40][41]\\n', \"In 1941, Zuse followed his earlier machine up with the Z3, the world's first working electromechanical programmable, fully automatic digital computer.[42][43] The Z3 was built with 2000 relays, implementing a 22 bit word length that operated at a clock frequency of about 5–10 Hz.[44] Program code was supplied on punched film while data could be stored in 64 words of memory or supplied from the keyboard. It was quite similar to modern machines in some respects, pioneering numerous advances such as floating-point numbers. Rather than the harder-to-implement decimal system (used in Charles Babbage's earlier design), using a binary system meant that Zuse's machines were easier to build and potentially more reliable, given the technologies available at that time.[45] The Z3 was not itself a universal computer but could be extended to be Turing complete.[46][47]\\n\", '\\n', \"Zuse's next computer, the Z4, became the world's first commercial computer; after initial delay due to the Second World War, it was completed in 1950 and delivered to the ETH Zurich.[48] The computer was manufactured by Zuse's own company, Zuse KG, which was founded in 1941 as the first company with the sole purpose of developing computers in Berlin.[48] The Z4 served as the inspiration for the construction of the ERMETH, the first Swiss computer and one of the first in Europe.[49]\\n\", '\\n', 'Vacuum tubes and digital electronic circuits\\n', 'Purely electronic circuit elements soon replaced their mechanical and electromechanical equivalents, at the same time that digital calculation replaced analog. The engineer Tommy Flowers, working at the Post Office Research Station in London in the 1930s, began to explore the possible use of electronics for the telephone exchange. Experimental equipment that he built in 1934 went into operation five years later, converting a portion of the telephone exchange network into an electronic data processing system, using thousands of vacuum tubes.[34] In the US, John Vincent Atanasoff and Clifford E. Berry of Iowa State University developed and tested the Atanasoff–Berry Computer (ABC) in 1942,[50] the first \"automatic electronic digital computer\".[51] This design was also all-electronic and used about 300 vacuum tubes, with capacitors fixed in a mechanically rotating drum for memory.[52]\\n', '\\n', 'Two women are seen by the Colossus computer.\\n', 'Colossus, the first electronic digital programmable computing device, was used to break German ciphers during World War II. It is seen here in use at Bletchley Park in 1943.\\n', 'During World War II, the British code-breakers at Bletchley Park achieved a number of successes at breaking encrypted German military communications. The German encryption machine, Enigma, was first attacked with the help of the electro-mechanical bombes which were often run by women.[53][54] To crack the more sophisticated German Lorenz SZ 40/42 machine, used for high-level Army communications, Max Newman and his colleagues commissioned Flowers to build the Colossus.[52] He spent eleven months from early February 1943 designing and building the first Colossus.[55] After a functional test in December 1943, Colossus was shipped to Bletchley Park, where it was delivered on 18 January 1944[56] and attacked its first message on 5 February.[52]\\n', '\\n', \"Colossus was the world's first electronic digital programmable computer.[34] It used a large number of valves (vacuum tubes). It had paper-tape input and was capable of being configured to perform a variety of boolean logical operations on its data, but it was not Turing-complete. Nine Mk II Colossi were built (The Mk I was converted to a Mk II making ten machines in total). Colossus Mark I contained 1,500 thermionic valves (tubes), but Mark II with 2,400 valves, was both five times faster and simpler to operate than Mark I, greatly speeding the decoding process.[57][58]\\n\", '\\n', '\\n', 'ENIAC was the first electronic, Turing-complete device, and performed ballistics trajectory calculations for the United States Army.\\n', 'The ENIAC[59] (Electronic Numerical Integrator and Computer) was the first electronic programmable computer built in the U.S. Although the ENIAC was similar to the Colossus, it was much faster, more flexible, and it was Turing-complete. Like the Colossus, a \"program\" on the ENIAC was defined by the states of its patch cables and switches, a far cry from the stored program electronic machines that came later. Once a program was written, it had to be mechanically set into the machine with manual resetting of plugs and switches. The programmers of the ENIAC were six women, often known collectively as the \"ENIAC girls\".[60][61]\\n', '\\n', \"It combined the high speed of electronics with the ability to be programmed for many complex problems. It could add or subtract 5000 times a second, a thousand times faster than any other machine. It also had modules to multiply, divide, and square root. High speed memory was limited to 20 words (about 80 bytes). Built under the direction of John Mauchly and J. Presper Eckert at the University of Pennsylvania, ENIAC's development and construction lasted from 1943 to full operation at the end of 1945. The machine was huge, weighing 30 tons, using 200 kilowatts of electric power and contained over 18,000 vacuum tubes, 1,500 relays, and hundreds of thousands of resistors, capacitors, and inductors.[62]\\n\", '\\n', 'Modern computers\\n', 'Concept of modern computer\\n', 'The principle of the modern computer was proposed by Alan Turing in his seminal 1936 paper,[63] On Computable Numbers. Turing proposed a simple device that he called \"Universal Computing machine\" and that is now known as a universal Turing machine. He proved that such a machine is capable of computing anything that is computable by executing instructions (program) stored on tape, allowing the machine to be programmable. The fundamental concept of Turing\\'s design is the stored program, where all the instructions for computing are stored in memory. Von Neumann acknowledged that the central concept of the modern computer was due to this paper.[64] Turing machines are to this day a central object of study in theory of computation. Except for the limitations imposed by their finite memory stores, modern computers are said to be Turing-complete, which is to say, they have algorithm execution capability equivalent to a universal Turing machine.\\n', '\\n', 'Stored programs\\n', 'Main article: Stored-program computer\\n', 'Three tall racks containing electronic circuit boards\\n', 'A section of the reconstructed Manchester Baby, the first electronic stored-program computer\\n', 'Early computing machines had fixed programs. Changing its function required the re-wiring and re-structuring of the machine.[52] With the proposal of the stored-program computer this changed. A stored-program computer includes by design an instruction set and can store in memory a set of instructions (a program) that details the computation. The theoretical basis for the stored-program computer was laid out by Alan Turing in his 1936 paper. In 1945, Turing joined the National Physical Laboratory and began work on developing an electronic stored-program digital computer. His 1945 report \"Proposed Electronic Calculator\" was the first specification for such a device. John von Neumann at the University of Pennsylvania also circulated his First Draft of a Report on the EDVAC in 1945.[34]\\n', '\\n', 'The Manchester Baby was the world\\'s first stored-program computer. It was built at the University of Manchester in England by Frederic C. Williams, Tom Kilburn and Geoff Tootill, and ran its first program on 21 June 1948.[65] It was designed as a testbed for the Williams tube, the first random-access digital storage device.[66] Although the computer was described as \"small and primitive\" by a 1998 retrospective, it was the first working machine to contain all of the elements essential to a modern electronic computer.[67] As soon as the Baby had demonstrated the feasibility of its design, a project began at the university to develop it into a practically useful computer, the Manchester Mark 1.\\n', '\\n', \"The Mark 1 in turn quickly became the prototype for the Ferranti Mark 1, the world's first commercially available general-purpose computer.[68] Built by Ferranti, it was delivered to the University of Manchester in February 1951. At least seven of these later machines were delivered between 1953 and 1957, one of them to Shell labs in Amsterdam.[69] In October 1947 the directors of British catering company J. Lyons & Company decided to take an active role in promoting the commercial development of computers. Lyons's LEO I computer, modelled closely on the Cambridge EDSAC of 1949, became operational in April 1951[70] and ran the world's first routine office computer job.\\n\", '\\n', 'Transistors\\n', 'Main articles: Transistor and History of the transistor\\n', 'Further information: Transistor computer and MOSFET\\n', '\\n', 'Bipolar junction transistor (BJT)\\n', 'The concept of a field-effect transistor was proposed by Julius Edgar Lilienfeld in 1925. John Bardeen and Walter Brattain, while working under William Shockley at Bell Labs, built the first working transistor, the point-contact transistor, in 1947, which was followed by Shockley\\'s bipolar junction transistor in 1948.[71][72] From 1955 onwards, transistors replaced vacuum tubes in computer designs, giving rise to the \"second generation\" of computers. Compared to vacuum tubes, transistors have many advantages: they are smaller, and require less power than vacuum tubes, so give off less heat. Junction transistors were much more reliable than vacuum tubes and had longer, indefinite, service life. Transistorized computers could contain tens of thousands of binary logic circuits in a relatively compact space. However, early junction transistors were relatively bulky devices that were difficult to manufacture on a mass-production basis, which limited them to a number of specialized applications.[73]\\n', '\\n', 'At the University of Manchester, a team under the leadership of Tom Kilburn designed and built a machine using the newly developed transistors instead of valves.[74] Their first transistorized computer and the first in the world, was operational by 1953, and a second version was completed there in April 1955. However, the machine did make use of valves to generate its 125 kHz clock waveforms and in the circuitry to read and write on its magnetic drum memory, so it was not the first completely transistorized computer. That distinction goes to the Harwell CADET of 1955,[75] built by the electronics division of the Atomic Energy Research Establishment at Harwell.[75][76]\\n', '\\n', '\\n', 'MOSFET (MOS transistor), showing gate (G), body (B), source (S) and drain (D) terminals. The gate is separated from the body by an insulating layer (pink).\\n', 'The metal–oxide–silicon field-effect transistor (MOSFET), also known as the MOS transistor, was invented at Bell Labs between 1955 and 1960[77][78][79][80][81][82] and was the first truly compact transistor that could be miniaturized and mass-produced for a wide range of uses.[73] With its high scalability,[83] and much lower power consumption and higher density than bipolar junction transistors,[84] the MOSFET made it possible to build high-density integrated circuits.[85][86] In addition to data processing, it also enabled the practical use of MOS transistors as memory cell storage elements, leading to the development of MOS semiconductor memory, which replaced earlier magnetic-core memory in computers. The MOSFET led to the microcomputer revolution,[87] and became the driving force behind the computer revolution.[88][89] The MOSFET is the most widely used transistor in computers,[90][91] and is the fundamental building block of digital electronics.[92]\\n', '\\n', 'Integrated circuits\\n', 'Main articles: Integrated circuit and Invention of the integrated circuit\\n', 'Further information: Planar process and Microprocessor\\n', '\\n', 'Integrated circuits are typically packaged in plastic, metal, or ceramic cases to protect the IC from damage and for ease of assembly.\\n', 'The next great advance in computing power came with the advent of the integrated circuit (IC). The idea of the integrated circuit was first conceived by a radar scientist working for the Royal Radar Establishment of the Ministry of Defence, Geoffrey W.A. Dummer. Dummer presented the first public description of an integrated circuit at the Symposium on Progress in Quality Electronic Components in Washington, D.C., on 7 May 1952.[93]\\n', '\\n', 'The first working ICs were invented by Jack Kilby at Texas Instruments and Robert Noyce at Fairchild Semiconductor.[94] Kilby recorded his initial ideas concerning the integrated circuit in July 1958, successfully demonstrating the first working integrated example on 12 September 1958.[95] In his patent application of 6 February 1959, Kilby described his new device as \"a body of semiconductor material ... wherein all the components of the electronic circuit are completely integrated\".[96][97] However, Kilby\\'s invention was a hybrid integrated circuit (hybrid IC), rather than a monolithic integrated circuit (IC) chip.[98] Kilby\\'s IC had external wire connections, which made it difficult to mass-produce.[99]\\n', '\\n', \"Noyce also came up with his own idea of an integrated circuit half a year later than Kilby.[100] Noyce's invention was the first true monolithic IC chip.[101][99] His chip solved many practical problems that Kilby's had not. Produced at Fairchild Semiconductor, it was made of silicon, whereas Kilby's chip was made of germanium. Noyce's monolithic IC was fabricated using the planar process, developed by his colleague Jean Hoerni in early 1959. In turn, the planar process was based on Carl Frosch and Lincoln Derick work on semiconductor surface passivation by silicon dioxide.[102][103][104][105][106][107]\\n\", '\\n', 'Modern monolithic ICs are predominantly MOS (metal–oxide–semiconductor) integrated circuits, built from MOSFETs (MOS transistors).[108] The earliest experimental MOS IC to be fabricated was a 16-transistor chip built by Fred Heiman and Steven Hofstein at RCA in 1962.[109] General Microelectronics later introduced the first commercial MOS IC in 1964,[110] developed by Robert Norman.[109] Following the development of the self-aligned gate (silicon-gate) MOS transistor by Robert Kerwin, Donald Klein and John Sarace at Bell Labs in 1967, the first silicon-gate MOS IC with self-aligned gates was developed by Federico Faggin at Fairchild Semiconductor in 1968.[111] The MOSFET has since become the most critical device component in modern ICs.[108]\\n', '\\n', '\\n', 'Die photograph of a MOS 6502, an early 1970s microprocessor integrating 3500 transistors on a single chip\\n', 'The development of the MOS integrated circuit led to the invention of the microprocessor,[112][113] and heralded an explosion in the commercial and personal use of computers. While the subject of exactly which device was the first microprocessor is contentious, partly due to lack of agreement on the exact definition of the term \"microprocessor\", it is largely undisputed that the first single-chip microprocessor was the Intel 4004,[114] designed and realized by Federico Faggin with his silicon-gate MOS IC technology,[112] along with Ted Hoff, Masatoshi Shima and Stanley Mazor at Intel.[b][116] In the early 1970s, MOS IC technology enabled the integration of more than 10,000 transistors on a single chip.[86]\\n', '\\n', 'System on a Chip (SoCs) are complete computers on a microchip (or chip) the size of a coin.[117] They may or may not have integrated RAM and flash memory. If not integrated, the RAM is usually placed directly above (known as Package on package) or below (on the opposite side of the circuit board) the SoC, and the flash memory is usually placed right next to the SoC. This is done to improve data transfer speeds, as the data signals do not have to travel long distances. Since ENIAC in 1945, computers have advanced enormously, with modern SoCs (such as the Snapdragon 865) being the size of a coin while also being hundreds of thousands of times more powerful than ENIAC, integrating billions of transistors, and consuming only a few watts of power.\\n', '\\n', 'Mobile computers\\n', 'The first mobile computers were heavy and ran from mains power. The 50 lb (23 kg) IBM 5100 was an early example. Later portables such as the Osborne 1 and Compaq Portable were considerably lighter but still needed to be plugged in. The first laptops, such as the Grid Compass, removed this requirement by incorporating batteries – and with the continued miniaturization of computing resources and advancements in portable battery life, portable computers grew in popularity in the 2000s.[118] The same developments allowed manufacturers to integrate computing resources into cellular mobile phones by the early 2000s.\\n', '\\n', 'These smartphones and tablets run on a variety of operating systems and recently became the dominant computing device on the market.[119] These are powered by System on a Chip (SoCs), which are complete computers on a microchip the size of a coin.[117]\\n', 'Medicine is the science[1] and practice[2] of caring for patients, managing the diagnosis, prognosis, prevention, treatment, palliation of their injury or disease, and promoting their health. Medicine encompasses a variety of health care practices evolved to maintain and restore health by the prevention and treatment of illness. Contemporary medicine applies biomedical sciences, biomedical research, genetics, and medical technology to diagnose, treat, and prevent injury and disease, typically through pharmaceuticals or surgery, but also through therapies as diverse as psychotherapy, external splints and traction, medical devices, biologics, and ionizing radiation, amongst others.[3]\\n', '\\n', 'Medicine has been practiced since prehistoric times, and for most of this time it was an art (an area of creativity and skill), frequently having connections to the religious and philosophical beliefs of local culture. For example, a medicine man would apply herbs and say prayers for healing, or an ancient philosopher and physician would apply bloodletting according to the theories of humorism. In recent centuries, since the advent of modern science, most medicine has become a combination of art and science (both basic and applied, under the umbrella of medical science). For example, while stitching technique for sutures is an art learned through practice, knowledge of what happens at the cellular and molecular level in the tissues being stitched arises through science.\\n', '\\n', 'Prescientific forms of medicine, now known as traditional medicine or folk medicine, remain commonly used in the absence of scientific medicine and are thus called alternative medicine. Alternative treatments outside of scientific medicine with ethical, safety and efficacy concerns are termed quackery.\\n', '\\n', 'Etymology\\n', 'Medicine (UK: /ˈmɛdsɪn/ ⓘ, US: /ˈmɛdɪsɪn/ ⓘ) is the science and practice of the diagnosis, prognosis, treatment, and prevention of disease.[4][5] The word \"medicine\" is derived from Latin medicus, meaning \"a physician\".[a][7] The word \"physic\" itself, from which \"physician\" derives, was the old word for what is now called a medicine, and also the field of medicine.[8]\\n', '\\n', 'Clinical practice\\n', 'Oil painting of medicine in the age of colonialism\\n', 'The Doctor by Sir Luke Fildes (1891)\\n', '\\n', 'Elizabeth Blackwell, the first female physician in the United States graduated from SUNY Upstate (1847)\\n', 'Medical availability and clinical practice vary across the world due to regional differences in culture and technology. Modern scientific medicine is highly developed in the Western world, while in developing countries such as parts of Africa or Asia, the population may rely more heavily on traditional medicine with limited evidence and efficacy and no required formal training for practitioners.[9]\\n', '\\n', 'In the developed world, evidence-based medicine is not universally used in clinical practice; for example, a 2007 survey of literature reviews found that about 49% of the interventions lacked sufficient evidence to support either benefit or harm.[10]\\n', '\\n', \"In modern clinical practice, physicians and physician assistants personally assess patients to diagnose, prognose, treat, and prevent disease using clinical judgment. The doctor-patient relationship typically begins with an interaction with an examination of the patient's medical history and medical record, followed by a medical interview[11] and a physical examination. Basic diagnostic medical devices (e.g., stethoscope, tongue depressor) are typically used. After examining for signs and interviewing for symptoms, the doctor may order medical tests (e.g., blood tests), take a biopsy, or prescribe pharmaceutical drugs or other therapies. Differential diagnosis methods help to rule out conditions based on the information provided. During the encounter, properly informing the patient of all relevant facts is an important part of the relationship and the development of trust. The medical encounter is then documented in the medical record, which is a legal document in many jurisdictions.[12] Follow-ups may be shorter but follow the same general procedure, and specialists follow a similar process. The diagnosis and treatment may take only a few minutes or a few weeks, depending on the complexity of the issue.\\n\", '\\n', 'The components of the medical interview[11] and encounter are:\\n', '\\n', \"Chief complaint (CC): the reason for the current medical visit. These are the symptoms. They are in the patient's own words and are recorded along with the duration of each one. Also called chief concern or presenting complaint.\\n\", 'Current activity: occupation, hobbies, what the patient actually does.\\n', 'Family history (FH): listing of diseases in the family that may impact the patient. A family tree is sometimes used.\\n', 'History of present illness (HPI): the chronological order of events of symptoms and further clarification of each symptom. Distinguishable from history of previous illness, often called past medical history (PMH). Medical history comprises HPI and PMH.\\n', 'Medications (Rx): what drugs the patient takes including prescribed, over-the-counter, and home remedies, as well as alternative and herbal medicines or remedies. Allergies are also recorded.\\n', 'Past medical history (PMH/PMHx): concurrent medical problems, past hospitalizations and operations, injuries, past infectious diseases or vaccinations, history of known allergies.\\n', \"Review of systems (ROS) or systems inquiry: a set of additional questions to ask, which may be missed on HPI: a general enquiry (have you noticed any weight loss, change in sleep quality, fevers, lumps and bumps? etc.), followed by questions on the body's main organ systems (heart, lungs, digestive tract, urinary tract, etc.).\\n\", 'Social history (SH): birthplace, residences, marital history, social and economic status, habits (including diet, medications, tobacco, alcohol).\\n', 'The physical examination is the examination of the patient for medical signs of disease that are objective and observable, in contrast to symptoms that are volunteered by the patient and are not necessarily objectively observable.[13] The healthcare provider uses sight, hearing, touch, and sometimes smell (e.g., in infection, uremia, diabetic ketoacidosis). Four actions are the basis of physical examination: inspection, palpation (feel), percussion (tap to determine resonance characteristics), and auscultation (listen), generally in that order, although auscultation occurs prior to percussion and palpation for abdominal assessments.[14]\\n', '\\n', 'The clinical examination involves the study of:[15]\\n', '\\n', 'Abdomen and rectum\\n', 'Cardiovascular (heart and blood vessels)\\n', 'General appearance of the patient and specific indicators of disease (nutritional status, presence of jaundice, pallor or clubbing)\\n', 'Genitalia (and pregnancy if the patient is or could be pregnant)\\n', 'Head, eye, ear, nose, and throat (HEENT)[15]\\n', 'Musculoskeletal (including spine and extremities)\\n', 'Neurological (consciousness, awareness, brain, vision, cranial nerves, spinal cord and peripheral nerves)\\n', 'Psychiatric (orientation, mental state, mood, evidence of abnormal perception or thought).\\n', 'Respiratory (large airways and lungs)[15]\\n', 'Skin\\n', 'Vital signs including height, weight, body temperature, blood pressure, pulse, respiration rate, and hemoglobin oxygen saturation[15]\\n', 'It is to likely focus on areas of interest highlighted in the medical history and may not include everything listed above.\\n', '\\n', 'The treatment plan may include ordering additional medical laboratory tests and medical imaging studies, starting therapy, referral to a specialist, or watchful observation. A follow-up may be advised. Depending upon the health insurance plan and the managed care system, various forms of \"utilization review\", such as prior authorization of tests, may place barriers on accessing expensive services.[16]\\n', '\\n', \"The medical decision-making (MDM) process includes the analysis and synthesis of all the above data to come up with a list of possible diagnoses (the differential diagnoses), along with an idea of what needs to be done to obtain a definitive diagnosis that would explain the patient's problem.\\n\", '\\n', 'On subsequent visits, the process may be repeated in an abbreviated manner to obtain any new history, symptoms, physical findings, lab or imaging results, or specialist consultations.\\n', '\\n', 'Institutions\\n', 'Color fresco of an ancient hospital setting\\n', 'The Hospital of Santa Maria della Scala, fresco by Domenico di Bartolo, 1441–1442\\n', 'Contemporary medicine is, in general, conducted within health care systems. Legal, credentialing, and financing frameworks are established by individual governments, augmented on occasion by international organizations, such as churches. The characteristics of any given health care system have a significant impact on the way medical care is provided.\\n', '\\n', 'From ancient times, Christian emphasis on practical charity gave rise to the development of systematic nursing and hospitals, and the Catholic Church today remains the largest non-government provider of medical services in the world.[17] Advanced industrial countries (with the exception of the United States)[18][19] and many developing countries provide medical services through a system of universal health care that aims to guarantee care for all through a single-payer health care system or compulsory private or cooperative health insurance. This is intended to ensure that the entire population has access to medical care on the basis of need rather than ability to pay. Delivery may be via private medical practices, state-owned hospitals and clinics, or charities, most commonly a combination of all three.\\n', '\\n', 'Most tribal societies provide no guarantee of healthcare for the population as a whole. In such societies, healthcare is available to those who can afford to pay for it, have self-insured it (either directly or as part of an employment contract), or may be covered by care financed directly by the government or tribe.\\n', '\\n', 'collection of glass bottles of different sizes\\n', 'Modern drug ampoules\\n', 'Transparency of information is another factor defining a delivery system. Access to information on conditions, treatments, quality, and pricing greatly affects the choice of patients/consumers and, therefore, the incentives of medical professionals. While the US healthcare system has come under fire for its lack of openness,[20] new legislation may encourage greater openness. There is a perceived tension between the need for transparency on the one hand and such issues as patient confidentiality and the possible exploitation of information for commercial gain on the other.\\n', '\\n', 'The health professionals who provide care in medicine comprise multiple professions, such as medics, nurses, physiotherapists, and psychologists. These professions will have their own ethical standards, professional education, and bodies. The medical profession has been conceptualized from a sociological perspective.[21]\\n', '\\n', 'Delivery\\n', 'See also: Health care, clinic, hospital, and hospice\\n', 'Provision of medical care is classified into primary, secondary, and tertiary care categories.[22]\\n', '\\n', 'photograph of three nurses\\n', 'Nurses in Kokopo, East New Britain, Papua New Guinea\\n', \"Primary care medical services are provided by physicians, physician assistants, nurse practitioners, or other health professionals who have first contact with a patient seeking medical treatment or care.[23] These occur in physician offices, medical practices, clinics, nursing homes, schools, patients' homes, and in other places that are typically geographically close to where patients live, work or study. About 90% of medical visits can be satisfactorily and effectively dealt with by primary care provider(s).[citation needed] Primary care visits might include treatment of minor, acute or chronic illnesses, preventive care, and health education. Primary care is directed to the health of entire populations and thus providers care for patients of all ages and sexes.\\n\", '\\n', \"Secondary care medical services are provided by medical specialists in their offices, practices or clinics, or at local community hospitals, to patients referred by the primary care provider who first diagnosed or treated the patient.[24] 'Referrals' are made of those patients who required the particular expertise of, or specific procedures performed by, specialists. Secondary care services include both ambulatory care and inpatient services, emergency departments, some intensive care medicine, some surgeries and related services, physical therapy, labor and delivery, endoscopy units, diagnostic laboratory and medical imaging services, hospice centers, and others depending on the health services systems within which the care is being delivered. Some primary care providers may also take care of hospitalized patients and deliver babies in a secondary care setting.\\n\", '\\n', 'Tertiary care medical services are provided by specialist teams of providers in larger, more specialised hospitals or regional medical centers, which are equipped with diagnostic and treatment facilities not typically available at local (often smaller) hospitals. This allows for the treatment and care of patients with more complex or urgent or serious medical conditions, which in turn may require more expertise (including multi-disciplinary teams) and resources (facilities, staff, bed days) to effectively treat. Tertiary care may include that provided at burn treatment or trauma centers, advanced neonatology unit services, organ transplants, high-risk pregnancy and child delivery, radiation oncology, and very many other forms of specialist and intensive care.\\n', '\\n', \"Modern medical care also depends on the keeping and use of information, including about a particular patient—still kept in many health care settings on paper 'medical records', but increasingly nowadays by electronic means.\\n\", '\\n', 'In low-income countries, modern healthcare is often too expensive for the average person. International healthcare policy researchers have advocated that \"user fees\" be removed in these areas to ensure access; however, even with removal of patient fee obligations, significant costs and barriers remain for the poor and the sick in accessing sufficient care.[25]\\n', '\\n', 'Separation of prescribing and dispensing is a practice in medicine and pharmacy in which the physician who provides a medical prescription is different from the pharmacist who provides the prescription drug to the patient. In the Western world there are centuries of tradition and practice differentiating pharmacists from physicians, and two quite separate professions developed. In many Asian countries, on the other hand, it is traditional for physicians to also deliver drugs directly to patients, at least in some cases.[26] This model is also being used increasingly in the west: especially for simply-treated conditions (eg, those needing general antibiotics), in remote locations, with vulnerable communities of patients, and in small or integrated medical facilities.\\n', '\\n', 'Branches\\n', '\\n', 'Drawing by Marguerite Martyn (1918) of a visiting nurse in St. Louis, Missouri, with medicine and babies\\n', \"Working together as an interdisciplinary team, many highly trained health professionals besides medical practitioners are involved in the delivery of modern health care. Examples include: nurses, emergency medical technicians and paramedics, laboratory scientists, pharmacists, podiatrists, physiotherapists, respiratory therapists, speech therapists, occupational therapists, radiographers, dietitians, and bioengineers, medical physicists, surgeons, surgeon's assistant, surgical technologist.\\n\", '\\n', 'The scope and sciences underpinning human medicine overlap many other fields. A patient admitted to the hospital is usually under the care of a specific team based on their main presenting problem, e.g., the cardiology team, who then may interact with other specialties, e.g., surgical, radiology, to help diagnose or treat the main problem or any subsequent complications/developments.\\n', '\\n', 'Physicians have many specializations and subspecializations into certain branches of medicine, which are listed below. There are variations from country to country regarding which specialties certain subspecialties are in.\\n', '\\n', 'The main branches of medicine are:\\n', '\\n', 'Basic sciences of medicine; this is what every physician is educated in, and some return to in biomedical research.\\n', 'Interdisciplinary fields, where different medical specialties are mixed to function in certain occasions.\\n', 'Medical specialties\\n', 'Basic sciences\\n', 'Anatomy is the study of the physical structure of organisms. In contrast to macroscopic or gross anatomy, cytology and histology are concerned with microscopic structures.\\n', 'Biochemistry is the study of the chemistry taking place in living organisms, especially the structure and function of their chemical components.\\n', 'Biomechanics is the study of the structure and function of biological systems by means of the methods of Mechanics.\\n', 'Biophysics is an interdisciplinary science that uses the methods of physics and physical chemistry to study biological systems.\\n', 'Biostatistics is the application of statistics to biological fields in the broadest sense. A knowledge of biostatistics is essential in the planning, evaluation, and interpretation of medical research. It is also fundamental to epidemiology and evidence-based medicine.\\n', 'Cytology is the microscopic study of individual cells.\\n', '\\n', 'Louis Pasteur, as portrayed in his laboratory, 1885 by Albert Edelfelt\\n', '\\n', 'Statue of Robert Koch in Berlin\\n', 'Embryology is the study of the early development of organisms.\\n', 'Endocrinology is the study of hormones and their effect throughout the body of animals.\\n', 'Epidemiology is the study of the demographics of disease processes, and includes, but is not limited to, the study of epidemics.\\n', 'Genetics is the study of genes, and their role in biological inheritance.\\n', 'Gynecology is the study of female reproductive system.\\n', 'Histology is the study of the structures of biological tissues by light microscopy, electron microscopy and immunohistochemistry.\\n', 'Immunology is the study of the immune system, which includes the innate and adaptive immune system in humans, for example.\\n', 'Lifestyle medicine is the study of the chronic conditions, and how to prevent, treat and reverse them.\\n', 'Medical physics is the study of the applications of physics principles in medicine.\\n', 'Microbiology is the study of microorganisms, including protozoa, bacteria, fungi, and viruses.\\n', 'Molecular biology is the study of molecular underpinnings of the process of replication, transcription and translation of the genetic material.\\n', 'Neuroscience includes those disciplines of science that are related to the study of the nervous system. A main focus of neuroscience is the biology and physiology of the human brain and spinal cord. Some related clinical specialties include neurology, neurosurgery and psychiatry.\\n', 'Nutrition science (theoretical focus) and dietetics (practical focus) is the study of the relationship of food and drink to health and disease, especially in determining an optimal diet. Medical nutrition therapy is done by dietitians and is prescribed for diabetes, cardiovascular diseases, weight and eating disorders, allergies, malnutrition, and neoplastic diseases.\\n', 'Pathology as a science is the study of disease – the causes, course, progression and resolution thereof.\\n', 'Pharmacology is the study of drugs and their actions.\\n', 'Photobiology is the study of the interactions between non-ionizing radiation and living organisms.\\n', 'Physiology is the study of the normal functioning of the body and the underlying regulatory mechanisms.\\n', 'Radiobiology is the study of the interactions between ionizing radiation and living organisms.\\n', 'Toxicology is the study of hazardous effects of drugs and poisons.\\n', 'Specialties\\n', 'Main article: Medical specialty\\n', 'Globe icon.\\n', 'The examples and perspective in this section deal primarily with UK and do not represent a worldwide view of the subject. You may improve this section, discuss the issue on the talk page, or create a new section, as appropriate. (February 2023) (Learn how and when to remove this message)\\n', 'In the broadest meaning of \"medicine\", there are many different specialties. In the UK, most specialities have their own body or college, which has its own entrance examination. These are collectively known as the Royal Colleges, although not all currently use the term \"Royal\". The development of a speciality is often driven by new technology (such as the development of effective anaesthetics) or ways of working (such as emergency departments); the new specialty leads to the formation of a unifying body of doctors and the prestige of administering their own examination.\\n', '\\n', 'Within medical circles, specialities usually fit into one of two broad categories: \"Medicine\" and \"Surgery\". \"Medicine\" refers to the practice of non-operative medicine, and most of its subspecialties require preliminary training in Internal Medicine. In the UK, this was traditionally evidenced by passing the examination for the Membership of the Royal College of Physicians (MRCP) or the equivalent college in Scotland or Ireland. \"Surgery\" refers to the practice of operative medicine, and most subspecialties in this area require preliminary training in General Surgery, which in the UK leads to membership of the Royal College of Surgeons of England (MRCS). At present, some specialties of medicine do not fit easily into either of these categories, such as radiology, pathology, or anesthesia. Most of these have branched from one or other of the two camps above; for example anaesthesia developed first as a faculty of the Royal College of Surgeons (for which MRCS/FRCS would have been required) before becoming the Royal College of Anaesthetists and membership of the college is attained by sitting for the examination of the Fellowship of the Royal College of Anesthetists (FRCA).\\n', '\\n', 'Surgical specialty\\n', 'Main article: Surgery\\n', '\\n', 'Surgeons in an operating room\\n', 'Surgery is an ancient medical specialty that uses operative manual and instrumental techniques on a patient to investigate or treat a pathological condition such as disease or injury, to help improve bodily function or appearance or to repair unwanted ruptured areas (for example, a perforated ear drum). Surgeons must also manage pre-operative, post-operative, and potential surgical candidates on the hospital wards. In some centers, anesthesiology is part of the division of surgery (for historical and logistical reasons), although it is not a surgical discipline. Other medical specialties may employ surgical procedures, such as ophthalmology and dermatology, but are not considered surgical sub-specialties per se.\\n', '\\n', 'Surgical training in the U.S. requires a minimum of five years of residency after medical school. Sub-specialties of surgery often require seven or more years. In addition, fellowships can last an additional one to three years. Because post-residency fellowships can be competitive, many trainees devote two additional years to research. Thus in some cases surgical training will not finish until more than a decade after medical school. Furthermore, surgical training can be very difficult and time-consuming.\\n', '\\n', 'Surgical subspecialties include those a physician may specialize in after undergoing general surgery residency training as well as several surgical fields with separate residency training. Surgical subspecialties that one may pursue following general surgery residency training: [27]\\n', '\\n', 'A television show, TV program (British English: programme), or simply a TV show, is the general reference to any content produced for viewing on a television set that is transmitted via over-the-air, satellite, and cable, or distributed digitally on streaming platforms.[1][2] This generally excludes breaking news or advertisements that are aired between shows or between segments of a show. A regularly recurring show is called a television series, and an individual segment of such a series is called an episode. Content is produced either in-house on a television stage with multiple cameras or produced by contract with film production companies. Episodes are usually broadcast in annual sets, which are called seasons in North America and series in other regions. A one-off television show may be called a television special, while a show with a limited number of episodes is a miniseries.[a] A television film, or telefilm, is a feature film produced for broadcast by a terrestrial or cable network.\\n', '\\n', 'Television shows by terrestrial and cable networks are most often scheduled for broadcast ahead of time and appear on electronic guides or other TV listings. The rise of streaming television, however, has made television schedules less relevant than in earlier decades. Some programming may be aired live—that is, events are broadcast at the time they happen rather than at a later time or date—but the vast majority of programming is produced ahead of time. Originally, viewers had no practical way to record a show for later viewing; this changed with the advent of home video, first in the form of videotape recorded on VCRs and later in the form of digital video recorders. Cable television providers began offering certain programming \"pay-per-view\" or on-demand, with viewers paying a one-time fee to watch a program at a time of their own choosing. Streaming television allows viewers to watch programming at any time with a subscription to the service.\\n', '\\n', 'History\\n', 'Main article: History of television\\n', 'The first television shows were experimental, sporadic broadcasts viewable only within a very short range from the broadcast tower starting in the 1930s. Televised events such as the 1936 Summer Olympics in Germany, the 1937 coronation of King George VI in the United Kingdom, and David Sarnoff\\'s famous introduction at the 1939 New York World\\'s Fair in the United States spurred growth in the medium, but World War II put a halt to development until after the war. The 1947 World Series inspired many Americans to buy their first television set, and then in 1948, the popular radio show Texaco Star Theater made the move and became the first weekly televised variety show, earning host Milton Berle the name \"Mr. Television\", and demonstrating that the medium was a stable, modern form of entertainment that could attract advertisers. The first national live television broadcast in the US took place on September 4, 1951, when President Harry Truman\\'s speech at the Japanese Peace Treaty Conference in San Francisco was transmitted over AT&T\\'s transcontinental cable and microwave radio relay system to broadcast stations in local markets.[5][6][7]\\n', '\\n', 'The first national color broadcast (the 1954 Tournament of Roses Parade) in the US occurred on January 1, 1954. During the following ten years, most network broadcasts, and nearly all local programming, continued to be in black-and-white. The color transition was announced for the fall of 1965, during which over half of all network prime-time programming would be broadcast in color. The first all-color prime-time season came just one year later. In 1972, the last holdout among daytime network shows converted to color, resulting in the first completely all-color network season.\\n', '\\n', 'Formats and genres\\n', 'Further information: List of genres § Film and television genres\\n', 'Television shows are more varied than most other forms of media due to the wide variety of formats and genres that can be presented. A show may be fictional (as in comedies and dramas), or non-fictional (as in documentary, news, and reality television). It may be topical (as in the case of a local newscast and some made-for-television films), or historical (as in the case of many documentaries and fictional series). They could be primarily instructional, educational, or entertaining, as is the case in situation comedy and game shows.[citation needed]\\n', '\\n', \"A drama program usually features a set of actors playing characters in a historical or contemporary setting. The program follows their lives and adventures. Before the 1980s, shows (except for soap opera-type serials) typically remained static without story arcs, and the main characters and premise changed little.[citation needed] If some change happened to the characters' lives during the episode, it was usually undone by the end. Due to this, the episodes could be broadcast in any order.[citation needed] Since the 1980s, many series feature progressive change in the plot, the characters, or both. For instance, Hill Street Blues and St. Elsewhere were two of the first US prime time drama television series to have this kind of dramatic structure,[8][better source needed] while the later series Babylon 5 further exemplifies such structure in that it had a predetermined story running over its intended five-season run.[citation needed]\\n\", '\\n', 'In 2012, it was reported that television was growing into a larger component of major media companies\\' revenues than film.[9] Some also noted the increase in quality of some television programs. In 2012, Academy Award-winning film director Steven Soderbergh, commenting on ambiguity and complexity of character and narrative, stated: \"I think those qualities are now being seen on television, and that people who want to see stories that have those kinds of qualities are watching television.\"[10]\\n', '\\n', 'Production\\n', 'Development\\n', 'United States\\n', 'When a person or company decides to create new content for television broadcast, they develop the show\\'s elements, consisting of the concept, the characters, the crew, and the cast. Then they often \"pitch\" it to the various networks in an attempt to find one interested enough to order a prototype for the first episode of the series, known as a pilot.[11] Eric Coleman, an animation executive at Disney, told an interviewer, \"One misconception is that it\\'s very difficult to get in and pitch your show, when the truth is that development executives at networks want very much to hear ideas. They want very much to get the word out on what types of shows they\\'re looking for.\"[12]\\n', '\\n', 'To create the pilot, the structure and team of the whole series must be put together. If audiences respond well to the pilot, the network will pick up the show to air it the next season.[citation needed] Sometimes they save it for mid-season or request rewrites and additional review.[citation needed] Other times, they pass entirely, forcing the show\\'s creator to \"shop it around\" to other networks. Many shows never make it past the pilot stage.[13]\\n', '\\n', 'United Kingdom\\n', '\\t\\n', 'This section does not cite any sources. Please help improve this section by adding citations to reliable sources. Unsourced material may be challenged and removed. (February 2017) (Learn how and when to remove this message)\\n', 'The method of \"team writing\" is employed on some longer dramatic series (usually running up to a maximum of around 13 episodes). The idea for such a program may be generated \"in-house\" by one of the networks; it could originate from an independent production company (sometimes a product of both). For instance, the BBC\\'s long-running soap opera EastEnders is wholly a BBC production, whereas its popular drama Life on Mars was developed by Kudos in association with the broadcaster.\\n', '\\n', 'There are still a significant number of programs (usually sitcoms) that are built by just one or two writers and a small, close-knit production team. These are \"pitched\" in the traditional way, but since the creators handle all the writing requirements, there is a run of six or seven episodes per series once approval has been given. Many of the most popular British comedies have been made this way, including Monty Python\\'s Flying Circus (albeit with an exclusive team of six writer-performers), Fawlty Towers, Blackadder and The Office.\\n', '\\n', 'Other nations\\n', '[icon]\\t\\n', 'This section needs expansion with: coverage of other countries. You can help by making an edit request. (February 2017)\\n', '\\n', \"Tamvisio's camera operators film a television program at Frenckell's studio on January 2, 1965, in Tampere, Finland.\\n\", \"The production company is often separate from the broadcaster. The executive producer, often the show's creator, is in charge of running the show. They pick the crew and help cast the actors, approve and sometimes write series plots—some even write or direct major episodes—while various other producers help to ensure that the show runs smoothly. Very occasionally, the executive producer will cast themselves in the show. As with filmmaking or other electronic media production, producing of an individual episode can be divided into three parts: pre-production, principal photography, and post-production.\\n\", '\\n', 'Pre-production\\n', 'Main article: Pre-production\\n', '\\n', 'Arthur Schlesinger Jr.\\n', \"Pre-production begins when a script is approved. A director is chosen to plan the episode's final look. Pre-production tasks include storyboarding; construction of sets, props, and costumes; casting guest stars; budgeting; acquiring resources like lighting, special effects, stunts, etc. Once the show is planned, it must then be scheduled: scenes are often filmed out of sequence, and guest actors or even regulars may only be available at certain times. Sometimes the principal photography of different episodes must be done at the same time, complicating the schedule (a guest star might shoot scenes from two episodes on the same afternoon). Complex scenes are translated from storyboard to animatics to further clarify the action. Scripts are adjusted to meet altering requirements.\\n\", '\\n', 'Some shows have a small stable of directors, but also usually rely on outside directors. Given the time constraints of broadcasting, a single show might have two or three episodes in pre-production, one or two episodes in principal photography, and a few more in various stages of post-production. The task of directing is complex enough that a single director can usually not work on more than one episode or show at a time, hence the need for multiple directors.\\n', '\\n', 'Principal photography\\n', 'Main article: Principal photography\\n', 'Principal photography is the actual filming of the episode. Director, actors, and crew gather at a television studio or on location for filming or videoing a scene. A scene is further divided into shots, which should be planned during pre-production. Depending on scheduling, a scene may be shot in non-sequential order of the story. Conversations may be filmed twice from different camera angles, often using stand-ins, so one actor might perform all their lines in one set of shots, and then the other side of the conversation is filmed from the opposite perspective. To complete a production on time, a second unit may be filming a different scene on another set or location at the same time, using a different set of actors, an assistant director, and a second unit crew. A director of photography supervises the lighting of each shot to ensure consistency.\\n', '\\n', 'Live events are usually covered by Outside Broadcast crews using mobile television studios, known as scanners or OB trucks. Although varying greatly depending on the era and subject covered, these trucks were normally crewed by up to 15 skilled operators and production personnel. In the UK for most of the 20th century, the BBC was the preeminent provider of outside broadcast coverage. BBC crews worked on almost every major event, including Royal weddings and funerals, major political and sporting events, and even drama programs.[14]\\n', '\\n', 'Post-production\\n', 'Main article: Post-production\\n', 'Once principal photography is complete, producers coordinate tasks to begin the video editing. Visual and digital video effects are added to the film; this is often outsourced to companies specializing in these areas. Often music is performed with the conductor using the film as a time reference (other musical elements may be previously recorded). An editor cuts the various pieces of film together, adds the musical score and effects, determines scene transitions, and assembles the completed show.\\n', '\\n', 'Budgets and revenues\\n', \"Most television networks throughout the world are 'commercial', dependent on selling advertising time or acquiring sponsors.[citation needed] Broadcasting executives' main concern over their programming is audience size.[citation needed] In the past, the number of 'free to air' stations was restricted by the availability of channel frequencies, but cable TV (outside the United States, satellite television) technology has allowed an expansion in the number of channels available to viewers (sometimes at premium rates) in a much more competitive environment.[citation needed]\\n\", '\\n', \"In the United States, the average broadcast network drama costs $3 million an episode to produce, while cable dramas cost $2 million on average.[15] The pilot episode may be more expensive than a regular episode.[citation needed] In 2004, Lost's two-hour pilot cost $10 to $14 million, in 2008, Fringe's two-hour pilot cost $10 million, and in 2010, Boardwalk Empire was $18 million for the first episode. In 2011, Game of Thrones was $5 to $10 million, Pan Am cost an estimated $10 million, while Terra Nova's two-hour pilot was between $10 and $20 million.[16][17]\\n\", '\\n', \"Many scripted network television shows in the United States are financed through deficit financing: a studio finances the production cost of a show and a network pays a license fee to the studio for the right to air the show. This license fee does not cover the show's production costs, leading to the deficit. Although the studio does not make its money back in the original airing of the show, it retains ownership of the show. This allows the studio to make its money back and earn a profit through syndication and sales of DVDs and Blu-rays. This system places most of the financial risk on the studios; however, a hit show in the syndication and home video markets can more than make up for the misses. Although deficit financing places minimal financial risk on the networks, they lose out on the future profits of big hits since they are only licensing the shows.[18]\\n\", '\\n', \"Costs are recouped mainly by advertising revenues for broadcast networks and some cable channels, while other cable channels depend on subscriptions. In general, advertisers, and consequently networks that depend on advertising, are more interested in the number of viewers within the 18–49 age range than in the total number of viewers.[19][20] Advertisers are willing to pay more to advertise on shows successful with young adults because they watch less television and are harder to reach.[21] According to Advertising Age, during the 2007–08 season, Grey's Anatomy was able to charge $419,000 per commercial, compared to only $248,000 for a commercial during CSI, despite CSI having almost five million more viewers on average.[22] Due to its strength with younger viewers, Friends was able to charge almost three times as much for a commercial as Murder, She Wrote, even though the two series had similar total viewer numbers at that time.[19] Glee and The Office drew fewer total viewers than NCIS during the 2009–10 season, but earned an average of $272,694 and $213,617 respectively, compared to $150,708 for NCIS.[23]\\n\", '\\n', 'Distribution\\n', '\\n', 'This section does not cite any sources. Please help improve this section by adding citations to reliable sources. Unsourced material may be challenged and removed. (February 2017) (Learn how and when to remove this message)\\n', \"After production, the show is handed over to the television network, which sends it out to its affiliate stations, which broadcast it in the specified broadcast programming time slot. If the Nielsen ratings are good, the show is kept alive as long as possible. If not, the show is usually canceled. The show's creators are then left to shop around for remaining episodes, and the possibility of future episodes, on other networks. On especially successful series, the producers sometimes call a halt to a series on their own like Seinfeld, The Cosby Show, Corner Gas, and M*A*S*H and end it with a concluding episode, which sometimes is a big series finale.\\n\", '\\n', 'On rare occasions, a series that has not attracted particularly high ratings and has been canceled can be given a reprieve if home video viewership has been particularly strong. This has happened in the cases of Family Guy in the US and Peep Show in the UK.\\n', '\\n', \"In the United States, if the show is popular or lucrative, and a minimum number of episodes (usually 100) have been made, it can go into broadcast syndication, where rights to broadcast the program are then resold for cash or put into a barter exchange (offered to an outlet for free in exchange for airing additional commercials elsewhere in the station's broadcast day).\\n\", '\\n', '\\n', 'Seasons/series/strand\\n', 'The terminology used to define a set of episodes produced for a television series varies from country to country.\\n', '\\n', 'North American usage\\n', 'See also: Serial (radio and television)\\n', 'In North American television, a series is a connected set of television program episodes that run under the same title, possibly spanning many seasons. During the 1950s, it was common for television seasons to consist of more than 30 episodes—however, the average length has been declining since.[24]\\n', '\\n', 'Until the 1980s, most new programs for the US broadcast networks debuted in the \"fall season\", which ran from September through March and nominally contained 24 to 26 episodes. These episodes were rebroadcast during the spring (or summer) season, from April through August. Because of cable television and the Nielsen sweeps, the \"fall\" season now normally extends to May. Thus, a \"full season\" on a broadcast network now usually runs from September through May for at least 22 episodes.[25]\\n', '\\n', 'A full season is sometimes split into two separate units with a hiatus around the end of the calendar year, such as the first season of Jericho on CBS. When this split occurs, the last half of the episodes are sometimes referred to with the letter B as in \"The last nine episodes (of The Sopranos) will be part of what is being called either \\'Season 6, Part 2\\' or \\'Season 6B\\'\",[26] or \"Futurama is splitting its seasons similar to how South Park does, doing half a season at a time, so this is season 6B for them.\"[27] Since the 1990s, these shorter seasons also have been referred to as \"split\" or \"half\" seasons, which is done to increase profits, as seen with shows such as The Witcher.[28]\\n', '\\n', 'Since at least the 2000s, new broadcast television series are often ordered (funded) for just the first 10 to 13 episodes, to gauge audience interest. If a series is popular, the network places a \"back nine order\" and the season is completed to the regular 20 to 26 episodes. An established series that is already popular, however, will typically receive an immediate full-season order at the outset of the season. A midseason replacement is a less-expensive short-run show of generally 10 to 13 episodes designed to take the place of an original series that failed to garner an audience and has not been picked up. A \"series finale\" is the last show of the series before the show is no longer produced. (In the UK, it means the end of a season, what is known in the United States as a \"season finale\".) Streaming services time finales to the next quarter to induce consumers to renew at least one more quarter.[29]\\n', '\\n', 'A standard television season in the United States runs predominantly during autumn.[30] During the summer months of June through roughly mid-September, network schedules typically feature reruns of their flagship programs, first-run series with lower rating expectations, and other specials. First-run scripted series are typically shorter and of a lower profile than those aired during the main season and can also include limited series events. Reality and game shows have also been fixtures of the schedule.[30]\\n', '\\n', 'In Canada, the commercial networks air most US programming in tandem with the US television season, but their original Canadian shows follow a model closer to British than US television production. Due to the smaller production budgets available in Canada, a Canadian show\\'s season normally runs to a maximum of 13 episodes rather than 20 or more, although an exceptionally popular series such as Corner Gas or Murdoch Mysteries might receive 20-episode orders in later seasons. Canadian shows do not normally receive \"back nine\" extensions within the same season, however; even a popular series simply ends for the year when the original production order has finished airing, and an expanded order of more than 13 episodes is applied to the next season\\'s renewal order rather than an extension of the current season. Only the public CBC Television normally schedules Canadian-produced programming throughout the year; the commercial networks typically now avoid scheduling Canadian productions to air in the fall, as such shows commonly get lost amid the publicity onslaught of the US fall season. Instead, Canadian-produced shows on the commercial networks typically air either in the winter as mid-season replacements for canceled US shows or in the summer (which may also improve their chances of being picked up by a US network for a summer run).[31]\\n', '\\n', 'Miniseries, limited series, and event series\\n', 'While network orders for 13- or 22-episode seasons are still pervasive in the television industry, several shows have deviated from this traditional trend. Written to be closed-ended and of shorter length than other shows, they are marketed with a variety of terms.\\n', '\\n', 'Miniseries: A very short, closed-ended series, typically six or more hours in two or more parts (nights), similar to an extended television movie. Many early miniseries were adaptations of popular novels of the day, such as The National Dream (1974), Roots (1977), and North and South (1985). In recent years, as described by several television executives interviewed by The Hollywood Reporter, the term miniseries has grown to have negative connotations within the industry, having become associated with melodrama-heavy works that were commonly produced under the format, while limited series or event series receive higher respect.[32]\\n', '\\n', 'Limited series: Distinct from miniseries in that the production is seen to have potential to be renewed, but without the requirement of it having as many episodes as a typical order per season. Under the Dome, Killer Women, and Luther were marketed as limited series. Individual season-length stories of anthology series such as American Horror Story, Fargo, and True Detective are also described as \"limited series\". The Primetime Emmys have had to make numerous changes to their miniseries/limited series category to accommodate anthology and other limited series.[33]\\n', 'Event series: Largely considered a marketing term, falling under the general category of event television. The term can be applied to almost any new, short-run series, such as 24: Live Another Day. It has also been used to describe game shows like The Million Second Quiz which aired for just two weeks.[32]\\n', 'UK, Ireland and Australia usage\\n', '\\n', 'This section needs additional citations for verification. Please help improve this article by adding citations to reliable sources in this section. Unsourced material may be challenged and removed.\\n', 'Find sources: \"Television show\" – news · newspapers · books · scholar · JSTOR (August 2023) (Learn how and when to remove this message)\\n', 'In the United Kingdom and other countries, these sets of episodes are referred to as a \"series\". In Australia, the broadcasting may be different from North American usage. The terms series and season are both used and are the same. For example, Battlestar Galactica has an original series as well as a remake, both are considered a different series, each with their own number of individual seasons.\\n', '\\n', 'Australian television does not follow \"seasons\" in the way that US television does; for example, there is no \"fall season\" or \"fall schedule\". For many years, popular night-time dramas in Australia would run for much of the year, and would only go into recess during the summer period (December to February, as Australia is in the Southern Hemisphere), when ratings are not taken. Therefore, popular dramas would usually run from February through November each year. This schedule was used in the 1970s for popular dramas, including Number 96. Many drama series, such as McLeod\\'s Daughters, have received between 22 and 32 episodes per season.\\n', '\\n', 'Typically, soap operas, which have always run in season format in Australia, such as Home and Away, would usually begin a new season in late January, while the season finale would air in late November, as the show is off air for two months, or sometimes longer, depending on the schedule. In recent years,[when?] a new season would begin in early February, and the season finale would broadcast in early December. Since Home and Away\\'s inception, it normally receives 230 episodes per season. Some seasons have seen between 205 and 235 episodes commissioned. During the Olympics, Home and Away would often go on hiatus, which was referred to as an \"Olympic cliffhanger\". Therefore, the number of episodes would decrease. Australian situation comedy series\\' seasons are approximately 13 episodes long and premiere any time between February and November.\\n', '\\n', \"British television programmes have tended toward shorter series in recent years. For example, the first series of long-running science fiction show Doctor Who in 1963 featured forty-two 25‑minute episodes, and continued with a similar number each year until it was reduced to twenty-five for 1970 to accommodate changes in production and significantly reducing the actors' workload) and continued to 1984. For 1985 fewer but longer episodes were shown, but even after a return to shorter episodes in 1986, lack of support within the BBC meant fewer episodes were commissioned leading to only fourteen 25‑minute episodes up to those in 1989 after which it was cancelled. The revival of Doctor Who from 2005 has comprised thirteen 45‑minute installments.\\n\", '\\n', 'There are some series in the UK that have a larger number of episodes, for example Waterloo Road started with 8 to 12 episodes, but from series three onward it increased to twenty episodes and series seven will contain 30 episodes. Recently, US non-cable networks have also begun to experiment with shorter series for some programs, particularly reality shows, such as Survivor. They often air two series per year, resulting in roughly the same number of episodes per year as a drama.\\n', '\\n', 'This is a reduction from the 1950s, in which many US shows (e.g. Gunsmoke) had between 29 and 39 episodes per season. Actual storytelling time within a commercial television hour has also gradually reduced over the years, from 50 minutes out of every 60 to the current 44 (and even less on some networks), beginning in the early 21st century.\\n', '\\n', 'The usage of \"season\" and \"series\" differ for DVD and Blu-ray releases in both Australia and the UK. In Australia, many locally produced shows are termed differently on home video releases. For example, a set of the television drama series Packed to the Rafters or Wentworth is referred to as \"season\" (\"The Complete First Season\", etc.), whereas drama series such as Tangle are known as a \"series\" (\"Series 1\", etc.). British-produced programmes such as Mrs. Brown\\'s Boys are referred to as \"season\" in Australia for the DVD and Blu-ray releases.\\n', '\\n', \"In the UK and Ireland, most programmes are referred to as 'series' while 'season' is starting to be used for some US and international releases.\\n\", '\\n', 'Egypt\\n', 'The 1980s and 1990s was the golden age of television miniseries attracting millions of Egyptians. For example, The Family of Mr Shalash miniseries, starring Salah Zulfikar and Laila Taher, was the highest rated at the time.[34]\\n', '\\n', 'Running time\\n', 'In the United States, dramas produced for hour-long time slots typically are 37–42 minutes in length (excluding advertisements), while sitcoms produced for 30-minute time slots typically are 18–21 minutes long. There are exceptions: subscription-based cable TV channels, such as HBO, Starz, Cinemax, and Showtime, have episodes that are 45–48 minutes long, similar to the UK. Audience opinions of length have varied due to factors such as content overload.[35]\\n', '\\n', 'In Britain, dramas typically run from 46–48 minutes on commercial channels, and 57–59 minutes on the BBC. Half-hour programs are around 22 minutes on commercial channels and around 28 minutes on the BBC. The longer duration on the BBC is due to the lack of advertising breaks.\\n', '\\n', 'In France, most television shows (whether dramas, game shows or documentaries) have a duration of 52 minutes. This is the same on nearly all French networks (TF1, France 2, France 5, M6, Canal+, etc.).[36]\\n', '\\n', 'The episode runtime of television shows produced for streaming platforms, such as Netflix and Hulu, can vary from just under 30 minutes to over one hour long.[37][38] Internet-based series with episode runtimes of less than 25 minutes are considered web series.[37]']\n",
      "553\n",
      "5\n"
     ]
    }
   ],
   "source": [
    "func_split('Merged_file.txt')"
   ]
  },
  {
   "cell_type": "markdown",
   "id": "8332b940",
   "metadata": {},
   "source": [
    "### Assignment 11: Creating a Log File\n",
    "\n",
    "Write a function that creates a log file named `activity.log` and writes log messages with timestamps.\n"
   ]
  },
  {
   "cell_type": "code",
   "execution_count": 304,
   "id": "bb4b8aa1",
   "metadata": {},
   "outputs": [],
   "source": [
    "import datetime"
   ]
  },
  {
   "cell_type": "code",
   "execution_count": 310,
   "id": "dabad787",
   "metadata": {},
   "outputs": [
    {
     "data": {
      "text/plain": [
       "'2025-08-30 15:45:30.737767'"
      ]
     },
     "execution_count": 310,
     "metadata": {},
     "output_type": "execute_result"
    }
   ],
   "source": [
    "str(datetime.datetime.now())"
   ]
  },
  {
   "cell_type": "code",
   "execution_count": 312,
   "id": "3e056eff",
   "metadata": {},
   "outputs": [],
   "source": [
    "def func_log(message):\n",
    "\n",
    "    with open('activity_log.txt','a+') as file:\n",
    "        file.writelines(str(datetime.datetime.now()) + \": \" + message +'\\n')\n",
    "        file.close()"
   ]
  },
  {
   "cell_type": "code",
   "execution_count": 313,
   "id": "aaa0447f",
   "metadata": {},
   "outputs": [],
   "source": [
    "func_log('this is message on run first time')"
   ]
  },
  {
   "cell_type": "code",
   "execution_count": 314,
   "id": "6e59997d",
   "metadata": {},
   "outputs": [],
   "source": [
    "func_log('Seond message: this is message on run second time')"
   ]
  },
  {
   "cell_type": "markdown",
   "id": "fc1ef18f",
   "metadata": {},
   "source": [
    "### Assignment 15: File Permission Handling\n",
    "\n",
    "Write a function that attempts to read a file named `protected.txt` and handles any permission errors gracefully by printing an error message."
   ]
  },
  {
   "cell_type": "code",
   "execution_count": 315,
   "id": "d2c5e558",
   "metadata": {},
   "outputs": [],
   "source": [
    "def read_protected_file(filename):\n",
    "    try:\n",
    "        with open(filename, 'r') as file:\n",
    "            print(file.read())\n",
    "    except PermissionError as e:\n",
    "        print(f\"Permission error: {e}\")\n",
    "\n",
    "# Test\n",
    "# read_protected_file('protected.txt')"
   ]
  },
  {
   "cell_type": "code",
   "execution_count": null,
   "id": "3690c999",
   "metadata": {},
   "outputs": [],
   "source": []
  },
  {
   "cell_type": "code",
   "execution_count": null,
   "id": "bbf4957d",
   "metadata": {},
   "outputs": [],
   "source": []
  }
 ],
 "metadata": {
  "kernelspec": {
   "display_name": "Python 3",
   "language": "python",
   "name": "python3"
  },
  "language_info": {
   "codemirror_mode": {
    "name": "ipython",
    "version": 3
   },
   "file_extension": ".py",
   "mimetype": "text/x-python",
   "name": "python",
   "nbconvert_exporter": "python",
   "pygments_lexer": "ipython3",
   "version": "3.12.0"
  }
 },
 "nbformat": 4,
 "nbformat_minor": 5
}
