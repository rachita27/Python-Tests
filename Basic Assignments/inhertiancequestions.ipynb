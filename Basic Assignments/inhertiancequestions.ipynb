{
 "cells": [
  {
   "cell_type": "markdown",
   "id": "7f61174d",
   "metadata": {},
   "source": [
    "# Module: Inheritance Assignments\n",
    "## Lesson: Single and Multiple Inheritance\n",
    "### Assignment 1: Single Inheritance Basic\n",
    "\n",
    "Create a base class named `Animal` with attributes `name` and `species`. Create a derived class named `Dog` that inherits from `Animal` and adds an attribute `breed`. Create an object of the `Dog` class and print its attributes."
   ]
  },
  {
   "cell_type": "code",
   "execution_count": 1,
   "id": "21fba48a",
   "metadata": {},
   "outputs": [],
   "source": [
    "class Animal():\n",
    "\n",
    "    def __init__(self, name, species):\n",
    "        self.name = name\n",
    "        self.species = species\n",
    "\n",
    "class Dog(Animal):\n",
    "\n",
    "    def __init__(self, name, species,breed):\n",
    "        super().__init__(name, species)\n",
    "        self.breed = breed\n"
   ]
  },
  {
   "cell_type": "code",
   "execution_count": 2,
   "id": "d56e5a13",
   "metadata": {},
   "outputs": [
    {
     "data": {
      "text/plain": [
       "('Tuffy', 'Labra', 'IDK')"
      ]
     },
     "execution_count": 2,
     "metadata": {},
     "output_type": "execute_result"
    }
   ],
   "source": [
    "dg = Dog('Tuffy','Labra','IDK')\n",
    "dg.name, dg.species, dg.breed"
   ]
  },
  {
   "cell_type": "markdown",
   "id": "968f305a",
   "metadata": {},
   "source": [
    "### Assignment 2: Method Overriding in Single Inheritance\n",
    "\n",
    "In the `Dog` class, override the `__str__` method to return a string representation of the object. Create an object of the class and print it."
   ]
  },
  {
   "cell_type": "code",
   "execution_count": 3,
   "id": "28d9beac",
   "metadata": {},
   "outputs": [],
   "source": [
    "class Animal():\n",
    "\n",
    "    def __init__(self, name, species):\n",
    "        self.name = name\n",
    "        self.species = species\n",
    "\n",
    "class Dog(Animal):\n",
    "\n",
    "    def __init__(self, name, species,breed):\n",
    "        super().__init__(name, species)\n",
    "        self.breed = breed\n",
    "\n",
    "    def __str__(self):\n",
    "        return f\"Dog(Name: {self.name}, Species: {self.species}, Breed: {self.breed})\"\n"
   ]
  },
  {
   "cell_type": "code",
   "execution_count": 4,
   "id": "4b85f511",
   "metadata": {},
   "outputs": [
    {
     "name": "stdout",
     "output_type": "stream",
     "text": [
      "Dog(Name: Tuffy, Species: Labra, Breed: IDK)\n"
     ]
    },
    {
     "data": {
      "text/plain": [
       "('Tuffy', 'Labra', 'IDK', None)"
      ]
     },
     "execution_count": 4,
     "metadata": {},
     "output_type": "execute_result"
    }
   ],
   "source": [
    "dg = Dog('Tuffy','Labra','IDK')\n",
    "dg.name, dg.species, dg.breed, print(dg)"
   ]
  },
  {
   "cell_type": "markdown",
   "id": "3762d06a",
   "metadata": {},
   "source": [
    "### Assignment 3: Single Inheritance with Additional Methods\n",
    "\n",
    "In the `Dog` class, add a method named `bark` that prints a barking sound. Create an object of the class and call the method."
   ]
  },
  {
   "cell_type": "code",
   "execution_count": 5,
   "id": "0567e276",
   "metadata": {},
   "outputs": [],
   "source": [
    "class Animal():\n",
    "\n",
    "    def __init__(self, name, species):\n",
    "        self.name = name\n",
    "        self.species = species\n",
    "\n",
    "class Dog(Animal):\n",
    "\n",
    "    def __init__(self, name, species,breed):\n",
    "        super().__init__(name, species)\n",
    "        self.breed = breed\n",
    "\n",
    "    def __str__(self):\n",
    "        return f\"Dog(Name: {self.name}, Species: {self.species}, Breed: {self.breed})\"\n",
    "    \n",
    "    def sound(self):\n",
    "        print(\"Woof!!\")\n"
   ]
  },
  {
   "cell_type": "code",
   "execution_count": 6,
   "id": "c694cee8",
   "metadata": {},
   "outputs": [
    {
     "name": "stdout",
     "output_type": "stream",
     "text": [
      "Woof!!\n"
     ]
    }
   ],
   "source": [
    "dg = Dog('Tuffy','Labra','IDK')\n",
    "dg.sound()"
   ]
  },
  {
   "cell_type": "markdown",
   "id": "8199aac8",
   "metadata": {},
   "source": [
    "### Assignment 4: Multiple Inheritance Basic\n",
    "\n",
    "Create a base class named `Walker` with a method `walk` that prints a walking message. Create another base class named `Runner` with a method `run` that prints a running message. Create a derived class named `Athlete` that inherits from both `Walker` and `Runner`. Create an object of the `Athlete` class and call both methods."
   ]
  },
  {
   "cell_type": "code",
   "execution_count": 27,
   "id": "0dbed604",
   "metadata": {},
   "outputs": [],
   "source": [
    "class Walker():\n",
    "\n",
    "    def walk(self):\n",
    "        print(\"Person is walking\")\n",
    "\n",
    "class Runner():\n",
    "\n",
    "    def runner(self):\n",
    "        print('person is running')\n",
    "\n",
    "\n",
    "class Athelete(Walker, Runner):\n",
    "    pass\n",
    "\n",
    "\n",
    "\n",
    "    # def __init__(self):\n",
    "    #     Walker.__init__()\n",
    "    #     Runner.__init__()"
   ]
  },
  {
   "cell_type": "code",
   "execution_count": 28,
   "id": "6f503e7d",
   "metadata": {},
   "outputs": [
    {
     "name": "stdout",
     "output_type": "stream",
     "text": [
      "Person is walking\n",
      "person is running\n"
     ]
    },
    {
     "data": {
      "text/plain": [
       "(None, None)"
      ]
     },
     "execution_count": 28,
     "metadata": {},
     "output_type": "execute_result"
    }
   ],
   "source": [
    "wlk = Walker()\n",
    "run = Runner()\n",
    "wlk.walk(), run.runner()"
   ]
  },
  {
   "cell_type": "code",
   "execution_count": 30,
   "id": "8aee055a",
   "metadata": {},
   "outputs": [
    {
     "name": "stdout",
     "output_type": "stream",
     "text": [
      "person is running\n",
      "Person is walking\n"
     ]
    },
    {
     "data": {
      "text/plain": [
       "(None, None)"
      ]
     },
     "execution_count": 30,
     "metadata": {},
     "output_type": "execute_result"
    }
   ],
   "source": [
    "ath = Athelete()\n",
    "ath.runner(), ath.walk()"
   ]
  },
  {
   "cell_type": "markdown",
   "id": "000e0735",
   "metadata": {},
   "source": [
    "### Assignment 5: Method Resolution Order (MRO) in Multiple Inheritance\n",
    "\n",
    "In the `Athlete` class, override the `walk` method to print a different message. Create an object of the class and call the `walk` method. Use the `super()` function to call the `walk` method of the `Walker` class."
   ]
  },
  {
   "cell_type": "code",
   "execution_count": 37,
   "id": "5dc5d5a8",
   "metadata": {},
   "outputs": [],
   "source": [
    "class Athelete(Walker, Runner):\n",
    "    # def __init__(self):\n",
    "    #     Walker.__init__()\n",
    "    #     Runner.__init__()\n",
    "\n",
    "    def walk(self):\n",
    "        return \"Person is walking too much\""
   ]
  },
  {
   "cell_type": "code",
   "execution_count": 38,
   "id": "18652ff1",
   "metadata": {},
   "outputs": [
    {
     "data": {
      "text/plain": [
       "'Person is walking too much'"
      ]
     },
     "execution_count": 38,
     "metadata": {},
     "output_type": "execute_result"
    }
   ],
   "source": [
    "ath = Athelete()\n",
    "ath.walk()"
   ]
  },
  {
   "cell_type": "markdown",
   "id": "5e208db0",
   "metadata": {},
   "source": [
    "### Assignment 6: Multiple Inheritance with Additional Attributes\n",
    "\n",
    "In the `Athlete` class, add an attribute `training_hours` and a method `train` that prints the training hours. Create an object of the class and call the method."
   ]
  },
  {
   "cell_type": "code",
   "execution_count": 42,
   "id": "c35e2ee9",
   "metadata": {},
   "outputs": [],
   "source": [
    "class Athelete(Walker, Runner):\n",
    "    def __init__(self,training_hours):\n",
    "        self.training_hours = training_hours\n",
    "\n",
    "    def train(self):\n",
    "        print(f\"the hours : {self.training_hours}\")\n",
    "        print(Athelete.__class__)\n",
    "        \n",
    "    # def __init__(self):\n",
    "    #     Walker.__init__()\n",
    "    #     Runner.__init__()\n",
    "\n",
    "    def walk(self):\n",
    "        return \"Person is walking too much\""
   ]
  },
  {
   "cell_type": "code",
   "execution_count": 43,
   "id": "25fe8297",
   "metadata": {},
   "outputs": [
    {
     "name": "stdout",
     "output_type": "stream",
     "text": [
      "the hours : 56\n",
      "<class 'type'>\n"
     ]
    }
   ],
   "source": [
    "ath = Athelete(56)\n",
    "ath.train()"
   ]
  },
  {
   "cell_type": "markdown",
   "id": "01d27dc0",
   "metadata": {},
   "source": [
    "### Assignment 7: Diamond Problem in Multiple Inheritance\n",
    "\n",
    "Create a class named `A` with a method `show` that prints a message. Create two derived classes `B` and `C` that inherit from `A` and override the `show` method. Create a class `D` that inherits from both `B` and `C`. Create an object of the `D` class and call the `show` method. Observe the method resolution order."
   ]
  },
  {
   "cell_type": "code",
   "execution_count": 47,
   "id": "3079ef2e",
   "metadata": {},
   "outputs": [],
   "source": [
    "class Aa():\n",
    "    def show(self):\n",
    "        return \"Base Class\"\n",
    "\n",
    "class Bb(Aa):\n",
    "\n",
    "    def show(self):\n",
    "        print(\"New class B\")\n",
    "        # print(super().show()) \n",
    "\n",
    "class Cc(Aa):\n",
    "\n",
    "    def show(self):\n",
    "        print(\"New class C\")\n",
    "        # print(super().show()) \n",
    "\n",
    "def show_F(cls):\n",
    "    return cls.show()"
   ]
  },
  {
   "cell_type": "code",
   "execution_count": 48,
   "id": "c263bd15",
   "metadata": {},
   "outputs": [
    {
     "data": {
      "text/plain": [
       "'Base Class'"
      ]
     },
     "execution_count": 48,
     "metadata": {},
     "output_type": "execute_result"
    }
   ],
   "source": [
    "aa = Aa()\n",
    "show_F(aa)"
   ]
  },
  {
   "cell_type": "code",
   "execution_count": 49,
   "id": "81236e08",
   "metadata": {},
   "outputs": [
    {
     "name": "stdout",
     "output_type": "stream",
     "text": [
      "New class B\n"
     ]
    }
   ],
   "source": [
    "bb = Bb()\n",
    "show_F(bb)"
   ]
  },
  {
   "cell_type": "code",
   "execution_count": 50,
   "id": "5bcb8200",
   "metadata": {},
   "outputs": [
    {
     "name": "stdout",
     "output_type": "stream",
     "text": [
      "New class C\n"
     ]
    }
   ],
   "source": [
    "cc = Cc()\n",
    "show_F(cc)"
   ]
  },
  {
   "cell_type": "markdown",
   "id": "58339635",
   "metadata": {},
   "source": [
    "### Assignment 8: Using `super()` in Single Inheritance\n",
    "\n",
    "Create a base class named `Shape` with an attribute `color`. Create a derived class named `Circle` that inherits from `Shape` and adds an attribute `radius`. Use the `super()` function to initialize the attributes. Create an object of the `Circle` class and print its attributes."
   ]
  },
  {
   "cell_type": "code",
   "execution_count": 51,
   "id": "b68cad91",
   "metadata": {},
   "outputs": [],
   "source": [
    "class Shape:\n",
    "    def __init__(self,color):\n",
    "        self.color = color\n",
    "\n",
    "class Circle(Shape):\n",
    "\n",
    "    def __init__(self, color, radius):\n",
    "        super().__init__(color)\n",
    "        self.radius = radius"
   ]
  },
  {
   "cell_type": "code",
   "execution_count": 52,
   "id": "c9186f5d",
   "metadata": {},
   "outputs": [
    {
     "name": "stdout",
     "output_type": "stream",
     "text": [
      "Red 5\n"
     ]
    }
   ],
   "source": [
    "circle = Circle('Red', 5)\n",
    "print(circle.color, circle.radius)"
   ]
  },
  {
   "cell_type": "markdown",
   "id": "6b7fc927",
   "metadata": {},
   "source": [
    "### Assignment 9: Using `super()` in Multiple Inheritance\n",
    "\n",
    "Create a class named `Person` with an attribute `name`. Create a class named `Employee` with an attribute `employee_id`. Create a derived class `Manager` that inherits from both `Person` and `Employee`. Use the `super()` function to initialize the attributes. Create an object of the `Manager` class and print its attributes."
   ]
  },
  {
   "cell_type": "code",
   "execution_count": 59,
   "id": "5aa4ee1f",
   "metadata": {},
   "outputs": [],
   "source": [
    "class Person:\n",
    "    def __init__(self, name):\n",
    "        self.name = name\n",
    "\n",
    "class Employee:\n",
    "    def __init__(self, employee_id):\n",
    "        self.employee_id = employee_id\n",
    "\n",
    "class Manager(Person, Employee):\n",
    "    def __init__(self, name, employee_id):\n",
    "        super().__init__(name)\n",
    "        Employee.__init__(self, employee_id)\n",
    "\n",
    "# Test\n",
    "# manager = Manager('John', 'M123')\n",
    "# print(manager.name, manager.employee_id)"
   ]
  },
  {
   "cell_type": "code",
   "execution_count": 67,
   "id": "4fde0fa0",
   "metadata": {},
   "outputs": [],
   "source": [
    "class Person:\n",
    "\n",
    "    def __init__(self, name):\n",
    "        self.name = name\n",
    "\n",
    "class Employee:\n",
    "\n",
    "    def __init__(self,employee_id):\n",
    "        self.employee_id = employee_id\n",
    "\n",
    "class Manager(Person, Employee):\n",
    "\n",
    "    def __init__(self, name, employee_id):\n",
    "        super().__init__(name)\n",
    "        Employee.__init__(self,employee_id)\n"
   ]
  },
  {
   "cell_type": "code",
   "execution_count": 68,
   "id": "d4a60d78",
   "metadata": {},
   "outputs": [
    {
     "data": {
      "text/plain": [
       "(54548, 'Mart')"
      ]
     },
     "execution_count": 68,
     "metadata": {},
     "output_type": "execute_result"
    }
   ],
   "source": [
    "mn = Manager('Mart',54548)\n",
    "mn.employee_id, mn.name"
   ]
  },
  {
   "cell_type": "markdown",
   "id": "8e51bbc6",
   "metadata": {},
   "source": [
    "### Assignment 10: Method Overriding and `super()`\n",
    "\n",
    "Create a class named `Vehicle` with a method `start` that prints a starting message. Create a derived class `Car` that overrides the `start` method to print a different message. Use the `super()` function to call the `start` method of the `Vehicle` class. Create an object of the `Car` class and call the `start` method."
   ]
  },
  {
   "cell_type": "code",
   "execution_count": 69,
   "id": "38457825",
   "metadata": {},
   "outputs": [],
   "source": [
    "class Vehicle:\n",
    "\n",
    "    def start(self):\n",
    "        print(\"Starting message....\")\n",
    "\n",
    "class Car(Vehicle):\n",
    "\n",
    "    def start(self):\n",
    "        print(super().start())\n",
    "        print(\"Start Messages 1...\") "
   ]
  },
  {
   "cell_type": "code",
   "execution_count": 70,
   "id": "01ca43ca",
   "metadata": {},
   "outputs": [
    {
     "name": "stdout",
     "output_type": "stream",
     "text": [
      "Starting message....\n",
      "None\n",
      "Start Messages 1...\n"
     ]
    }
   ],
   "source": [
    "cr = Car()\n",
    "cr.start()"
   ]
  },
  {
   "cell_type": "markdown",
   "id": "f76c7085",
   "metadata": {},
   "source": [
    "### Assignment 11: Multiple Inheritance with Different Methods\n",
    "\n",
    "Create a class named `Flyer` with a method `fly` that prints a flying message. Create a class named `Swimmer` with a method `swim` that prints a swimming message. Create a derived class `Superhero` that inherits from both `Flyer` and `Swimmer`. Create an object of the `Superhero` class and call both methods."
   ]
  },
  {
   "cell_type": "code",
   "execution_count": 71,
   "id": "993f3c4e",
   "metadata": {},
   "outputs": [],
   "source": [
    "class Flyer:\n",
    "\n",
    "    def fly(self):\n",
    "        print(\"flying message..\")\n",
    "\n",
    "class Swimmer:\n",
    "\n",
    "    def swimming(self):\n",
    "        print(\"Swimming ...\")\n",
    "\n",
    "class Superhero(Flyer, Swimmer):\n",
    "    pass"
   ]
  },
  {
   "cell_type": "code",
   "execution_count": 75,
   "id": "2abd3fb1",
   "metadata": {},
   "outputs": [
    {
     "name": "stdout",
     "output_type": "stream",
     "text": [
      "flying message..\n",
      "Swimming ...\n"
     ]
    }
   ],
   "source": [
    "spr = Superhero()\n",
    "spr.fly()\n",
    "spr.swimming()"
   ]
  },
  {
   "cell_type": "markdown",
   "id": "cdfd3a1e",
   "metadata": {},
   "source": [
    "### Assignment 12: Complex Multiple Inheritance\n",
    "\n",
    "Create a class named `Base1` with an attribute `a`. Create a class named `Base2` with an attribute `b`. Create a class named `Derived` that inherits from both `Base1` and `Base2` and adds an attribute `c`. Initialize all attributes using the `super()` function. Create an object of the `Derived` class and print its attributes."
   ]
  },
  {
   "cell_type": "code",
   "execution_count": 77,
   "id": "2dc87e95",
   "metadata": {},
   "outputs": [],
   "source": [
    "class Base1:\n",
    "\n",
    "    def __init__(self,a):\n",
    "        self.a = a\n",
    "\n",
    "class Base2:\n",
    "\n",
    "    def __init__(self,b):\n",
    "        self.b = b\n",
    "\n",
    "class Derived(Base1, Base2):\n",
    "\n",
    "    def __init__(self, a,b,c):\n",
    "        super().__init__(a)\n",
    "        Base2.__init__(self,b)\n",
    "        self.c = c"
   ]
  },
  {
   "cell_type": "code",
   "execution_count": 78,
   "id": "4a87eef6",
   "metadata": {},
   "outputs": [
    {
     "data": {
      "text/plain": [
       "(3, 2, 1)"
      ]
     },
     "execution_count": 78,
     "metadata": {},
     "output_type": "execute_result"
    }
   ],
   "source": [
    "dr = Derived(1,2,3)\n",
    "dr.c,dr.b, dr.a"
   ]
  },
  {
   "cell_type": "markdown",
   "id": "27fc98e2",
   "metadata": {},
   "source": [
    "### Assignment 13: Checking Instance Types with Inheritance\n",
    "\n",
    "Create a base class named `Animal` and a derived class named `Cat`. Create objects of both classes and use the `isinstance` function to check the instance types."
   ]
  },
  {
   "cell_type": "code",
   "execution_count": 79,
   "id": "26fe695d",
   "metadata": {},
   "outputs": [
    {
     "name": "stdout",
     "output_type": "stream",
     "text": [
      "True\n",
      "True\n",
      "True\n",
      "False\n"
     ]
    }
   ],
   "source": [
    "class Animal:\n",
    "    pass\n",
    "\n",
    "class Cat(Animal):\n",
    "    pass\n",
    "\n",
    "# Test\n",
    "animal = Animal()\n",
    "cat = Cat()\n",
    "print(isinstance(animal, Animal))  # True\n",
    "print(isinstance(cat, Animal))  # True\n",
    "print(isinstance(cat, Cat))  # True\n",
    "print(isinstance(animal, Cat))  # False"
   ]
  },
  {
   "cell_type": "markdown",
   "id": "4e9a8d34",
   "metadata": {},
   "source": [
    "### Assignment 14: Polymorphism with Inheritance\n",
    "\n",
    "Create a base class named `Bird` with a method `speak`. Create two derived classes `Parrot` and `Penguin` that override the `speak` method. Create a list of `Bird` objects and call the `speak` method on each object to demonstrate polymorphism."
   ]
  },
  {
   "cell_type": "code",
   "execution_count": 82,
   "id": "6e1b7a46",
   "metadata": {},
   "outputs": [],
   "source": [
    "class Bird:\n",
    "\n",
    "    def speak(self):\n",
    "        pass\n",
    "        print(\"Speaking\")\n",
    "\n",
    "class Parrot(Bird):\n",
    "\n",
    "    def speak(self):\n",
    "        print(\"Parrot pkking\")\n",
    "        # return super().speak()\n",
    "    \n",
    "class Penguin(Bird):\n",
    "\n",
    "    def speak(self):\n",
    "        print(\"Penguin humming\")\n",
    "        # return super().speak()\n",
    "    "
   ]
  },
  {
   "cell_type": "code",
   "execution_count": 83,
   "id": "859e0434",
   "metadata": {},
   "outputs": [
    {
     "name": "stdout",
     "output_type": "stream",
     "text": [
      "Parrot pkking\n",
      "Penguin humming\n"
     ]
    }
   ],
   "source": [
    "birds = [Parrot(), Penguin()]\n",
    "for bird in birds:\n",
    "    bird.speak()"
   ]
  },
  {
   "cell_type": "markdown",
   "id": "cd6ee537",
   "metadata": {},
   "source": [
    "\n",
    "\n",
    "\n",
    "\n",
    "\n",
    "\n",
    "\n",
    "\n",
    "\n",
    "\n",
    "\n",
    "### Assignment 15: Combining Single and Multiple Inheritance\n",
    "\n",
    "Create a base class named `Device` with an attribute `brand`. Create a derived class `Phone` that inherits from `Device` and adds an attribute `model`. Create another base class `Camera` with an attribute `resolution`. Create a derived class `Smartphone` that inherits from both `Phone` and `Camera`. Create an object of the `Smartphone` class and print its attributes."
   ]
  },
  {
   "cell_type": "code",
   "execution_count": 84,
   "id": "aff31525",
   "metadata": {},
   "outputs": [],
   "source": [
    "class Device:\n",
    "\n",
    "    def __init__(self, brand):\n",
    "        self.brand = brand\n",
    "\n",
    "class Phone(Device):\n",
    "    def __init__(self, brand, model):\n",
    "        super().__init__(brand)\n",
    "        self.model = model\n",
    "\n",
    "class Camera:\n",
    "\n",
    "    def __init__(self, resolution):\n",
    "        self.resolution = resolution\n",
    "\n",
    "class Smartphone(Phone, Camera):\n",
    "    def __init__(self, brand, model, resolution):\n",
    "        super().__init__(brand, model)\n",
    "        Camera.__init__(self, resolution)"
   ]
  },
  {
   "cell_type": "code",
   "execution_count": 86,
   "id": "d39fa8e1",
   "metadata": {},
   "outputs": [
    {
     "data": {
      "text/plain": [
       "('500px', '15', 'Apple')"
      ]
     },
     "execution_count": 86,
     "metadata": {},
     "output_type": "execute_result"
    }
   ],
   "source": [
    "sm = Smartphone('Apple','15','500px')\n",
    "sm.resolution, sm.model, sm.brand"
   ]
  },
  {
   "cell_type": "code",
   "execution_count": null,
   "id": "c6f7aac7",
   "metadata": {},
   "outputs": [],
   "source": []
  }
 ],
 "metadata": {
  "kernelspec": {
   "display_name": "Python 3",
   "language": "python",
   "name": "python3"
  },
  "language_info": {
   "codemirror_mode": {
    "name": "ipython",
    "version": 3
   },
   "file_extension": ".py",
   "mimetype": "text/x-python",
   "name": "python",
   "nbconvert_exporter": "python",
   "pygments_lexer": "ipython3",
   "version": "3.12.0"
  }
 },
 "nbformat": 4,
 "nbformat_minor": 5
}
