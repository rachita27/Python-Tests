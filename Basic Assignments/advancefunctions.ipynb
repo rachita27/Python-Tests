{
 "cells": [
  {
   "cell_type": "markdown",
   "id": "93fafe85",
   "metadata": {},
   "source": [
    "# Module 4: Advanced Functions Assignments\n",
    "## Lesson 4.1: Defining Functions\n",
    "### Assignment 1: Fibonacci Sequence with Memoization\n",
    "\n",
    "Define a recursive function to calculate the nth Fibonacci number using memoization. Test the function with different inputs.\n"
   ]
  },
  {
   "cell_type": "code",
   "execution_count": null,
   "id": "4bdf731a",
   "metadata": {},
   "outputs": [],
   "source": [
    "def fib_series(n):\n",
    "    a,b = 0,1\n",
    "\n",
    "    a,b = b,a+b\n",
    "    if n < 2:\n",
    "        return n\n",
    "    \n",
    "    return fib_series(n-1)+fib_series(n-2)"
   ]
  },
  {
   "cell_type": "code",
   "execution_count": 11,
   "id": "25b920cb",
   "metadata": {},
   "outputs": [
    {
     "name": "stdout",
     "output_type": "stream",
     "text": [
      "1\n",
      "2\n",
      "55\n"
     ]
    }
   ],
   "source": [
    "print(fib_series(2))\n",
    "print(fib_series(3))\n",
    "print(fib_series(10))"
   ]
  },
  {
   "cell_type": "markdown",
   "id": "e3f8fd7d",
   "metadata": {},
   "source": [
    "### Assignment 2: Function with Nested Default Arguments\n",
    "\n",
    "Define a function that takes two arguments, a and b, where b is a dictionary with a default value of an empty dictionary. The function should add a new key-value pair to the dictionary and return it. Test the function with different inputs."
   ]
  },
  {
   "cell_type": "code",
   "execution_count": 12,
   "id": "1763ee4c",
   "metadata": {},
   "outputs": [],
   "source": [
    "def func_nes(a,b= {}):\n",
    "    b['New_val'] = a\n",
    "    return b"
   ]
  },
  {
   "cell_type": "code",
   "execution_count": 14,
   "id": "266cdd5c",
   "metadata": {},
   "outputs": [
    {
     "name": "stdout",
     "output_type": "stream",
     "text": [
      "{'name': 'Ram', 'age': 56, 'New_val': 8}\n"
     ]
    },
    {
     "data": {
      "text/plain": [
       "{'New_val': 1000}"
      ]
     },
     "execution_count": 14,
     "metadata": {},
     "output_type": "execute_result"
    }
   ],
   "source": [
    "print(func_nes(8,{'name':'Ram','age':56}))\n",
    "func_nes(1000)"
   ]
  },
  {
   "cell_type": "markdown",
   "id": "2fa2a641",
   "metadata": {},
   "source": [
    "### Assignment 3: Function with Variable Keyword Arguments\n",
    "\n",
    "Define a function that takes a variable number of keyword arguments and returns a dictionary containing only those key-value pairs where the value is an integer. Test the function with different inputs"
   ]
  },
  {
   "cell_type": "code",
   "execution_count": 45,
   "id": "fc5d346a",
   "metadata": {},
   "outputs": [],
   "source": [
    "import re"
   ]
  },
  {
   "cell_type": "code",
   "execution_count": 58,
   "id": "e4647933",
   "metadata": {},
   "outputs": [
    {
     "data": {
      "text/plain": [
       "True"
      ]
     },
     "execution_count": 58,
     "metadata": {},
     "output_type": "execute_result"
    }
   ],
   "source": [
    "isinstance(2, int)"
   ]
  },
  {
   "cell_type": "code",
   "execution_count": 63,
   "id": "28115a44",
   "metadata": {},
   "outputs": [],
   "source": [
    "def func_var(**kwargs):\n",
    "    # for i in kwargs.items():\n",
    "    #     print(i)\n",
    "    #     print((i[-1]))\n",
    "    return list(filter(lambda x: isinstance(x[1],int), kwargs.items() ))"
   ]
  },
  {
   "cell_type": "code",
   "execution_count": 64,
   "id": "dbd97400",
   "metadata": {},
   "outputs": [
    {
     "name": "stdout",
     "output_type": "stream",
     "text": [
      "[('age', 54), ('height', 141), ('moles', 2)]\n"
     ]
    },
    {
     "data": {
      "text/plain": [
       "[('age', 54), ('height', 141), ('moles', 2)]"
      ]
     },
     "execution_count": 64,
     "metadata": {},
     "output_type": "execute_result"
    }
   ],
   "source": [
    "print(func_var(age= 54, height= 141, moles = 2)  )#, 'age'= 54, 'height'= 141, 'moles' = 2\n",
    "func_var(age= 54, height= 141, moles = 2, name = 'ram', mahan = '676') "
   ]
  },
  {
   "cell_type": "markdown",
   "id": "22314950",
   "metadata": {},
   "source": [
    "### Assignment 4: Function with Callback\n",
    "\n",
    "Define a function that takes another function as a callback and a list of integers. The function should apply the callback to each integer in the list and return a new list with the results. Test with different callback functions."
   ]
  },
  {
   "cell_type": "code",
   "execution_count": 65,
   "id": "a1066e4f",
   "metadata": {},
   "outputs": [],
   "source": [
    "def func_call(fn,lst=[]):\n",
    "    return list(map(lambda x: fn(x), lst))"
   ]
  },
  {
   "cell_type": "code",
   "execution_count": 67,
   "id": "50d38fcc",
   "metadata": {},
   "outputs": [],
   "source": [
    "import math"
   ]
  },
  {
   "cell_type": "code",
   "execution_count": 71,
   "id": "67608478",
   "metadata": {},
   "outputs": [
    {
     "name": "stdout",
     "output_type": "stream",
     "text": [
      "[1, 23, 654, -687464]\n",
      "[1.0, 4.795831523312719, 25.573423705088842, 829.1344884878448]\n",
      "[4.605170185988092, 3.1354942159291497, 6.483107351457199, 13.440764743515476]\n"
     ]
    }
   ],
   "source": [
    "print(func_call(int, ['1','23','654','-687464']))\n",
    "print(func_call(math.sqrt, [1,23,654,687464]))\n",
    "print(func_call(math.log, [100,23,654,687464]))"
   ]
  },
  {
   "cell_type": "markdown",
   "id": "03f8af37",
   "metadata": {},
   "source": [
    "### Assignment 5: Function that Returns a Function\n",
    "\n",
    "Define a function that returns another function. The returned function should take an integer and return its square. Test the returned function with different inputs."
   ]
  },
  {
   "cell_type": "code",
   "execution_count": 76,
   "id": "5ddfa763",
   "metadata": {},
   "outputs": [],
   "source": [
    "def func_ret(): \n",
    "    def sqr(x): \n",
    "        return x ** 2\n",
    "    return sqr"
   ]
  },
  {
   "cell_type": "code",
   "execution_count": 77,
   "id": "00e640b0",
   "metadata": {},
   "outputs": [],
   "source": [
    "x = func_ret()"
   ]
  },
  {
   "cell_type": "code",
   "execution_count": 79,
   "id": "849ca50a",
   "metadata": {},
   "outputs": [
    {
     "name": "stdout",
     "output_type": "stream",
     "text": [
      "16\n",
      "5776\n"
     ]
    }
   ],
   "source": [
    "print(x(4))\n",
    "print(x(76))"
   ]
  },
  {
   "cell_type": "markdown",
   "id": "f94b068f",
   "metadata": {},
   "source": [
    "### Assignment 6: Function with Decorators\n",
    "\n",
    "Define a function that calculates the time taken to execute another function. Apply this decorator to a function that performs a complex calculation. Test the decorated function with different inputs."
   ]
  },
  {
   "cell_type": "code",
   "execution_count": 129,
   "id": "ff202bc3",
   "metadata": {},
   "outputs": [],
   "source": [
    "import time\n",
    "\n",
    "def func_time(func):\n",
    "    \n",
    "    \n",
    "    def wrapper_t(*args):\n",
    "        start_time = time.time()\n",
    "        result = func(*args)\n",
    "        end_time = time.time()\n",
    "        print(f\"Function {func.__name__} took {end_time - start_time} seconds to execute.\")\n",
    "        return result\n",
    "    return wrapper_t\n",
    "    \n",
    "\n"
   ]
  },
  {
   "cell_type": "code",
   "execution_count": 130,
   "id": "77628ae3",
   "metadata": {},
   "outputs": [],
   "source": [
    "@func_time\n",
    "def funct_sq(x):\n",
    "    return x ** 2"
   ]
  },
  {
   "cell_type": "code",
   "execution_count": 131,
   "id": "ef23e4bb",
   "metadata": {},
   "outputs": [
    {
     "name": "stdout",
     "output_type": "stream",
     "text": [
      "Function funct_sq took 0.0 seconds to execute.\n"
     ]
    },
    {
     "data": {
      "text/plain": [
       "25"
      ]
     },
     "execution_count": 131,
     "metadata": {},
     "output_type": "execute_result"
    }
   ],
   "source": [
    "# func_time()\n",
    "funct_sq(5)"
   ]
  },
  {
   "cell_type": "code",
   "execution_count": 132,
   "id": "0e9729ad",
   "metadata": {},
   "outputs": [
    {
     "name": "stdout",
     "output_type": "stream",
     "text": [
      "Function funct_sq took 0.0 seconds to execute.\n"
     ]
    },
    {
     "data": {
      "text/plain": [
       "100000000000000000000000000000000000000"
      ]
     },
     "execution_count": 132,
     "metadata": {},
     "output_type": "execute_result"
    }
   ],
   "source": [
    "funct_sq(10000000000000000000)"
   ]
  },
  {
   "cell_type": "markdown",
   "id": "8c5bdb51",
   "metadata": {},
   "source": [
    "### Assignment 7: Higher-Order Function for Filtering and Mapping\n",
    "\n",
    "Define a higher-order function that takes two functions, a filter function and a map function, along with a list of integers. The higher-order function should first filter the integers using the filter function and then apply the map function to the filtered integers. Test with different filter and map functions."
   ]
  },
  {
   "cell_type": "code",
   "execution_count": 139,
   "id": "9d21183f",
   "metadata": {},
   "outputs": [],
   "source": [
    "def func_high(func1, func2, lst):\n",
    "\n",
    "    lst_n = list(filter(func1, lst))\n",
    "\n",
    "    return list(map(func2,lst_n))"
   ]
  },
  {
   "cell_type": "code",
   "execution_count": 140,
   "id": "fb428f61",
   "metadata": {},
   "outputs": [
    {
     "name": "stdout",
     "output_type": "stream",
     "text": [
      "[0, 4, 16, 36, 64, 100]\n"
     ]
    }
   ],
   "source": [
    "##printing square of even numbers\n",
    "print(func_high(lambda x: x%2 == 0, lambda x: x**2, list(range(11))))"
   ]
  },
  {
   "cell_type": "code",
   "execution_count": 141,
   "id": "9c45ff4b",
   "metadata": {},
   "outputs": [
    {
     "name": "stdout",
     "output_type": "stream",
     "text": [
      "[1, 9, 25, 49, 81]\n"
     ]
    }
   ],
   "source": [
    "##printing square of odd numbers\n",
    "print(func_high(lambda x: x%2 != 0, lambda x: x**2, list(range(11))))"
   ]
  },
  {
   "cell_type": "markdown",
   "id": "808484e0",
   "metadata": {},
   "source": [
    "### Assignment 8: Function Composition\n",
    "\n",
    "Define a function that composes two functions, f and g, such that the result is f(g(x)). Test with different functions f and g."
   ]
  },
  {
   "cell_type": "code",
   "execution_count": 153,
   "id": "e50c7361",
   "metadata": {},
   "outputs": [],
   "source": [
    "##use decorator\n",
    "def funct_cmpose(f,g,lst):\n",
    "    def wrapper_f():\n",
    "        res = f(g(lst))\n",
    "        return res\n",
    "    return wrapper_f"
   ]
  },
  {
   "cell_type": "code",
   "execution_count": null,
   "id": "ac0ed216",
   "metadata": {},
   "outputs": [
    {
     "data": {
      "text/plain": [
       "720"
      ]
     },
     "execution_count": 155,
     "metadata": {},
     "output_type": "execute_result"
    }
   ],
   "source": [
    "x = funct_cmpose(math.factorial,max,[2,4,5,6,0,3])\n",
    "x()"
   ]
  },
  {
   "cell_type": "markdown",
   "id": "d3d13be2",
   "metadata": {},
   "source": [
    "### Assignment 10: Function with Error Handling\n",
    "\n",
    "Define a function that takes a list of integers and returns their average. The function should handle any errors that occur (e.g., empty list) and return None in such cases. Test with different inputs"
   ]
  },
  {
   "cell_type": "code",
   "execution_count": 158,
   "id": "8623d1ba",
   "metadata": {},
   "outputs": [
    {
     "name": "stdout",
     "output_type": "stream",
     "text": [
      "Collecting numpy\n",
      "  Downloading numpy-2.3.2-cp312-cp312-win_amd64.whl.metadata (60 kB)\n",
      "Downloading numpy-2.3.2-cp312-cp312-win_amd64.whl (12.8 MB)\n",
      "   ---------------------------------------- 0.0/12.8 MB ? eta -:--:--\n",
      "   -- ------------------------------------- 0.8/12.8 MB 5.6 MB/s eta 0:00:03\n",
      "   -------- ------------------------------- 2.6/12.8 MB 7.6 MB/s eta 0:00:02\n",
      "   ----------------- ---------------------- 5.5/12.8 MB 10.5 MB/s eta 0:00:01\n",
      "   --------------------------- ------------ 8.7/12.8 MB 11.7 MB/s eta 0:00:01\n",
      "   ------------------------------------ --- 11.8/12.8 MB 12.3 MB/s eta 0:00:01\n",
      "   ---------------------------------------- 12.8/12.8 MB 12.5 MB/s eta 0:00:00\n",
      "Installing collected packages: numpy\n",
      "Successfully installed numpy-2.3.2\n"
     ]
    }
   ],
   "source": [
    "!pip install numpy"
   ]
  },
  {
   "cell_type": "code",
   "execution_count": 159,
   "id": "bfbf8fdd",
   "metadata": {},
   "outputs": [],
   "source": [
    "import numpy as np"
   ]
  },
  {
   "cell_type": "code",
   "execution_count": 162,
   "id": "8c6fa20c",
   "metadata": {},
   "outputs": [],
   "source": [
    "def func_avg(lst):\n",
    "    if len(lst) == 0:\n",
    "        return None\n",
    "    else:\n",
    "        return float(np.mean(lst))"
   ]
  },
  {
   "cell_type": "code",
   "execution_count": 165,
   "id": "fcca7c1e",
   "metadata": {},
   "outputs": [
    {
     "name": "stdout",
     "output_type": "stream",
     "text": [
      "5.2\n",
      "None\n"
     ]
    }
   ],
   "source": [
    "print(func_avg([9,10,2,2,3 ]))\n",
    "print(func_avg([]))"
   ]
  },
  {
   "cell_type": "markdown",
   "id": "a0b63f29",
   "metadata": {},
   "source": [
    "### Assignment 11: Function with Generators\n",
    "\n",
    "Define a function that generates an infinite sequence of Fibonacci numbers. Test by printing the first 10 numbers in the sequence."
   ]
  },
  {
   "cell_type": "code",
   "execution_count": 177,
   "id": "69053bb7",
   "metadata": {},
   "outputs": [],
   "source": [
    "def fb(n):\n",
    "    a,b = 0, 1\n",
    "\n",
    "    lst= []\n",
    "    \n",
    "    for i in range(n+1):\n",
    "        \n",
    "        lst.append(a)\n",
    "        a,b = b,b+a\n",
    "        \n",
    "    return lst"
   ]
  },
  {
   "cell_type": "code",
   "execution_count": 178,
   "id": "40a4d80b",
   "metadata": {},
   "outputs": [
    {
     "name": "stdout",
     "output_type": "stream",
     "text": [
      "[0, 1, 1, 2, 3, 5, 8, 13, 21, 34, 55]\n",
      "[0, 1]\n"
     ]
    }
   ],
   "source": [
    "print(fb(10))\n",
    "print(fb(1))"
   ]
  },
  {
   "cell_type": "code",
   "execution_count": null,
   "id": "fd863e96",
   "metadata": {},
   "outputs": [],
   "source": []
  }
 ],
 "metadata": {
  "kernelspec": {
   "display_name": "Python 3",
   "language": "python",
   "name": "python3"
  },
  "language_info": {
   "codemirror_mode": {
    "name": "ipython",
    "version": 3
   },
   "file_extension": ".py",
   "mimetype": "text/x-python",
   "name": "python",
   "nbconvert_exporter": "python",
   "pygments_lexer": "ipython3",
   "version": "3.12.0"
  }
 },
 "nbformat": 4,
 "nbformat_minor": 5
}
