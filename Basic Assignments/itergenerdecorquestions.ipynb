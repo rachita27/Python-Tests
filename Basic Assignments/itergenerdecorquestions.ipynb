{
 "cells": [
  {
   "cell_type": "markdown",
   "id": "c2ef3927",
   "metadata": {},
   "source": [
    "# Module: Iterators, Generators, and Decorators Assignments\n",
    "## Lesson: Iterators, Generators, and Decorators\n",
    "### Assignment 1: Custom Iterator\n",
    "\n",
    "Create a custom iterator class named `Countdown` that takes a number and counts down to zero. Implement the `__iter__` and `__next__` methods. Test the iterator by using it in a for loop."
   ]
  },
  {
   "cell_type": "code",
   "execution_count": 11,
   "id": "030a710b",
   "metadata": {},
   "outputs": [],
   "source": [
    "class Countdown:\n",
    "    def __init__(self, start):\n",
    "        self.current = start\n",
    "\n",
    "    def __iter__(self):\n",
    "        return self\n",
    "\n",
    "    def __next__(self):\n",
    "        if self.current <= 0:\n",
    "            raise StopIteration\n",
    "        else:\n",
    "            self.current -= 1\n",
    "            return self.current"
   ]
  },
  {
   "cell_type": "code",
   "execution_count": 15,
   "id": "a37336bd",
   "metadata": {},
   "outputs": [
    {
     "name": "stdout",
     "output_type": "stream",
     "text": [
      "4\n",
      "3\n",
      "2\n",
      "1\n",
      "0\n"
     ]
    }
   ],
   "source": [
    "for number in Countdown(5):\n",
    "    print(number)"
   ]
  },
  {
   "cell_type": "code",
   "execution_count": 17,
   "id": "72d04ade",
   "metadata": {},
   "outputs": [],
   "source": [
    "nm = Countdown(5)"
   ]
  },
  {
   "cell_type": "code",
   "execution_count": 18,
   "id": "2ac76e6c",
   "metadata": {},
   "outputs": [
    {
     "data": {
      "text/plain": [
       "4"
      ]
     },
     "execution_count": 18,
     "metadata": {},
     "output_type": "execute_result"
    }
   ],
   "source": [
    "next(nm)"
   ]
  },
  {
   "cell_type": "code",
   "execution_count": 19,
   "id": "04755837",
   "metadata": {},
   "outputs": [
    {
     "data": {
      "text/plain": [
       "3"
      ]
     },
     "execution_count": 19,
     "metadata": {},
     "output_type": "execute_result"
    }
   ],
   "source": [
    "next(nm)"
   ]
  },
  {
   "cell_type": "markdown",
   "id": "9620deb5",
   "metadata": {},
   "source": [
    "### Assignment 2: Custom Iterable Class\n",
    "\n",
    "Create a class named `MyRange` that mimics the behavior of the built-in `range` function. Implement the `__iter__` and `__next__` methods. Test the class by using it in a for loop."
   ]
  },
  {
   "cell_type": "code",
   "execution_count": 52,
   "id": "605007c3",
   "metadata": {},
   "outputs": [],
   "source": [
    "class MyRange:\n",
    "    st = 0\n",
    "\n",
    "    def __init__(self,num):\n",
    "        self.num = num\n",
    "\n",
    "    def __iter__(self):\n",
    "        return self\n",
    "\n",
    "    def __next__(self):\n",
    "        if self.st > self.num:\n",
    "            raise StopIteration\n",
    "        else:\n",
    "            self.st += 1\n",
    "            return self.st\n"
   ]
  },
  {
   "cell_type": "code",
   "execution_count": 53,
   "id": "e4feb4e3",
   "metadata": {},
   "outputs": [
    {
     "name": "stdout",
     "output_type": "stream",
     "text": [
      "1\n",
      "2\n",
      "3\n",
      "4\n",
      "5\n",
      "6\n"
     ]
    }
   ],
   "source": [
    "for number in MyRange( 5):\n",
    "    print(number)"
   ]
  },
  {
   "cell_type": "code",
   "execution_count": 50,
   "id": "e76801b2",
   "metadata": {},
   "outputs": [],
   "source": [
    "class MyRange:\n",
    "    def __init__(self, start, end):\n",
    "        self.current = start\n",
    "        self.end = end\n",
    "\n",
    "    def __iter__(self):\n",
    "        return self\n",
    "\n",
    "    def __next__(self):\n",
    "        if self.current >= self.end:\n",
    "            raise StopIteration\n",
    "        else:\n",
    "            self.current += 1\n",
    "            return self.current - 1"
   ]
  },
  {
   "cell_type": "code",
   "execution_count": 51,
   "id": "6b3adbcc",
   "metadata": {},
   "outputs": [
    {
     "name": "stdout",
     "output_type": "stream",
     "text": [
      "1\n",
      "2\n",
      "3\n",
      "4\n"
     ]
    }
   ],
   "source": [
    "for number in MyRange(1, 5):\n",
    "    print(number)"
   ]
  },
  {
   "cell_type": "code",
   "execution_count": 28,
   "id": "ab99f4ae",
   "metadata": {},
   "outputs": [],
   "source": [
    "nm =  MyRange(8)"
   ]
  },
  {
   "cell_type": "code",
   "execution_count": 29,
   "id": "d51eeb35",
   "metadata": {},
   "outputs": [
    {
     "data": {
      "text/plain": [
       "1"
      ]
     },
     "execution_count": 29,
     "metadata": {},
     "output_type": "execute_result"
    }
   ],
   "source": [
    "next(nm)"
   ]
  },
  {
   "cell_type": "code",
   "execution_count": 30,
   "id": "39ee6c79",
   "metadata": {},
   "outputs": [
    {
     "data": {
      "text/plain": [
       "2"
      ]
     },
     "execution_count": 30,
     "metadata": {},
     "output_type": "execute_result"
    }
   ],
   "source": [
    "next(nm)"
   ]
  },
  {
   "cell_type": "code",
   "execution_count": 37,
   "id": "2c294b20",
   "metadata": {},
   "outputs": [],
   "source": [
    "next(nm)"
   ]
  },
  {
   "cell_type": "markdown",
   "id": "cfff7148",
   "metadata": {},
   "source": [
    "### Assignment 3: Generator Function\n",
    "\n",
    "Write a generator function named `fibonacci` that yields the Fibonacci sequence. Test the generator by iterating over it and printing the first 10 Fibonacci numbers."
   ]
  },
  {
   "cell_type": "code",
   "execution_count": 62,
   "id": "9ca6c928",
   "metadata": {},
   "outputs": [],
   "source": [
    "def fibonacci(n):\n",
    "    a,b = 0,1\n",
    "\n",
    "    if n < 0:\n",
    "        yield 0\n",
    "    else:\n",
    "        for i in range(n+1):\n",
    "            a,b = b,a+b\n",
    "            yield a"
   ]
  },
  {
   "cell_type": "code",
   "execution_count": 63,
   "id": "35efe76b",
   "metadata": {},
   "outputs": [],
   "source": [
    "nm = fibonacci(2)"
   ]
  },
  {
   "cell_type": "code",
   "execution_count": 64,
   "id": "54d22209",
   "metadata": {},
   "outputs": [
    {
     "data": {
      "text/plain": [
       "1"
      ]
     },
     "execution_count": 64,
     "metadata": {},
     "output_type": "execute_result"
    }
   ],
   "source": [
    "next(nm)"
   ]
  },
  {
   "cell_type": "code",
   "execution_count": 65,
   "id": "b7847408",
   "metadata": {},
   "outputs": [
    {
     "data": {
      "text/plain": [
       "1"
      ]
     },
     "execution_count": 65,
     "metadata": {},
     "output_type": "execute_result"
    }
   ],
   "source": [
    "next(nm)"
   ]
  },
  {
   "cell_type": "code",
   "execution_count": 66,
   "id": "be5a063e",
   "metadata": {},
   "outputs": [
    {
     "data": {
      "text/plain": [
       "2"
      ]
     },
     "execution_count": 66,
     "metadata": {},
     "output_type": "execute_result"
    }
   ],
   "source": [
    "next(nm)"
   ]
  },
  {
   "cell_type": "code",
   "execution_count": 67,
   "id": "fcf60054",
   "metadata": {},
   "outputs": [
    {
     "name": "stdout",
     "output_type": "stream",
     "text": [
      "1\n",
      "1\n",
      "2\n",
      "3\n",
      "5\n",
      "8\n",
      "13\n"
     ]
    }
   ],
   "source": [
    "nm1 = fibonacci(6)\n",
    "\n",
    "for i in nm1:\n",
    "    print(i)"
   ]
  },
  {
   "cell_type": "markdown",
   "id": "55c3a731",
   "metadata": {},
   "source": [
    "### Assignment 4: Generator Expression\n",
    "\n",
    "Create a generator expression that generates the squares of numbers from 1 to 10. Iterate over the generator and print each value."
   ]
  },
  {
   "cell_type": "code",
   "execution_count": 68,
   "id": "2ae5fc7e",
   "metadata": {},
   "outputs": [],
   "source": [
    "def sq(n):\n",
    "    for i in range(1,n+1):\n",
    "        yield i ** 2\n"
   ]
  },
  {
   "cell_type": "code",
   "execution_count": 69,
   "id": "a28f6f76",
   "metadata": {},
   "outputs": [
    {
     "name": "stdout",
     "output_type": "stream",
     "text": [
      "1\n",
      "4\n",
      "9\n",
      "16\n",
      "25\n",
      "36\n"
     ]
    }
   ],
   "source": [
    "for i in sq(6):\n",
    "    print(i)"
   ]
  },
  {
   "cell_type": "markdown",
   "id": "490bd087",
   "metadata": {},
   "source": [
    "### Assignment 5: Chaining Generators\n",
    "\n",
    "Write two generator functions: `even_numbers` that yields even numbers up to a limit, and `squares` that yields the square of each number from another generator. Chain these generators to produce the squares of even numbers up to 20."
   ]
  },
  {
   "cell_type": "code",
   "execution_count": 73,
   "id": "57585c5c",
   "metadata": {},
   "outputs": [],
   "source": [
    "def even_numb(n):\n",
    "    for i in range(n+1):\n",
    "        if i % 2 == 0:\n",
    "            yield i\n",
    "\n",
    "def squares(n):\n",
    "    return n ** 2"
   ]
  },
  {
   "cell_type": "code",
   "execution_count": 74,
   "id": "911d3402",
   "metadata": {},
   "outputs": [
    {
     "name": "stdout",
     "output_type": "stream",
     "text": [
      "0\n",
      "4\n",
      "16\n",
      "36\n",
      "64\n"
     ]
    }
   ],
   "source": [
    "for i in even_numb(8):\n",
    "    print(squares(i))"
   ]
  },
  {
   "cell_type": "markdown",
   "id": "90a75987",
   "metadata": {},
   "source": [
    "### Assignment 6: Simple Decorator\n",
    "\n",
    "Write a decorator named `time_it` that measures the execution time of a function. Apply this decorator to a function that calculates the factorial of a number."
   ]
  },
  {
   "cell_type": "code",
   "execution_count": 75,
   "id": "7dfbc81b",
   "metadata": {},
   "outputs": [],
   "source": [
    "import time\n",
    "from datetime import datetime"
   ]
  },
  {
   "cell_type": "code",
   "execution_count": 82,
   "id": "274f7d40",
   "metadata": {},
   "outputs": [],
   "source": [
    "def time_it(func, lst):\n",
    "    str = datetime.now()\n",
    "\n",
    "    resu = func(lst)\n",
    "\n",
    "    end = datetime.now()\n",
    "    print(end - str)\n",
    "    return resu\n",
    "\n",
    "    "
   ]
  },
  {
   "cell_type": "code",
   "execution_count": 83,
   "id": "5ca66cbc",
   "metadata": {},
   "outputs": [
    {
     "name": "stdout",
     "output_type": "stream",
     "text": [
      "0:00:00\n"
     ]
    },
    {
     "data": {
      "text/plain": [
       "91"
      ]
     },
     "execution_count": 83,
     "metadata": {},
     "output_type": "execute_result"
    }
   ],
   "source": [
    "time_it(sum, [1,5,6,79])"
   ]
  },
  {
   "cell_type": "code",
   "execution_count": 87,
   "id": "5f3b65c9",
   "metadata": {},
   "outputs": [
    {
     "data": {
      "text/plain": [
       "'JSB'"
      ]
     },
     "execution_count": 87,
     "metadata": {},
     "output_type": "execute_result"
    }
   ],
   "source": [
    "\"jsb\".upper()"
   ]
  },
  {
   "cell_type": "markdown",
   "id": "7907b5b2",
   "metadata": {},
   "source": [
    "### Assignment 7: Nested Decorators\n",
    "\n",
    "Write two decorators: `uppercase` that converts the result of a function to uppercase, and `exclaim` that adds an exclamation mark to the result of a function. Apply both decorators to a function that returns a greeting message."
   ]
  },
  {
   "cell_type": "code",
   "execution_count": 193,
   "id": "dac7e106",
   "metadata": {},
   "outputs": [],
   "source": [
    "def uppercase(func):\n",
    "    def wrapper(*args, **kwargs):\n",
    "        result = func(*args, **kwargs)\n",
    "        return result.upper()\n",
    "    return wrapper\n",
    "\n",
    "def exclaim(func):\n",
    "    def wrapper(*args, **kwargs):\n",
    "        result = func(*args, **kwargs)\n",
    "        return result + \"!\"\n",
    "    return wrapper\n",
    "\n",
    "@uppercase\n",
    "@exclaim\n",
    "def greet(name):\n",
    "    return f\"Hello, {name}\""
   ]
  },
  {
   "cell_type": "code",
   "execution_count": 194,
   "id": "3c28d9e1",
   "metadata": {},
   "outputs": [
    {
     "data": {
      "text/plain": [
       "'HELLO, RONA!'"
      ]
     },
     "execution_count": 194,
     "metadata": {},
     "output_type": "execute_result"
    }
   ],
   "source": [
    "greet(\"rona\")"
   ]
  },
  {
   "cell_type": "code",
   "execution_count": 204,
   "id": "04bfa51d",
   "metadata": {},
   "outputs": [],
   "source": [
    "def uppercase(fun):\n",
    "\n",
    "    def wrap(string):\n",
    "        st = fun(string)\n",
    "        st = st.upper()\n",
    "        # print(st)\n",
    "        return st\n",
    "    \n",
    "    return wrap"
   ]
  },
  {
   "cell_type": "code",
   "execution_count": 205,
   "id": "1cf756e5",
   "metadata": {},
   "outputs": [],
   "source": [
    "@uppercase\n",
    "def exclaim(string):\n",
    "    \n",
    "    return string + \"!\""
   ]
  },
  {
   "cell_type": "code",
   "execution_count": 206,
   "id": "969804e0",
   "metadata": {},
   "outputs": [
    {
     "name": "stdout",
     "output_type": "stream",
     "text": [
      "HAHJA!\n"
     ]
    }
   ],
   "source": [
    "print(exclaim('hahja'))"
   ]
  },
  {
   "cell_type": "markdown",
   "id": "c932e8e0",
   "metadata": {},
   "source": [
    "### Assignment 8:  Stateful Generators\n",
    "\n",
    "Write a stateful generator function named `counter` that takes a start value and increments it by 1 each time it is called. Test the generator by iterating over it and printing the first 10 values."
   ]
  },
  {
   "cell_type": "code",
   "execution_count": 240,
   "id": "58be246e",
   "metadata": {},
   "outputs": [],
   "source": [
    "def counter(n):\n",
    "    # n+= 1\n",
    "    while True:\n",
    "        \n",
    "        yield n\n",
    "        n+= 1\n",
    "\n",
    "\n",
    "# print(next(count(9)))\n",
    "    "
   ]
  },
  {
   "cell_type": "code",
   "execution_count": 241,
   "id": "844dcdf6",
   "metadata": {},
   "outputs": [
    {
     "name": "stdout",
     "output_type": "stream",
     "text": [
      "0\n",
      "1\n",
      "2\n",
      "3\n",
      "4\n",
      "5\n",
      "6\n",
      "7\n",
      "8\n",
      "9\n"
     ]
    }
   ],
   "source": [
    "count = counter(0)\n",
    "for _ in range(10):\n",
    "    print(next(count))"
   ]
  },
  {
   "cell_type": "markdown",
   "id": "7de9aa9f",
   "metadata": {},
   "source": []
  },
  {
   "cell_type": "code",
   "execution_count": null,
   "id": "fc4c393b",
   "metadata": {},
   "outputs": [],
   "source": []
  }
 ],
 "metadata": {
  "kernelspec": {
   "display_name": "Python 3",
   "language": "python",
   "name": "python3"
  },
  "language_info": {
   "codemirror_mode": {
    "name": "ipython",
    "version": 3
   },
   "file_extension": ".py",
   "mimetype": "text/x-python",
   "name": "python",
   "nbconvert_exporter": "python",
   "pygments_lexer": "ipython3",
   "version": "3.12.0"
  }
 },
 "nbformat": 4,
 "nbformat_minor": 5
}
