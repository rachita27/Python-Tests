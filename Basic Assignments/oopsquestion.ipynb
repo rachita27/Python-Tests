{
 "cells": [
  {
   "cell_type": "markdown",
   "id": "c7e8c4ae",
   "metadata": {},
   "source": [
    "# Module: OOP Assignments\n",
    "## Lesson: Polymorphism, Abstraction, and Encapsulation\n",
    "### Assignment 1: Polymorphism with Methods\n",
    "\n",
    "Create a base class named `Shape` with a method `area`. Create two derived classes `Circle` and `Square` that override the `area` method. Create a list of `Shape` objects and call the `area` method on each object to demonstrate polymorphism."
   ]
  },
  {
   "cell_type": "code",
   "execution_count": 1,
   "id": "26f43d9e",
   "metadata": {},
   "outputs": [],
   "source": [
    "import numpy as np"
   ]
  },
  {
   "cell_type": "code",
   "execution_count": 6,
   "id": "4c3cdf8e",
   "metadata": {},
   "outputs": [
    {
     "name": "stdout",
     "output_type": "stream",
     "text": [
      "201.06192982974676\n",
      "100\n"
     ]
    }
   ],
   "source": [
    "class Shape:\n",
    "\n",
    "    def area(self):\n",
    "        pass\n",
    "\n",
    "class Circle(Shape):\n",
    "\n",
    "    def __init__(self,r):\n",
    "        super().__init__()\n",
    "        self.r = r\n",
    "\n",
    "    def area(self):\n",
    "        return np.pi * (self.r **2)\n",
    "    \n",
    "class Square(Shape):\n",
    "\n",
    "    def __init__(self,s):\n",
    "        super().__init__()\n",
    "        self.s = s\n",
    "\n",
    "    def area(self):\n",
    "        return (self.s ** 2)\n",
    "    \n",
    "\n",
    "lst = [Circle(8), Square(10)]\n",
    "\n",
    "for i in lst:\n",
    "    print(i.area())"
   ]
  },
  {
   "cell_type": "markdown",
   "id": "9a585e14",
   "metadata": {},
   "source": [
    "### Assignment 2: Polymorphism with Function Arguments\n",
    "\n",
    "Create a function named `describe_shape` that takes a `Shape` object as an argument and calls its `area` method. Create objects of `Circle` and `Square` classes and pass them to the `describe_shape` function."
   ]
  },
  {
   "cell_type": "code",
   "execution_count": 7,
   "id": "c51c996b",
   "metadata": {},
   "outputs": [],
   "source": [
    "cr = Circle(3)\n",
    "sq = Square(13)\n",
    "\n",
    "def describe_shape(x):\n",
    "    return x.area()"
   ]
  },
  {
   "cell_type": "code",
   "execution_count": 8,
   "id": "15921b44",
   "metadata": {},
   "outputs": [
    {
     "data": {
      "text/plain": [
       "28.274333882308138"
      ]
     },
     "execution_count": 8,
     "metadata": {},
     "output_type": "execute_result"
    }
   ],
   "source": [
    "describe_shape(cr)"
   ]
  },
  {
   "cell_type": "code",
   "execution_count": 9,
   "id": "4c349b0a",
   "metadata": {},
   "outputs": [
    {
     "data": {
      "text/plain": [
       "169"
      ]
     },
     "execution_count": 9,
     "metadata": {},
     "output_type": "execute_result"
    }
   ],
   "source": [
    "describe_shape(sq)"
   ]
  },
  {
   "cell_type": "markdown",
   "id": "b0fe60e5",
   "metadata": {},
   "source": [
    "### Assignment 3: Abstract Base Class with Abstract Methods\n",
    "\n",
    "Create an abstract base class named `Vehicle` with an abstract method `start_engine`. Create derived classes `Car` and `Bike` that implement the `start_engine` method. Create objects of the derived classes and call the `start_engine` method."
   ]
  },
  {
   "cell_type": "code",
   "execution_count": 10,
   "id": "2579e005",
   "metadata": {},
   "outputs": [],
   "source": [
    "from abc import abstractmethod, ABC\n",
    "\n",
    "class Vehicle(ABC):\n",
    "\n",
    "    @abstractmethod\n",
    "    def start_engine(self):\n",
    "        pass\n",
    "    \n",
    "class Car(Vehicle):\n",
    "\n",
    "    def start_engine(self):\n",
    "        return \"Start Car Engine..\"\n",
    "    \n",
    "class Bike(Vehicle):\n",
    "\n",
    "    def start_engine(self):\n",
    "        return \"Start Bike Engine..\""
   ]
  },
  {
   "cell_type": "code",
   "execution_count": 11,
   "id": "6b660434",
   "metadata": {},
   "outputs": [
    {
     "data": {
      "text/plain": [
       "'Start Car Engine..'"
      ]
     },
     "execution_count": 11,
     "metadata": {},
     "output_type": "execute_result"
    }
   ],
   "source": [
    "Car().start_engine()"
   ]
  },
  {
   "cell_type": "code",
   "execution_count": 12,
   "id": "450e7863",
   "metadata": {},
   "outputs": [
    {
     "data": {
      "text/plain": [
       "'Start Bike Engine..'"
      ]
     },
     "execution_count": 12,
     "metadata": {},
     "output_type": "execute_result"
    }
   ],
   "source": [
    "Bike().start_engine()"
   ]
  },
  {
   "cell_type": "markdown",
   "id": "2c1b4733",
   "metadata": {},
   "source": [
    "### Assignment 4: Abstract Base Class with Concrete Methods\n",
    "\n",
    "In the `Vehicle` class, add a concrete method `fuel_type` that returns a generic fuel type. Override this method in `Car` and `Bike` classes to return specific fuel types. Create objects of the derived classes and call the `fuel_type` method."
   ]
  },
  {
   "cell_type": "code",
   "execution_count": 13,
   "id": "f997c345",
   "metadata": {},
   "outputs": [
    {
     "name": "stdout",
     "output_type": "stream",
     "text": [
      "Petrol\n",
      "Diesel\n"
     ]
    }
   ],
   "source": [
    "class Vehicle(ABC):\n",
    "    @abstractmethod\n",
    "    def start_engine(self):\n",
    "        pass\n",
    "\n",
    "    def fuel_type(self):\n",
    "        return \"Generic Fuel\"\n",
    "\n",
    "class Car(Vehicle):\n",
    "    def start_engine(self):\n",
    "        print(\"Car engine started\")\n",
    "\n",
    "    def fuel_type(self):\n",
    "        return \"Petrol\"\n",
    "\n",
    "class Bike(Vehicle):\n",
    "    def start_engine(self):\n",
    "        print(\"Bike engine started\")\n",
    "\n",
    "    def fuel_type(self):\n",
    "        return \"Diesel\"\n",
    "\n",
    "# Test\n",
    "car = Car()\n",
    "bike = Bike()\n",
    "print(car.fuel_type())\n",
    "print(bike.fuel_type())"
   ]
  },
  {
   "cell_type": "markdown",
   "id": "ab4fc708",
   "metadata": {},
   "source": [
    "### Assignment 5: Encapsulation with Private Attributes\n",
    "\n",
    "Create a class named `BankAccount` with private attributes `account_number` and `balance`. Add methods to deposit and withdraw money, and to check the balance. Ensure that the balance cannot be accessed directly."
   ]
  },
  {
   "cell_type": "code",
   "execution_count": 22,
   "id": "25695f55",
   "metadata": {},
   "outputs": [],
   "source": [
    "class BankAccount:\n",
    "\n",
    "    def __init__(self, account_number, balance):\n",
    "        self.__account_number = account_number\n",
    "        self.__balance = balance\n",
    "\n",
    "    def deposit(self, amt):\n",
    "        self.__balance += amt\n",
    "        print(f\"The amount has been added {amt} & total {self.__balance} \")\n",
    "\n",
    "    def withdraw(self, amt):\n",
    "        if amt <= self.__balance: \n",
    "            self.__balance -= amt\n",
    "            print(f\"The amount has been withdrawn {amt} & total {self.__balance} \")\n",
    "        else:\n",
    "            print(f\"The amount is short of {amt - self.__balance} & total available balance {self.__balance} & \")\n",
    "\n",
    "    def get_balance(self):\n",
    "        print(self.__balance)\n"
   ]
  },
  {
   "cell_type": "code",
   "execution_count": 23,
   "id": "0ba672b6",
   "metadata": {},
   "outputs": [],
   "source": [
    "bk = BankAccount(354546,1000)"
   ]
  },
  {
   "cell_type": "code",
   "execution_count": 24,
   "id": "f74dcca9",
   "metadata": {},
   "outputs": [
    {
     "name": "stdout",
     "output_type": "stream",
     "text": [
      "The amount has been added 500 & total 1500 \n"
     ]
    }
   ],
   "source": [
    "bk.deposit(500)"
   ]
  },
  {
   "cell_type": "code",
   "execution_count": 25,
   "id": "f8c9e3fd",
   "metadata": {},
   "outputs": [
    {
     "name": "stdout",
     "output_type": "stream",
     "text": [
      "The amount is short of 2000 & total available balance 1500 & \n"
     ]
    }
   ],
   "source": [
    "bk.withdraw(3500)"
   ]
  },
  {
   "cell_type": "code",
   "execution_count": 26,
   "id": "495dc328",
   "metadata": {},
   "outputs": [
    {
     "name": "stdout",
     "output_type": "stream",
     "text": [
      "1500\n"
     ]
    }
   ],
   "source": [
    "bk.get_balance()"
   ]
  },
  {
   "cell_type": "markdown",
   "id": "2c39793d",
   "metadata": {},
   "source": [
    "### Assignment 6: Encapsulation with Property Decorators\n",
    "\n",
    "In the `BankAccount` class, use property decorators to get and set the `balance` attribute. Ensure that the balance cannot be set to a negative value."
   ]
  },
  {
   "cell_type": "code",
   "execution_count": 27,
   "id": "302001cf",
   "metadata": {},
   "outputs": [
    {
     "name": "stdout",
     "output_type": "stream",
     "text": [
      "1300\n",
      "Balance cannot be negative!\n"
     ]
    }
   ],
   "source": [
    "class BankAccount:\n",
    "    def __init__(self, account_number, balance=0):\n",
    "        self.__account_number = account_number\n",
    "        self.__balance = balance\n",
    "\n",
    "    @property\n",
    "    def balance(self):\n",
    "        return self.__balance\n",
    "\n",
    "    @balance.setter\n",
    "    def balance(self, amount):\n",
    "        if amount < 0:\n",
    "            print(\"Balance cannot be negative!\")\n",
    "        else:\n",
    "            self.__balance = amount\n",
    "\n",
    "    def deposit(self, amount):\n",
    "        self.balance += amount\n",
    "\n",
    "    def withdraw(self, amount):\n",
    "        if amount > self.balance:\n",
    "            print(\"Insufficient balance!\")\n",
    "        else:\n",
    "            self.balance -= amount\n",
    "\n",
    "# Test\n",
    "account = BankAccount('12345678', 1000)\n",
    "account.deposit(500)\n",
    "account.withdraw(200)\n",
    "print(account.balance)  # 1300\n",
    "account.balance = -500  # Balance cannot be negative!"
   ]
  },
  {
   "cell_type": "code",
   "execution_count": 28,
   "id": "e084fa19",
   "metadata": {},
   "outputs": [],
   "source": [
    "account.balance = 1500 "
   ]
  },
  {
   "cell_type": "markdown",
   "id": "e12b344b",
   "metadata": {},
   "source": [
    "### Assignment 7: Combining Encapsulation and Inheritance\n",
    "\n",
    "Create a base class named `Person` with private attributes `name` and `age`. Add methods to get and set these attributes. Create a derived class named `Student` that adds an attribute `student_id`. Create an object of the `Student` class and test the encapsulation."
   ]
  },
  {
   "cell_type": "code",
   "execution_count": 29,
   "id": "2e212b2b",
   "metadata": {},
   "outputs": [],
   "source": [
    "class Person:\n",
    "\n",
    "    def __init__(self, name, age):\n",
    "        self.__name = name\n",
    "        self.__age = age\n",
    "\n",
    "    def get_name(self):\n",
    "        return self.__name\n",
    "    \n",
    "    def get_age(self):\n",
    "        return self.__age\n",
    "    \n",
    "    def set_age(self,age):\n",
    "        self.__age = age\n",
    "\n",
    "    def set_name(self,name):\n",
    "        self.__name = name"
   ]
  },
  {
   "cell_type": "code",
   "execution_count": 30,
   "id": "7fb79531",
   "metadata": {},
   "outputs": [],
   "source": [
    "class Student(Person):\n",
    "    def __init__(self, name, age, student_id):\n",
    "        super().__init__(name, age)\n",
    "        self.student_id = student_id"
   ]
  },
  {
   "cell_type": "code",
   "execution_count": 31,
   "id": "75c7e12f",
   "metadata": {},
   "outputs": [
    {
     "name": "stdout",
     "output_type": "stream",
     "text": [
      "John 20 S123\n",
      "Alice 22 S123\n"
     ]
    }
   ],
   "source": [
    "student = Student('John', 20, 'S123')\n",
    "print(student.get_name(), student.get_age(), student.student_id)\n",
    "student.set_name('Alice')\n",
    "student.set_age(22)\n",
    "print(student.get_name(), student.get_age(), student.student_id)"
   ]
  },
  {
   "cell_type": "markdown",
   "id": "055ffece",
   "metadata": {},
   "source": [
    "### Assignment 8: Polymorphism with Inheritance\n",
    "\n",
    "Create a base class named `Animal` with a method `speak`. Create two derived classes `Dog` and `Cat` that override the `speak` method. Create a list of `Animal` objects and call the `speak` method on each object to demonstrate polymorphism."
   ]
  },
  {
   "cell_type": "code",
   "execution_count": 32,
   "id": "36308f43",
   "metadata": {},
   "outputs": [],
   "source": [
    "class Animal:\n",
    "\n",
    "    def speak(self):\n",
    "        print(\"Speaking...\")\n",
    "\n",
    "class Dog(Animal):\n",
    "\n",
    "    def speak(self):\n",
    "        return \"Barking..\"\n",
    "    \n",
    "class Cat(Animal):\n",
    "\n",
    "    def speak(self):\n",
    "        return \"Meowing..\""
   ]
  },
  {
   "cell_type": "code",
   "execution_count": 33,
   "id": "574e4dc7",
   "metadata": {},
   "outputs": [
    {
     "name": "stdout",
     "output_type": "stream",
     "text": [
      "Barking..\n",
      "Meowing..\n"
     ]
    }
   ],
   "source": [
    "anm = [Dog(), Cat()]\n",
    "\n",
    "for i in anm:\n",
    "    print(i.speak())"
   ]
  },
  {
   "cell_type": "markdown",
   "id": "e6198084",
   "metadata": {},
   "source": [
    "### Assignment 9: Abstract Methods in Base Class\n",
    "\n",
    "Create an abstract base class named `Employee` with an abstract method `calculate_salary`. Create two derived classes `FullTimeEmployee` and `PartTimeEmployee` that implement the `calculate_salary` method. Create objects of the derived classes and call the `calculate_salary` method."
   ]
  },
  {
   "cell_type": "code",
   "execution_count": 34,
   "id": "3f59547d",
   "metadata": {},
   "outputs": [
    {
     "name": "stdout",
     "output_type": "stream",
     "text": [
      "5000\n",
      "1600\n"
     ]
    }
   ],
   "source": [
    "class Employee(ABC):\n",
    "    @abstractmethod\n",
    "    def calculate_salary(self):\n",
    "        pass\n",
    "\n",
    "class FullTimeEmployee(Employee):\n",
    "    def __init__(self, salary):\n",
    "        self.salary = salary\n",
    "\n",
    "    def calculate_salary(self):\n",
    "        return self.salary\n",
    "\n",
    "class PartTimeEmployee(Employee):\n",
    "    def __init__(self, hourly_rate, hours_worked):\n",
    "        self.hourly_rate = hourly_rate\n",
    "        self.hours_worked = hours_worked\n",
    "\n",
    "    def calculate_salary(self):\n",
    "        return self.hourly_rate * self.hours_worked\n",
    "\n",
    "# Test\n",
    "full_time = FullTimeEmployee(5000)\n",
    "part_time = PartTimeEmployee(20, 80)\n",
    "print(full_time.calculate_salary())  # 5000\n",
    "print(part_time.calculate_salary())  # 1600"
   ]
  },
  {
   "cell_type": "markdown",
   "id": "75bce387",
   "metadata": {},
   "source": [
    "### Assignment 10: Encapsulation in Data Classes\n",
    "\n",
    "Create a data class named `Product` with private attributes `product_id`, `name`, and `price`. Add methods to get and set these attributes. Ensure that the price cannot be set to a negative value."
   ]
  },
  {
   "cell_type": "code",
   "execution_count": 35,
   "id": "b5c8b8c9",
   "metadata": {},
   "outputs": [],
   "source": [
    "class Product:\n",
    "\n",
    "    def __init__(self,product_id,name,price):\n",
    "        self.__price = price\n",
    "        self.__name = name\n",
    "        self.__product_id = product_id\n",
    "\n",
    "    def get_prod_id(self):\n",
    "        return self.__product_id\n",
    "    \n",
    "    def get_name(self):\n",
    "        return self.__name\n",
    "    \n",
    "    def get_price(self):\n",
    "        return self.__price\n",
    "    \n",
    "    def set_price(self, price):\n",
    "        if price <= 0:\n",
    "            return \"Price can't be negative\"\n",
    "        else:\n",
    "            self.__price = price"
   ]
  },
  {
   "cell_type": "code",
   "execution_count": 36,
   "id": "ee17ecbd",
   "metadata": {},
   "outputs": [
    {
     "data": {
      "text/plain": [
       "(545465, 'TV', 85500)"
      ]
     },
     "execution_count": 36,
     "metadata": {},
     "output_type": "execute_result"
    }
   ],
   "source": [
    "pr = Product(545465,'TV',85500)\n",
    "pr.get_prod_id(), pr.get_name(), pr.get_price()"
   ]
  },
  {
   "cell_type": "code",
   "execution_count": 37,
   "id": "a20f94b8",
   "metadata": {},
   "outputs": [
    {
     "data": {
      "text/plain": [
       "(\"Price can't be negative\", 85500)"
      ]
     },
     "execution_count": 37,
     "metadata": {},
     "output_type": "execute_result"
    }
   ],
   "source": [
    "pr.set_price(-90), pr.get_price()"
   ]
  },
  {
   "cell_type": "code",
   "execution_count": 38,
   "id": "06f91507",
   "metadata": {},
   "outputs": [
    {
     "data": {
      "text/plain": [
       "(None, 9000)"
      ]
     },
     "execution_count": 38,
     "metadata": {},
     "output_type": "execute_result"
    }
   ],
   "source": [
    "pr.set_price(9000), pr.get_price()"
   ]
  },
  {
   "cell_type": "markdown",
   "id": "a304d0b9",
   "metadata": {},
   "source": [
    "### Assignment 11: Polymorphism with Operator Overloading\n",
    "\n",
    "Create a class named `Vector` with attributes `x` and `y`. Overload the `+` operator to add two `Vector` objects. Create objects of the class and test the operator overloading."
   ]
  },
  {
   "cell_type": "code",
   "execution_count": 49,
   "id": "cac1f532",
   "metadata": {},
   "outputs": [],
   "source": [
    "class Vector:\n",
    "\n",
    "    def __init__(self,x,y):\n",
    "        self.x = x\n",
    "        self.y = y\n",
    "\n",
    "    def __add__(self, other):\n",
    "        return Vector(self.x + other.x, self.y + other.y)\n",
    "    \n",
    "    def __str__(self):\n",
    "        return f\"Vector({self.x}, {self.y})\""
   ]
  },
  {
   "cell_type": "code",
   "execution_count": 50,
   "id": "b2ae6f0b",
   "metadata": {},
   "outputs": [],
   "source": [
    "v1 = Vector(1,2)\n",
    "v2 = Vector(8,2)\n"
   ]
  },
  {
   "cell_type": "code",
   "execution_count": 51,
   "id": "58194a49",
   "metadata": {},
   "outputs": [
    {
     "name": "stdout",
     "output_type": "stream",
     "text": [
      "Vector(9, 4)\n"
     ]
    }
   ],
   "source": [
    "print(v1+v2)"
   ]
  },
  {
   "cell_type": "markdown",
   "id": "4638317a",
   "metadata": {},
   "source": [
    "### Assignment 12: Abstract Properties\n",
    "\n",
    "Create an abstract base class named `Appliance` with an abstract property `power`. Create two derived classes `WashingMachine` and `Refrigerator` that implement the `power` property. Create objects of the derived classes and access the `power` property."
   ]
  },
  {
   "cell_type": "code",
   "execution_count": 53,
   "id": "cfc311a6",
   "metadata": {},
   "outputs": [
    {
     "name": "stdout",
     "output_type": "stream",
     "text": [
      "500W\n",
      "300W\n"
     ]
    }
   ],
   "source": [
    "class Appliance(ABC):\n",
    "    @abstractmethod\n",
    "    def power(self):\n",
    "        pass\n",
    "\n",
    "class WashingMachine(Appliance):\n",
    "    \n",
    "    def power(self):\n",
    "        return \"500W\"\n",
    "\n",
    "class Refrigerator(Appliance):\n",
    "    \n",
    "    def power(self):\n",
    "        return \"300W\"\n",
    "\n",
    "# Test\n",
    "wm = WashingMachine()\n",
    "fridge = Refrigerator()\n",
    "print(wm.power())  # 500W\n",
    "print(fridge.power())  # 300W"
   ]
  },
  {
   "cell_type": "code",
   "execution_count": 55,
   "id": "9642bf6d",
   "metadata": {},
   "outputs": [
    {
     "name": "stdout",
     "output_type": "stream",
     "text": [
      "500W\n",
      "300W\n"
     ]
    }
   ],
   "source": [
    "class Appliance(ABC):\n",
    "    @property\n",
    "    @abstractmethod\n",
    "    def power(self):\n",
    "        pass\n",
    "\n",
    "class WashingMachine(Appliance):\n",
    "    @property\n",
    "    def power(self):\n",
    "        return \"500W\"\n",
    "\n",
    "class Refrigerator(Appliance):\n",
    "    @property\n",
    "    def power(self):\n",
    "        return \"300W\"\n",
    "\n",
    "# Test\n",
    "wm = WashingMachine()\n",
    "fridge = Refrigerator()\n",
    "print(wm.power)  # 500W\n",
    "print(fridge.power)  # 300W"
   ]
  },
  {
   "cell_type": "markdown",
   "id": "b1467e9c",
   "metadata": {},
   "source": [
    "### Assignment 13: Encapsulation in Class Hierarchies\n",
    "\n",
    "Create a base class named `Account` with private attributes `account_number` and `balance`. Add methods to get and set these attributes. Create a derived class named `SavingsAccount` that adds an attribute `interest_rate`. Create an object of the `SavingsAccount` class and test the encapsulation."
   ]
  },
  {
   "cell_type": "code",
   "execution_count": 59,
   "id": "3852016f",
   "metadata": {},
   "outputs": [],
   "source": [
    "class Account:\n",
    "\n",
    "    def __init__(self, account_number, balance):\n",
    "        self.__account_number = account_number\n",
    "        self.__balance = balance\n",
    "\n",
    "\n",
    "    def get_balance(self):\n",
    "        return (self.__balance)\n",
    "\n",
    "    def get_acc(self):\n",
    "        return (self.__balance)\n",
    "\n",
    "    def set_balance(self, balance):\n",
    "        if balance < 0:\n",
    "            print(\"Balance cannot be negative!\")\n",
    "        else:\n",
    "            self.__balance = balance\n",
    "\n",
    "class SavingsAccount(Account):\n",
    "    def __init__(self, account_number, balance, interest_rate):\n",
    "        super().__init__(account_number, balance)\n",
    "        self.interest_rate = interest_rate\n"
   ]
  },
  {
   "cell_type": "code",
   "execution_count": 60,
   "id": "50bc228f",
   "metadata": {},
   "outputs": [
    {
     "name": "stdout",
     "output_type": "stream",
     "text": [
      "1000 1000 0.05\n",
      "1500 1500 0.05\n"
     ]
    }
   ],
   "source": [
    "savings = SavingsAccount('12345678', 1000, 0.05)\n",
    "print(savings.get_acc(), savings.get_balance(), savings.interest_rate)\n",
    "savings.set_balance(1500)\n",
    "print(savings.get_acc(), savings.get_balance(), savings.interest_rate)"
   ]
  },
  {
   "cell_type": "markdown",
   "id": "153a2066",
   "metadata": {},
   "source": [
    "\n",
    "### Assignment 14: Abstract Methods and Multiple Inheritance\n",
    "\n",
    "Create an abstract base class named `Worker` with an abstract method `work`. Create two derived classes `Engineer` and `Doctor` that implement the `work` method. Create another derived class `Scientist` that inherits from both `Engineer` and `Doctor`. Create an object of the `Scientist` class and call the `work` method."
   ]
  },
  {
   "cell_type": "code",
   "execution_count": 71,
   "id": "bea5173a",
   "metadata": {},
   "outputs": [],
   "source": [
    "class Worker(ABC):\n",
    "    @abstractmethod\n",
    "    def work(self):\n",
    "        pass\n",
    "\n",
    "class Engineer(Worker):\n",
    "    def work(self):\n",
    "        print(\"Engineering..\") \n",
    "    \n",
    "class Doctor(Worker):\n",
    "    def work(self):\n",
    "        print(\"Nursing..\") \n",
    "    \n",
    "class Scientist(Engineer, Doctor):\n",
    "    def work(self):\n",
    "        Engineer.work(self)\n",
    "        Doctor.work(self)\n",
    "    "
   ]
  },
  {
   "cell_type": "code",
   "execution_count": 72,
   "id": "c97ada2d",
   "metadata": {},
   "outputs": [
    {
     "name": "stdout",
     "output_type": "stream",
     "text": [
      "Engineering..\n",
      "Nursing..\n"
     ]
    }
   ],
   "source": [
    "# Test\n",
    "scientist = Scientist()\n",
    "scientist.work()"
   ]
  }
 ],
 "metadata": {
  "kernelspec": {
   "display_name": "Python 3",
   "language": "python",
   "name": "python3"
  },
  "language_info": {
   "codemirror_mode": {
    "name": "ipython",
    "version": 3
   },
   "file_extension": ".py",
   "mimetype": "text/x-python",
   "name": "python",
   "nbconvert_exporter": "python",
   "pygments_lexer": "ipython3",
   "version": "3.12.0"
  }
 },
 "nbformat": 4,
 "nbformat_minor": 5
}
