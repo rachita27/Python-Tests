{
 "cells": [
  {
   "cell_type": "markdown",
   "metadata": {},
   "source": [
    "# Milestone Project 1\n",
    "## Assignment: Create a Tic Tac Toe game. You are free to use any IDE you like.\n",
    "\n",
    "Here are the requirements:\n",
    "\n",
    "* 2 players should be able to play the game (both sitting at the same computer)\n",
    "* The board should be printed out every time a player makes a move\n",
    "* You should be able to accept input of the player position and then place a symbol on the board\n"
   ]
  },
  {
   "cell_type": "markdown",
   "metadata": {},
   "source": [
    "## Project Requirement\n",
    "* show the visual (matrix)\n",
    "* taking use input \n",
    "* update the visual & then print\n",
    "* take the input until there one decision can be determined\n"
   ]
  },
  {
   "cell_type": "code",
   "execution_count": 23,
   "metadata": {},
   "outputs": [
    {
     "name": "stdout",
     "output_type": "stream",
     "text": [
      "None|None|None\n",
      "____|____|____\n",
      "None|None|None\n",
      "____|____|____\n",
      "None|None|None\n"
     ]
    }
   ],
   "source": [
    "first_row = [None, None, None]\n",
    "second_row = [None, None, None]\n",
    "third_row = [None, None, None]\n",
    "\n",
    "print(f\"{first_row[0]}|{first_row[1]}|{first_row[2]}\")\n",
    "print(\"____|____|____\")\n",
    "print(f\"{second_row[0]}|{second_row[1]}|{second_row[2]}\")\n",
    "print(\"____|____|____\")\n",
    "print(f\"{third_row[0]}|{third_row[1]}|{third_row[2]}\")"
   ]
  },
  {
   "cell_type": "code",
   "execution_count": 143,
   "metadata": {},
   "outputs": [
    {
     "name": "stdout",
     "output_type": "stream",
     "text": [
      "   \n",
      "_|_|_\n",
      "   \n",
      "_|_|_\n",
      "   \n",
      "_|_|_\n"
     ]
    }
   ],
   "source": [
    "# dict_tic = {\"1\" : [None, None, None, None] , \"2\" : [None, None, None, None], \"3\" : [None, None, None, None]}\n",
    "dict_tic = {\"1\" : [' ', ' ', ' '] , \"2\" : [' ', ' ', ' '], \"3\" : [' ', ' ', ' ']}\n",
    "#dict_tic = {\"1\" : [None, None, None] , \"2\" : [None, None, None], \"3\" : [None, None, None]}\n",
    "\n",
    "# print(f\"{dict_tic[\"1\"][1]}|{dict_tic[\"2\"][1]}|{dict_tic[\"1\"][3]}\")\n",
    "# print(\"____|____|____\")\n",
    "# print(f\"{dict_tic[\"2\"][1]}|{dict_tic[\"2\"][2]}|{dict_tic[\"2\"][3]}\")\n",
    "# print(\"____|____|____\")\n",
    "# print(f\"{dict_tic[\"3\"][1]}|{dict_tic[\"3\"][2]}|{dict_tic[\"3\"][3]}\")\n",
    "# \n",
    "print(f\"{dict_tic[\"1\"][0]}{dict_tic[\"1\"][1]}{dict_tic[\"1\"][2]}\")\n",
    "print(\"_|_|_\")\n",
    "print(f\"{dict_tic[\"2\"][0]}{dict_tic[\"2\"][1]}{dict_tic[\"2\"][2]}\")\n",
    "print(\"_|_|_\")\n",
    "print(f\"{dict_tic[\"3\"][0]}{dict_tic[\"3\"][1]}{dict_tic[\"3\"][2]}\")\n",
    "print(\"_|_|_\")"
   ]
  },
  {
   "cell_type": "code",
   "execution_count": 211,
   "metadata": {},
   "outputs": [
    {
     "data": {
      "text/plain": [
       "False"
      ]
     },
     "execution_count": 211,
     "metadata": {},
     "output_type": "execute_result"
    }
   ],
   "source": [
    "dict_tic[\"1\"][0] = '9'\n",
    "' ' in ['6', '9', '9'] "
   ]
  },
  {
   "cell_type": "code",
   "execution_count": 149,
   "metadata": {},
   "outputs": [
    {
     "name": "stdout",
     "output_type": "stream",
     "text": [
      "9| | \n",
      "_|_|_\n",
      " | | \n",
      "_|_|_\n",
      " | | \n",
      "_|_|_\n"
     ]
    }
   ],
   "source": [
    "print(f\"{dict_tic[\"1\"][0]}|{dict_tic[\"1\"][1]}|{dict_tic[\"1\"][2]}\")\n",
    "print(\"_|_|_\")\n",
    "print(f\"{dict_tic[\"2\"][0]}|{dict_tic[\"2\"][1]}|{dict_tic[\"2\"][2]}\")\n",
    "print(\"_|_|_\")\n",
    "print(f\"{dict_tic[\"3\"][0]}|{dict_tic[\"3\"][1]}|{dict_tic[\"3\"][2]}\")\n",
    "print(\"_|_|_\")"
   ]
  },
  {
   "cell_type": "code",
   "execution_count": 205,
   "metadata": {},
   "outputs": [],
   "source": [
    "##dICTIONARY SAVING TIC TAC TOES\n",
    "def data_input_score():\n",
    "    ##setting global ensure it change the global varaiable even if it is execute anywhere\n",
    "    global dict_tic\n",
    "    dict_tic = {\"1\" : [' ', ' ', ' '] , \"2\" : [' ', ' ', ' '], \"3\" : [' ', ' ', ' ']}\n",
    "    "
   ]
  },
  {
   "cell_type": "code",
   "execution_count": 215,
   "metadata": {},
   "outputs": [],
   "source": [
    "data_input_score()"
   ]
  },
  {
   "cell_type": "code",
   "execution_count": 217,
   "metadata": {},
   "outputs": [
    {
     "data": {
      "text/plain": [
       "{'1': [' ', ' ', ' '], '2': [' ', ' ', ' '], '3': [' ', ' ', ' ']}"
      ]
     },
     "execution_count": 217,
     "metadata": {},
     "output_type": "execute_result"
    }
   ],
   "source": [
    "dict_tic"
   ]
  },
  {
   "cell_type": "code",
   "execution_count": 187,
   "metadata": {},
   "outputs": [],
   "source": [
    "def user_inp():\n",
    "    \"\"\"This will take the inputs from user\"\"\"\n",
    "    x= input(\"Please Provide the Row Number from 1,2,3\")\n",
    "    y= input(\"Please Provide the Column Number from 1,2,3\")\n",
    "\n",
    "    while (x not in [\"1\",\"2\",\"3\"]) or (y not in [\"1\",\"2\",\"3\"]):\n",
    "        print(\"You provide Incorrect Index Number. Please choose from 1,2,3 for both row & column\")\n",
    "        x= input(\"Please Provide the Row Number from 1,2,3\")\n",
    "        y= input(\"Please Provide the Column Number from 1,2,3\")\n",
    "        \n",
    "    return x,y\n",
    "    "
   ]
  },
  {
   "cell_type": "code",
   "execution_count": 189,
   "metadata": {},
   "outputs": [
    {
     "name": "stdin",
     "output_type": "stream",
     "text": [
      "Please Provide the Row Number from 1,2,3 7\n",
      "Please Provide the Column Number from 1,2,3 9\n"
     ]
    },
    {
     "name": "stdout",
     "output_type": "stream",
     "text": [
      "You provide Incorrect Index Number. Please choose from 1,2,3 for both row & column\n"
     ]
    },
    {
     "name": "stdin",
     "output_type": "stream",
     "text": [
      "Please Provide the Row Number from 1,2,3 2\n",
      "Please Provide the Column Number from 1,2,3 6\n"
     ]
    },
    {
     "name": "stdout",
     "output_type": "stream",
     "text": [
      "You provide Incorrect Index Number. Please choose from 1,2,3 for both row & column\n"
     ]
    },
    {
     "name": "stdin",
     "output_type": "stream",
     "text": [
      "Please Provide the Row Number from 1,2,3 2\n",
      "Please Provide the Column Number from 1,2,3 3\n"
     ]
    },
    {
     "data": {
      "text/plain": [
       "('2', '3')"
      ]
     },
     "execution_count": 189,
     "metadata": {},
     "output_type": "execute_result"
    }
   ],
   "source": [
    "user_inp()"
   ]
  },
  {
   "cell_type": "code",
   "execution_count": 177,
   "metadata": {},
   "outputs": [],
   "source": [
    "def print_tic_tac():\n",
    "    \"\"\"This will take the inputs from user\"\"\"\n",
    "    ##Printing Tic-Tac-Toe\n",
    "    print(f\"{dict_tic[\"1\"][0]}|{dict_tic[\"1\"][1]}|{dict_tic[\"1\"][2]}\")\n",
    "    print(\"_|_|_\")\n",
    "    print(f\"{dict_tic[\"2\"][0]}|{dict_tic[\"2\"][1]}|{dict_tic[\"2\"][2]}\")\n",
    "    print(\"_|_|_\")\n",
    "    print(f\"{dict_tic[\"3\"][0]}|{dict_tic[\"3\"][1]}|{dict_tic[\"3\"][2]}\")\n",
    "    print(\"_|_|_\")"
   ]
  },
  {
   "cell_type": "code",
   "execution_count": 179,
   "metadata": {},
   "outputs": [
    {
     "name": "stdout",
     "output_type": "stream",
     "text": [
      " | | \n",
      "_|_|_\n",
      " | | \n",
      "_|_|_\n",
      " | | \n",
      "_|_|_\n"
     ]
    }
   ],
   "source": [
    "print_tic_tac()"
   ]
  },
  {
   "cell_type": "code",
   "execution_count": 239,
   "metadata": {},
   "outputs": [],
   "source": [
    "#None in \n",
    "[dict_tic[\"1\"],dict_tic[\"2\"],dict_tic[\"3\"]]\n",
    "dict_tic[\"1\"][0] = '__9_' #== None"
   ]
  },
  {
   "cell_type": "code",
   "execution_count": 272,
   "metadata": {},
   "outputs": [
    {
     "name": "stdout",
     "output_type": "stream",
     "text": [
      "1\n",
      "2\n",
      "3\n"
     ]
    }
   ],
   "source": [
    "\n",
    "for i in [1,2,3]:\n",
    "    print(i)\n",
    "    if i == 2:\n",
    "        i = 2"
   ]
  },
  {
   "cell_type": "code",
   "execution_count": null,
   "metadata": {},
   "outputs": [],
   "source": []
  },
  {
   "cell_type": "code",
   "execution_count": 340,
   "metadata": {},
   "outputs": [],
   "source": [
    "def returning_result():\n",
    "    data_input_score()\n",
    "    value_test = (' ' in dict_tic[\"1\"]) or (' ' in dict_tic[\"2\"]) or (' ' in dict_tic[\"3\"])\n",
    "\n",
    "    test_same_p2_fill = True\n",
    "    while value_test :\n",
    "        \n",
    "        for i in [1,2]:\n",
    "            if test_same_p2_fill: \n",
    "                print(\"Hi Player 1! Your sign which is to be used by you is 'O'\")\n",
    "                ##Printing Tic-Tac-Toe\n",
    "                print_tic_tac()\n",
    "        \n",
    "                ##taking the user input\n",
    "                row, col = user_inp()\n",
    "                col = int(col)\n",
    "                col -=1 \n",
    "                ##checking the validity of input\n",
    "                if dict_tic[row][int(col)] == ' ' :\n",
    "                    dict_tic[row][int(col)] = 'O'\n",
    "                    print_tic_tac()\n",
    "                    test_same_p2_fill = False\n",
    "                elif dict_tic[row][int(col)] != ' ':\n",
    "                    print(\"The row has already been filled. Could you please provide the row & column that is empty.\")\n",
    "                    print_tic_tac()\n",
    "                    break\n",
    "                else:\n",
    "                    pass\n",
    "\n",
    "                \n",
    "            else: \n",
    "                print(\"Hi Player 2! Your sign which is to be used by you is 'X'\")\n",
    "                ##Printing Tic-Tac-Toe\n",
    "                print_tic_tac()\n",
    "        \n",
    "                ##taking the user input\n",
    "                row, col = user_inp()\n",
    "                col = int(col)\n",
    "                col -=1 \n",
    "                ##checking the validity of input\n",
    "                if dict_tic[row][int(col)] == ' ':\n",
    "                    dict_tic[row][int(col)] = 'X'\n",
    "                    print_tic_tac()\n",
    "                    test_same_p2_fill = True\n",
    "                    i = 1\n",
    "                elif dict_tic[row][int(col)] != ' ':\n",
    "                    print(\"The row has already been filled. Could you please provide the row & column that is empty.\")\n",
    "                    print_tic_tac()\n",
    "                    test_same_p2_fill = False\n",
    "\n",
    "\n",
    "            ##Checking anyone won or draw\n",
    "\n",
    "            if (dict_tic[\"1\"][2] == 'O' and dict_tic[\"2\"][2] == 'O' and dict_tic[\"3\"][2] == 'O') or ( dict_tic[\"1\"][1] == 'O' and dict_tic[\"2\"][1] == 'O' and dict_tic[\"3\"][1] == 'O') or (dict_tic[\"1\"][0] == 'O' and dict_tic[\"2\"][0] == 'O' and dict_tic[\"3\"][0] == 'O') or (dict_tic[\"1\"][0] == 'O' and dict_tic[\"1\"][1] == 'O' and dict_tic[\"1\"][2] == 'O') or(dict_tic[\"2\"][0] == 'O' and dict_tic[\"2\"][1] == 'O' and dict_tic[\"2\"][2] == 'O') or (dict_tic[\"3\"][0] == 'O' and dict_tic[\"3\"][1] == 'O' and dict_tic[\"3\"][2] == 'O') or (dict_tic[\"1\"][0] == 'O' and dict_tic[\"2\"][1] == 'O' and dict_tic[\"3\"][2] == 'O') or (dict_tic[\"1\"][2] == 'O' and dict_tic[\"2\"][1] == 'O' and dict_tic[\"3\"][0] == 'O'): \n",
    "                print(\"Hurray Player 1 won the game! Better Luck Next Time Player 2\")\n",
    "                value_test = False\n",
    "                break \n",
    "            elif (dict_tic[\"1\"][2] == 'X' and dict_tic[\"2\"][2] == 'X' and dict_tic[\"3\"][2] == 'X') or (dict_tic[\"1\"][1] == 'X' and dict_tic[\"2\"][1] == 'X' and dict_tic[\"3\"][1] == 'X') or (dict_tic[\"1\"][0] == 'X' and dict_tic[\"2\"][0] == 'X' and dict_tic[\"3\"][0] == 'X') or (dict_tic[\"1\"][0] == 'X' and dict_tic[\"1\"][1] == 'X' and dict_tic[\"1\"][2] == 'X') or (dict_tic[\"2\"][0] == 'X' and dict_tic[\"2\"][1] == 'X' and dict_tic[\"2\"][2] == 'X') or (dict_tic[\"3\"][0] == 'X' and dict_tic[\"3\"][1] == 'X' and dict_tic[\"3\"][2] == 'X') or (dict_tic[\"1\"][0] == 'X' and dict_tic[\"2\"][1] == 'X' and dict_tic[\"3\"][2] == 'X') or (dict_tic[\"1\"][2] == 'X' and dict_tic[\"2\"][1] == 'X' and dict_tic[\"3\"][0] == 'X'): \n",
    "                print(\"Hurray Player 2 won the game! Better Luck Next Time Player 1\")\n",
    "                value_test = False\n",
    "                break\n",
    "    \n",
    "            elif(((' ' not in dict_tic[\"1\"]) and (' ' not in dict_tic[\"2\"]) and (' ' not in dict_tic[\"3\"]))):\n",
    "                print(\"No one Won, it's a draw!\")\n",
    "                value_test = False\n",
    "                break\n",
    "            \n",
    "        \n",
    "    "
   ]
  },
  {
   "cell_type": "code",
   "execution_count": 344,
   "metadata": {},
   "outputs": [
    {
     "name": "stdout",
     "output_type": "stream",
     "text": [
      "Hi Player 1! Your sign which is to be used by you is 'O'\n",
      " | | \n",
      "_|_|_\n",
      " | | \n",
      "_|_|_\n",
      " | | \n",
      "_|_|_\n"
     ]
    },
    {
     "name": "stdin",
     "output_type": "stream",
     "text": [
      "Please Provide the Row Number from 1,2,3 11\n",
      "Please Provide the Column Number from 1,2,3 1\n"
     ]
    },
    {
     "name": "stdout",
     "output_type": "stream",
     "text": [
      "You provide Incorrect Index Number. Please choose from 1,2,3 for both row & column\n"
     ]
    },
    {
     "name": "stdin",
     "output_type": "stream",
     "text": [
      "Please Provide the Row Number from 1,2,3 1\n",
      "Please Provide the Column Number from 1,2,3 1\n"
     ]
    },
    {
     "name": "stdout",
     "output_type": "stream",
     "text": [
      "O| | \n",
      "_|_|_\n",
      " | | \n",
      "_|_|_\n",
      " | | \n",
      "_|_|_\n",
      "Hi Player 2! Your sign which is to be used by you is 'X'\n",
      "O| | \n",
      "_|_|_\n",
      " | | \n",
      "_|_|_\n",
      " | | \n",
      "_|_|_\n"
     ]
    },
    {
     "name": "stdin",
     "output_type": "stream",
     "text": [
      "Please Provide the Row Number from 1,2,3 2\n",
      "Please Provide the Column Number from 1,2,3 1\n"
     ]
    },
    {
     "name": "stdout",
     "output_type": "stream",
     "text": [
      "O| | \n",
      "_|_|_\n",
      "X| | \n",
      "_|_|_\n",
      " | | \n",
      "_|_|_\n",
      "Hi Player 1! Your sign which is to be used by you is 'O'\n",
      "O| | \n",
      "_|_|_\n",
      "X| | \n",
      "_|_|_\n",
      " | | \n",
      "_|_|_\n"
     ]
    },
    {
     "name": "stdin",
     "output_type": "stream",
     "text": [
      "Please Provide the Row Number from 1,2,3 2\n",
      "Please Provide the Column Number from 1,2,3 2\n"
     ]
    },
    {
     "name": "stdout",
     "output_type": "stream",
     "text": [
      "O| | \n",
      "_|_|_\n",
      "X|O| \n",
      "_|_|_\n",
      " | | \n",
      "_|_|_\n",
      "Hi Player 2! Your sign which is to be used by you is 'X'\n",
      "O| | \n",
      "_|_|_\n",
      "X|O| \n",
      "_|_|_\n",
      " | | \n",
      "_|_|_\n"
     ]
    },
    {
     "name": "stdin",
     "output_type": "stream",
     "text": [
      "Please Provide the Row Number from 1,2,3 3\n",
      "Please Provide the Column Number from 1,2,3 1\n"
     ]
    },
    {
     "name": "stdout",
     "output_type": "stream",
     "text": [
      "O| | \n",
      "_|_|_\n",
      "X|O| \n",
      "_|_|_\n",
      "X| | \n",
      "_|_|_\n",
      "Hi Player 1! Your sign which is to be used by you is 'O'\n",
      "O| | \n",
      "_|_|_\n",
      "X|O| \n",
      "_|_|_\n",
      "X| | \n",
      "_|_|_\n"
     ]
    },
    {
     "name": "stdin",
     "output_type": "stream",
     "text": [
      "Please Provide the Row Number from 1,2,3 3\n",
      "Please Provide the Column Number from 1,2,3 3\n"
     ]
    },
    {
     "name": "stdout",
     "output_type": "stream",
     "text": [
      "O| | \n",
      "_|_|_\n",
      "X|O| \n",
      "_|_|_\n",
      "X| |O\n",
      "_|_|_\n",
      "Hurray Player 1 won the game! Better Luck Next Time Player 2\n"
     ]
    }
   ],
   "source": [
    "returning_result()"
   ]
  }
 ],
 "metadata": {
  "kernelspec": {
   "display_name": "Python [conda env:base] *",
   "language": "python",
   "name": "conda-base-py"
  },
  "language_info": {
   "codemirror_mode": {
    "name": "ipython",
    "version": 3
   },
   "file_extension": ".py",
   "mimetype": "text/x-python",
   "name": "python",
   "nbconvert_exporter": "python",
   "pygments_lexer": "ipython3",
   "version": "3.12.7"
  }
 },
 "nbformat": 4,
 "nbformat_minor": 4
}
