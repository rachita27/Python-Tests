{
 "cells": [
  {
   "cell_type": "code",
   "execution_count": 6,
   "id": "1a01f779-416c-46e8-babd-9568c6695573",
   "metadata": {},
   "outputs": [],
   "source": [
    "from collections import Counter"
   ]
  },
  {
   "cell_type": "code",
   "execution_count": 8,
   "id": "15173f06-a38c-4994-bf26-32108696b6ca",
   "metadata": {},
   "outputs": [],
   "source": [
    "lt = [1,2,2,2,3,3,4,5,5,1,1,3,3]"
   ]
  },
  {
   "cell_type": "code",
   "execution_count": 50,
   "id": "ff21284d-269f-4505-bb49-4d0d944ad4a1",
   "metadata": {},
   "outputs": [
    {
     "data": {
      "text/plain": [
       "Counter({3: 4, 1: 3, 2: 3, 5: 2, 4: 1})"
      ]
     },
     "execution_count": 50,
     "metadata": {},
     "output_type": "execute_result"
    }
   ],
   "source": [
    "Counter(lt)"
   ]
  },
  {
   "cell_type": "code",
   "execution_count": 52,
   "id": "aca44c8e-2857-49ca-ba62-bda10b3e119c",
   "metadata": {},
   "outputs": [],
   "source": [
    "TUP = (1,2,2,2,3,3,4,5,5,1,1,3,3)"
   ]
  },
  {
   "cell_type": "code",
   "execution_count": 54,
   "id": "239a4db3-5583-4842-9db0-66ceba8d6fec",
   "metadata": {},
   "outputs": [
    {
     "data": {
      "text/plain": [
       "Counter({3: 4, 1: 3, 2: 3, 5: 2, 4: 1})"
      ]
     },
     "execution_count": 54,
     "metadata": {},
     "output_type": "execute_result"
    }
   ],
   "source": [
    "Counter(TUP)"
   ]
  },
  {
   "cell_type": "code",
   "execution_count": 12,
   "id": "5774898f-a5ba-4145-ba60-ddf2a6685fd2",
   "metadata": {},
   "outputs": [],
   "source": [
    "st = 'gsgsgssgggguuiuuuiqq'"
   ]
  },
  {
   "cell_type": "code",
   "execution_count": 14,
   "id": "7d6aeb8c-58b6-4281-a8ee-804110e31dac",
   "metadata": {},
   "outputs": [
    {
     "data": {
      "text/plain": [
       "Counter({'g': 7, 'u': 5, 's': 4, 'i': 2, 'q': 2})"
      ]
     },
     "execution_count": 14,
     "metadata": {},
     "output_type": "execute_result"
    }
   ],
   "source": [
    "Counter(st)"
   ]
  },
  {
   "cell_type": "code",
   "execution_count": 16,
   "id": "0ef40cb6-c0f3-44df-9e78-16c332c03d97",
   "metadata": {},
   "outputs": [],
   "source": [
    "st1 = 'Hi can you check who is there in this you sentence & can you pass the count in this place'"
   ]
  },
  {
   "cell_type": "code",
   "execution_count": 24,
   "id": "e9ddf1cd-716f-420f-a661-fec95051f9d1",
   "metadata": {},
   "outputs": [],
   "source": [
    "ty = Counter(st1.lower().split())"
   ]
  },
  {
   "cell_type": "code",
   "execution_count": 26,
   "id": "3192704e-cc18-4108-93d4-d2952bd9d78a",
   "metadata": {},
   "outputs": [
    {
     "data": {
      "text/plain": [
       "Counter({'you': 3,\n",
       "         'can': 2,\n",
       "         'in': 2,\n",
       "         'this': 2,\n",
       "         'hi': 1,\n",
       "         'check': 1,\n",
       "         'who': 1,\n",
       "         'is': 1,\n",
       "         'there': 1,\n",
       "         'sentence': 1,\n",
       "         '&': 1,\n",
       "         'pass': 1,\n",
       "         'the': 1,\n",
       "         'count': 1,\n",
       "         'place': 1})"
      ]
     },
     "execution_count": 26,
     "metadata": {},
     "output_type": "execute_result"
    }
   ],
   "source": [
    "ty"
   ]
  },
  {
   "cell_type": "code",
   "execution_count": 38,
   "id": "9b8b0bdd-8ac1-4537-87df-6d7fdbc0139c",
   "metadata": {},
   "outputs": [
    {
     "data": {
      "text/plain": [
       "[('you', 3), ('can', 2)]"
      ]
     },
     "execution_count": 38,
     "metadata": {},
     "output_type": "execute_result"
    }
   ],
   "source": [
    "ty.most_common(2)"
   ]
  },
  {
   "cell_type": "code",
   "execution_count": 40,
   "id": "f79af91a-ed23-423d-833c-4ac9c7d92cc1",
   "metadata": {},
   "outputs": [
    {
     "data": {
      "text/plain": [
       "15"
      ]
     },
     "execution_count": 40,
     "metadata": {},
     "output_type": "execute_result"
    }
   ],
   "source": [
    "len(ty)"
   ]
  },
  {
   "cell_type": "code",
   "execution_count": 44,
   "id": "578fb9f6-10bc-40ef-ba94-f623de3fb10c",
   "metadata": {},
   "outputs": [
    {
     "data": {
      "text/plain": [
       "[('place', 1)]"
      ]
     },
     "execution_count": 44,
     "metadata": {},
     "output_type": "execute_result"
    }
   ],
   "source": [
    "ty.most_common()[:13:-1]"
   ]
  },
  {
   "cell_type": "code",
   "execution_count": 48,
   "id": "2a7e2703-4880-4850-bd7c-167c66d2de01",
   "metadata": {},
   "outputs": [
    {
     "data": {
      "text/plain": [
       "[('count', 1), ('place', 1)]"
      ]
     },
     "execution_count": 48,
     "metadata": {},
     "output_type": "execute_result"
    }
   ],
   "source": [
    "#2 least value\n",
    "ty.most_common()[len(ty)-2::]"
   ]
  },
  {
   "cell_type": "code",
   "execution_count": 64,
   "id": "d0e3b2d8-3949-4cd1-a102-e21cdb4be7cf",
   "metadata": {},
   "outputs": [],
   "source": [
    "from collections import defaultdict"
   ]
  },
  {
   "cell_type": "code",
   "execution_count": 68,
   "id": "e579476d-ddcd-416c-97d1-8b729a5798d4",
   "metadata": {},
   "outputs": [],
   "source": [
    "dict1 = {'a':1,'b':2}"
   ]
  },
  {
   "cell_type": "code",
   "execution_count": 74,
   "id": "4ef3cd88-b55b-4758-b1b8-d4d4c40d5d16",
   "metadata": {},
   "outputs": [],
   "source": [
    "d = defaultdict(lambda: 0, {'a':1,'b':2})"
   ]
  },
  {
   "cell_type": "code",
   "execution_count": 80,
   "id": "c67ff9f4-3857-4b63-b654-d3c0684ac04f",
   "metadata": {},
   "outputs": [
    {
     "data": {
      "text/plain": [
       "1"
      ]
     },
     "execution_count": 80,
     "metadata": {},
     "output_type": "execute_result"
    }
   ],
   "source": [
    "d['a']; dict1['a']"
   ]
  },
  {
   "cell_type": "code",
   "execution_count": 82,
   "id": "c8b5842a-d826-4f56-995c-5e6beb041e82",
   "metadata": {},
   "outputs": [
    {
     "data": {
      "text/plain": [
       "0"
      ]
     },
     "execution_count": 82,
     "metadata": {},
     "output_type": "execute_result"
    }
   ],
   "source": [
    "d['ab']"
   ]
  },
  {
   "cell_type": "code",
   "execution_count": 84,
   "id": "c8d0c1bc-d633-407d-aa3b-6053b4b57541",
   "metadata": {},
   "outputs": [
    {
     "ename": "KeyError",
     "evalue": "'ab'",
     "output_type": "error",
     "traceback": [
      "\u001b[0;31m---------------------------------------------------------------------------\u001b[0m",
      "\u001b[0;31mKeyError\u001b[0m                                  Traceback (most recent call last)",
      "Cell \u001b[0;32mIn[84], line 1\u001b[0m\n\u001b[0;32m----> 1\u001b[0m dict1[\u001b[38;5;124m'\u001b[39m\u001b[38;5;124mab\u001b[39m\u001b[38;5;124m'\u001b[39m]\n",
      "\u001b[0;31mKeyError\u001b[0m: 'ab'"
     ]
    }
   ],
   "source": [
    "dict1['ab']"
   ]
  },
  {
   "cell_type": "code",
   "execution_count": 86,
   "id": "9e4191a0-9b03-441d-9611-ac3a3c9b02c1",
   "metadata": {},
   "outputs": [
    {
     "data": {
      "text/plain": [
       "'/Users/rachita'"
      ]
     },
     "execution_count": 86,
     "metadata": {},
     "output_type": "execute_result"
    }
   ],
   "source": [
    "pwd"
   ]
  },
  {
   "cell_type": "code",
   "execution_count": 88,
   "id": "c0f07e58-f25d-443e-87bb-d78c22db9362",
   "metadata": {},
   "outputs": [],
   "source": [
    "import os"
   ]
  },
  {
   "cell_type": "code",
   "execution_count": 92,
   "id": "c731b3a0-ab9f-43ab-83db-6117060f61ee",
   "metadata": {},
   "outputs": [
    {
     "data": {
      "text/plain": [
       "'/Users/rachita'"
      ]
     },
     "execution_count": 92,
     "metadata": {},
     "output_type": "execute_result"
    }
   ],
   "source": [
    "os.getcwd()"
   ]
  },
  {
   "cell_type": "code",
   "execution_count": 94,
   "id": "3706f09a-4952-494c-a998-409713fc790c",
   "metadata": {},
   "outputs": [],
   "source": [
    "\n",
    "import shutil"
   ]
  },
  {
   "cell_type": "code",
   "execution_count": 96,
   "id": "022e6f43-171f-485f-b861-3b15c32309ed",
   "metadata": {},
   "outputs": [],
   "source": [
    "import datetime"
   ]
  },
  {
   "cell_type": "code",
   "execution_count": 98,
   "id": "b3d5a53c-36c7-49fb-9606-aade562af052",
   "metadata": {},
   "outputs": [],
   "source": [
    "d1 = datetime.date(2024,10,11)\n",
    "d2 = datetime.date(2025,10,11)"
   ]
  },
  {
   "cell_type": "code",
   "execution_count": 112,
   "id": "5f4ee51a-9486-42c3-8b08-f4d7294ad2df",
   "metadata": {},
   "outputs": [],
   "source": [
    "dif = d2-d1"
   ]
  },
  {
   "cell_type": "code",
   "execution_count": 114,
   "id": "ada580c1-b9a1-426d-b38e-26b532e90f2f",
   "metadata": {},
   "outputs": [
    {
     "data": {
      "text/plain": [
       "365"
      ]
     },
     "execution_count": 114,
     "metadata": {},
     "output_type": "execute_result"
    }
   ],
   "source": [
    "dif.days"
   ]
  },
  {
   "cell_type": "code",
   "execution_count": 118,
   "id": "e17b357c-f925-4258-926b-52b24d70851c",
   "metadata": {},
   "outputs": [
    {
     "ename": "TypeError",
     "evalue": "can only concatenate list (not \"int\") to list",
     "output_type": "error",
     "traceback": [
      "\u001b[0;31m---------------------------------------------------------------------------\u001b[0m",
      "\u001b[0;31mTypeError\u001b[0m                                 Traceback (most recent call last)",
      "Cell \u001b[0;32mIn[118], line 4\u001b[0m\n\u001b[1;32m      1\u001b[0m x \u001b[38;5;241m=\u001b[39m [\u001b[38;5;241m1\u001b[39m,\u001b[38;5;241m2\u001b[39m,\u001b[38;5;241m4\u001b[39m]\n\u001b[1;32m      2\u001b[0m y \u001b[38;5;241m=\u001b[39m \u001b[38;5;241m6\u001b[39m\n\u001b[0;32m----> 4\u001b[0m x\u001b[38;5;241m+\u001b[39my\n",
      "\u001b[0;31mTypeError\u001b[0m: can only concatenate list (not \"int\") to list"
     ]
    }
   ],
   "source": [
    "x = [1,2,4]\n",
    "y = 6\n",
    "\n",
    "x+y"
   ]
  },
  {
   "cell_type": "code",
   "execution_count": 122,
   "id": "05c3abb2-adbb-4d72-a76c-e200a386c8c3",
   "metadata": {},
   "outputs": [],
   "source": [
    "import pdb"
   ]
  },
  {
   "cell_type": "code",
   "execution_count": 128,
   "id": "7604c217-9c5f-4796-bab4-33843d1b4760",
   "metadata": {},
   "outputs": [
    {
     "name": "stdout",
     "output_type": "stream",
     "text": [
      "--Return--\n",
      "None\n",
      "> \u001b[0;32m/var/folders/l3/f7hpz30s08nbzkwqz28bhvnr0000gn/T/ipykernel_13718/2370295416.py\u001b[0m(4)\u001b[0;36m<module>\u001b[0;34m()\u001b[0m\n",
      "\u001b[0;32m      1 \u001b[0;31m\u001b[0mx\u001b[0m \u001b[0;34m=\u001b[0m \u001b[0;34m[\u001b[0m\u001b[0;36m1\u001b[0m\u001b[0;34m,\u001b[0m\u001b[0;36m2\u001b[0m\u001b[0;34m,\u001b[0m\u001b[0;36m4\u001b[0m\u001b[0;34m]\u001b[0m\u001b[0;34m\u001b[0m\u001b[0;34m\u001b[0m\u001b[0m\n",
      "\u001b[0m\u001b[0;32m      2 \u001b[0;31m\u001b[0my\u001b[0m \u001b[0;34m=\u001b[0m \u001b[0;36m6\u001b[0m\u001b[0;34m\u001b[0m\u001b[0;34m\u001b[0m\u001b[0m\n",
      "\u001b[0m\u001b[0;32m      3 \u001b[0;31m\u001b[0;34m\u001b[0m\u001b[0m\n",
      "\u001b[0m\u001b[0;32m----> 4 \u001b[0;31m\u001b[0mpdb\u001b[0m\u001b[0;34m.\u001b[0m\u001b[0mset_trace\u001b[0m\u001b[0;34m(\u001b[0m\u001b[0;34m)\u001b[0m\u001b[0;34m\u001b[0m\u001b[0;34m\u001b[0m\u001b[0m\n",
      "\u001b[0m\u001b[0;32m      5 \u001b[0;31m\u001b[0mx\u001b[0m\u001b[0;34m+\u001b[0m\u001b[0my\u001b[0m\u001b[0;34m\u001b[0m\u001b[0;34m\u001b[0m\u001b[0m\n",
      "\u001b[0m\n"
     ]
    },
    {
     "name": "stdin",
     "output_type": "stream",
     "text": [
      "ipdb>  x+y\n"
     ]
    },
    {
     "name": "stdout",
     "output_type": "stream",
     "text": [
      "*** TypeError: can only concatenate list (not \"int\") to list\n"
     ]
    },
    {
     "name": "stdin",
     "output_type": "stream",
     "text": [
      "ipdb>  q\n"
     ]
    }
   ],
   "source": [
    "x = [1,2,4]\n",
    "y = 6\n",
    "\n",
    "pdb.set_trace()\n",
    "x+y"
   ]
  },
  {
   "cell_type": "code",
   "execution_count": 130,
   "id": "0c3d9326-0452-4681-883f-9f54c77e0dbf",
   "metadata": {},
   "outputs": [],
   "source": [
    "import re"
   ]
  },
  {
   "cell_type": "code",
   "execution_count": 132,
   "id": "cdfed4f9-acae-4ebd-9a2f-2b7336f61a96",
   "metadata": {},
   "outputs": [
    {
     "data": {
      "text/plain": [
       "<re.Match object; span=(3, 8), match='phone'>"
      ]
     },
     "execution_count": 132,
     "metadata": {},
     "output_type": "execute_result"
    }
   ],
   "source": [
    "re.search('phone', 'my phone is lost, no one know color of my phone')"
   ]
  },
  {
   "cell_type": "code",
   "execution_count": 136,
   "id": "7996adba-8247-4742-b95d-4f01b2ce8a1e",
   "metadata": {},
   "outputs": [],
   "source": [
    "tp= re.search('phone', 'my phone is lost, no one know color of my phone')"
   ]
  },
  {
   "cell_type": "code",
   "execution_count": 140,
   "id": "232d65a8-4de9-4849-8e1e-f922dd3c375e",
   "metadata": {},
   "outputs": [
    {
     "data": {
      "text/plain": [
       "3"
      ]
     },
     "execution_count": 140,
     "metadata": {},
     "output_type": "execute_result"
    }
   ],
   "source": [
    "tp.start() ##first index"
   ]
  },
  {
   "cell_type": "code",
   "execution_count": 142,
   "id": "5b9e67ae-88bc-466a-b9a5-8d5cb9a3e8c2",
   "metadata": {},
   "outputs": [
    {
     "data": {
      "text/plain": [
       "8"
      ]
     },
     "execution_count": 142,
     "metadata": {},
     "output_type": "execute_result"
    }
   ],
   "source": [
    "tp.end() ##end index of patters"
   ]
  },
  {
   "cell_type": "code",
   "execution_count": 144,
   "id": "0dd7fd31-0da8-44ff-ad94-a5e820b708e8",
   "metadata": {},
   "outputs": [
    {
     "data": {
      "text/plain": [
       "(3, 8)"
      ]
     },
     "execution_count": 144,
     "metadata": {},
     "output_type": "execute_result"
    }
   ],
   "source": [
    "tp.span() ##index tuuple"
   ]
  },
  {
   "cell_type": "code",
   "execution_count": 154,
   "id": "36d9a0ad-0dab-4521-a235-6aff1d2443f3",
   "metadata": {},
   "outputs": [],
   "source": [
    "tp1= re.findall('phone', 'my phone is lost, no one know color of my phone')"
   ]
  },
  {
   "cell_type": "code",
   "execution_count": 158,
   "id": "b79becd8-6e53-4ffd-8b43-566f9d54081f",
   "metadata": {},
   "outputs": [
    {
     "data": {
      "text/plain": [
       "['phone', 'phone']"
      ]
     },
     "execution_count": 158,
     "metadata": {},
     "output_type": "execute_result"
    }
   ],
   "source": [
    "tp1"
   ]
  },
  {
   "cell_type": "code",
   "execution_count": 160,
   "id": "1b2ecc21-ebba-4c90-98fb-647d79a6b8e4",
   "metadata": {},
   "outputs": [
    {
     "data": {
      "text/plain": [
       "2"
      ]
     },
     "execution_count": 160,
     "metadata": {},
     "output_type": "execute_result"
    }
   ],
   "source": [
    "len(tp1)"
   ]
  },
  {
   "cell_type": "code",
   "execution_count": 188,
   "id": "db908f3a-e2a2-41b0-a444-c36876cd53fe",
   "metadata": {},
   "outputs": [],
   "source": [
    "tp2= re.finditer('phone', 'my phone is lost, no one know color of my phone')"
   ]
  },
  {
   "cell_type": "code",
   "execution_count": 190,
   "id": "bfffe95e-ca25-427c-9d3e-c8b05d1d8838",
   "metadata": {},
   "outputs": [
    {
     "name": "stdout",
     "output_type": "stream",
     "text": [
      "<re.Match object; span=(3, 8), match='phone'>\n",
      "<re.Match object; span=(42, 47), match='phone'>\n"
     ]
    }
   ],
   "source": [
    "for i in tp2:\n",
    "    print(i)"
   ]
  },
  {
   "cell_type": "code",
   "execution_count": 192,
   "id": "5aab5d30-b77d-4c0d-a2d1-f36453d22ad9",
   "metadata": {},
   "outputs": [],
   "source": [
    "tp2= re.finditer('phone', 'my phone is lost, no one know color of my phone')"
   ]
  },
  {
   "cell_type": "code",
   "execution_count": 194,
   "id": "bfd9cc81-e9e3-4904-bfe5-31634e2bb551",
   "metadata": {},
   "outputs": [
    {
     "name": "stdout",
     "output_type": "stream",
     "text": [
      "(3, 8)\n",
      "(42, 47)\n"
     ]
    }
   ],
   "source": [
    "for i in tp2:\n",
    "    print(i.span())"
   ]
  },
  {
   "cell_type": "code",
   "execution_count": 198,
   "id": "8c23e856-7699-4816-a27e-69bf342517b7",
   "metadata": {},
   "outputs": [],
   "source": [
    "tp2= re.finditer('phone', 'my phone is lost, no one know color of my phone')"
   ]
  },
  {
   "cell_type": "code",
   "execution_count": 200,
   "id": "80e37cd6-f0fd-4adb-9570-f4acea3602fb",
   "metadata": {},
   "outputs": [
    {
     "name": "stdout",
     "output_type": "stream",
     "text": [
      "3\n",
      "42\n"
     ]
    }
   ],
   "source": [
    "for i in tp2:\n",
    "    print(i.start())"
   ]
  },
  {
   "cell_type": "code",
   "execution_count": 202,
   "id": "97b01b60-4840-4ff0-b93c-077294a7ade0",
   "metadata": {},
   "outputs": [],
   "source": [
    "for i in tp2:\n",
    "    print(i.stop())"
   ]
  },
  {
   "cell_type": "code",
   "execution_count": 210,
   "id": "dddf2e49-d48a-4aee-85c9-fbb27d0d5cf8",
   "metadata": {},
   "outputs": [],
   "source": [
    "tp2= re.finditer('phone', 'my phone is lost, no one know color of my phone')"
   ]
  },
  {
   "cell_type": "code",
   "execution_count": 212,
   "id": "990ba214-51d9-47a8-902b-c8b7688a24ec",
   "metadata": {},
   "outputs": [
    {
     "name": "stdout",
     "output_type": "stream",
     "text": [
      "8\n",
      "47\n"
     ]
    }
   ],
   "source": [
    "for i in tp2:\n",
    "    print(i.end())"
   ]
  },
  {
   "cell_type": "code",
   "execution_count": 216,
   "id": "3e800890-4607-47e5-a41b-4712a0648b5c",
   "metadata": {},
   "outputs": [
    {
     "data": {
      "text/plain": [
       "10"
      ]
     },
     "execution_count": 216,
     "metadata": {},
     "output_type": "execute_result"
    }
   ],
   "source": [
    "'sjssjh uh hi hi'.find('hi')"
   ]
  },
  {
   "cell_type": "code",
   "execution_count": 218,
   "id": "25f35fc4-6618-4d9d-8b48-cba8f473a7a9",
   "metadata": {},
   "outputs": [
    {
     "data": {
      "text/plain": [
       "10"
      ]
     },
     "execution_count": 218,
     "metadata": {},
     "output_type": "execute_result"
    }
   ],
   "source": [
    "'sjssjh uh hi hi'.index('hi')"
   ]
  },
  {
   "cell_type": "code",
   "execution_count": 222,
   "id": "9f3f3fc0-75b7-4616-8c5b-82501ccafa6f",
   "metadata": {},
   "outputs": [
    {
     "data": {
      "text/plain": [
       "'sjssjh uh hello hello'"
      ]
     },
     "execution_count": 222,
     "metadata": {},
     "output_type": "execute_result"
    }
   ],
   "source": [
    "'sjssjh uh hi hi'.replace('hi' ,'hello')"
   ]
  },
  {
   "cell_type": "code",
   "execution_count": null,
   "id": "437701c3-82ab-4f00-bc67-6955a551907b",
   "metadata": {},
   "outputs": [],
   "source": [
    "'sjssjh uh hi hi'"
   ]
  },
  {
   "cell_type": "code",
   "execution_count": null,
   "id": "9f771e7a-5562-401e-8fd8-7ef4c5b254c7",
   "metadata": {},
   "outputs": [],
   "source": [
    "'this is my phone"
   ]
  },
  {
   "cell_type": "code",
   "execution_count": 226,
   "id": "89a99d8c-adc5-4f73-ad3c-48043f6dc48d",
   "metadata": {},
   "outputs": [],
   "source": [
    "##searchinf for number & returning that number\n",
    "\n",
    "dt = \"my number is 401-322-8888, call me whenever you can\"\n",
    "res = re.search(r'\\d\\d\\d-\\d\\d\\d-\\d\\d\\d\\d',dt)"
   ]
  },
  {
   "cell_type": "code",
   "execution_count": 228,
   "id": "30a28553-5697-40ed-a497-dfa35613a7a9",
   "metadata": {},
   "outputs": [
    {
     "data": {
      "text/plain": [
       "<re.Match object; span=(13, 25), match='401-322-8888'>"
      ]
     },
     "execution_count": 228,
     "metadata": {},
     "output_type": "execute_result"
    }
   ],
   "source": [
    "res"
   ]
  },
  {
   "cell_type": "code",
   "execution_count": 230,
   "id": "36390382-a666-4c4d-a3af-ad1f6e748925",
   "metadata": {},
   "outputs": [
    {
     "data": {
      "text/plain": [
       "'401-322-8888'"
      ]
     },
     "execution_count": 230,
     "metadata": {},
     "output_type": "execute_result"
    }
   ],
   "source": [
    "res.group()"
   ]
  },
  {
   "cell_type": "code",
   "execution_count": 232,
   "id": "52594a41-1178-4b88-b4cb-f3616c868fb7",
   "metadata": {},
   "outputs": [],
   "source": [
    "##searchinf for number & returning that number\n",
    "\n",
    "dt = \"my number is 401-322-8888, call me whenever you can\"\n",
    "res = re.search(r'\\d{3}-\\d{3}-\\d{4}',dt)"
   ]
  },
  {
   "cell_type": "code",
   "execution_count": 234,
   "id": "1bfd03ca-6011-4783-a612-87021ad93e7b",
   "metadata": {},
   "outputs": [
    {
     "data": {
      "text/plain": [
       "'401-322-8888'"
      ]
     },
     "execution_count": 234,
     "metadata": {},
     "output_type": "execute_result"
    }
   ],
   "source": [
    "res.group()"
   ]
  },
  {
   "cell_type": "code",
   "execution_count": 242,
   "id": "b558411a-e734-4ca4-a0ec-5ea0682f383c",
   "metadata": {},
   "outputs": [],
   "source": [
    "#to get the extension of mobile numbers\n",
    "Pattern = re.compile(r'(\\d{3})-(\\d{3})-(\\d{4})')\n",
    "\n",
    "res = re.search(Pattern,dt)"
   ]
  },
  {
   "cell_type": "code",
   "execution_count": 246,
   "id": "fa3738b8-a3ea-40d7-9183-e3d2db3fe548",
   "metadata": {},
   "outputs": [
    {
     "data": {
      "text/plain": [
       "'401'"
      ]
     },
     "execution_count": 246,
     "metadata": {},
     "output_type": "execute_result"
    }
   ],
   "source": [
    "res.group(1) ##not group index starts with one"
   ]
  },
  {
   "cell_type": "code",
   "execution_count": 258,
   "id": "ce2cfc06-e406-4703-a469-d5c2dfb375f1",
   "metadata": {},
   "outputs": [],
   "source": [
    "RES = re.findall(r'[\\w]+-[\\w]+','Only find the hypen-words in this sentence. But you do not know how long-ish they are')"
   ]
  },
  {
   "cell_type": "code",
   "execution_count": 262,
   "id": "98db5200-c141-492e-9c1b-99b33f0d4836",
   "metadata": {},
   "outputs": [
    {
     "data": {
      "text/plain": [
       "['hypen-words', 'long-ish']"
      ]
     },
     "execution_count": 262,
     "metadata": {},
     "output_type": "execute_result"
    }
   ],
   "source": [
    "RES"
   ]
  },
  {
   "cell_type": "code",
   "execution_count": 264,
   "id": "062976ad-9374-4560-81c5-43cfdc18fa3d",
   "metadata": {},
   "outputs": [],
   "source": [
    "text = \"Contact us at support@example.com, admin@my-site.org, or invalid_email@.com\""
   ]
  },
  {
   "cell_type": "markdown",
   "id": "c32980db-36d4-43ed-aa4e-d954955bcc19",
   "metadata": {},
   "source": [
    "\"\"\"Starts with a letter or digit\n",
    "\n",
    "Can contain letters, digits, underscores, periods, or hyphens before the '@'\n",
    "\n",
    "Must contain one '@' symbol\n",
    "\n",
    "Must be followed by a domain name that:\n",
    "\n",
    "Starts with a letter or digit\n",
    "\n",
    "Contains at least one period . after the '@'\n",
    "\n",
    "Ends with a domain suffix like .com, .net, .org, etc.\"\""
   ]
  },
  {
   "cell_type": "code",
   "execution_count": 321,
   "id": "695539fa-ecf6-4c28-822e-326362dec225",
   "metadata": {},
   "outputs": [],
   "source": [
    "pat = re.compile(r'[\\w|_|.|-]+@[\\w|_|-]+.\\w+') #(^\\w)+.\\w+"
   ]
  },
  {
   "cell_type": "code",
   "execution_count": 323,
   "id": "f900b43d-5531-40ae-a7a4-201b0b85c310",
   "metadata": {},
   "outputs": [],
   "source": [
    "RES = re.findall(pat,text)"
   ]
  },
  {
   "cell_type": "code",
   "execution_count": 325,
   "id": "6b38a99b-5828-4f04-8db1-ee19c58ec7bf",
   "metadata": {},
   "outputs": [
    {
     "data": {
      "text/plain": [
       "['support@example.com', 'admin@my-site.org']"
      ]
     },
     "execution_count": 325,
     "metadata": {},
     "output_type": "execute_result"
    }
   ],
   "source": [
    "RES"
   ]
  },
  {
   "cell_type": "code",
   "execution_count": null,
   "id": "a2f093b7-fc6a-4dcb-a714-18aa744534c9",
   "metadata": {},
   "outputs": [],
   "source": []
  }
 ],
 "metadata": {
  "kernelspec": {
   "display_name": "Python [conda env:base] *",
   "language": "python",
   "name": "conda-base-py"
  },
  "language_info": {
   "codemirror_mode": {
    "name": "ipython",
    "version": 3
   },
   "file_extension": ".py",
   "mimetype": "text/x-python",
   "name": "python",
   "nbconvert_exporter": "python",
   "pygments_lexer": "ipython3",
   "version": "3.12.7"
  }
 },
 "nbformat": 4,
 "nbformat_minor": 5
}
