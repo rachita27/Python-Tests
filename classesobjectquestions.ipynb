{
 "cells": [
  {
   "cell_type": "markdown",
   "id": "bb841eaa",
   "metadata": {},
   "source": [
    "# Module: Classes and Objects Assignments\n",
    "## Lesson: Creating and Working with Classes and Objects\n",
    "### Assignment 1: Basic Class and Object Creation\n",
    "\n",
    "Create a class named `Car` with attributes `make`, `model`, and `year`. Create an object of the class and print its attributes."
   ]
  },
  {
   "cell_type": "code",
   "execution_count": 2,
   "id": "48b96cc3",
   "metadata": {},
   "outputs": [],
   "source": [
    "class Car():\n",
    "    ##Instanace/Constructor\n",
    "    def __init__(self, make, model, year):\n",
    "        self.make = make\n",
    "        self.model = model\n",
    "        self.year = year\n",
    "\n",
    "    "
   ]
  },
  {
   "cell_type": "code",
   "execution_count": 3,
   "id": "3e5fbd6a",
   "metadata": {},
   "outputs": [],
   "source": [
    "car1 = Car('Suzuki','Wagonr',2025)\n"
   ]
  },
  {
   "cell_type": "code",
   "execution_count": 4,
   "id": "a9712668",
   "metadata": {},
   "outputs": [
    {
     "name": "stdout",
     "output_type": "stream",
     "text": [
      "Suzuki\n",
      "Wagonr\n",
      "2025\n"
     ]
    }
   ],
   "source": [
    "print(car1.make)\n",
    "print(car1.model)\n",
    "print(car1.year)"
   ]
  },
  {
   "cell_type": "markdown",
   "id": "a2cd3c32",
   "metadata": {},
   "source": [
    "### Assignment 2: Methods in Class\n",
    "\n",
    "Add a method named `start_engine` to the `Car` class that prints a message when the engine starts. Create an object of the class and call the method."
   ]
  },
  {
   "cell_type": "code",
   "execution_count": 5,
   "id": "da4fc643",
   "metadata": {},
   "outputs": [],
   "source": [
    "class Car():\n",
    "    ##Instanace/Constructor\n",
    "    def __init__(self, make, model, year):\n",
    "        self.make = make\n",
    "        self.model = model\n",
    "        self.year = year\n",
    "\n",
    "    def start_engine(self):\n",
    "        print(\"Engine has started\")"
   ]
  },
  {
   "cell_type": "code",
   "execution_count": 6,
   "id": "0f2f7b29",
   "metadata": {},
   "outputs": [
    {
     "data": {
      "text/plain": [
       "<bound method Car.start_engine of <__main__.Car object at 0x000001B60BD17C80>>"
      ]
     },
     "execution_count": 6,
     "metadata": {},
     "output_type": "execute_result"
    }
   ],
   "source": [
    "Car('Suzuki','Wagonr',2025).start_engine"
   ]
  },
  {
   "cell_type": "code",
   "execution_count": 7,
   "id": "0a97db12",
   "metadata": {},
   "outputs": [
    {
     "name": "stdout",
     "output_type": "stream",
     "text": [
      "Engine has started\n"
     ]
    }
   ],
   "source": [
    "Car('Suzuki','Wagonr',2025).start_engine()"
   ]
  },
  {
   "cell_type": "markdown",
   "id": "52067f37",
   "metadata": {},
   "source": [
    "### Assignment 3: Class with Constructor\n",
    "\n",
    "Create a class named `Student` with attributes `name` and `age`. Use a constructor to initialize these attributes. Create an object of the class and print its attributes."
   ]
  },
  {
   "cell_type": "code",
   "execution_count": 8,
   "id": "acd2b5ca",
   "metadata": {},
   "outputs": [],
   "source": [
    "class Student():\n",
    "\n",
    "    def __init__(self, name, age):\n",
    "        self.name = name\n",
    "        self.age = age"
   ]
  },
  {
   "cell_type": "code",
   "execution_count": 9,
   "id": "916888cb",
   "metadata": {},
   "outputs": [
    {
     "data": {
      "text/plain": [
       "(58, 'Mohan')"
      ]
     },
     "execution_count": 9,
     "metadata": {},
     "output_type": "execute_result"
    }
   ],
   "source": [
    "st1 = Student('Mohan', 58)\n",
    "st1.age, st1.name"
   ]
  },
  {
   "cell_type": "markdown",
   "id": "ad582f76",
   "metadata": {},
   "source": [
    "### Assignment 4: Class with Private Attributes\n",
    "\n",
    "Create a class named `BankAccount` with private attributes `account_number` and `balance`. Add methods to deposit and withdraw money, and to check the balance. Create an object of the class and perform some operations."
   ]
  },
  {
   "cell_type": "code",
   "execution_count": 28,
   "id": "05d3558d",
   "metadata": {},
   "outputs": [],
   "source": [
    "class BankAccount():\n",
    "\n",
    "    def __init__(self, account_number, balance):\n",
    "        self.account_number = account_number\n",
    "        self.balance = balance\n",
    "    \n",
    "    def deposit(self, amount):\n",
    "        self.balance += amount\n",
    "        print(f\"The ${amount} has been deposited. The current balance ${self.balance}.\")\n",
    "    \n",
    "    def withdraw(self, amnt):\n",
    "        if self.balance >= amnt:\n",
    "            self.balance -= amnt\n",
    "            print(f\"The ${amnt} has been withdrawn. The current balance ${self.balance}.\")\n",
    "        else:\n",
    "            print(f\"The ${amnt} can't been withdrawn. The current balance is short off : ${amnt - self.balance}.\")\n",
    "    \n",
    "    def __str__(self):\n",
    "        return \"The current balance is: $\" + str(self.balance) + \".\"\n",
    "        # print(f\"The current balance is: {self.balance}.\")"
   ]
  },
  {
   "cell_type": "code",
   "execution_count": 29,
   "id": "ac8eea79",
   "metadata": {},
   "outputs": [],
   "source": [
    "b1 = BankAccount(8646876545,900)"
   ]
  },
  {
   "cell_type": "code",
   "execution_count": 30,
   "id": "5540547a",
   "metadata": {},
   "outputs": [
    {
     "name": "stdout",
     "output_type": "stream",
     "text": [
      "The current balance is: $900.\n"
     ]
    }
   ],
   "source": [
    "print(b1)"
   ]
  },
  {
   "cell_type": "code",
   "execution_count": 31,
   "id": "694ed67a",
   "metadata": {},
   "outputs": [
    {
     "name": "stdout",
     "output_type": "stream",
     "text": [
      "The $1000 has been deposited. The current balance $1900.\n"
     ]
    }
   ],
   "source": [
    "b1.deposit(1000)"
   ]
  },
  {
   "cell_type": "code",
   "execution_count": 32,
   "id": "df9f4b63",
   "metadata": {},
   "outputs": [
    {
     "name": "stdout",
     "output_type": "stream",
     "text": [
      "The $9000 can't been withdrawn. The current balance is short off : $7100.\n"
     ]
    }
   ],
   "source": [
    "b1.withdraw(9000)"
   ]
  },
  {
   "cell_type": "code",
   "execution_count": 33,
   "id": "cb48dfe0",
   "metadata": {},
   "outputs": [
    {
     "name": "stdout",
     "output_type": "stream",
     "text": [
      "The $1000 has been withdrawn. The current balance $900.\n"
     ]
    }
   ],
   "source": [
    "b1.withdraw(1000)"
   ]
  },
  {
   "cell_type": "markdown",
   "id": "d1ce4484",
   "metadata": {},
   "source": [
    "### Assignment 5: Class Inheritance\n",
    "\n",
    "Create a base class named `Person` with attributes `name` and `age`. Create a derived class named `Employee` that inherits from `Person` and adds an attribute `employee_id`. Create an object of the derived class and print its attributes."
   ]
  },
  {
   "cell_type": "code",
   "execution_count": 35,
   "id": "7ce59ecf",
   "metadata": {},
   "outputs": [],
   "source": [
    "class Person():\n",
    "\n",
    "    def __init__(self,name, age):\n",
    "        self.name = name\n",
    "        self.age = age"
   ]
  },
  {
   "cell_type": "code",
   "execution_count": null,
   "id": "c9167091",
   "metadata": {},
   "outputs": [],
   "source": [
    "class Employee(Person):\n",
    "\n",
    "    def __init__(self, name, age, employee_id  ):\n",
    "        ##this is the inheritance\n",
    "        super().__init__(name, age) ## super() -> allows to inherit the class \n",
    "        ##but parameters you would need to pass again\n",
    "        self.employee_id = employee_id \n",
    "               "
   ]
  },
  {
   "cell_type": "code",
   "execution_count": 45,
   "id": "98490bdf",
   "metadata": {},
   "outputs": [
    {
     "data": {
      "text/plain": [
       "('Mohan', 89)"
      ]
     },
     "execution_count": 45,
     "metadata": {},
     "output_type": "execute_result"
    }
   ],
   "source": [
    "p1 = Person('Mohan',89)\n",
    "p1.name, p1.age"
   ]
  },
  {
   "cell_type": "code",
   "execution_count": 50,
   "id": "2974ec8e",
   "metadata": {},
   "outputs": [
    {
     "data": {
      "text/plain": [
       "(161270, 'Mohan', 89)"
      ]
     },
     "execution_count": 50,
     "metadata": {},
     "output_type": "execute_result"
    }
   ],
   "source": [
    "e1 = Employee('Mohan',89,161270)\n",
    "e1.employee_id, e1.name, e1.age"
   ]
  },
  {
   "cell_type": "markdown",
   "id": "bc616096",
   "metadata": {},
   "source": [
    "### Assignment 6: Method Overriding\n",
    "\n",
    "In the `Employee` class, override the `__str__` method to return a string representation of the object. Create an object of the class and print it."
   ]
  },
  {
   "cell_type": "code",
   "execution_count": 51,
   "id": "0c7561d6",
   "metadata": {},
   "outputs": [],
   "source": [
    "class Employee(Person):\n",
    "\n",
    "    def __init__(self, name, age, employee_id  ):\n",
    "        ##this is the inheritance\n",
    "        super().__init__(name, age) ## super() -> allows to inherit the class \n",
    "        ##but parameters you would need to pass again\n",
    "        self.employee_id = employee_id \n",
    "\n",
    "    def __str__(self):\n",
    "        print(\"print string\")\n",
    "        return super().__str__() \n",
    "    "
   ]
  },
  {
   "cell_type": "code",
   "execution_count": 52,
   "id": "5a04e230",
   "metadata": {},
   "outputs": [
    {
     "data": {
      "text/plain": [
       "(161270, 'Mohan', 89)"
      ]
     },
     "execution_count": 52,
     "metadata": {},
     "output_type": "execute_result"
    }
   ],
   "source": [
    "e1 = Employee('Mohan',89,161270)\n",
    "e1.employee_id, e1.name, e1.age"
   ]
  },
  {
   "cell_type": "code",
   "execution_count": 53,
   "id": "79afab15",
   "metadata": {},
   "outputs": [
    {
     "name": "stdout",
     "output_type": "stream",
     "text": [
      "print string\n",
      "<__main__.Employee object at 0x000001B60BD1F830>\n"
     ]
    }
   ],
   "source": [
    "print(e1)"
   ]
  },
  {
   "cell_type": "markdown",
   "id": "55e43784",
   "metadata": {},
   "source": [
    "### Assignment 7: Class Composition\n",
    "\n",
    "Create a class named `Address` with attributes `street`, `city`, and `zipcode`. Create a class named `Person` that has an `Address` object as an attribute. Create an object of the `Person` class and print its address."
   ]
  },
  {
   "cell_type": "code",
   "execution_count": 54,
   "id": "f504aeab",
   "metadata": {},
   "outputs": [],
   "source": [
    "class Address():\n",
    "\n",
    "    def __init__(self, street, city, zipcode):\n",
    "        self.street = street\n",
    "        self.city = city\n",
    "        self.zipcode = zipcode"
   ]
  },
  {
   "cell_type": "code",
   "execution_count": 58,
   "id": "8dc67fac",
   "metadata": {},
   "outputs": [],
   "source": [
    "class Person(Address):\n",
    "\n",
    "    def __init__(self, street, city, zipcode, name):\n",
    "        super().__init__(street, city, zipcode)\n",
    "        self.name = name\n"
   ]
  },
  {
   "cell_type": "code",
   "execution_count": 59,
   "id": "7a1ed082",
   "metadata": {},
   "outputs": [
    {
     "data": {
      "text/plain": [
       "('DC', 'delhi', 110085, 'mon')"
      ]
     },
     "execution_count": 59,
     "metadata": {},
     "output_type": "execute_result"
    }
   ],
   "source": [
    "ad1 = Address('DC','delhi',110085)\n",
    "p1 = Person('DC','delhi',110085,'mon')\n",
    "p1.street, p1.city, p1.zipcode, p1.name"
   ]
  },
  {
   "cell_type": "markdown",
   "id": "35440626",
   "metadata": {},
   "source": [
    "### Assignment 8: Class with Class Variables\n",
    "\n",
    "Create a class named `Counter` with a class variable `count`. Each time an object is created, increment the count. Add a method to get the current count. Create multiple objects and print the count."
   ]
  },
  {
   "cell_type": "code",
   "execution_count": 80,
   "id": "f36d9fc8",
   "metadata": {},
   "outputs": [],
   "source": [
    "class Counter():\n",
    "    count = 0\n",
    "\n",
    "    def __str__(self):\n",
    "        return \"Total Objects created count:\" + str(self.count)\n"
   ]
  },
  {
   "cell_type": "code",
   "execution_count": 81,
   "id": "c56bfe84",
   "metadata": {},
   "outputs": [
    {
     "data": {
      "text/plain": [
       "0"
      ]
     },
     "execution_count": 81,
     "metadata": {},
     "output_type": "execute_result"
    }
   ],
   "source": [
    "Counter().count"
   ]
  },
  {
   "cell_type": "code",
   "execution_count": 82,
   "id": "55534689",
   "metadata": {},
   "outputs": [
    {
     "name": "stdout",
     "output_type": "stream",
     "text": [
      "Total Objects created count:0\n"
     ]
    }
   ],
   "source": [
    "print(Counter())"
   ]
  },
  {
   "cell_type": "code",
   "execution_count": 84,
   "id": "c5151d77",
   "metadata": {},
   "outputs": [],
   "source": [
    "class new_obj(Counter):\n",
    "    Counter.count += 1\n",
    "    def __ini__(self, x, y):\n",
    "        self.x = x\n",
    "        self.y = y\n",
    "\n",
    "    def sum_num(self):\n",
    "        return self.x + self.y"
   ]
  },
  {
   "cell_type": "code",
   "execution_count": 85,
   "id": "4303cc9d",
   "metadata": {},
   "outputs": [
    {
     "data": {
      "text/plain": [
       "1"
      ]
     },
     "execution_count": 85,
     "metadata": {},
     "output_type": "execute_result"
    }
   ],
   "source": [
    "Counter().count"
   ]
  },
  {
   "cell_type": "code",
   "execution_count": 86,
   "id": "4c637d54",
   "metadata": {},
   "outputs": [
    {
     "name": "stdout",
     "output_type": "stream",
     "text": [
      "Total Objects created count:1\n"
     ]
    }
   ],
   "source": [
    "print(Counter())"
   ]
  },
  {
   "cell_type": "markdown",
   "id": "6f3f8884",
   "metadata": {},
   "source": [
    "### Assignment 9: Static Methods\n",
    "\n",
    "Create a class named `MathOperations` with a static method to calculate the square root of a number. Call the static method without creating an object."
   ]
  },
  {
   "cell_type": "code",
   "execution_count": 91,
   "id": "e5a330bc",
   "metadata": {},
   "outputs": [],
   "source": [
    "import math\n",
    "\n",
    "class MathOperations:\n",
    "   \n",
    "    def sqrt(self,x):\n",
    "        return math.sqrt(x)"
   ]
  },
  {
   "cell_type": "code",
   "execution_count": 92,
   "id": "89ef674e",
   "metadata": {},
   "outputs": [
    {
     "data": {
      "text/plain": [
       "3.0"
      ]
     },
     "execution_count": 92,
     "metadata": {},
     "output_type": "execute_result"
    }
   ],
   "source": [
    "net = MathOperations()\n",
    "net.sqrt(9)"
   ]
  },
  {
   "cell_type": "markdown",
   "id": "5edd6937",
   "metadata": {},
   "source": [
    "### Assignment 10: Class with Properties\n",
    "\n",
    "Create a class named `Rectangle` with private attributes `length` and `width`. Use properties to get and set these attributes. Create an object of the class and test the properties."
   ]
  },
  {
   "cell_type": "code",
   "execution_count": 93,
   "id": "cb935d8e",
   "metadata": {},
   "outputs": [],
   "source": [
    "class Rectangle():\n",
    "\n",
    "    def __init__(self,length, width):\n",
    "        self.__length = length\n",
    "        self.__width = width\n",
    "    \n",
    "    def get_length(self):\n",
    "        return self.__length\n",
    "    \n",
    "    def get_width(self):\n",
    "        return self.__width\n",
    "    \n",
    "    def set_width(self,width):\n",
    "        self.__width = width\n",
    "\n",
    "    def set_length(self,length):\n",
    "        self.__length = length\n",
    "\n",
    "    def area(self):\n",
    "        return self.__length * self.__width\n"
   ]
  },
  {
   "cell_type": "code",
   "execution_count": 99,
   "id": "15f29c09",
   "metadata": {},
   "outputs": [
    {
     "data": {
      "text/plain": [
       "['_Rectangle__length',\n",
       " '_Rectangle__width',\n",
       " '__class__',\n",
       " '__delattr__',\n",
       " '__dict__',\n",
       " '__dir__',\n",
       " '__doc__',\n",
       " '__eq__',\n",
       " '__format__',\n",
       " '__ge__',\n",
       " '__getattribute__',\n",
       " '__getstate__',\n",
       " '__gt__',\n",
       " '__hash__',\n",
       " '__init__',\n",
       " '__init_subclass__',\n",
       " '__le__',\n",
       " '__lt__',\n",
       " '__module__',\n",
       " '__ne__',\n",
       " '__new__',\n",
       " '__reduce__',\n",
       " '__reduce_ex__',\n",
       " '__repr__',\n",
       " '__setattr__',\n",
       " '__sizeof__',\n",
       " '__str__',\n",
       " '__subclasshook__',\n",
       " '__weakref__',\n",
       " 'area',\n",
       " 'get_length',\n",
       " 'get_width',\n",
       " 'set_length',\n",
       " 'set_width']"
      ]
     },
     "execution_count": 99,
     "metadata": {},
     "output_type": "execute_result"
    }
   ],
   "source": [
    "rect = Rectangle(9,10)\n",
    "\n",
    "dir(rect)"
   ]
  },
  {
   "cell_type": "code",
   "execution_count": 100,
   "id": "4c3b81bd",
   "metadata": {},
   "outputs": [
    {
     "data": {
      "text/plain": [
       "90"
      ]
     },
     "execution_count": 100,
     "metadata": {},
     "output_type": "execute_result"
    }
   ],
   "source": [
    "rect.area()"
   ]
  },
  {
   "cell_type": "code",
   "execution_count": 101,
   "id": "2c029ce8",
   "metadata": {},
   "outputs": [
    {
     "data": {
      "text/plain": [
       "(9, 10)"
      ]
     },
     "execution_count": 101,
     "metadata": {},
     "output_type": "execute_result"
    }
   ],
   "source": [
    "rect.get_length(), rect.get_width()"
   ]
  },
  {
   "cell_type": "code",
   "execution_count": 102,
   "id": "c66e46ee",
   "metadata": {},
   "outputs": [
    {
     "data": {
      "text/plain": [
       "(90, None, 2, 20)"
      ]
     },
     "execution_count": 102,
     "metadata": {},
     "output_type": "execute_result"
    }
   ],
   "source": [
    "rect.area(),rect.set_length(2),rect.get_length(), rect.area()"
   ]
  },
  {
   "cell_type": "markdown",
   "id": "c2e14e70",
   "metadata": {},
   "source": [
    "### Assignment 11: Abstract Base Class\n",
    "\n",
    "Create an abstract base class named `Shape` with an abstract method `area`. Create derived classes `Circle` and `Square` that implement the `area` method. Create objects of the derived classes and call the `area` method."
   ]
  },
  {
   "cell_type": "code",
   "execution_count": 104,
   "id": "8b17f8af",
   "metadata": {},
   "outputs": [],
   "source": [
    "from abc import ABC, abstractmethod\n",
    "\n",
    "class Shape(ABC):\n",
    "\n",
    "    @abstractmethod\n",
    "    def area(self):\n",
    "        pass\n",
    "\n",
    "class Circle(Shape):\n",
    "    \n",
    "    def __init__(self,r =10):\n",
    "        super().__init__()\n",
    "        self.r = r\n",
    "    \n",
    "    def area(self):\n",
    "        return math.pi * (self.r**2)\n",
    "    \n",
    "class Square(Shape):\n",
    "\n",
    "    def __init__(self, s = 20):\n",
    "        Shape.__init__\n",
    "        self.s = s\n",
    "    \n",
    "    def area(self):\n",
    "        return self.s**2\n",
    "\n",
    "\n",
    "def obj_area(obj):\n",
    "    return obj.area()"
   ]
  },
  {
   "cell_type": "code",
   "execution_count": 105,
   "id": "6783edfd",
   "metadata": {},
   "outputs": [
    {
     "data": {
      "text/plain": [
       "(50.26548245743669, 16)"
      ]
     },
     "execution_count": 105,
     "metadata": {},
     "output_type": "execute_result"
    }
   ],
   "source": [
    "circ = Circle(4)\n",
    "squ = Square(4)\n",
    "\n",
    "obj_area(circ), obj_area(squ)"
   ]
  },
  {
   "cell_type": "markdown",
   "id": "e85db9c2",
   "metadata": {},
   "source": [
    "### Assignment 12: Operator Overloading\n",
    "\n",
    "Create a class named `Vector` with attributes `x` and `y`. Overload the `+` operator to add two `Vector` objects. Create objects of the class and test the operator overloading."
   ]
  },
  {
   "cell_type": "code",
   "execution_count": 124,
   "id": "ca94270b",
   "metadata": {},
   "outputs": [],
   "source": [
    "class Vector():\n",
    "\n",
    "    def __init__(self,x,y):\n",
    "        self.x = x\n",
    "        self.y = y\n",
    "\n",
    "    def __add__(self,other):\n",
    "        return Vector(self.x+other.x, self.y+other.y)\n",
    "    \n",
    "    # def __str__(self):\n",
    "    #     return f\"Vector({self.x}, {self.y})\"\n",
    "    \n",
    "    def __str__(self):\n",
    "        return f\"The vectors are {self.x} and {self.y}\""
   ]
  },
  {
   "cell_type": "code",
   "execution_count": 125,
   "id": "0865c2eb",
   "metadata": {},
   "outputs": [
    {
     "name": "stdout",
     "output_type": "stream",
     "text": [
      "The vectors are 22 and 24\n"
     ]
    }
   ],
   "source": [
    "vc = Vector(6,7)\n",
    "vc1 = Vector(16,17)\n",
    "print(vc+vc1)"
   ]
  },
  {
   "cell_type": "code",
   "execution_count": null,
   "id": "00bbfdec",
   "metadata": {},
   "outputs": [],
   "source": []
  },
  {
   "cell_type": "code",
   "execution_count": null,
   "id": "f98b8ee0",
   "metadata": {},
   "outputs": [],
   "source": []
  },
  {
   "cell_type": "code",
   "execution_count": null,
   "id": "ae730333",
   "metadata": {},
   "outputs": [],
   "source": []
  }
 ],
 "metadata": {
  "kernelspec": {
   "display_name": "Python 3",
   "language": "python",
   "name": "python3"
  },
  "language_info": {
   "codemirror_mode": {
    "name": "ipython",
    "version": 3
   },
   "file_extension": ".py",
   "mimetype": "text/x-python",
   "name": "python",
   "nbconvert_exporter": "python",
   "pygments_lexer": "ipython3",
   "version": "3.12.0"
  }
 },
 "nbformat": 4,
 "nbformat_minor": 5
}
