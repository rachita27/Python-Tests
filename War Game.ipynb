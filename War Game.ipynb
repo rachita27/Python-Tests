{
 "cells": [
  {
   "cell_type": "markdown",
   "metadata": {},
   "source": [
    "# Milestone Project 2 - Blackjack Game\n",
    "In this milestone project you will be creating a Complete BlackJack Card Game in Python.\n",
    "\n",
    "Here are the requirements:\n",
    "\n",
    "* You need to create a simple text-based [BlackJack](https://en.wikipedia.org/wiki/Blackjack) game\n",
    "* The game needs to have one player versus an automated dealer.\n",
    "* The player can stand or hit.\n",
    "* The player must be able to pick their betting amount.\n",
    "* You need to keep track of the player's total money.\n",
    "* You need to alert the player of wins, losses, or busts, etc...\n"
   ]
  },
  {
   "cell_type": "code",
   "execution_count": null,
   "metadata": {},
   "outputs": [],
   "source": [
    "#card class\n",
    "#decks \n",
    "#players \n",
    "#game"
   ]
  },
  {
   "cell_type": "code",
   "execution_count": 1,
   "metadata": {},
   "outputs": [],
   "source": [
    "suits = ('Hearts', 'Diamonds', 'Spades', 'Clubs')\n",
    "ranks = ('Two', 'Three', 'Four', 'Five', 'Six', 'Seven', 'Eight', 'Nine', 'Ten', 'Jack', 'Queen', 'King', 'Ace')\n",
    "values = {'Two':2, 'Three':3, 'Four':4, 'Five':5, 'Six':6, 'Seven':7, 'Eight':8, \n",
    "            'Nine':9, 'Ten':10, 'Jack':11, 'Queen':12, 'King':13, 'Ace':14}"
   ]
  },
  {
   "cell_type": "code",
   "execution_count": 3,
   "metadata": {},
   "outputs": [],
   "source": [
    "class Cards:\n",
    "    deck = []\n",
    "    def __init__(self, suits, ranks):\n",
    "        self.ranks = ranks\n",
    "        self.suits = suits\n",
    "        \n",
    "    def cards_deck(self):\n",
    "        self.deck.clear()\n",
    "        for i in self.suits:\n",
    "            for j in self.ranks:\n",
    "                Cards.deck.append(j + \" of \"+ i)\n",
    "                #Cards.deck.append((j, j + \" of \"+ i))\n",
    "\n",
    "        return Cards.deck\n",
    "\n",
    "    # def clear_deck(self):\n",
    "    #     self.deck.clear()"
   ]
  },
  {
   "cell_type": "code",
   "execution_count": 5,
   "metadata": {},
   "outputs": [],
   "source": [
    "import random \n",
    "from random import shuffle"
   ]
  },
  {
   "cell_type": "code",
   "execution_count": 7,
   "metadata": {},
   "outputs": [],
   "source": [
    "card = Cards(suits, ranks)"
   ]
  },
  {
   "cell_type": "code",
   "execution_count": 9,
   "metadata": {},
   "outputs": [],
   "source": [
    "class players:\n",
    "    deck_p1 = []\n",
    "    deck_p2 = []\n",
    "    cards_deck1 = []\n",
    "    def __init__(self,numb_players, name1, name2,cards_deck,values):\n",
    "        self.numb_players = numb_players\n",
    "        self.name1 = name1\n",
    "        self.name2 = name2\n",
    "        self.cards_deck = cards_deck\n",
    "        self.values = values\n",
    "\n",
    "    def shuffling(self):\n",
    "        #shuffling three times\n",
    "        shuffle(self.cards_deck)\n",
    "        shuffle(self.cards_deck)\n",
    "        shuffle(self.cards_deck)\n",
    "\n",
    "    def dividing(self):\n",
    "        ind = 0\n",
    "        self.deck_p1.clear()\n",
    "        self.deck_p2.clear()\n",
    "        for i in range(0,int(52/self.numb_players)):\n",
    "            players.deck_p1.append(self.cards_deck[ind])\n",
    "            x= self.cards_deck.pop(ind)\n",
    "            players.cards_deck1.append(x)\n",
    "            players.deck_p2.append(self.cards_deck[ind])\n",
    "            x= self.cards_deck.pop(ind)\n",
    "            players.cards_deck1.append(x)\n",
    "\n",
    "        ##sorted does look for which each value & the order accordingly so lambda needs to be applied at base key level\n",
    "        ##ehich is why this is incorrect\n",
    "        #p1_sorted_list = sorted(players.deck_p1,key = values.get(lambda x: x.split()[0],-9 ))\n",
    "        p1_sorted_list = sorted(players.deck_p1,key = lambda x: self.values.get(x.split()[0],-9),reverse = True )\n",
    "        p2_sorted_list = sorted(players.deck_p2,key = lambda x: self.values.get(x.split()[0],-9),reverse = True )\n",
    "            \n",
    "            \n",
    "            \n",
    "        \n",
    "        return p1_sorted_list, p2_sorted_list"
   ]
  },
  {
   "cell_type": "code",
   "execution_count": 11,
   "metadata": {},
   "outputs": [],
   "source": [
    "pl = players(2, 'Rachita','Rachita_h',card.cards_deck(),values)"
   ]
  },
  {
   "cell_type": "code",
   "execution_count": 13,
   "metadata": {},
   "outputs": [],
   "source": [
    "pl.shuffling()"
   ]
  },
  {
   "cell_type": "code",
   "execution_count": 15,
   "metadata": {},
   "outputs": [],
   "source": [
    "p1_deck, p2_deck = pl.dividing()"
   ]
  },
  {
   "cell_type": "code",
   "execution_count": 17,
   "metadata": {},
   "outputs": [
    {
     "data": {
      "text/plain": [
       "26"
      ]
     },
     "execution_count": 17,
     "metadata": {},
     "output_type": "execute_result"
    }
   ],
   "source": [
    "len(p1_deck)"
   ]
  },
  {
   "cell_type": "code",
   "execution_count": 19,
   "metadata": {},
   "outputs": [
    {
     "data": {
      "text/plain": [
       "26"
      ]
     },
     "execution_count": 19,
     "metadata": {},
     "output_type": "execute_result"
    }
   ],
   "source": [
    "len(p2_deck)"
   ]
  },
  {
   "cell_type": "code",
   "execution_count": 21,
   "metadata": {},
   "outputs": [
    {
     "data": {
      "text/plain": [
       "['Ace of Spades',\n",
       " 'Ace of Diamonds',\n",
       " 'Ace of Hearts',\n",
       " 'King of Hearts',\n",
       " 'King of Spades',\n",
       " 'King of Diamonds',\n",
       " 'King of Clubs',\n",
       " 'Queen of Diamonds',\n",
       " 'Queen of Spades',\n",
       " 'Queen of Hearts',\n",
       " 'Jack of Spades',\n",
       " 'Jack of Clubs',\n",
       " 'Jack of Diamonds',\n",
       " 'Ten of Diamonds',\n",
       " 'Ten of Spades',\n",
       " 'Nine of Hearts',\n",
       " 'Nine of Diamonds',\n",
       " 'Eight of Hearts',\n",
       " 'Eight of Clubs',\n",
       " 'Eight of Diamonds',\n",
       " 'Seven of Spades',\n",
       " 'Six of Hearts',\n",
       " 'Five of Diamonds',\n",
       " 'Three of Spades',\n",
       " 'Two of Diamonds',\n",
       " 'Two of Spades']"
      ]
     },
     "execution_count": 21,
     "metadata": {},
     "output_type": "execute_result"
    }
   ],
   "source": [
    "p1_deck"
   ]
  },
  {
   "cell_type": "code",
   "execution_count": 23,
   "metadata": {},
   "outputs": [
    {
     "data": {
      "text/plain": [
       "['Ace of Clubs',\n",
       " 'Queen of Clubs',\n",
       " 'Jack of Hearts',\n",
       " 'Ten of Hearts',\n",
       " 'Ten of Clubs',\n",
       " 'Nine of Spades',\n",
       " 'Nine of Clubs',\n",
       " 'Eight of Spades',\n",
       " 'Seven of Hearts',\n",
       " 'Seven of Diamonds',\n",
       " 'Seven of Clubs',\n",
       " 'Six of Diamonds',\n",
       " 'Six of Clubs',\n",
       " 'Six of Spades',\n",
       " 'Five of Clubs',\n",
       " 'Five of Hearts',\n",
       " 'Five of Spades',\n",
       " 'Four of Diamonds',\n",
       " 'Four of Clubs',\n",
       " 'Four of Spades',\n",
       " 'Four of Hearts',\n",
       " 'Three of Hearts',\n",
       " 'Three of Diamonds',\n",
       " 'Three of Clubs',\n",
       " 'Two of Clubs',\n",
       " 'Two of Hearts']"
      ]
     },
     "execution_count": 23,
     "metadata": {},
     "output_type": "execute_result"
    }
   ],
   "source": [
    "p2_deck"
   ]
  },
  {
   "cell_type": "markdown",
   "metadata": {},
   "source": [
    "## Game "
   ]
  },
  {
   "cell_type": "code",
   "execution_count": 27,
   "metadata": {},
   "outputs": [
    {
     "name": "stdout",
     "output_type": "stream",
     "text": [
      "Round No.1\n",
      "end\n",
      "30\n",
      "22\n",
      "Round No.2\n",
      "Player 1  won the 2\n",
      "end\n",
      "31\n",
      "21\n",
      "Round No.3\n",
      "Player 1  won the 3\n",
      "end\n",
      "32\n",
      "20\n",
      "Round No.4\n",
      "Player 1  won the 4\n",
      "end\n",
      "33\n",
      "19\n",
      "Round No.5\n",
      "Player 1  won the 5\n",
      "end\n",
      "34\n",
      "18\n",
      "Round No.6\n",
      "Player 1  won the 6\n",
      "end\n",
      "35\n",
      "17\n",
      "Round No.7\n",
      "Player 1  won the 7\n",
      "end\n",
      "36\n",
      "16\n",
      "Round No.8\n",
      "Player 1  won the 8\n",
      "end\n",
      "37\n",
      "15\n",
      "Round No.9\n",
      "Player 1  won the 9\n",
      "end\n",
      "38\n",
      "14\n",
      "Round No.10\n",
      "Player 1  won the 10\n",
      "end\n",
      "39\n",
      "13\n",
      "Round No.11\n",
      "Player 1  won the 11\n",
      "end\n",
      "40\n",
      "12\n",
      "Round No.12\n",
      "Player 1  won the 12\n",
      "end\n",
      "41\n",
      "11\n",
      "Round No.13\n",
      "Player 1  won the 13\n",
      "end\n",
      "42\n",
      "10\n",
      "Round No.14\n",
      "Player 1  won the 14\n",
      "end\n",
      "43\n",
      "9\n",
      "Round No.15\n",
      "Player 1  won the 15\n",
      "end\n",
      "44\n",
      "8\n",
      "Round No.16\n",
      "Player 1  won the 16\n",
      "end\n",
      "45\n",
      "7\n",
      "Round No.17\n",
      "Player 1  won the 17\n",
      "end\n",
      "46\n",
      "6\n",
      "Round No.18\n",
      "Player 1  won the 18\n",
      "end\n",
      "47\n",
      "5\n",
      "Round No.19\n",
      "Player 1  won the 19\n",
      "end\n",
      "48\n",
      "4\n",
      "Round No.20\n",
      "Player 1  won the 20\n",
      "end\n",
      "49\n",
      "3\n",
      "Round No.21\n",
      "Player 1  won the 21\n",
      "end\n",
      "50\n",
      "2\n",
      "Round No.22\n",
      "Player 1  won the 22\n",
      "end\n",
      "51\n",
      "1\n",
      "Round No.23\n",
      "Player 1  won the 23\n",
      "end\n",
      "52\n",
      "0\n",
      "Round No.24\n",
      "Player 2 won, as Players 2 has no cards\n"
     ]
    }
   ],
   "source": [
    "game_play_off = True\n",
    "round_num = 0\n",
    "p1_cards_war = []\n",
    "p2_cards_war = []\n",
    "\n",
    "while game_play_off: \n",
    "    # print(p1_deck)\n",
    "    # print(p2_deck)\n",
    "    \n",
    "    round_num += 1\n",
    "    print(f\"Round No.{round_num}\")\n",
    "\n",
    "    \n",
    "    if len(p1_deck) == 0:\n",
    "        print(\"Player 2 won the Game, as Player 1 has no cards\")\n",
    "        break\n",
    "    elif len(p2_deck) == 0:\n",
    "        print(\"Player 2 won, as Players 2 has no cards\")\n",
    "        break\n",
    "    elif values.get(p1_deck[0].split()[0]) > values.get(p2_deck[0].split()[0]):\n",
    "        print(f\"Player 1  won the {round_num}\")\n",
    "        card_ded = p2_deck.pop(0)\n",
    "        p1_deck.append(card_ded)\n",
    "\n",
    "        p1_deck = sorted(p1_deck, key = lambda x: values.get(x.split()[0],0),reverse = True)\n",
    "        p2_deck = sorted(p2_deck, key = lambda x: values.get(x.split()[0],0),reverse = True)\n",
    "    elif values.get(p1_deck[0].split()[0]) < values.get(p2_deck[0].split()[0]):\n",
    "        print(f\"Player 2  won the {round_num}\")\n",
    "        card_ded = p1_deck.pop(0)\n",
    "        p2_deck.append(card_ded)\n",
    "\n",
    "        p1_deck = sorted(p1_deck, key = lambda x: values.get(x.split()[0],0),reverse = True)\n",
    "        p2_deck = sorted(p2_deck, key = lambda x: values.get(x.split()[0],0),reverse = True)\n",
    "    \n",
    "    elif values.get(p1_deck[0].split()[0]) == values.get(p2_deck[0].split()[0]):\n",
    "        ##draw three cards: 2nd be highest & 2 will be lowest\n",
    "\n",
    "       if len(p1_deck) < 4 or len(p2_deck) < 4:\n",
    "           if p1_deck < 4:\n",
    "               print(\"War can't be continued as player 1 has no enough cards \\n Player 2 Wins!!\")\n",
    "           else:\n",
    "               print(\"War can't be continued as player 2 has no enough cards \\n Player 1 Wins!!\")\n",
    "                \n",
    "       else: \n",
    "           p1_cards_war.clear()\n",
    "           p2_cards_war.clear()\n",
    "           p1_cards_war = [values.get(p1_deck[0].split()[0]), values.get(p1_deck[1].split()[0]),values.get(p1_deck[-1].split()[0]),values.get(p1_deck[-2].split()[0])]\n",
    "           p2_cards_war = [values.get(p2_deck[0].split()[0]), values.get(p2_deck[1].split()[0]),values.get(p2_deck[-1].split()[0]),values.get(p2_deck[-2].split()[0])]\n",
    "           # p1_cards_war = [p1_deck[0], p1_deck[1],p1_deck[-1],p1_deck[-2]]\n",
    "           # p2_cards_war = [p2_deck[0], p2_deck[1],p2_deck[-1],p2_deck[-2]]\n",
    "           \n",
    "           if p1_cards_war[1] > p2_cards_war[1]:\n",
    "               for i  in [p2_deck[0], p2_deck[1],p2_deck[-1],p2_deck[-2]]:\n",
    "                   p1_deck.append(i)\n",
    "               \n",
    "               p2_deck.pop(0)\n",
    "               p2_deck.pop(0)\n",
    "               p2_deck.pop(-1)\n",
    "               p2_deck.pop(-1)\n",
    "               p1_deck = sorted(p1_deck, key = lambda x: values.get(x.split()[0],0),reverse = True)\n",
    "               p2_deck = sorted(p2_deck, key = lambda x: values.get(x.split()[0],0),reverse = True)\n",
    "           elif p1_cards_war[1] < p2_cards_war[1]:\n",
    "               for i  in [p1_deck[0], p1_deck[1],p1_deck[-1],p1_deck[-2]]:\n",
    "                   p2_deck.append(i)\n",
    "               # p2_deck.append([p1_deck[0], p1_deck[1],p1_deck[-1],p1_deck[-2]])\n",
    "               p1_deck.pop(0)\n",
    "               p1_deck.pop(0)\n",
    "               p1_deck.pop(-1)\n",
    "               p1_deck.pop(-1)\n",
    "               p1_deck = sorted(p1_deck, key = lambda x: values.get(x.split()[0],0))\n",
    "               p2_deck = sorted(p2_deck, key = lambda x: values.get(x.split()[0],0))\n",
    "\n",
    "    print(\"end\")\n",
    "    # print(p1_deck)\n",
    "    print(len(p1_deck))\n",
    "    # print(p2_deck)\n",
    "    print(len(p2_deck))\n",
    "        \n",
    "        \n",
    "        \n",
    "        \n",
    "\n",
    "    \n",
    "\n",
    "            \n",
    "        \n",
    "        "
   ]
  },
  {
   "cell_type": "code",
   "execution_count": 29,
   "metadata": {},
   "outputs": [
    {
     "data": {
      "text/plain": [
       "[]"
      ]
     },
     "execution_count": 29,
     "metadata": {},
     "output_type": "execute_result"
    }
   ],
   "source": [
    "p2_deck"
   ]
  },
  {
   "cell_type": "code",
   "execution_count": 31,
   "metadata": {},
   "outputs": [
    {
     "data": {
      "text/plain": [
       "['Ace of Spades',\n",
       " 'Ace of Diamonds',\n",
       " 'Ace of Hearts',\n",
       " 'Ace of Clubs',\n",
       " 'King of Hearts',\n",
       " 'King of Spades',\n",
       " 'King of Diamonds',\n",
       " 'King of Clubs',\n",
       " 'Queen of Diamonds',\n",
       " 'Queen of Spades',\n",
       " 'Queen of Hearts',\n",
       " 'Queen of Clubs',\n",
       " 'Jack of Spades',\n",
       " 'Jack of Clubs',\n",
       " 'Jack of Diamonds',\n",
       " 'Jack of Hearts',\n",
       " 'Ten of Diamonds',\n",
       " 'Ten of Spades',\n",
       " 'Ten of Hearts',\n",
       " 'Ten of Clubs',\n",
       " 'Nine of Hearts',\n",
       " 'Nine of Diamonds',\n",
       " 'Nine of Spades',\n",
       " 'Nine of Clubs',\n",
       " 'Eight of Hearts',\n",
       " 'Eight of Clubs',\n",
       " 'Eight of Diamonds',\n",
       " 'Eight of Spades',\n",
       " 'Seven of Spades',\n",
       " 'Seven of Hearts',\n",
       " 'Seven of Diamonds',\n",
       " 'Seven of Clubs',\n",
       " 'Six of Hearts',\n",
       " 'Six of Diamonds',\n",
       " 'Six of Clubs',\n",
       " 'Six of Spades',\n",
       " 'Five of Diamonds',\n",
       " 'Five of Clubs',\n",
       " 'Five of Hearts',\n",
       " 'Five of Spades',\n",
       " 'Four of Diamonds',\n",
       " 'Four of Clubs',\n",
       " 'Four of Spades',\n",
       " 'Four of Hearts',\n",
       " 'Three of Spades',\n",
       " 'Three of Hearts',\n",
       " 'Three of Diamonds',\n",
       " 'Three of Clubs',\n",
       " 'Two of Diamonds',\n",
       " 'Two of Spades',\n",
       " 'Two of Hearts',\n",
       " 'Two of Clubs']"
      ]
     },
     "execution_count": 31,
     "metadata": {},
     "output_type": "execute_result"
    }
   ],
   "source": [
    "p1_deck"
   ]
  }
 ],
 "metadata": {
  "kernelspec": {
   "display_name": "Python [conda env:base] *",
   "language": "python",
   "name": "conda-base-py"
  },
  "language_info": {
   "codemirror_mode": {
    "name": "ipython",
    "version": 3
   },
   "file_extension": ".py",
   "mimetype": "text/x-python",
   "name": "python",
   "nbconvert_exporter": "python",
   "pygments_lexer": "ipython3",
   "version": "3.12.7"
  }
 },
 "nbformat": 4,
 "nbformat_minor": 4
}
