{
 "cells": [
  {
   "cell_type": "markdown",
   "metadata": {},
   "source": [
    "# Guessing Game Challenge\n",
    "\n",
    "Let's use `while` loops to create a guessing game.\n",
    "\n",
    "The Challenge:\n",
    "\n",
    "Write a program that picks a random integer from 1 to 100, and has players guess the number. The rules are:\n",
    "\n",
    "1. If a player's guess is less than 1 or greater than 100, say \"OUT OF BOUNDS\"\n",
    "2. On a player's first turn, if their guess is\n",
    " * within 10 of the number, return \"WARM!\"\n",
    " * further than 10 away from the number, return \"COLD!\"\n",
    "3. On all subsequent turns, if a guess is \n",
    " * closer to the number than the previous guess return \"WARMER!\"\n",
    " * farther from the number than the previous guess, return \"COLDER!\"\n",
    "4. When the player's guess equals the number, tell them they've guessed correctly *and* how many guesses it took!\n",
    "\n",
    "You can try this from scratch, or follow the steps outlined below. A separate Solution notebook has been provided. Good luck!\n"
   ]
  },
  {
   "cell_type": "markdown",
   "metadata": {},
   "source": [
    "#### First, pick a random integer from 1 to 100 using the random module and assign it to a variable\n"
   ]
  },
  {
   "cell_type": "code",
   "execution_count": 5,
   "metadata": {},
   "outputs": [
    {
     "name": "stdout",
     "output_type": "stream",
     "text": [
      "The rpy2.ipython extension is already loaded. To reload it, use:\n",
      "  %reload_ext rpy2.ipython\n"
     ]
    }
   ],
   "source": [
    "%load_ext rpy2.ipython"
   ]
  },
  {
   "cell_type": "code",
   "execution_count": 7,
   "metadata": {},
   "outputs": [],
   "source": [
    "%%R\n",
    "choosing_rand_num = sample(1:100,1)"
   ]
  },
  {
   "cell_type": "markdown",
   "metadata": {},
   "source": [
    "#### Introduction to the game and explain the rules"
   ]
  },
  {
   "cell_type": "code",
   "execution_count": 40,
   "metadata": {},
   "outputs": [],
   "source": [
    "#num >1 and num <100: \"OUT OF BOUNDS\"\n",
    "##first turn: \n",
    "## num-10 <= user_input <= num +10 : warm else cold\n",
    "\n",
    "##again ask the guess:\n",
    "##rule is same: instead warmer & colder\n",
    "\n",
    "#when number is guessed let them know & the count of guesses"
   ]
  },
  {
   "cell_type": "code",
   "execution_count": 44,
   "metadata": {},
   "outputs": [
    {
     "name": "stdout",
     "output_type": "stream",
     "text": [
      "--- Please select a CRAN mirror for use in this session ---\n",
      "Secure CRAN mirrors \n",
      "\n",
      " 1: 0-Cloud [https]\n",
      " 2: Australia (Canberra) [https]\n",
      " 3: Australia (Melbourne 1) [https]\n",
      " 4: Australia (Melbourne 2) [https]\n",
      " 5: Austria (Wien 1) [https]\n",
      " 6: Belgium (Brussels) [https]\n",
      " 7: Brazil (PR) [https]\n",
      " 8: Brazil (SP 1) [https]\n",
      " 9: Brazil (SP 2) [https]\n",
      "10: Bulgaria [https]\n",
      "11: Canada (MB) [https]\n",
      "12: Canada (ON 1) [https]\n",
      "13: Canada (ON 2) [https]\n",
      "14: Chile (Santiago) [https]\n",
      "15: China (Beijing 1) [https]\n",
      "16: China (Beijing 2) [https]\n",
      "17: China (Beijing 3) [https]\n",
      "18: China (Hefei) [https]\n",
      "19: China (Hong Kong) [https]\n",
      "20: China (Jinan) [https]\n",
      "21: China (Lanzhou) [https]\n",
      "22: China (Nanjing) [https]\n",
      "23: China (Shanghai 2) [https]\n",
      "24: China (Shenzhen) [https]\n",
      "25: China (Wuhan) [https]\n",
      "26: Colombia (Cali) [https]\n",
      "27: Cyprus [https]\n",
      "28: Czech Republic [https]\n",
      "29: Denmark [https]\n",
      "30: East Asia [https]\n",
      "31: Ecuador (Cuenca) [https]\n",
      "32: Finland (Helsinki) [https]\n",
      "33: France (Lyon 1) [https]\n",
      "34: France (Lyon 2) [https]\n",
      "35: France (Paris 1) [https]\n",
      "36: Germany (Erlangen) [https]\n",
      "37: Germany (Göttingen) [https]\n",
      "38: Germany (Leipzig) [https]\n",
      "39: Germany (Münster) [https]\n",
      "40: Greece [https]\n",
      "41: Hungary [https]\n",
      "42: Iceland [https]\n",
      "43: India (Bengaluru) [https]\n",
      "44: India (Bhubaneswar) [https]\n",
      "45: Indonesia (Banda Aceh) [https]\n",
      "46: Iran (Mashhad) [https]\n",
      "47: Italy (Milano) [https]\n",
      "48: Italy (Padua) [https]\n",
      "49: Japan (Yonezawa) [https]\n",
      "50: Korea (Gyeongsan-si) [https]\n",
      "51: Mexico (Mexico City) [https]\n",
      "52: Mexico (Texcoco) [https]\n",
      "53: Morocco [https]\n",
      "54: Netherlands (Dronten) [https]\n",
      "55: New Zealand [https]\n",
      "56: Norway [https]\n",
      "57: Poland [https]\n",
      "58: South Africa (Johannesburg) [https]\n",
      "59: Spain (A Coruña) [https]\n",
      "60: Spain (Madrid) [https]\n",
      "61: Sweden (Umeå) [https]\n",
      "62: Switzerland (Zurich 1) [https]\n",
      "63: Taiwan (Taipei) [https]\n",
      "64: Turkey (Denizli) [https]\n",
      "65: UK (Bristol) [https]\n",
      "66: UK (London 1) [https]\n",
      "67: USA (IA) [https]\n",
      "68: USA (MI) [https]\n",
      "69: USA (MO) [https]\n",
      "70: USA (OH) [https]\n",
      "71: USA (OR) [https]\n",
      "72: USA (PA 1) [https]\n",
      "73: USA (TN) [https]\n",
      "74: USA (UT) [https]\n",
      "75: United Arab Emirates [https]\n",
      "76: Uruguay [https]\n",
      "77: (other mirrors)\n",
      "\n"
     ]
    },
    {
     "name": "stdin",
     "output_type": "stream",
     "text": [
      "Selection:  43\n"
     ]
    },
    {
     "name": "stdout",
     "output_type": "stream",
     "text": [
      "\n",
      "The downloaded binary packages are in\n",
      "\t/var/folders/l3/f7hpz30s08nbzkwqz28bhvnr0000gn/T//RtmpxKAj6H/downloaded_packages\n"
     ]
    },
    {
     "data": {
      "text/plain": [
       "also installing the dependencies ‘utf8’, ‘fansi’, ‘pkgconfig’, ‘withr’, ‘generics’, ‘pillar’, ‘R6’, ‘tibble’, ‘tidyselect’\n",
       "\n",
       "trying URL 'https://cran.icts.res.in/bin/macosx/big-sur-arm64/contrib/4.5/utf8_1.2.5.tgz'\n",
       "trying URL 'https://cran.icts.res.in/bin/macosx/big-sur-arm64/contrib/4.5/fansi_1.0.6.tgz'\n",
       "trying URL 'https://cran.icts.res.in/bin/macosx/big-sur-arm64/contrib/4.5/pkgconfig_2.0.3.tgz'\n",
       "trying URL 'https://cran.icts.res.in/bin/macosx/big-sur-arm64/contrib/4.5/withr_3.0.2.tgz'\n",
       "trying URL 'https://cran.icts.res.in/bin/macosx/big-sur-arm64/contrib/4.5/generics_0.1.3.tgz'\n",
       "trying URL 'https://cran.icts.res.in/bin/macosx/big-sur-arm64/contrib/4.5/pillar_1.10.2.tgz'\n",
       "trying URL 'https://cran.icts.res.in/bin/macosx/big-sur-arm64/contrib/4.5/R6_2.6.1.tgz'\n",
       "trying URL 'https://cran.icts.res.in/bin/macosx/big-sur-arm64/contrib/4.5/tibble_3.2.1.tgz'\n",
       "trying URL 'https://cran.icts.res.in/bin/macosx/big-sur-arm64/contrib/4.5/tidyselect_1.2.1.tgz'\n",
       "trying URL 'https://cran.icts.res.in/bin/macosx/big-sur-arm64/contrib/4.5/dplyr_1.1.4.tgz'\n",
       "In addition: Warning message:\n",
       "In doTryCatch(return(expr), name, parentenv, handler) :\n",
       "  unable to load shared object '/Library/Frameworks/R.framework/Resources/modules//R_X11.so':\n",
       "  dlopen(/Library/Frameworks/R.framework/Resources/modules//R_X11.so, 0x0006): Library not loaded: /opt/X11/lib/libSM.6.dylib\n",
       "  Referenced from: <5DF35BD4-5789-357C-B931-3EEDFD1A6C8A> /Library/Frameworks/R.framework/Versions/4.5-arm64/Resources/modules/R_X11.so\n",
       "  Reason: tried: '/opt/X11/lib/libSM.6.dylib' (no such file), '/System/Volumes/Preboot/Cryptexes/OS/opt/X11/lib/libSM.6.dylib' (no such file), '/opt/X11/lib/libSM.6.dylib' (no such file), '/usr/local/lib/libSM.6.dylib' (no such file), '/usr/lib/libSM.6.dylib' (no such file, not in dyld cache)\n"
      ]
     },
     "metadata": {},
     "output_type": "display_data"
    }
   ],
   "source": [
    "%%R\n",
    "\n",
    "install.packages(\"dplyr\")"
   ]
  },
  {
   "cell_type": "code",
   "execution_count": 19,
   "metadata": {},
   "outputs": [
    {
     "name": "stdout",
     "output_type": "stream",
     "text": [
      "[1] 21\n"
     ]
    }
   ],
   "source": [
    "%%R\n",
    "\n",
    "library(dplyr)\n",
    "\n",
    "choosing_rand_num\n",
    "is.numeric(\"16262\")\n",
    "\n",
    "length(grep(\"[A-Za-z]\",\"16262\" ))\n",
    "choosing_rand_num\n",
    "\n",
    "a = \"-8\"\n",
    "substr(a,1,1)\n",
    "#length(grep(\"[A-Za-z]\",\"7\" ))\n",
    "#input_val_chr\n",
    "#as.integer(input_val_chr)\n",
    "input_val_chr = \"-8\"\n",
    "((substr(input_val_chr,1,1) == \"-\")) #&& \n",
    "(grep(\"[A-Za-z]\", substr(input_val_chr,2,1) ))\n",
    "\n",
    "#length(grep(\"[A-Za-z]\",\"hvhsa\" ))\n",
    "\n",
    "input_val_chr = \"-9\"\n",
    "(length((grep(\"[A-Za-z]\", input_val_chr )) != 0 ) && ((substr(input_val_chr,1,1) == \"-\") && (length(grep(\"[A-Za-z]\", substr(input_val_chr,2,1) ))== 0) ) )\n",
    "input_val = as.integer(input_val_chr)\n",
    "input_val\n",
    "\n",
    "(input_val < 0 ) || (input_val > 100 ) "
   ]
  },
  {
   "cell_type": "code",
   "execution_count": 35,
   "metadata": {},
   "outputs": [
    {
     "name": "stdin",
     "output_type": "stream",
     "text": [
      "Please guess a number between 0 to 100 11\n"
     ]
    },
    {
     "name": "stdout",
     "output_type": "stream",
     "text": [
      "[1] \"Warm\"\n"
     ]
    },
    {
     "name": "stdin",
     "output_type": "stream",
     "text": [
      "Please guess a number between 0 to 100 nsnak\n"
     ]
    },
    {
     "name": "stdout",
     "output_type": "stream",
     "text": [
      "[1] \"Please provide a legit number between 1 to 100\"\n"
     ]
    },
    {
     "name": "stdin",
     "output_type": "stream",
     "text": [
      "Please guess a number between 0 to 100 1000\n"
     ]
    },
    {
     "name": "stdout",
     "output_type": "stream",
     "text": [
      "[1] \"Out of Bounds 1 and 100\"\n"
     ]
    },
    {
     "name": "stdin",
     "output_type": "stream",
     "text": [
      "Please guess a number between 0 to 100 21\n"
     ]
    },
    {
     "name": "stdout",
     "output_type": "stream",
     "text": [
      "[1] \"Hurray you guessed right! The number of counts are: 4\"\n"
     ]
    }
   ],
   "source": [
    "%%R\n",
    "condn_test = TRUE\n",
    "count_guesses = 0\n",
    "input_val = NA\n",
    "input_val_chr = NA\n",
    "\n",
    "while(condn_test){\n",
    "    \n",
    "    input_val_chr = readline(prompt=\"Please guess a number between 0 to 100\")\n",
    "    count_guesses = count_guesses +1\n",
    "    #condn_test = FALSE\n",
    "    if(length((grep(\"[A-Za-z]\", input_val_chr )) != 0 ) && ((substr(input_val_chr,1,1) != \"-\") && (length(grep(\"[A-Za-z]\", substr(input_val_chr,2,1) ))== 0) ) ){\n",
    "        print(\"Please provide a legit number between 1 to 100\")\n",
    "    }else{\n",
    "        input_val = as.integer(input_val_chr)\n",
    "        if((input_val < 0 ) || (input_val > 100 ) ){\n",
    "            print(\"Out of Bounds 1 and 100\")\n",
    "        }else if(choosing_rand_num == input_val ){\n",
    "            print(paste0(\"Hurray you guessed right! The number of counts are: \",count_guesses))\n",
    "            condn_test = FALSE\n",
    "            count_guesses = count_guesses +1\n",
    "        }else if (count_guesses ==1){\n",
    "            if(abs(input_val - choosing_rand_num ) <= 10){\n",
    "            print(\"Warm\")\n",
    "            }else{\n",
    "            print(\"Cool\")\n",
    "            \n",
    "            }\n",
    "        }else{\n",
    "            if(abs(input_val - choosing_rand_num ) <= 10){\n",
    "            print(\"Warmer\")\n",
    "            }else{\n",
    "            print(\"Cooler\")\n",
    "            \n",
    "            }\n",
    "        }\n",
    "    }\n",
    "    \n",
    "}\n"
   ]
  },
  {
   "cell_type": "markdown",
   "metadata": {},
   "source": [
    "## Warmer condition based on previous attempt"
   ]
  },
  {
   "cell_type": "code",
   "execution_count": 100,
   "metadata": {},
   "outputs": [
    {
     "name": "stdin",
     "output_type": "stream",
     "text": [
      "Please guess a number between 0 to 100 1000\n"
     ]
    },
    {
     "name": "stdout",
     "output_type": "stream",
     "text": [
      "[1] \"Out of Bounds 1 and 100\"\n"
     ]
    },
    {
     "name": "stdin",
     "output_type": "stream",
     "text": [
      "Please guess a number between 0 to 100 80\n"
     ]
    },
    {
     "name": "stdout",
     "output_type": "stream",
     "text": [
      "[1] \"Warmer\"\n"
     ]
    },
    {
     "name": "stdin",
     "output_type": "stream",
     "text": [
      "Please guess a number between 0 to 100 65\n"
     ]
    },
    {
     "name": "stdout",
     "output_type": "stream",
     "text": [
      "[1] \"Warmer\"\n"
     ]
    },
    {
     "name": "stdin",
     "output_type": "stream",
     "text": [
      "Please guess a number between 0 to 100 76\n"
     ]
    },
    {
     "name": "stdout",
     "output_type": "stream",
     "text": [
      "[1] \"Cooler\"\n"
     ]
    },
    {
     "name": "stdin",
     "output_type": "stream",
     "text": [
      "Please guess a number between 0 to 100 21\n"
     ]
    },
    {
     "name": "stdout",
     "output_type": "stream",
     "text": [
      "[1] \"Hurray you guessed right! The number of counts are: 5\"\n"
     ]
    }
   ],
   "source": [
    "%%R\n",
    "condn_test = TRUE\n",
    "count_guesses = 0\n",
    "input_val = NA\n",
    "input_val_chr = NA\n",
    "saving_values = NA\n",
    "\n",
    "\n",
    "while(condn_test){\n",
    "    \n",
    "    input_val_chr = readline(prompt=\"Please guess a number between 0 to 100\")\n",
    "    count_guesses = count_guesses +1\n",
    "    #condn_test = FALSE\n",
    "    if(length((grep(\"[A-Za-z]\", input_val_chr )) != 0 ) && ((substr(input_val_chr,1,1) != \"-\") && (length(grep(\"[A-Za-z]\", substr(input_val_chr,2,1) ))== 0) ) ){\n",
    "        print(\"Please provide a legit number between 1 to 100\")\n",
    "    }else{\n",
    "        input_val = as.integer(input_val_chr)\n",
    "        saving_values = c(saving_values,input_val)\n",
    "        if((input_val < 0 ) || (input_val > 100 ) ){\n",
    "            print(\"Out of Bounds 1 and 100\")\n",
    "            \n",
    "        }else if(choosing_rand_num == input_val ){\n",
    "            print(paste0(\"Hurray you guessed right! The number of counts are: \",count_guesses))\n",
    "            condn_test = FALSE\n",
    "            count_guesses = count_guesses +1\n",
    "        }else if (count_guesses ==1){\n",
    "            if(abs(input_val - choosing_rand_num ) <= 10){\n",
    "            print(\"Warm\")\n",
    "            \n",
    "            }else{\n",
    "            print(\"Cool\")\n",
    "            \n",
    "            }\n",
    "        }else{\n",
    "            if(abs(choosing_rand_num - saving_values[length(saving_values)] ) < abs(choosing_rand_num - saving_values[length(saving_values)-1] )){\n",
    "            print(\"Warmer\")\n",
    "            \n",
    "            }else{\n",
    "            print(\"Cooler\")\n",
    "            \n",
    "            \n",
    "            }\n",
    "        }\n",
    "    }\n",
    "    \n",
    "}\n"
   ]
  }
 ],
 "metadata": {
  "kernelspec": {
   "display_name": "Python [conda env:base] *",
   "language": "python",
   "name": "conda-base-py"
  },
  "language_info": {
   "codemirror_mode": {
    "name": "ipython",
    "version": 3
   },
   "file_extension": ".py",
   "mimetype": "text/x-python",
   "name": "python",
   "nbconvert_exporter": "python",
   "pygments_lexer": "ipython3",
   "version": "3.12.7"
  }
 },
 "nbformat": 4,
 "nbformat_minor": 4
}
