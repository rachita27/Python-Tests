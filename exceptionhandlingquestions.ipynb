{
 "cells": [
  {
   "cell_type": "markdown",
   "id": "f18f27bc",
   "metadata": {},
   "source": [
    "\n",
    "# Module: Exception Handling Assignments\n",
    "## Lesson: Exception Handling with try, except, and finally\n",
    "### Assignment 1: Handling Division by Zero\n",
    "\n",
    "Write a function that takes two integers as input and returns their division. Use try, except, and finally blocks to handle division by zero and print an appropriate message."
   ]
  },
  {
   "cell_type": "code",
   "execution_count": 1,
   "id": "97836e68",
   "metadata": {},
   "outputs": [],
   "source": [
    "def func_int(a,b):\n",
    "    try:\n",
    "        a / b \n",
    "    except ZeroDivisionError as e:\n",
    "        print(\"Second Integer is zero due to which division not possible\")\n",
    "    except Exception as e:\n",
    "        print(e)\n",
    "    else: \n",
    "        return a/b\n"
   ]
  },
  {
   "cell_type": "code",
   "execution_count": 2,
   "id": "86f0ddba",
   "metadata": {},
   "outputs": [
    {
     "name": "stdout",
     "output_type": "stream",
     "text": [
      "Second Integer is zero due to which division not possible\n"
     ]
    }
   ],
   "source": [
    "func_int(70,0)"
   ]
  },
  {
   "cell_type": "code",
   "execution_count": 3,
   "id": "4f3835da",
   "metadata": {},
   "outputs": [
    {
     "name": "stdout",
     "output_type": "stream",
     "text": [
      "Second Integer is zero due to which division not possible\n"
     ]
    }
   ],
   "source": [
    "func_int(0,0)"
   ]
  },
  {
   "cell_type": "code",
   "execution_count": 4,
   "id": "53dcdd68",
   "metadata": {},
   "outputs": [
    {
     "data": {
      "text/plain": [
       "0.75"
      ]
     },
     "execution_count": 4,
     "metadata": {},
     "output_type": "execute_result"
    }
   ],
   "source": [
    "func_int(3,4)"
   ]
  },
  {
   "cell_type": "markdown",
   "id": "2fea3075",
   "metadata": {},
   "source": [
    "### Assignment 2: File Reading with Exception Handling\n",
    "\n",
    "Write a function that reads the contents of a file named `data.txt`. Use try, except, and finally blocks to handle file not found errors and ensure the file is properly closed."
   ]
  },
  {
   "cell_type": "code",
   "execution_count": 5,
   "id": "1e6666f7",
   "metadata": {},
   "outputs": [],
   "source": [
    "import os"
   ]
  },
  {
   "cell_type": "code",
   "execution_count": 6,
   "id": "43095469",
   "metadata": {},
   "outputs": [
    {
     "data": {
      "text/plain": [
       "'c:\\\\Users\\\\rachi\\\\AppData\\\\Local\\\\Temp\\\\e30f3502-9524-431d-9544-102c4a8b02a7_exceptionhandlingsolution.zip.2a7'"
      ]
     },
     "execution_count": 6,
     "metadata": {},
     "output_type": "execute_result"
    }
   ],
   "source": [
    "os.getcwd()"
   ]
  },
  {
   "cell_type": "code",
   "execution_count": 7,
   "id": "eae4b6c4",
   "metadata": {},
   "outputs": [],
   "source": [
    "os.chdir('C:\\\\Users\\\\rachi\\\\OneDrive\\\\Desktop\\\\PYTHON LEARNING\\\\1. Lists & Basics of Python')"
   ]
  },
  {
   "cell_type": "code",
   "execution_count": 31,
   "id": "6d80c487",
   "metadata": {},
   "outputs": [],
   "source": [
    "def file_reader(file_nm):\n",
    "    try:\n",
    "        with open(file_nm,'r') as file:\n",
    "            # print(file.read())\n",
    "            file.seek(0)\n",
    "            content = file.readlines()\n",
    "            file.close()\n",
    "    except FileNotFoundError as e:\n",
    "        print('File is not available in current directory')\n",
    "        print(f\"Your current directory is: {os.getcwd()}\")\n",
    "    else:\n",
    "        return content\n",
    "            \n",
    "            "
   ]
  },
  {
   "cell_type": "code",
   "execution_count": 32,
   "id": "2e941a79",
   "metadata": {},
   "outputs": [
    {
     "name": "stdout",
     "output_type": "stream",
     "text": [
      "File is not available in current directory\n",
      "Your current directory is: C:\\Users\\rachi\\OneDrive\\Desktop\\PYTHON LEARNING\\1. Lists & Basics of Python\n"
     ]
    }
   ],
   "source": [
    "file_reader('tt.txt')"
   ]
  },
  {
   "cell_type": "code",
   "execution_count": 33,
   "id": "18462075",
   "metadata": {},
   "outputs": [
    {
     "data": {
      "text/plain": [
       "['activity_log.txt',\n",
       " 'assignment_solution.zip',\n",
       " 'assignment_solutions.zip',\n",
       " 'Big_File_Merged_file',\n",
       " 'destination.txt',\n",
       " 'list_assignment_solution.zip',\n",
       " 'log.txt',\n",
       " 'Merged_file.txt',\n",
       " 'sample.txt',\n",
       " 'second.txt']"
      ]
     },
     "execution_count": 33,
     "metadata": {},
     "output_type": "execute_result"
    }
   ],
   "source": [
    "os.listdir()"
   ]
  },
  {
   "cell_type": "code",
   "execution_count": 34,
   "id": "d42f1545",
   "metadata": {},
   "outputs": [
    {
     "data": {
      "text/plain": [
       "['### assignment 7: reading a file in reverse\\n',\n",
       " '\\n',\n",
       " 'new_new_new_word a function that reads the contents of a file named `reverse.txt` and prints each line in reverse order.\\n',\n",
       " '\\n',\n",
       " '### assignment 8: counting lines, words, and characters\\n',\n",
       " '\\n',\n",
       " 'new_new_new_word a function that reads the contents of a file named `stats.txt` and returns the number of lines, words, and characters in the file.\\n',\n",
       " '\\n',\n",
       " '### assignment 9: merging multiple files\\n',\n",
       " '\\n',\n",
       " 'new_new_new_word a function that merges the contents of multiple files into a single file named `merged.txt`.\\n']"
      ]
     },
     "execution_count": 34,
     "metadata": {},
     "output_type": "execute_result"
    }
   ],
   "source": [
    "file_reader('log.txt')"
   ]
  },
  {
   "cell_type": "markdown",
   "id": "60e09a4b",
   "metadata": {},
   "source": [
    "### Assignment 3: Handling Multiple Exceptions\n",
    "\n",
    "Write a function that takes a list of integers and returns their sum. Use try, except, and finally blocks to handle TypeError if a non-integer value is encountered and print an appropriate message."
   ]
  },
  {
   "cell_type": "code",
   "execution_count": 44,
   "id": "067d2cfa",
   "metadata": {},
   "outputs": [],
   "source": [
    "\n",
    "def func_sum(a,b):\n",
    "    try:\n",
    "        sum(a,b)\n",
    "    except TypeError as e :\n",
    "        if  isinstance(a,str) and not isinstance(b,str) :\n",
    "            print(\"First Number is not Number\")\n",
    "        elif  isinstance(b,str) and not  isinstance(a,str) :\n",
    "            print(\"Second Number is not Number\")\n",
    "        else :\n",
    "            print(\"Both inputs are not Numbers\")\n",
    "    except Exception as e :\n",
    "        print(e)\n",
    "    else:\n",
    "        return a+b\n",
    "\n"
   ]
  },
  {
   "cell_type": "code",
   "execution_count": 38,
   "id": "57ec5dd9",
   "metadata": {},
   "outputs": [
    {
     "data": {
      "text/plain": [
       "14"
      ]
     },
     "execution_count": 38,
     "metadata": {},
     "output_type": "execute_result"
    }
   ],
   "source": [
    "func_sum(9,5)"
   ]
  },
  {
   "cell_type": "code",
   "execution_count": 39,
   "id": "1a87b11f",
   "metadata": {},
   "outputs": [
    {
     "name": "stdout",
     "output_type": "stream",
     "text": [
      "First Number is not Number\n"
     ]
    }
   ],
   "source": [
    "func_sum('hgsa',5)"
   ]
  },
  {
   "cell_type": "code",
   "execution_count": 40,
   "id": "97120f62",
   "metadata": {},
   "outputs": [
    {
     "name": "stdout",
     "output_type": "stream",
     "text": [
      "Second Number is not Number\n"
     ]
    }
   ],
   "source": [
    "func_sum(5, 'hgsa')"
   ]
  },
  {
   "cell_type": "code",
   "execution_count": 45,
   "id": "3a9ce6b4",
   "metadata": {},
   "outputs": [
    {
     "name": "stdout",
     "output_type": "stream",
     "text": [
      "Both inputs are not Numbers\n"
     ]
    }
   ],
   "source": [
    "func_sum('gfa', 'hgsa')"
   ]
  },
  {
   "cell_type": "markdown",
   "id": "d84d31cf",
   "metadata": {},
   "source": [
    "### Assignment 4: Exception Handling in User Input\n",
    "\n",
    "Write a function that prompts the user to enter an integer. Use try, except, and finally blocks to handle ValueError if the user enters a non-integer value and print an appropriate message."
   ]
  },
  {
   "cell_type": "code",
   "execution_count": null,
   "id": "67e63b31",
   "metadata": {},
   "outputs": [],
   "source": [
    "def user_inp():\n",
    "    try: \n",
    "        ##asking user input\n",
    "        a = int(input(\"Please give your input integer value here: \"))\n",
    "    except ValueError as e:\n",
    "        print(\"You've give inapproriate input, Please re run the function & enter a integer\")\n",
    "    else:\n",
    "        return a\n",
    "    "
   ]
  },
  {
   "cell_type": "code",
   "execution_count": 48,
   "id": "c51f3e36",
   "metadata": {},
   "outputs": [
    {
     "data": {
      "text/plain": [
       "4"
      ]
     },
     "execution_count": 48,
     "metadata": {},
     "output_type": "execute_result"
    }
   ],
   "source": [
    "user_inp()"
   ]
  },
  {
   "cell_type": "code",
   "execution_count": 49,
   "id": "a677eaa9",
   "metadata": {},
   "outputs": [
    {
     "name": "stdout",
     "output_type": "stream",
     "text": [
      "You've give inapproriate input, /n Please re run the function & enter a integer\n"
     ]
    }
   ],
   "source": [
    "user_inp()"
   ]
  },
  {
   "cell_type": "markdown",
   "id": "61982104",
   "metadata": {},
   "source": [
    "### Assignment 5: Exception Handling in Dictionary Access\n",
    "\n",
    "Write a function that takes a dictionary and a key as input and returns the value associated with the key. Use try, except, and finally blocks to handle KeyError if the key is not found in the dictionary and print an appropriate message."
   ]
  },
  {
   "cell_type": "code",
   "execution_count": 51,
   "id": "2bb38a6f",
   "metadata": {},
   "outputs": [],
   "source": [
    "def func_dict(dct , key_nm):\n",
    "    try:\n",
    "        dct[key_nm]\n",
    "    except KeyError as e:\n",
    "        print(\"Key Doesn't exists\")\n",
    "    else:\n",
    "        return dct[key_nm]"
   ]
  },
  {
   "cell_type": "code",
   "execution_count": 52,
   "id": "d68cdb2d",
   "metadata": {},
   "outputs": [
    {
     "data": {
      "text/plain": [
       "1"
      ]
     },
     "execution_count": 52,
     "metadata": {},
     "output_type": "execute_result"
    }
   ],
   "source": [
    "func_dict({'a':1,'r':3,'g':50},'a')"
   ]
  },
  {
   "cell_type": "code",
   "execution_count": 53,
   "id": "70114b76",
   "metadata": {},
   "outputs": [
    {
     "name": "stdout",
     "output_type": "stream",
     "text": [
      "Key Doesn't exists\n"
     ]
    }
   ],
   "source": [
    "func_dict({'a':1,'r':3,'g':50},'d')"
   ]
  },
  {
   "cell_type": "code",
   "execution_count": 54,
   "id": "cce44f68",
   "metadata": {},
   "outputs": [
    {
     "ename": "TypeError",
     "evalue": "unsupported operand type(s) for /: 'int' and 'str'",
     "output_type": "error",
     "traceback": [
      "\u001b[31m---------------------------------------------------------------------------\u001b[39m",
      "\u001b[31mTypeError\u001b[39m                                 Traceback (most recent call last)",
      "\u001b[36mCell\u001b[39m\u001b[36m \u001b[39m\u001b[32mIn[54]\u001b[39m\u001b[32m, line 1\u001b[39m\n\u001b[32m----> \u001b[39m\u001b[32m1\u001b[39m \u001b[32;43m5\u001b[39;49m\u001b[43m/\u001b[49m\u001b[33;43m'\u001b[39;49m\u001b[33;43mstaticmethod\u001b[39;49m\u001b[33;43m'\u001b[39;49m\n",
      "\u001b[31mTypeError\u001b[39m: unsupported operand type(s) for /: 'int' and 'str'"
     ]
    }
   ],
   "source": [
    "5/'staticmethod'"
   ]
  },
  {
   "cell_type": "markdown",
   "id": "f7394ddd",
   "metadata": {},
   "source": [
    "### Assignment 6: Nested Exception Handling\n",
    "\n",
    "Write a function that performs nested exception handling. It should first attempt to convert a string to an integer, and then attempt to divide by that integer. Use nested try, except, and finally blocks to handle ValueError and ZeroDivisionError and print appropriate messages."
   ]
  },
  {
   "cell_type": "code",
   "execution_count": 57,
   "id": "2851dfe9",
   "metadata": {},
   "outputs": [],
   "source": [
    "def nested_excep(num):\n",
    "    try:\n",
    "        a = int(input(\"Please share your input here\"))\n",
    "        a/num\n",
    "    except ValueError as e:\n",
    "        print(\"Input is not a integer\")\n",
    "    except ZeroDivisionError as e:\n",
    "        print(\"Divisor is not non-zero, which is why get error\")\n",
    "    except Exception as e:\n",
    "        print(e)\n",
    "    else:\n",
    "        return a/num"
   ]
  },
  {
   "cell_type": "code",
   "execution_count": 58,
   "id": "7a94d23c",
   "metadata": {},
   "outputs": [
    {
     "data": {
      "text/plain": [
       "14.0"
      ]
     },
     "execution_count": 58,
     "metadata": {},
     "output_type": "execute_result"
    }
   ],
   "source": [
    "nested_excep(7)"
   ]
  },
  {
   "cell_type": "code",
   "execution_count": 59,
   "id": "c408e339",
   "metadata": {},
   "outputs": [
    {
     "name": "stdout",
     "output_type": "stream",
     "text": [
      "Divisor is not non-zero, which is why get error\n"
     ]
    }
   ],
   "source": [
    "nested_excep(0)"
   ]
  },
  {
   "cell_type": "code",
   "execution_count": 60,
   "id": "25ad6878",
   "metadata": {},
   "outputs": [
    {
     "name": "stdout",
     "output_type": "stream",
     "text": [
      "Input is not a integer\n"
     ]
    }
   ],
   "source": [
    "nested_excep(0)"
   ]
  },
  {
   "cell_type": "markdown",
   "id": "ac7ee21d",
   "metadata": {},
   "source": [
    "### Assignment 7: Exception Handling in List Operations\n",
    "\n",
    "Write a function that takes a list and an index as input and returns the element at the given index. Use try, except, and finally blocks to handle IndexError if the index is out of range and print an appropriate message."
   ]
  },
  {
   "cell_type": "code",
   "execution_count": 65,
   "id": "d80632b3",
   "metadata": {},
   "outputs": [],
   "source": [
    "def func_list(lst, indx):\n",
    "    try:\n",
    "        lst[indx]\n",
    "    except IndexError as e:\n",
    "        print(\"Index is not in range of len of list\")\n",
    "        print(f\"Length of list is {len(lst)}, Please recalibrate\")\n",
    "    except TypeError as e:\n",
    "        print(\"Index provided is not integer\")\n",
    "    except Exception as e:\n",
    "        print(e)\n",
    "    else:\n",
    "        return lst[indx]"
   ]
  },
  {
   "cell_type": "code",
   "execution_count": 62,
   "id": "cb043f79",
   "metadata": {},
   "outputs": [
    {
     "name": "stdout",
     "output_type": "stream",
     "text": [
      "Index is not in range of len of list\n",
      "Length of list is 8, Please recalibrate\n"
     ]
    }
   ],
   "source": [
    "func_list([9,12,7,5,63,7,9,6], 19)"
   ]
  },
  {
   "cell_type": "code",
   "execution_count": 63,
   "id": "b63a3dbc",
   "metadata": {},
   "outputs": [
    {
     "data": {
      "text/plain": [
       "9"
      ]
     },
     "execution_count": 63,
     "metadata": {},
     "output_type": "execute_result"
    }
   ],
   "source": [
    "func_list([9,12,7,5,63,7,9,6], -8)"
   ]
  },
  {
   "cell_type": "code",
   "execution_count": 66,
   "id": "5b52c3d0",
   "metadata": {},
   "outputs": [
    {
     "name": "stdout",
     "output_type": "stream",
     "text": [
      "Index provided is not integer\n"
     ]
    }
   ],
   "source": [
    "func_list([9,12,7,5,63,7,9,6], 'g')"
   ]
  },
  {
   "cell_type": "markdown",
   "id": "54f9323e",
   "metadata": {},
   "source": [
    "### Assignment 8: Exception Handling in Network Operations\n",
    "\n",
    "Write a function that attempts to open a URL and read its contents. Use try, except, and finally blocks to handle network-related errors and print an appropriate message."
   ]
  },
  {
   "cell_type": "code",
   "execution_count": 68,
   "id": "ad4816dd",
   "metadata": {},
   "outputs": [
    {
     "name": "stdout",
     "output_type": "stream",
     "text": [
      "Collecting requests\n",
      "  Downloading requests-2.32.5-py3-none-any.whl.metadata (4.9 kB)\n",
      "Collecting charset_normalizer<4,>=2 (from requests)\n",
      "  Downloading charset_normalizer-3.4.3-cp312-cp312-win_amd64.whl.metadata (37 kB)\n",
      "Collecting idna<4,>=2.5 (from requests)\n",
      "  Downloading idna-3.10-py3-none-any.whl.metadata (10 kB)\n",
      "Collecting urllib3<3,>=1.21.1 (from requests)\n",
      "  Downloading urllib3-2.5.0-py3-none-any.whl.metadata (6.5 kB)\n",
      "Collecting certifi>=2017.4.17 (from requests)\n",
      "  Downloading certifi-2025.8.3-py3-none-any.whl.metadata (2.4 kB)\n",
      "Downloading requests-2.32.5-py3-none-any.whl (64 kB)\n",
      "Downloading charset_normalizer-3.4.3-cp312-cp312-win_amd64.whl (107 kB)\n",
      "Downloading idna-3.10-py3-none-any.whl (70 kB)\n",
      "Downloading urllib3-2.5.0-py3-none-any.whl (129 kB)\n",
      "Downloading certifi-2025.8.3-py3-none-any.whl (161 kB)\n",
      "Installing collected packages: urllib3, idna, charset_normalizer, certifi, requests\n",
      "\n",
      "   ---------------------------------------- 0/5 [urllib3]\n",
      "   ---------------------------------------- 0/5 [urllib3]\n",
      "   ---------------------------------------- 0/5 [urllib3]\n",
      "   -------- ------------------------------- 1/5 [idna]\n",
      "   -------- ------------------------------- 1/5 [idna]\n",
      "   ---------------- ----------------------- 2/5 [charset_normalizer]\n",
      "   ------------------------ --------------- 3/5 [certifi]\n",
      "   -------------------------------- ------- 4/5 [requests]\n",
      "   ---------------------------------------- 5/5 [requests]\n",
      "\n",
      "Successfully installed certifi-2025.8.3 charset_normalizer-3.4.3 idna-3.10 requests-2.32.5 urllib3-2.5.0\n"
     ]
    }
   ],
   "source": [
    "!pip install requests"
   ]
  },
  {
   "cell_type": "code",
   "execution_count": 69,
   "id": "e21c5f78",
   "metadata": {},
   "outputs": [],
   "source": [
    "import requests\n",
    "\n",
    "def read_url(url):\n",
    "    try:\n",
    "        response = requests.get(url)\n",
    "        response.text\n",
    "        return response.text\n",
    "    except requests.RequestException as e:\n",
    "        print(f\"Network error: {e}\")\n",
    "        return None\n",
    "    finally:\n",
    "        print(\"Execution complete.\")"
   ]
  },
  {
   "cell_type": "code",
   "execution_count": 70,
   "id": "6474c649",
   "metadata": {},
   "outputs": [
    {
     "name": "stdout",
     "output_type": "stream",
     "text": [
      "Network error: Invalid URL 'https:/sjsshjw': No host supplied\n",
      "Execution complete.\n"
     ]
    }
   ],
   "source": [
    "read_url(\"https:/sjsshjw\")"
   ]
  },
  {
   "cell_type": "code",
   "execution_count": 71,
   "id": "e964091a",
   "metadata": {},
   "outputs": [],
   "source": [
    "import json"
   ]
  },
  {
   "cell_type": "code",
   "execution_count": 75,
   "id": "fdb18aa4",
   "metadata": {},
   "outputs": [
    {
     "ename": "JSONDecodeError",
     "evalue": "Expecting value: line 1 column 1 (char 0)",
     "output_type": "error",
     "traceback": [
      "\u001b[31m---------------------------------------------------------------------------\u001b[39m",
      "\u001b[31mJSONDecodeError\u001b[39m                           Traceback (most recent call last)",
      "\u001b[36mCell\u001b[39m\u001b[36m \u001b[39m\u001b[32mIn[75]\u001b[39m\u001b[32m, line 1\u001b[39m\n\u001b[32m----> \u001b[39m\u001b[32m1\u001b[39m \u001b[43mjson\u001b[49m\u001b[43m.\u001b[49m\u001b[43mloads\u001b[49m\u001b[43m(\u001b[49m\u001b[33;43m'\u001b[39;49m\u001b[33;43mghgs\u001b[39;49m\u001b[33;43m'\u001b[39;49m\u001b[43m)\u001b[49m\n",
      "\u001b[36mFile \u001b[39m\u001b[32mc:\\Users\\rachi\\OneDrive\\Desktop\\Python Learning\\venv\\Lib\\json\\__init__.py:346\u001b[39m, in \u001b[36mloads\u001b[39m\u001b[34m(s, cls, object_hook, parse_float, parse_int, parse_constant, object_pairs_hook, **kw)\u001b[39m\n\u001b[32m    341\u001b[39m     s = s.decode(detect_encoding(s), \u001b[33m'\u001b[39m\u001b[33msurrogatepass\u001b[39m\u001b[33m'\u001b[39m)\n\u001b[32m    343\u001b[39m \u001b[38;5;28;01mif\u001b[39;00m (\u001b[38;5;28mcls\u001b[39m \u001b[38;5;129;01mis\u001b[39;00m \u001b[38;5;28;01mNone\u001b[39;00m \u001b[38;5;129;01mand\u001b[39;00m object_hook \u001b[38;5;129;01mis\u001b[39;00m \u001b[38;5;28;01mNone\u001b[39;00m \u001b[38;5;129;01mand\u001b[39;00m\n\u001b[32m    344\u001b[39m         parse_int \u001b[38;5;129;01mis\u001b[39;00m \u001b[38;5;28;01mNone\u001b[39;00m \u001b[38;5;129;01mand\u001b[39;00m parse_float \u001b[38;5;129;01mis\u001b[39;00m \u001b[38;5;28;01mNone\u001b[39;00m \u001b[38;5;129;01mand\u001b[39;00m\n\u001b[32m    345\u001b[39m         parse_constant \u001b[38;5;129;01mis\u001b[39;00m \u001b[38;5;28;01mNone\u001b[39;00m \u001b[38;5;129;01mand\u001b[39;00m object_pairs_hook \u001b[38;5;129;01mis\u001b[39;00m \u001b[38;5;28;01mNone\u001b[39;00m \u001b[38;5;129;01mand\u001b[39;00m \u001b[38;5;129;01mnot\u001b[39;00m kw):\n\u001b[32m--> \u001b[39m\u001b[32m346\u001b[39m     \u001b[38;5;28;01mreturn\u001b[39;00m \u001b[43m_default_decoder\u001b[49m\u001b[43m.\u001b[49m\u001b[43mdecode\u001b[49m\u001b[43m(\u001b[49m\u001b[43ms\u001b[49m\u001b[43m)\u001b[49m\n\u001b[32m    347\u001b[39m \u001b[38;5;28;01mif\u001b[39;00m \u001b[38;5;28mcls\u001b[39m \u001b[38;5;129;01mis\u001b[39;00m \u001b[38;5;28;01mNone\u001b[39;00m:\n\u001b[32m    348\u001b[39m     \u001b[38;5;28mcls\u001b[39m = JSONDecoder\n",
      "\u001b[36mFile \u001b[39m\u001b[32mc:\\Users\\rachi\\OneDrive\\Desktop\\Python Learning\\venv\\Lib\\json\\decoder.py:337\u001b[39m, in \u001b[36mJSONDecoder.decode\u001b[39m\u001b[34m(self, s, _w)\u001b[39m\n\u001b[32m    332\u001b[39m \u001b[38;5;28;01mdef\u001b[39;00m\u001b[38;5;250m \u001b[39m\u001b[34mdecode\u001b[39m(\u001b[38;5;28mself\u001b[39m, s, _w=WHITESPACE.match):\n\u001b[32m    333\u001b[39m \u001b[38;5;250m    \u001b[39m\u001b[33;03m\"\"\"Return the Python representation of ``s`` (a ``str`` instance\u001b[39;00m\n\u001b[32m    334\u001b[39m \u001b[33;03m    containing a JSON document).\u001b[39;00m\n\u001b[32m    335\u001b[39m \n\u001b[32m    336\u001b[39m \u001b[33;03m    \"\"\"\u001b[39;00m\n\u001b[32m--> \u001b[39m\u001b[32m337\u001b[39m     obj, end = \u001b[38;5;28;43mself\u001b[39;49m\u001b[43m.\u001b[49m\u001b[43mraw_decode\u001b[49m\u001b[43m(\u001b[49m\u001b[43ms\u001b[49m\u001b[43m,\u001b[49m\u001b[43m \u001b[49m\u001b[43midx\u001b[49m\u001b[43m=\u001b[49m\u001b[43m_w\u001b[49m\u001b[43m(\u001b[49m\u001b[43ms\u001b[49m\u001b[43m,\u001b[49m\u001b[43m \u001b[49m\u001b[32;43m0\u001b[39;49m\u001b[43m)\u001b[49m\u001b[43m.\u001b[49m\u001b[43mend\u001b[49m\u001b[43m(\u001b[49m\u001b[43m)\u001b[49m\u001b[43m)\u001b[49m\n\u001b[32m    338\u001b[39m     end = _w(s, end).end()\n\u001b[32m    339\u001b[39m     \u001b[38;5;28;01mif\u001b[39;00m end != \u001b[38;5;28mlen\u001b[39m(s):\n",
      "\u001b[36mFile \u001b[39m\u001b[32mc:\\Users\\rachi\\OneDrive\\Desktop\\Python Learning\\venv\\Lib\\json\\decoder.py:355\u001b[39m, in \u001b[36mJSONDecoder.raw_decode\u001b[39m\u001b[34m(self, s, idx)\u001b[39m\n\u001b[32m    353\u001b[39m     obj, end = \u001b[38;5;28mself\u001b[39m.scan_once(s, idx)\n\u001b[32m    354\u001b[39m \u001b[38;5;28;01mexcept\u001b[39;00m \u001b[38;5;167;01mStopIteration\u001b[39;00m \u001b[38;5;28;01mas\u001b[39;00m err:\n\u001b[32m--> \u001b[39m\u001b[32m355\u001b[39m     \u001b[38;5;28;01mraise\u001b[39;00m JSONDecodeError(\u001b[33m\"\u001b[39m\u001b[33mExpecting value\u001b[39m\u001b[33m\"\u001b[39m, s, err.value) \u001b[38;5;28;01mfrom\u001b[39;00m\u001b[38;5;250m \u001b[39m\u001b[38;5;28;01mNone\u001b[39;00m\n\u001b[32m    356\u001b[39m \u001b[38;5;28;01mreturn\u001b[39;00m obj, end\n",
      "\u001b[31mJSONDecodeError\u001b[39m: Expecting value: line 1 column 1 (char 0)"
     ]
    }
   ],
   "source": [
    "json.loads('ghgs')"
   ]
  },
  {
   "cell_type": "markdown",
   "id": "93832426",
   "metadata": {},
   "source": [
    "### Assignment 9: Exception Handling in JSON Parsing\n",
    "\n",
    "Write a function that attempts to parse a JSON string. Use try, except, and finally blocks to handle JSONDecodeError if the string is not a valid JSON and print an appropriate message."
   ]
  },
  {
   "cell_type": "code",
   "execution_count": 78,
   "id": "3ad4cd70",
   "metadata": {},
   "outputs": [],
   "source": [
    "import json\n",
    "\n",
    "def func_json(str_json):\n",
    "    try:\n",
    "        return json.loads(str_json)\n",
    "    # except JSONDecodeError as e: \n",
    "    except Exception as e:\n",
    "        print(\"String is not required json format\")\n",
    "        print(e)"
   ]
  },
  {
   "cell_type": "code",
   "execution_count": 79,
   "id": "47255a08",
   "metadata": {},
   "outputs": [
    {
     "name": "stdout",
     "output_type": "stream",
     "text": [
      "String is not required json format\n",
      "Expecting value: line 1 column 1 (char 0)\n"
     ]
    }
   ],
   "source": [
    "func_json('gg')"
   ]
  },
  {
   "cell_type": "code",
   "execution_count": null,
   "id": "3ce37e30",
   "metadata": {},
   "outputs": [],
   "source": []
  }
 ],
 "metadata": {
  "kernelspec": {
   "display_name": "Python 3",
   "language": "python",
   "name": "python3"
  },
  "language_info": {
   "codemirror_mode": {
    "name": "ipython",
    "version": 3
   },
   "file_extension": ".py",
   "mimetype": "text/x-python",
   "name": "python",
   "nbconvert_exporter": "python",
   "pygments_lexer": "ipython3",
   "version": "3.12.0"
  }
 },
 "nbformat": 4,
 "nbformat_minor": 5
}
