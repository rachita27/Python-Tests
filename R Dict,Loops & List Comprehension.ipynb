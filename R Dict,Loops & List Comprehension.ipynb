{
 "cells": [
  {
   "cell_type": "markdown",
   "id": "c4804b7e-9830-40c8-b769-59a9202381be",
   "metadata": {},
   "source": [
    "# R dictionaries"
   ]
  },
  {
   "cell_type": "code",
   "execution_count": 1,
   "id": "49349cdd-2641-4ef6-950b-c6418a1fa9b3",
   "metadata": {},
   "outputs": [
    {
     "name": "stdout",
     "output_type": "stream",
     "text": [
      "Collecting rpy2\n",
      "  Using cached rpy2-3.5.17.tar.gz (220 kB)\n",
      "  Installing build dependencies ... \u001b[?25ldone\n",
      "\u001b[?25h  Getting requirements to build wheel ... \u001b[?25ldone\n",
      "\u001b[?25h  Preparing metadata (pyproject.toml) ... \u001b[?25ldone\n",
      "\u001b[?25hRequirement already satisfied: cffi>=1.15.1 in /opt/anaconda3/lib/python3.12/site-packages (from rpy2) (1.17.1)\n",
      "Requirement already satisfied: jinja2 in /opt/anaconda3/lib/python3.12/site-packages (from rpy2) (3.1.4)\n",
      "Collecting tzlocal (from rpy2)\n",
      "  Using cached tzlocal-5.3.1-py3-none-any.whl.metadata (7.6 kB)\n",
      "Requirement already satisfied: pycparser in /opt/anaconda3/lib/python3.12/site-packages (from cffi>=1.15.1->rpy2) (2.21)\n",
      "Requirement already satisfied: MarkupSafe>=2.0 in /opt/anaconda3/lib/python3.12/site-packages (from jinja2->rpy2) (2.1.3)\n",
      "Downloading tzlocal-5.3.1-py3-none-any.whl (18 kB)\n",
      "Building wheels for collected packages: rpy2\n",
      "  Building wheel for rpy2 (pyproject.toml) ... \u001b[?25ldone\n",
      "\u001b[?25h  Created wheel for rpy2: filename=rpy2-3.5.17-cp312-cp312-macosx_11_0_arm64.whl size=252676 sha256=c56df38d52b957a5916270cc21442d8ced4e32bb6573cdd53e97f7e894ed3cc6\n",
      "  Stored in directory: /Users/rachita/Library/Caches/pip/wheels/fb/3c/a8/5c2ab28ca010aa26f09174d6ac337141721ee764f7b17c0953\n",
      "Successfully built rpy2\n",
      "Installing collected packages: tzlocal, rpy2\n",
      "Successfully installed rpy2-3.5.17 tzlocal-5.3.1\n",
      "Note: you may need to restart the kernel to use updated packages.\n"
     ]
    }
   ],
   "source": [
    "pip install rpy2"
   ]
  },
  {
   "cell_type": "code",
   "execution_count": 1,
   "id": "6a917c2e-a92d-4aaf-ac1e-533fd230d238",
   "metadata": {},
   "outputs": [],
   "source": [
    "%load_ext rpy2.ipython"
   ]
  },
  {
   "cell_type": "code",
   "execution_count": 4,
   "id": "abf20fbe-37b5-4c85-9172-29c0387c2d7d",
   "metadata": {},
   "outputs": [
    {
     "name": "stdout",
     "output_type": "stream",
     "text": [
      "[1] 2.5\n"
     ]
    }
   ],
   "source": [
    "%%R\n",
    "x <- c(1, 2, 3, 4)\n",
    "mean(x)"
   ]
  },
  {
   "cell_type": "code",
   "execution_count": 6,
   "id": "aeb691ba-883b-4c2e-ade3-725d25d2b47e",
   "metadata": {},
   "outputs": [
    {
     "name": "stdout",
     "output_type": "stream",
     "text": [
      "   apple   banana    grape \n",
      "   \"red\" \"yellow\" \"purple\" \n"
     ]
    }
   ],
   "source": [
    "%%R\n",
    "dict1 <- c(apple = \"red\", banana = \"yellow\", grape = \"purple\")\n",
    "dict1"
   ]
  },
  {
   "cell_type": "code",
   "execution_count": 16,
   "id": "1bb9218b-c083-4294-a34a-f3a31077bf78",
   "metadata": {},
   "outputs": [
    {
     "name": "stdout",
     "output_type": "stream",
     "text": [
      "\n",
      "The downloaded binary packages are in\n",
      "\t/var/folders/l3/f7hpz30s08nbzkwqz28bhvnr0000gn/T//RtmpaiomW7/downloaded_packages\n",
      "[1] \"red\"\n",
      "[1] \"yellow\"\n",
      "[1] \"purple\"\n",
      "$apple\n",
      "[1] \"red\"\n",
      "\n",
      "$banana\n",
      "[1] \"yellow\"\n",
      "\n",
      "$grape\n",
      "[1] \"purple\"\n",
      "\n"
     ]
    },
    {
     "data": {
      "text/plain": [
       "trying URL 'https://cran.icts.res.in/bin/macosx/big-sur-arm64/contrib/4.5/purrr_1.0.4.tgz'\n",
       "Content type 'application/x-gzip' length 570051 bytes (556 KB)\n",
       "==================================================\n",
       "downloaded 556 KB\n",
       "\n"
      ]
     },
     "metadata": {},
     "output_type": "display_data"
    }
   ],
   "source": [
    "%%R\n",
    "install.packages(\"purrr\")\n",
    "library(purrr)\n",
    "map(dict1, print)"
   ]
  },
  {
   "cell_type": "code",
   "execution_count": 18,
   "id": "615397fc-6e30-45c3-94cb-95d74090bf98",
   "metadata": {},
   "outputs": [
    {
     "name": "stdout",
     "output_type": "stream",
     "text": [
      "[1] \"red\"\n",
      "[1] \"yellow\"\n",
      "[1] \"purple\"\n",
      "$apple\n",
      "[1] \"red\"\n",
      "\n",
      "$banana\n",
      "[1] \"yellow\"\n",
      "\n",
      "$grape\n",
      "[1] \"purple\"\n",
      "\n"
     ]
    }
   ],
   "source": [
    "%%R\n",
    "dict1 <- c(apple = \"red\", banana = \"yellow\", grape = \"purple\")\n",
    "map(dict1, print)"
   ]
  },
  {
   "cell_type": "markdown",
   "id": "87ebf375-1e35-4b8e-b411-08e31287c0b9",
   "metadata": {},
   "source": [
    "# List Comprehension Equivalent in R"
   ]
  },
  {
   "cell_type": "code",
   "execution_count": 27,
   "id": "46ffb8e1-a123-4d4f-92dd-7ad206d84903",
   "metadata": {},
   "outputs": [
    {
     "name": "stdout",
     "output_type": "stream",
     "text": [
      "[[1]]\n",
      "[1] 0\n",
      "\n",
      "[[2]]\n",
      "[1] 1\n",
      "\n",
      "[[3]]\n",
      "[1] 4\n",
      "\n",
      "[[4]]\n",
      "[1] 9\n",
      "\n",
      "[[5]]\n",
      "[1] 16\n",
      "\n"
     ]
    }
   ],
   "source": [
    "%%R\n",
    "lapply(0:4, function(x) x^2) ##RETURNS LIST"
   ]
  },
  {
   "cell_type": "code",
   "execution_count": 31,
   "id": "714add60-2ba1-4380-9d84-969d9360ffa9",
   "metadata": {},
   "outputs": [
    {
     "name": "stdout",
     "output_type": "stream",
     "text": [
      "[1]  0  1  4  9 16\n"
     ]
    }
   ],
   "source": [
    "%%R\n",
    "sapply(0:4, function(x) x^2) ##RETURNS Vector"
   ]
  },
  {
   "cell_type": "code",
   "execution_count": 33,
   "id": "4c476f00-a140-4b16-9690-6dfc3227b4d0",
   "metadata": {},
   "outputs": [
    {
     "name": "stdout",
     "output_type": "stream",
     "text": [
      "[1] \"A\"\n"
     ]
    }
   ],
   "source": [
    "%%R\n",
    "grade <- function(X) { if (X >= 90) \"A\" else if (X >= 75) \"B\" else \"C\" }\n",
    "\n",
    "grade(100)"
   ]
  },
  {
   "cell_type": "code",
   "execution_count": 37,
   "id": "70f8a22c-6bae-4e52-a51f-fea8d96453e7",
   "metadata": {},
   "outputs": [
    {
     "name": "stdout",
     "output_type": "stream",
     "text": [
      "[1] 1\n",
      "[1] 2\n",
      "[1] 3\n",
      "[1] 4\n",
      "[1] 5\n",
      "[1] 6\n",
      "[1] 7\n",
      "[1] 8\n",
      "[1] 9\n",
      "[1] 10\n"
     ]
    }
   ],
   "source": [
    "%%R\n",
    "\n",
    "##basic for loops\n",
    "for(i in 1:10){\n",
    "    print(i)\n",
    "\n",
    "}"
   ]
  },
  {
   "cell_type": "markdown",
   "id": "04869c08-7f37-4a62-8c40-29a16f29170c",
   "metadata": {},
   "source": [
    "# For loop & if-elseIf"
   ]
  },
  {
   "cell_type": "code",
   "execution_count": 73,
   "id": "a87cbe9a-2d4c-4958-8073-8af5ed67c053",
   "metadata": {},
   "outputs": [
    {
     "name": "stdout",
     "output_type": "stream",
     "text": [
      "[1] 1\n",
      "[1] 2\n",
      "[1] \"Fizz\"\n",
      "[1] 4\n",
      "[1] \"Buzz\"\n",
      "[1] \"Fizz\"\n",
      "[1] 7\n",
      "[1] 8\n",
      "[1] \"Fizz\"\n",
      "[1] \"Buzz\"\n",
      "[1] 11\n",
      "[1] \"Fizz\"\n",
      "[1] 13\n",
      "[1] 14\n",
      "[1] \"FizzBuzz\"\n",
      "[1] 16\n",
      "[1] 17\n",
      "[1] \"Fizz\"\n",
      "[1] 19\n",
      "[1] \"Buzz\"\n",
      "[1] \"Fizz\"\n",
      "[1] 22\n",
      "[1] 23\n",
      "[1] \"Fizz\"\n",
      "[1] \"Buzz\"\n",
      "[1] 26\n",
      "[1] \"Fizz\"\n",
      "[1] 28\n",
      "[1] 29\n",
      "[1] \"FizzBuzz\"\n",
      "[1] 31\n",
      "[1] 32\n",
      "[1] \"Fizz\"\n",
      "[1] 34\n",
      "[1] \"Buzz\"\n",
      "[1] \"Fizz\"\n",
      "[1] 37\n",
      "[1] 38\n",
      "[1] \"Fizz\"\n",
      "[1] \"Buzz\"\n",
      "[1] 41\n",
      "[1] \"Fizz\"\n",
      "[1] 43\n",
      "[1] 44\n",
      "[1] \"FizzBuzz\"\n",
      "[1] 46\n",
      "[1] 47\n",
      "[1] \"Fizz\"\n",
      "[1] 49\n",
      "[1] \"Buzz\"\n"
     ]
    }
   ],
   "source": [
    "%%R\n",
    "##basic if-elseif with for:\n",
    "#seq(1,10,2)\n",
    "\n",
    "for(x in seq(1,50)){\n",
    "    if(!(x %% 3 ) & !(x %% 5 )){\n",
    "    print(\"FizzBuzz\") \n",
    "    }else if(!(x %% 3 ) ){\n",
    "    print(\"Fizz\") \n",
    "    }else if(!(x %% 5) ){\n",
    "    print(\"Buzz\") \n",
    "    }else{\n",
    "    print(x)\n",
    "    }\n",
    "}"
   ]
  },
  {
   "cell_type": "markdown",
   "id": "c24e9a15-61ad-4b84-b05f-0196f6b1ec4b",
   "metadata": {},
   "source": [
    "# while loop"
   ]
  },
  {
   "cell_type": "code",
   "execution_count": 85,
   "id": "812be2c1-0fc6-4473-8507-f660f1a57d33",
   "metadata": {},
   "outputs": [
    {
     "name": "stdout",
     "output_type": "stream",
     "text": [
      "[1] \"x is currently: 0\"\n",
      "[1] \" x is still less than 10, adding 1 to x\"\n",
      "[1] \"x is currently: 1\"\n",
      "[1] \" x is still less than 10, adding 1 to x\"\n",
      "[1] \"x is currently: 2\"\n",
      "[1] \" x is still less than 10, adding 1 to x\"\n",
      "[1] \"x is currently: 3\"\n",
      "[1] \" x is still less than 10, adding 1 to x\"\n",
      "[1] \"x is currently: 4\"\n",
      "[1] \" x is still less than 10, adding 1 to x\"\n",
      "[1] \"x is currently: 5\"\n",
      "[1] \" x is still less than 10, adding 1 to x\"\n",
      "[1] \"x is currently: 6\"\n",
      "[1] \" x is still less than 10, adding 1 to x\"\n",
      "[1] \"x is currently: 7\"\n",
      "[1] \" x is still less than 10, adding 1 to x\"\n",
      "[1] \"x is currently: 8\"\n",
      "[1] \" x is still less than 10, adding 1 to x\"\n",
      "[1] \"x is currently: 9\"\n",
      "[1] \" x is still less than 10, adding 1 to x\"\n"
     ]
    }
   ],
   "source": [
    "%%R\n",
    "x = 0\n",
    "\n",
    "while(x < 10){\n",
    "    print(paste0('x is currently: ',x))\n",
    "    print(' x is still less than 10, adding 1 to x')\n",
    "    x= x+1\n",
    "}"
   ]
  },
  {
   "cell_type": "markdown",
   "id": "c7efbb98-379d-4732-a49a-a25427f92d22",
   "metadata": {},
   "source": [
    "# Break, Next & Pass Equivalent"
   ]
  },
  {
   "cell_type": "code",
   "execution_count": 92,
   "id": "89cadc7d-143d-48ec-b710-55e84e4bba33",
   "metadata": {},
   "outputs": [
    {
     "name": "stdout",
     "output_type": "stream",
     "text": [
      "[1] \"It is odd 1\"\n",
      "[1] \"It is odd 3\"\n",
      "[1] \"It is odd 5\"\n",
      "[1] \"It is odd 7\"\n",
      "[1] \"It is odd 9\"\n"
     ]
    }
   ],
   "source": [
    "%%R\n",
    "\n",
    "##pass example\n",
    "for(i in 1:10){\n",
    "    \n",
    "    if(i %% 2){\n",
    "    print(paste('It is odd',i))\n",
    "    }else{\n",
    "    \n",
    "    }\n",
    "    \n",
    "}"
   ]
  },
  {
   "cell_type": "code",
   "execution_count": 94,
   "id": "98cce98c-fe4b-4cb5-b673-fa689cc11eb2",
   "metadata": {},
   "outputs": [
    {
     "name": "stdout",
     "output_type": "stream",
     "text": [
      "[1] 2\n",
      "[1] 4\n",
      "[1] 6\n",
      "[1] 8\n",
      "[1] 10\n"
     ]
    }
   ],
   "source": [
    "%%R\n",
    "\n",
    "##next example : it exist the current loop only\n",
    "for(i in 1:10){\n",
    "    \n",
    "    if(i %% 2){\n",
    "    next\n",
    "    }else{\n",
    "    print(i)\n",
    "    }\n",
    "    \n",
    "}"
   ]
  },
  {
   "cell_type": "code",
   "execution_count": 3,
   "id": "67785d09-a8f4-4d43-88b1-a2e62012ada5",
   "metadata": {},
   "outputs": [
    {
     "name": "stdout",
     "output_type": "stream",
     "text": [
      "[1] 0\n",
      "[1] 1\n",
      "[1] 2\n",
      "[1] 3\n",
      "[1] 4\n",
      "[1] 5\n",
      "[1] 6\n",
      "[1] 7\n",
      "[1] 8\n",
      "[1] 9\n",
      "[1] 10\n"
     ]
    }
   ],
   "source": [
    "%%R\n",
    "\n",
    "i=0\n",
    "##break when it passes 10\n",
    "##if break is not used it will take you infinite loop\n",
    "while(TRUE){\n",
    "    \n",
    "    if(i <= 10){\n",
    "    print(i)\n",
    "    i=i+1\n",
    "    }else{\n",
    "    break\n",
    "    }\n",
    "    \n",
    "}"
   ]
  },
  {
   "cell_type": "code",
   "execution_count": null,
   "id": "73060105-fad4-4818-ad16-9d5ce346aa74",
   "metadata": {},
   "outputs": [],
   "source": []
  }
 ],
 "metadata": {
  "kernelspec": {
   "display_name": "Python [conda env:base] *",
   "language": "python",
   "name": "conda-base-py"
  },
  "language_info": {
   "codemirror_mode": {
    "name": "ipython",
    "version": 3
   },
   "file_extension": ".py",
   "mimetype": "text/x-python",
   "name": "python",
   "nbconvert_exporter": "python",
   "pygments_lexer": "ipython3",
   "version": "3.12.7"
  }
 },
 "nbformat": 4,
 "nbformat_minor": 5
}
