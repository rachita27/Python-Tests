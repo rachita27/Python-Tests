{
 "cells": [
  {
   "cell_type": "markdown",
   "metadata": {},
   "source": [
    "# Guessing Game Challenge\n",
    "\n",
    "Let's use `while` loops to create a guessing game.\n",
    "\n",
    "The Challenge:\n",
    "\n",
    "Write a program that picks a random integer from 1 to 100, and has players guess the number. The rules are:\n",
    "\n",
    "1. If a player's guess is less than 1 or greater than 100, say \"OUT OF BOUNDS\"\n",
    "2. On a player's first turn, if their guess is\n",
    " * within 10 of the number, return \"WARM!\"\n",
    " * further than 10 away from the number, return \"COLD!\"\n",
    "3. On all subsequent turns, if a guess is \n",
    " * closer to the number than the previous guess return \"WARMER!\"\n",
    " * farther from the number than the previous guess, return \"COLDER!\"\n",
    "4. When the player's guess equals the number, tell them they've guessed correctly *and* how many guesses it took!\n",
    "\n",
    "You can try this from scratch, or follow the steps outlined below. A separate Solution notebook has been provided. Good luck!\n"
   ]
  },
  {
   "cell_type": "markdown",
   "metadata": {},
   "source": [
    "#### First, pick a random integer from 1 to 100 using the random module and assign it to a variable\n"
   ]
  },
  {
   "cell_type": "code",
   "execution_count": 10,
   "metadata": {},
   "outputs": [],
   "source": [
    "from random import randint"
   ]
  },
  {
   "cell_type": "code",
   "execution_count": 12,
   "metadata": {},
   "outputs": [],
   "source": [
    "choosing_rand_num = randint(1,100)"
   ]
  },
  {
   "cell_type": "markdown",
   "metadata": {},
   "source": [
    "#### Introduction to the game and explain the rules"
   ]
  },
  {
   "cell_type": "code",
   "execution_count": 16,
   "metadata": {},
   "outputs": [],
   "source": [
    "#num >1 and num <100: \"OUT OF BOUNDS\"\n",
    "##first turn: \n",
    "## num-10 <= user_input <= num +10 : warm else cold\n",
    "\n",
    "##again ask the guess:\n",
    "##rule is same: instead warmer & colder\n",
    "\n",
    "#when number is guessed let them know & the count of guesses"
   ]
  },
  {
   "cell_type": "code",
   "execution_count": 66,
   "metadata": {},
   "outputs": [
    {
     "data": {
      "text/plain": [
       "-2"
      ]
     },
     "execution_count": 66,
     "metadata": {},
     "output_type": "execute_result"
    }
   ],
   "source": [
    "#int(\"vsshas\")\n",
    "\n",
    "choosing_rand_num\n",
    "\"vasvxhvah\".isalpha()\n",
    "int(\"-2\")"
   ]
  },
  {
   "cell_type": "code",
   "execution_count": 78,
   "metadata": {},
   "outputs": [
    {
     "name": "stdin",
     "output_type": "stream",
     "text": [
      "Please enter your guess here sagshags\n"
     ]
    },
    {
     "name": "stdout",
     "output_type": "stream",
     "text": [
      "Please add a valid number. As you've added a non-numeric value in the input\n"
     ]
    },
    {
     "name": "stdin",
     "output_type": "stream",
     "text": [
      "Please enter your guess here 100000\n"
     ]
    },
    {
     "name": "stdout",
     "output_type": "stream",
     "text": [
      "Out of Bound\n"
     ]
    },
    {
     "name": "stdin",
     "output_type": "stream",
     "text": [
      "Please enter your guess here -9\n"
     ]
    },
    {
     "name": "stdout",
     "output_type": "stream",
     "text": [
      "Out of Bound\n"
     ]
    },
    {
     "name": "stdin",
     "output_type": "stream",
     "text": [
      "Please enter your guess here 67\n"
     ]
    },
    {
     "name": "stdout",
     "output_type": "stream",
     "text": [
      "Colder :( :(\n"
     ]
    },
    {
     "name": "stdin",
     "output_type": "stream",
     "text": [
      "Please enter your guess here 21\n"
     ]
    },
    {
     "name": "stdout",
     "output_type": "stream",
     "text": [
      "Colder :( :(\n"
     ]
    },
    {
     "name": "stdin",
     "output_type": "stream",
     "text": [
      "Please enter your guess here 27\n"
     ]
    },
    {
     "name": "stdout",
     "output_type": "stream",
     "text": [
      "Warmer!\n"
     ]
    },
    {
     "name": "stdin",
     "output_type": "stream",
     "text": [
      "Please enter your guess here 45\n"
     ]
    },
    {
     "name": "stdout",
     "output_type": "stream",
     "text": [
      "Warmer!\n"
     ]
    },
    {
     "name": "stdin",
     "output_type": "stream",
     "text": [
      "Please enter your guess here 47\n"
     ]
    },
    {
     "name": "stdout",
     "output_type": "stream",
     "text": [
      "Warmer!\n"
     ]
    },
    {
     "name": "stdin",
     "output_type": "stream",
     "text": [
      "Please enter your guess here 36\n"
     ]
    },
    {
     "name": "stdout",
     "output_type": "stream",
     "text": [
      "Warmer!\n"
     ]
    },
    {
     "name": "stdin",
     "output_type": "stream",
     "text": [
      "Please enter your guess here 37\n"
     ]
    },
    {
     "name": "stdout",
     "output_type": "stream",
     "text": [
      "You guessed it right! You took total chances 10. \n",
      " Hurray!!\n"
     ]
    }
   ],
   "source": [
    "no_of_counts_took = 0 \n",
    "input_val = 0\n",
    "input_val_char = None\n",
    "start_condn = True\n",
    "\n",
    "while start_condn:\n",
    "    input_val_char = input(\"Please enter your guess here\")\n",
    "    \n",
    "    if input_val_char.isalpha():\n",
    "        print(\"Please add a valid number. As you've added a non-numeric value in the input\")\n",
    "        no_of_counts_took +=1\n",
    "    else:\n",
    "        input_val = int(input_val_char)\n",
    "        no_of_counts_took +=1\n",
    "        if input_val > 100 or input_val < 0: \n",
    "            print(\"Out of Bound\")\n",
    "        elif (no_of_counts_took == 1) and (input_val <= 100) and (input_val >= 0) and (choosing_rand_num-10 <= input_val <= choosing_rand_num+10) and (choosing_rand_num != input_val):\n",
    "            print(\"Warm!\")\n",
    "        elif (no_of_counts_took == 1) and (input_val <= 100) and (input_val >= 0) and ((input_val < choosing_rand_num -10) or (input_val > choosing_rand_num +10)) and (choosing_rand_num != input_val) :\n",
    "            print(\"Cold\")\n",
    "        elif (no_of_counts_took == 1) and (choosing_rand_num == input_val):\n",
    "            print(\"You guessed it right! You took total once chance\")\n",
    "            start_condn = False\n",
    "        elif (no_of_counts_took != 1) and (input_val <= 100) and (input_val >= 0) and (choosing_rand_num-10 <= input_val <= choosing_rand_num+10) and (choosing_rand_num != input_val) :\n",
    "            print(\"Warmer!\")\n",
    "        elif (no_of_counts_took != 1) and (input_val <= 100) and (input_val >= 0) and ((input_val < choosing_rand_num -10) or (input_val > choosing_rand_num +10)) and (choosing_rand_num != input_val) :\n",
    "            print(\"Colder :( :(\")\n",
    "        else:\n",
    "            print(\"You guessed it right! You took total chances {}. \\n Hurray!!\".format(no_of_counts_took))\n",
    "            start_condn = False\n",
    "    \n",
    "        \n",
    "        "
   ]
  }
 ],
 "metadata": {
  "kernelspec": {
   "display_name": "Python [conda env:base] *",
   "language": "python",
   "name": "conda-base-py"
  },
  "language_info": {
   "codemirror_mode": {
    "name": "ipython",
    "version": 3
   },
   "file_extension": ".py",
   "mimetype": "text/x-python",
   "name": "python",
   "nbconvert_exporter": "python",
   "pygments_lexer": "ipython3",
   "version": "3.12.7"
  }
 },
 "nbformat": 4,
 "nbformat_minor": 4
}
